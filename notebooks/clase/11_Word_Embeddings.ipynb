{
  "cells": [
    {
      "cell_type": "markdown",
      "metadata": {
        "id": "TUh0d6qMgMB0"
      },
      "source": [
        "## Word2Vec\n",
        "\n",
        "El modelo más famoso de word embeddings. Inventado por [Tomas Mikolov en 2013 en Google](https://arxiv.org/pdf/1310.4546.pdf)\n",
        "\n",
        "https://radimrehurek.com/gensim/models/word2vec.html\n",
        "\n",
        "### Hyperparameters\n",
        "\n",
        "Algunos de los hiperparámetros que deberemos tener en cuenta y configuraremos:\n",
        "\n",
        "- size: dimensionalidad de las palabras vector\n",
        "- window: ventana para obtener el contexto de cada palabra. Se mide en número de palabras máximo entre la palabra actual y la palabra a predecir\n",
        "- min_count: frecuencia mínima de aparición de una palabra para que sea considerada en el entrenamiento\n",
        "- sg: algoritmo escogido. 1 para Skip-Gram, 0 para CBOW\n",
        "- hs: si = 1, se utiliza una softmax jerárquica. Si = 0, y negative != 0, se emplea negative sampling\n",
        "- negative: si = 0, no se usa negative sampling. Si es > 0, se usará negative sampling. El valor indica el número de \"palabras ruidosas\" se incluirán (usual entre 5-20 para datasets pequeños, entre 2-5 para datasets grandes)\n",
        "\n",
        "### Noción de contexto\n",
        "\n",
        "<img src=https://docs.chainer.org/en/v4.0.0b2/_images/center_context_word.png width=450px>\n",
        "\n",
        "## Atributos\n",
        "\n",
        "- wv: word vectors, contiene el mapeo entre palabras y vectores (embeddings)\n",
        "- vocabulary: vocabulario (o diccionario) del modelo\n",
        "\n",
        "\n",
        "## Negative sampling\n",
        "\n",
        "Cuando se trabaja en NLP el tamaño del vocabulario suele tener una cardinalidad enorme. Esto afecta a los modelos de lenguaje a la hora de predecir aquellas palabras que, aunque correctas, no son demasiado frecuentes.\n",
        "\n",
        "Además, contextos muy comunes (como los que podrían ser aquellos en los que se encuentran muchas stop words) hacen que el entrenamiento sea lento. Se emplea, por tanto, para reducir la carga computacional al problema.\n",
        "\n",
        "La solución que se propone - e implementa - Word2Vec es que cada palabra tenga una determinada probabilidad de ser eliminada del training set. Dicha probabilidad estará relacionada con la frecuencia de repetición de dicha palabra.\n",
        "\n",
        "\n",
        "## Arquitecturas\n",
        "\n",
        "Existen dos arquitecturas de este modelo: CBOW y Skip Gram.\n",
        "\n",
        "\n",
        "#### CBOW (Continuous Bag of Words)\n",
        "\n",
        "Durante el entrenamiento, el modelo tratará de **predecir la palabra actual** dado el contexto en el que se encuentre. La capa de entrada contendrá las palabras-contexto y la de salida será la palabra actual (o palabra a predecir). La capa intermedia tendrá una dimension igual al número de dimensiones en el que queremos representar la palabra actual a la salida.\n",
        "\n",
        "<img src=https://miro.medium.com/max/1104/0*CCsrTAjN80MqswXG width=400px>\n",
        "\n",
        "\n",
        "#### Skip Gram\n",
        "\n",
        "Durante el entrenamiento, el modelo tratará de predecir **el contexto (palabras-contexto)** a una palabra dada. La capa de entrada contendrá la palabra actual y la de salida serán las palabras contexto. La capa intermedia es análoga a la presente en la arquitectura CBOW.\n",
        "\n",
        "<img src=https://miro.medium.com/max/1280/0*Ta3qx5CQsrJloyCA.png width=300px>\n",
        "\n",
        "### ¿Cuál es mejor?\n",
        "\n",
        "En general, depende. CBOW, al haber sido entrenado para predecir una palabra dado un contexto, será algo mejor _rellenando huecos_, aunque eso puede significar que palabras correctas pero menos comunes no aparezcan como resultado algunas veces. Skip Gram, en cambio, debería ser mejor infiriendo relaciones más concretas en contextos similares (por ejemplo, \"me gusta el color verde\" y \"me encanta el color azul\", y la diferencia en la intensidad del sentimiento expresado).\n",
        "\n",
        "Si atendemos a los comentarios de Mikolov:\n",
        "\n",
        "- Skip-gram: funciona bien con conjuntos de datos pequeños, representando bien incluso palabras o frases extrañas (poco comunes)\n",
        "- CBOW: entrenamiento varias veces más rápido, su performance mejor para aquellas palabras más frecuentes que el resto"
      ]
    },
    {
      "cell_type": "markdown",
      "metadata": {
        "id": "t2gRfi5PgMBx"
      },
      "source": [
        "# Word Embeddings\n",
        "\n",
        "Los Word Embeddings son aquellas técnicas y modelos de lenguaje que permiten mapear palabras a vectores de valores continuos. Durante el entrenamiento de dichos vectores se buscará que capturen la información semántica de las palabras.\n",
        "\n",
        "<img src=https://miro.medium.com/max/1280/1*OEmWDt4eztOcm5pr2QbxfA.png widt=500px>\n",
        "\n",
        "Gracias a que los vectores tienen información sobre la semántica, mediante operaciones vectoriales podemos encontrar palabras (o documentos) que tienen un significado similar.\n",
        "\n",
        "La idea principal de este tipo de modelos es que **palabras que aparecen en contextos similares tienen semánticas similares**. **Concepto de sustituibilidad**.\n",
        "\n",
        "**Aquellas palabras que semánticamente son similares tendrán - idealmente - vectores-palabra cercanos entre sí.**\n",
        "\n",
        "Existen multitud de modelos, en esta sesión veremos solo algunas. "
      ]
    },
    {
      "cell_type": "code",
      "source": [
        "!pip install unzip\n",
        "!unzip simpsons_dataset.csv.zip"
      ],
      "metadata": {
        "id": "h9zWYrd-GFyk"
      },
      "execution_count": null,
      "outputs": []
    },
    {
      "cell_type": "markdown",
      "metadata": {
        "id": "_lSrgrn6gMB1"
      },
      "source": [
        "## Palabras más similares"
      ]
    },
    {
      "cell_type": "markdown",
      "metadata": {
        "id": "zi48GKy7gMB2"
      },
      "source": [
        "## Importamos las librerías"
      ]
    },
    {
      "cell_type": "code",
      "execution_count": null,
      "metadata": {
        "id": "Z6fPTAKYgMB2"
      },
      "outputs": [],
      "source": [
        "from gensim.models import Word2Vec\n",
        "from gensim.models.word2vec import LineSentence"
      ]
    },
    {
      "cell_type": "code",
      "source": [
        "import re  # For preprocessing\n",
        "import pandas as pd  # For data handling\n",
        "from time import time  # To time our operations\n",
        "from collections import defaultdict  # For word frequency\n",
        "\n",
        "import spacy  # For preprocessing\n",
        "\n",
        "import logging  # Setting up the loggings to monitor gensim\n",
        "logging.basicConfig(format=\"%(levelname)s - %(asctime)s: %(message)s\", datefmt= '%H:%M:%S', level=logging.INFO)"
      ],
      "metadata": {
        "id": "n6KlKP0Ixqrf"
      },
      "execution_count": null,
      "outputs": []
    },
    {
      "cell_type": "markdown",
      "source": [
        "## Lectura de datos"
      ],
      "metadata": {
        "id": "jb0ye5BkE6ZC"
      }
    },
    {
      "cell_type": "code",
      "source": [],
      "metadata": {
        "id": "3dTA-WRoGLfx"
      },
      "execution_count": null,
      "outputs": []
    },
    {
      "cell_type": "code",
      "source": [
        "\n",
        "nlp = spacy.load(\"en_core_web_sm\")\n",
        "def cleaning(doc):\n",
        "    # Lemmatizes and removes stopwords\n",
        "    # doc needs to be a spacy Doc object\n",
        "    txt = [token.lemma_ for token in doc if not token.is_stop]\n",
        "    # Word2Vec uses context words to learn the vector representation of a target word,\n",
        "    # if a sentence is only one or two words long,\n",
        "    # the benefit for the training is very small\n",
        "    if len(txt) > 2:\n",
        "        return ' '.join(txt)"
      ],
      "metadata": {
        "id": "eFTJ80iGxq5B"
      },
      "execution_count": null,
      "outputs": []
    },
    {
      "cell_type": "code",
      "source": [
        "from gensim.models.phrases import Phrases, Phraser"
      ],
      "metadata": {
        "id": "wMsbGkAn0rI1"
      },
      "execution_count": null,
      "outputs": []
    },
    {
      "cell_type": "code",
      "source": [
        "import multiprocessing\n",
        "\n",
        "from gensim.models import Word2Vec"
      ],
      "metadata": {
        "id": "SsDfbxj7z3nl"
      },
      "execution_count": null,
      "outputs": []
    },
    {
      "cell_type": "code",
      "source": [],
      "metadata": {
        "id": "vn3bgeSNGb_i"
      },
      "execution_count": null,
      "outputs": []
    },
    {
      "cell_type": "markdown",
      "source": [
        "## Hyperparameters e Inicializamos los objetos Word2Vec"
      ],
      "metadata": {
        "id": "EZ6GQAMsFEVk"
      }
    },
    {
      "cell_type": "code",
      "source": [],
      "metadata": {
        "id": "fENaOi-DGc3I"
      },
      "execution_count": null,
      "outputs": []
    },
    {
      "cell_type": "markdown",
      "source": [
        "## Construímos el vocabulario"
      ],
      "metadata": {
        "id": "VAskuSmlFQmJ"
      }
    },
    {
      "cell_type": "code",
      "source": [],
      "metadata": {
        "id": "Cym9MJjFGegd"
      },
      "execution_count": null,
      "outputs": []
    },
    {
      "cell_type": "code",
      "source": [],
      "metadata": {
        "id": "GUKzhcsNGei3"
      },
      "execution_count": null,
      "outputs": []
    },
    {
      "cell_type": "markdown",
      "source": [
        "## Entrenamos los pesos de los embeddings"
      ],
      "metadata": {
        "id": "dkFW8H_vGddp"
      }
    },
    {
      "cell_type": "code",
      "source": [],
      "metadata": {
        "id": "YDXbMkZiGhJ8"
      },
      "execution_count": null,
      "outputs": []
    },
    {
      "cell_type": "code",
      "source": [],
      "metadata": {
        "id": "Flfim4bSGhMS"
      },
      "execution_count": null,
      "outputs": []
    },
    {
      "cell_type": "markdown",
      "source": [
        "## Guardamos los modelos"
      ],
      "metadata": {
        "id": "aPfyehz-GjHT"
      }
    },
    {
      "cell_type": "code",
      "source": [],
      "metadata": {
        "id": "fdTFJmm9GinX"
      },
      "execution_count": null,
      "outputs": []
    },
    {
      "cell_type": "markdown",
      "source": [
        "## Algunos resultados"
      ],
      "metadata": {
        "id": "hmJnOk3tHZxw"
      }
    },
    {
      "cell_type": "code",
      "source": [],
      "metadata": {
        "id": "d-FKjw9ZC7Zz"
      },
      "execution_count": null,
      "outputs": []
    },
    {
      "cell_type": "markdown",
      "source": [
        "## Palabras fuera del vocabulario (OOV Words)\n",
        "\n",
        "Los embeddings calculados a nivel de palabra no devolverán un vector para aquellos tokens que no hayan guardado en su vocabulario. Una vez que los vectores palabra han sido aprendidos, aquellas palabras que no han sido aprendidas durante el entrenamiento no tendrán representación."
      ],
      "metadata": {
        "id": "Aznf4EEjHib_"
      }
    },
    {
      "cell_type": "code",
      "source": [],
      "metadata": {
        "id": "krXpFJ2ZGmF2"
      },
      "execution_count": null,
      "outputs": []
    },
    {
      "cell_type": "code",
      "source": [],
      "metadata": {
        "id": "jE1gi1HuXiYa"
      },
      "execution_count": null,
      "outputs": []
    },
    {
      "cell_type": "markdown",
      "metadata": {
        "id": "CyMvQlCLgMB6"
      },
      "source": [
        "## Visualización: Bonus\n",
        "\n",
        "[Enlace](https://anvaka.github.io/pm/#/galaxy/word2vec-wiki?cx=-16179&cy=-1641&cz=4313&lx=0.3194&ly=-0.5230&lz=-0.4110&lw=0.6749&ml=300&s=1.75&l=1&v=d50_clean)\n",
        "\n",
        "<img src=https://empresas.blogthinkbig.com/wp-content/uploads/2019/06/embeddings_galaxy.png width=650px>"
      ]
    }
  ],
  "metadata": {
    "kernelspec": {
      "display_name": "Python 3 (ipykernel)",
      "language": "python",
      "name": "python3"
    },
    "language_info": {
      "codemirror_mode": {
        "name": "ipython",
        "version": 3
      },
      "file_extension": ".py",
      "mimetype": "text/x-python",
      "name": "python",
      "nbconvert_exporter": "python",
      "pygments_lexer": "ipython3",
      "version": "3.9.13"
    },
    "colab": {
      "provenance": []
    },
    "accelerator": "GPU",
    "gpuClass": "standard"
  },
  "nbformat": 4,
  "nbformat_minor": 0
}