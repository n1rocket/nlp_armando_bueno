{
  "cells": [
    {
      "cell_type": "markdown",
      "metadata": {
        "id": "2Fv_sftqpG1k"
      },
      "source": [
        "# Librerías necesarias"
      ]
    },
    {
      "cell_type": "code",
      "source": [
        "!pip install -r requirements.txt\n",
        "!pip install utils.py\n",
        "!pip install unzip"
      ],
      "metadata": {
        "id": "0ipZL9DTPZ6f"
      },
      "execution_count": null,
      "outputs": []
    },
    {
      "cell_type": "code",
      "source": [
        "!unzip corpusCine.zip"
      ],
      "metadata": {
        "id": "lzRE6t_pPcuR"
      },
      "execution_count": null,
      "outputs": []
    },
    {
      "cell_type": "code",
      "execution_count": null,
      "metadata": {
        "id": "5HntXJS6pG1n"
      },
      "outputs": [],
      "source": [
        "\n",
        "from utils import load_cinema_reviews\n",
        "\n",
        "import random\n",
        "import numpy as np\n",
        "import pandas as pd\n",
        "\n",
        "from sklearn.model_selection import train_test_split\n",
        "from sklearn.pipeline import Pipeline\n",
        "from sklearn.feature_extraction.text import CountVectorizer, TfidfVectorizer\n",
        "from sklearn.feature_selection import chi2\n",
        "from sklearn.linear_model import LogisticRegression\n",
        "from sklearn.metrics import accuracy_score, confusion_matrix, classification_report, roc_curve, precision_recall_curve\n",
        "\n",
        "import matplotlib.pyplot as plt"
      ]
    },
    {
      "cell_type": "markdown",
      "metadata": {
        "id": "KY4D8YYapG1o"
      },
      "source": [
        "# Carga de datos"
      ]
    },
    {
      "cell_type": "code",
      "execution_count": null,
      "metadata": {
        "id": "z1M1lJ7EpG1p"
      },
      "outputs": [],
      "source": [
        "# Path al directorio donde tenemos los datasets con las reviews\n",
        "# ¡Descomprimir antes!\n",
        "datasets_path = './'\n",
        "corpus_cine_folder = 'corpusCine'"
      ]
    },
    {
      "cell_type": "code",
      "execution_count": null,
      "metadata": {
        "id": "FtkshSOdpG1p"
      },
      "outputs": [],
      "source": [
        "reviews_dict = load_cinema_reviews(datasets_path, corpus_cine_folder)"
      ]
    },
    {
      "cell_type": "code",
      "source": [
        "reviews_dict.get(10)"
      ],
      "metadata": {
        "id": "i0lzev9jPg5d"
      },
      "execution_count": null,
      "outputs": []
    },
    {
      "cell_type": "code",
      "execution_count": null,
      "metadata": {
        "id": "_1B-zu9IpG1r"
      },
      "outputs": [],
      "source": [
        "def label_sentiment(row):\n",
        "    if int(row['sentiment']) < 3:\n",
        "        return 1\n",
        "    else:\n",
        "        return 0"
      ]
    },
    {
      "cell_type": "markdown",
      "metadata": {
        "id": "P5SLOo1ZpG1r"
      },
      "source": [
        "# Separamos en conjunto de train y test"
      ]
    },
    {
      "cell_type": "code",
      "source": [],
      "metadata": {
        "id": "YYSmi4vqPp-N"
      },
      "execution_count": null,
      "outputs": []
    },
    {
      "cell_type": "markdown",
      "metadata": {
        "id": "gkpFgdWhpG1s"
      },
      "source": [
        "# Extracción de features"
      ]
    },
    {
      "cell_type": "code",
      "source": [],
      "metadata": {
        "id": "xLNmTsQPPsPZ"
      },
      "execution_count": null,
      "outputs": []
    },
    {
      "cell_type": "markdown",
      "metadata": {
        "id": "EbtvUpjZpG1t"
      },
      "source": [
        "## TF-IDF scores del training set y test set"
      ]
    },
    {
      "cell_type": "code",
      "source": [],
      "metadata": {
        "id": "Tan4NSMpPtAf"
      },
      "execution_count": null,
      "outputs": []
    },
    {
      "cell_type": "markdown",
      "metadata": {
        "id": "x3JultgCpG1t"
      },
      "source": [
        "## Score IDF de algunas palabras"
      ]
    },
    {
      "cell_type": "code",
      "source": [],
      "metadata": {
        "id": "CCbZmmIXPuMA"
      },
      "execution_count": null,
      "outputs": []
    },
    {
      "cell_type": "markdown",
      "metadata": {
        "id": "ooUJ05G1pG1t"
      },
      "source": [
        "## Palabras con el TF-IDF en alguna review"
      ]
    },
    {
      "cell_type": "code",
      "source": [],
      "metadata": {
        "id": "UMLPuMc3PwTL"
      },
      "execution_count": null,
      "outputs": []
    },
    {
      "cell_type": "markdown",
      "metadata": {
        "id": "pOZGJn36pG1u"
      },
      "source": [
        "## $\\chi²$ scores"
      ]
    },
    {
      "cell_type": "code",
      "source": [],
      "metadata": {
        "id": "F6IMdw-DPx_h"
      },
      "execution_count": null,
      "outputs": []
    },
    {
      "cell_type": "markdown",
      "metadata": {
        "id": "ES65lfuepG1u"
      },
      "source": [
        "# Entrenamiento"
      ]
    },
    {
      "cell_type": "code",
      "source": [],
      "metadata": {
        "id": "zGVFd597Pzhg"
      },
      "execution_count": null,
      "outputs": []
    },
    {
      "cell_type": "markdown",
      "metadata": {
        "id": "D1u49-JgpG1u"
      },
      "source": [
        "# Algunas métricas"
      ]
    },
    {
      "cell_type": "code",
      "source": [],
      "metadata": {
        "id": "u33LpfuLP0wq"
      },
      "execution_count": null,
      "outputs": []
    },
    {
      "cell_type": "markdown",
      "metadata": {
        "id": "0ezx70d9pG1v"
      },
      "source": [
        "# Predict"
      ]
    },
    {
      "cell_type": "code",
      "source": [],
      "metadata": {
        "id": "X0GbwcMmP3I9"
      },
      "execution_count": null,
      "outputs": []
    },
    {
      "cell_type": "code",
      "execution_count": null,
      "metadata": {
        "id": "JunLLGFWpG1v"
      },
      "outputs": [],
      "source": []
    },
    {
      "cell_type": "code",
      "execution_count": null,
      "metadata": {
        "id": "7yhHQOcUpG1v"
      },
      "outputs": [],
      "source": []
    },
    {
      "cell_type": "code",
      "execution_count": null,
      "metadata": {
        "id": "lg8oUv9wpG1v"
      },
      "outputs": [],
      "source": []
    }
  ],
  "metadata": {
    "kernelspec": {
      "display_name": "Python 3 (ipykernel)",
      "language": "python",
      "name": "python3"
    },
    "language_info": {
      "codemirror_mode": {
        "name": "ipython",
        "version": 3
      },
      "file_extension": ".py",
      "mimetype": "text/x-python",
      "name": "python",
      "nbconvert_exporter": "python",
      "pygments_lexer": "ipython3",
      "version": "3.9.13"
    },
    "colab": {
      "provenance": []
    }
  },
  "nbformat": 4,
  "nbformat_minor": 0
}