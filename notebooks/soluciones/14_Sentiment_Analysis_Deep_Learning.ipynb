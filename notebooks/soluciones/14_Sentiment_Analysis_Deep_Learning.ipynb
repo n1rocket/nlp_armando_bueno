{
  "cells": [
    {
      "cell_type": "markdown",
      "metadata": {
        "id": "PNo8Y9k1TjF9"
      },
      "source": [
        "# 1. Obtención de datos"
      ]
    },
    {
      "cell_type": "code",
      "execution_count": null,
      "metadata": {
        "id": "rTBdMobLS6bj",
        "colab": {
          "base_uri": "https://localhost:8080/"
        },
        "outputId": "7c65fa79-53f1-420f-b0c0-9caf3eb86ad5"
      },
      "outputs": [
        {
          "output_type": "stream",
          "name": "stdout",
          "text": [
            "--2023-02-25 20:46:58--  http://ai.stanford.edu/~amaas/data/sentiment/aclImdb_v1.tar.gz\n",
            "Resolving ai.stanford.edu (ai.stanford.edu)... 171.64.68.10\n",
            "Connecting to ai.stanford.edu (ai.stanford.edu)|171.64.68.10|:80... connected.\n",
            "HTTP request sent, awaiting response... 200 OK\n",
            "Length: 84125825 (80M) [application/x-gzip]\n",
            "Saving to: ‘aclImdb_v1.tar.gz’\n",
            "\n",
            "aclImdb_v1.tar.gz   100%[===================>]  80.23M  18.0MB/s    in 7.4s    \n",
            "\n",
            "2023-02-25 20:47:06 (10.9 MB/s) - ‘aclImdb_v1.tar.gz’ saved [84125825/84125825]\n",
            "\n"
          ]
        }
      ],
      "source": [
        "\n",
        "! wget http://ai.stanford.edu/~amaas/data/sentiment/aclImdb_v1.tar.gz\n",
        "! tar -xf aclImdb_v1.tar.gz"
      ]
    },
    {
      "cell_type": "code",
      "source": [
        "!pip install -r requirements.txt"
      ],
      "metadata": {
        "id": "I-SgKiT--GBk"
      },
      "execution_count": null,
      "outputs": []
    },
    {
      "cell_type": "markdown",
      "metadata": {
        "id": "3tSeoXf5TmkZ"
      },
      "source": [
        "# 2. Exploración de datos"
      ]
    },
    {
      "cell_type": "code",
      "execution_count": null,
      "metadata": {
        "id": "CgfrUjI-Tif3",
        "colab": {
          "base_uri": "https://localhost:8080/"
        },
        "outputId": "fc6b8d86-8c69-4070-acd5-dcd962abfe54"
      },
      "outputs": [
        {
          "output_type": "stream",
          "name": "stdout",
          "text": [
            "IMDb reviews: train = 12500 pos / 12500 neg, test = 12500 pos / 12500 neg\n"
          ]
        }
      ],
      "source": [
        "import os\n",
        "import glob\n",
        "\n",
        "def read_imdb_data(data_dir='./aclImdb'):\n",
        "    \"\"\"Read IMDb movie reviews from given directory.\n",
        "    \n",
        "    Directory structure expected:\n",
        "    - data/\n",
        "        - train/\n",
        "            - pos/\n",
        "            - neg/\n",
        "        - test/\n",
        "            - pos/\n",
        "            - neg/\n",
        "    \n",
        "    \"\"\"\n",
        "\n",
        "    # Datos y etiquetas que se devolveran en dict anidades replicando la estructura de directorios\n",
        "    data = {}\n",
        "    labels = {}\n",
        "\n",
        "    # Asumimos 2 subdirectorios: train y test\n",
        "    for data_type in ['train', 'test']:\n",
        "        data[data_type] = {}\n",
        "        labels[data_type] = {}\n",
        "\n",
        "        # Asumimos 2 subdirectorios por sentimmiento (etiqueta): pos, neg\n",
        "        for sentiment in ['pos', 'neg']:\n",
        "            data[data_type][sentiment] = []\n",
        "            labels[data_type][sentiment] = []\n",
        "            \n",
        "            # Recogemos los ficheros por directorio\n",
        "            path = os.path.join(data_dir, data_type, sentiment, '*.txt')\n",
        "            files = glob.glob(path)\n",
        "            \n",
        "            # Leemos los datos y les asignamos a su etiqueta\n",
        "            for f in files:\n",
        "                with open(f) as review:\n",
        "                    data[data_type][sentiment].append(review.read())\n",
        "                    labels[data_type][sentiment].append(sentiment)\n",
        "            \n",
        "            assert len(data[data_type][sentiment]) == len(labels[data_type][sentiment]), \\\n",
        "                    \"{}/{} data size does not match labels size\".format(data_type, sentiment)\n",
        "    \n",
        "    # Devolvemos los datos y etiquetas en diccionarios anidados\n",
        "    return data, labels\n",
        "\n",
        "\n",
        "data, labels = read_imdb_data()\n",
        "print(\"IMDb reviews: train = {} pos / {} neg, test = {} pos / {} neg\".format(\n",
        "        len(data['train']['pos']), len(data['train']['neg']),\n",
        "        len(data['test']['pos']), len(data['test']['neg'])))"
      ]
    },
    {
      "cell_type": "code",
      "execution_count": null,
      "metadata": {
        "id": "VumCu7dJT-Jj",
        "colab": {
          "base_uri": "https://localhost:8080/",
          "height": 160
        },
        "outputId": "61f0a417-989b-4c32-bc19-56481dbe9097"
      },
      "outputs": [
        {
          "output_type": "execute_result",
          "data": {
            "text/plain": [
              "'My son was 7 years old when he saw this movie, he is now on a Russian Fishing vessel and said that the movie he was most impressed with and that has lingered in his mind all of these 39 years is the movie of The Legend of the Boy and the Eagle. He has asked if it were possible for me to get this for him. I am sure that a lot of things go through his head as he has only 3 hours of daylight and he has been on this ship for 3 months and will have 3 more months before his contract expires. Since we have Indian blood he connects to this movie. On January 27th he will turn 47 years old and I would like to be able to obtain this movie for him. He lives in Thailand and has been a commercial fisherman for the past 17 years and as we all know this is one of the most dangerous jobs. Can you help me obtain this movie? Thanking you in advance, Dolly Crout-Soto, Deerfield Beach, FL'"
            ],
            "application/vnd.google.colaboratory.intrinsic+json": {
              "type": "string"
            }
          },
          "metadata": {},
          "execution_count": 4
        }
      ],
      "source": [
        "data[\"train\"][\"pos\"][0]"
      ]
    },
    {
      "cell_type": "code",
      "execution_count": null,
      "metadata": {
        "id": "1M7iaqybUBjx",
        "colab": {
          "base_uri": "https://localhost:8080/",
          "height": 178
        },
        "outputId": "ce265968-76ed-496c-94c3-7fe8b83df9ed"
      },
      "outputs": [
        {
          "output_type": "execute_result",
          "data": {
            "text/plain": [
              "\"SPOILERS!!!!!!!!!!!!!!!!!!!!!!!!!!!!!!!!<br /><br />I watched half of this movie and I didn't like it. <br /><br />First reason: Boring. Barely anything happens, the women sit around and discuss how terrible their lives are and how they have no hope, they smoke weed, read magazines, care for their sick friend, and cut up the occasional dead body. BORING!!!!<br /><br />Second reason: There are too many things left unexplained. Many scenes are dedicated to a zombie hunter who kidnaps random men, restrains them in a chair and interrogates them. Who are these men? How do they know anything about illegal activity concerning the diseased flesh eaters? Why does he kill one and let another one go?<br /><br />Also there is this dude who at first I thought also had the flesh eating disease but he puts his fist through a wall with superhuman strength suggesting he's not quite what we originally thought-never explained! How frustrating is that? <br /><br />Conclusion: I found the women annoying, the story uninteresting, the duologue tedious, and the action non-existent. Also the cover art is misleading since it makes you believe this movie is going to be cool when it clearly isn't. I rented this movie based on some of the reviews made by other people on this website, and although I respect the fact that some people might have enjoyed this flick, I will from now on make sure I read more than two reviews deep into a movie so as to avoid renting another movie I regret seeing.\""
            ],
            "application/vnd.google.colaboratory.intrinsic+json": {
              "type": "string"
            }
          },
          "metadata": {},
          "execution_count": 5
        }
      ],
      "source": [
        "data[\"train\"][\"neg\"][0]"
      ]
    },
    {
      "cell_type": "code",
      "execution_count": null,
      "metadata": {
        "id": "CjmBLsVaUPfo",
        "colab": {
          "base_uri": "https://localhost:8080/"
        },
        "outputId": "744f0991-5b68-49ab-9412-27910c03355b"
      },
      "outputs": [
        {
          "output_type": "stream",
          "name": "stdout",
          "text": [
            "Looking in indexes: https://pypi.org/simple, https://us-python.pkg.dev/colab-wheels/public/simple/\n",
            "Requirement already satisfied: wordcloud in /usr/local/lib/python3.8/dist-packages (1.8.2.2)\n",
            "Requirement already satisfied: matplotlib in /usr/local/lib/python3.8/dist-packages (from wordcloud) (3.5.3)\n",
            "Requirement already satisfied: numpy>=1.6.1 in /usr/local/lib/python3.8/dist-packages (from wordcloud) (1.24.2)\n",
            "Requirement already satisfied: pillow in /usr/local/lib/python3.8/dist-packages (from wordcloud) (7.1.2)\n",
            "Requirement already satisfied: packaging>=20.0 in /usr/local/lib/python3.8/dist-packages (from matplotlib->wordcloud) (23.0)\n",
            "Requirement already satisfied: pyparsing>=2.2.1 in /usr/local/lib/python3.8/dist-packages (from matplotlib->wordcloud) (3.0.9)\n",
            "Requirement already satisfied: fonttools>=4.22.0 in /usr/local/lib/python3.8/dist-packages (from matplotlib->wordcloud) (4.38.0)\n",
            "Requirement already satisfied: cycler>=0.10 in /usr/local/lib/python3.8/dist-packages (from matplotlib->wordcloud) (0.11.0)\n",
            "Requirement already satisfied: kiwisolver>=1.0.1 in /usr/local/lib/python3.8/dist-packages (from matplotlib->wordcloud) (1.4.4)\n",
            "Requirement already satisfied: python-dateutil>=2.7 in /usr/local/lib/python3.8/dist-packages (from matplotlib->wordcloud) (2.8.2)\n",
            "Requirement already satisfied: six>=1.5 in /usr/local/lib/python3.8/dist-packages (from python-dateutil>=2.7->matplotlib->wordcloud) (1.15.0)\n"
          ]
        }
      ],
      "source": [
        "!pip install wordcloud"
      ]
    },
    {
      "cell_type": "code",
      "execution_count": null,
      "metadata": {
        "id": "b62hSn38UZiH",
        "colab": {
          "base_uri": "https://localhost:8080/",
          "height": 198
        },
        "outputId": "a7b742ae-a6e2-4500-e891-61ad53c5fdac"
      },
      "outputs": [
        {
          "output_type": "display_data",
          "data": {
            "text/plain": [
              "<Figure size 432x288 with 1 Axes>"
            ],
            "image/png": "[encoded data removed]"
          },
          "metadata": {
            "needs_background": "light"
          }
        }
      ],
      "source": [
        "import matplotlib.pyplot as plt\n",
        "%matplotlib inline\n",
        "\n",
        "from wordcloud import WordCloud, STOPWORDS\n",
        "\n",
        "sentiment = 'pos'\n",
        "\n",
        "# Combinamos las reviews para el sentimiento deseado\n",
        "combined_text = \" \".join([review for review in data['train'][sentiment]])\n",
        "\n",
        "# Inicializamos el wordcloud\n",
        "wc = WordCloud(background_color='white', max_words=50,\n",
        "        # Actualizamos las stopwords para incluir palabras comunes del tema\n",
        "        stopwords = STOPWORDS.update(['br','film','movie']))\n",
        "\n",
        "plt.imshow(wc.generate(combined_text))\n",
        "plt.axis('off')\n",
        "plt.show()"
      ]
    },
    {
      "cell_type": "code",
      "execution_count": null,
      "metadata": {
        "id": "7w9pmKsuUiVS",
        "colab": {
          "base_uri": "https://localhost:8080/",
          "height": 198
        },
        "outputId": "20d28dff-9b6b-4074-8eaa-50874f69fbbe"
      },
      "outputs": [
        {
          "output_type": "display_data",
          "data": {
            "text/plain": [
              "<Figure size 432x288 with 1 Axes>"
            ],
            "image/png": "[encoded data removed]"
          },
          "metadata": {
            "needs_background": "light"
          }
        }
      ],
      "source": [
        "import matplotlib.pyplot as plt\n",
        "%matplotlib inline\n",
        "\n",
        "from wordcloud import WordCloud, STOPWORDS\n",
        "\n",
        "sentiment = 'neg'\n",
        "\n",
        "combined_text = \" \".join([review for review in data['train'][sentiment]])\n",
        "\n",
        "wc = WordCloud(background_color='white', max_words=50,\n",
        "        stopwords = STOPWORDS.update(['br','film','movie']))\n",
        "\n",
        "plt.imshow(wc.generate(combined_text))\n",
        "plt.axis('off')\n",
        "plt.show()"
      ]
    },
    {
      "cell_type": "code",
      "execution_count": null,
      "metadata": {
        "id": "a02WXgrVVSK-",
        "colab": {
          "base_uri": "https://localhost:8080/"
        },
        "outputId": "3584a98e-92bf-47d5-a177-c05a2266ec86"
      },
      "outputs": [
        {
          "output_type": "stream",
          "name": "stdout",
          "text": [
            "IMDb reviews (combined): train = 25000, test = 25000\n"
          ]
        }
      ],
      "source": [
        "from sklearn.utils import shuffle\n",
        "\n",
        "def prepare_imdb_data(data):\n",
        "    \"\"\"Prepare training and test sets from IMDb movie reviews.\"\"\"\n",
        "    \n",
        "    # Combinamos los datos de las diferentes etiquetas\n",
        "    data_train = data['train']['pos'] + data['train']['neg']\n",
        "    data_test = data['test']['pos'] + data['test']['neg']\n",
        "    labels_train = labels['train']['pos'] + labels['train']['neg']\n",
        "    labels_test = labels['test']['pos'] + labels['test']['neg']\n",
        "    \n",
        "    # Mezclamos los datos con sus etiquetas\n",
        "    data_train, labels_train = shuffle(data_train, labels_train)\n",
        "    data_test, labels_test = shuffle(data_test, labels_test)\n",
        "    \n",
        "    # Devolvemos unificado training data, test data, training labels, test labets\n",
        "    return data_train, data_test, labels_train, labels_test\n",
        "\n",
        "\n",
        "data_train, data_test, labels_train, labels_test = prepare_imdb_data(data)\n",
        "print(\"IMDb reviews (combined): train = {}, test = {}\".format(len(data_train), len(data_test)))"
      ]
    },
    {
      "cell_type": "markdown",
      "metadata": {
        "id": "ahh_Bk8TVnNV"
      },
      "source": [
        "# 4. Preprocesamiento"
      ]
    },
    {
      "cell_type": "code",
      "execution_count": null,
      "metadata": {
        "id": "nLFQm_yHVqAy",
        "colab": {
          "base_uri": "https://localhost:8080/"
        },
        "outputId": "ac0666f1-734d-445f-ec6e-0baaf44be340"
      },
      "outputs": [
        {
          "output_type": "stream",
          "name": "stderr",
          "text": [
            "[nltk_data] Downloading package stopwords to /root/nltk_data...\n",
            "[nltk_data]   Unzipping corpora/stopwords.zip.\n"
          ]
        }
      ],
      "source": [
        "# BeautifulSoup to easily remove HTML tags\n",
        "from bs4 import BeautifulSoup \n",
        "\n",
        "# RegEx for removing non-letter characters\n",
        "import re\n",
        "\n",
        "# NLTK library for the remaining steps\n",
        "import nltk\n",
        "nltk.download(\"stopwords\")   # download list of stopwords (only once; need not run it again)\n",
        "from nltk.corpus import stopwords # import stopwords\n",
        "\n",
        "from nltk.stem.porter import *\n",
        "stemmer = PorterStemmer()"
      ]
    },
    {
      "cell_type": "code",
      "execution_count": null,
      "metadata": {
        "id": "eeuRsmE6WRdl",
        "colab": {
          "base_uri": "https://localhost:8080/"
        },
        "outputId": "75bf0ea8-b014-4224-a9ed-479ef09b190f"
      },
      "outputs": [
        {
          "output_type": "execute_result",
          "data": {
            "text/plain": [
              "['test', 'test', 'would', 'make', 'great', 'movi', 'review']"
            ]
          },
          "metadata": {},
          "execution_count": 8
        }
      ],
      "source": [
        "def review_to_words(review):\n",
        "    \"\"\"Convert a raw review string into a sequence of words.\"\"\"\n",
        "    \n",
        "    # Eliminamos las etiquetas HTML\n",
        "    text = BeautifulSoup(review, \"html5lib\").get_text()\n",
        "    # Convertimos a minúscula y quitamos todo lo que no sea texto o números\n",
        "    text = re.sub(r\"[^a-zA-Z0-9]\", \" \", text.lower())\n",
        "    # Dividimos en tokens por espacios\n",
        "    words = text.split()\n",
        "    # Eliminamos stopwords\n",
        "    words = [w for w in words if w not in stopwords.words(\"english\")]\n",
        "    # Aplicamos stemming\n",
        "    words = [PorterStemmer().stem(w) for w in words]\n",
        "\n",
        "    return words\n",
        "\n",
        "\n",
        "review_to_words(\"\"\"This is just a <em>test</em>.<br/><br />\n",
        "But if it wasn't a test, it would make for a <b>Great</b> movie review!\"\"\")"
      ]
    },
    {
      "cell_type": "code",
      "execution_count": null,
      "metadata": {
        "id": "Ujche7fZWV6X",
        "colab": {
          "base_uri": "https://localhost:8080/"
        },
        "outputId": "d9f861a1-2a98-4d38-eadd-71e447112cec"
      },
      "outputs": [
        {
          "output_type": "stream",
          "name": "stdout",
          "text": [
            "Wrote preprocessed data to cache file: preprocessed_data.pkl\n",
            "\n",
            "--- Raw review ---\n",
            "Do NOT judge this production by the 2-hour version that was released on VHS in the US, which is a choppy and incomprehensible mess. I had the pleasure of watching the full-length 6-hour version available on DVD from the UK, and was spellbound. The deliberate pace and growing sense of menace are mesmerizing, as is the amazing visual and aural landscape; this is an ancient Rome we have never seen before, and far more authentic than most.<br /><br />Director Franco Rossi was justly celebrated for his 1968 mini-series of The Odyssey, and this mini-series is equally powerful. Just as Bekim Fehmiu became the screen's best Ulysses, so Klaus Maria Brandauer may be the screen's best Nero. Now, I am hoping someday to see Rossi's version of The Aeneid (Eneide) that was broadcast on Italian TV in 1971.<br /><br />I am undecided which version of QUO VADIS is more powerful, this one or the Polish mini-series from 2001; each has different virtues, and in many ways they complement one another. Certainly, either one towers over that Hollywood camp-riot starring Peter Ustinov.\n",
            "\n",
            "--- Preprocessed words ---\n",
            "['judg', 'product', '2', 'hour', 'version', 'releas', 'vh', 'us', 'choppi', 'incomprehens', 'mess', 'pleasur', 'watch', 'full', 'length', '6', 'hour', 'version', 'avail', 'dvd', 'uk', 'spellbound', 'deliber', 'pace', 'grow', 'sens', 'menac', 'mesmer', 'amaz', 'visual', 'aural', 'landscap', 'ancient', 'rome', 'never', 'seen', 'far', 'authent', 'director', 'franco', 'rossi', 'justli', 'celebr', '1968', 'mini', 'seri', 'odyssey', 'mini', 'seri', 'equal', 'power', 'bekim', 'fehmiu', 'becam', 'screen', 'best', 'ulyss', 'klau', 'maria', 'brandauer', 'may', 'screen', 'best', 'nero', 'hope', 'someday', 'see', 'rossi', 'version', 'aeneid', 'eneid', 'broadcast', 'italian', 'tv', '1971', 'undecid', 'version', 'quo', 'vadi', 'power', 'one', 'polish', 'mini', 'seri', '2001', 'differ', 'virtu', 'mani', 'way', 'complement', 'one', 'anoth', 'certainli', 'either', 'one', 'tower', 'hollywood', 'camp', 'riot', 'star', 'peter', 'ustinov']\n",
            "\n",
            "--- Label ---\n",
            "pos\n"
          ]
        }
      ],
      "source": [
        "import pickle\n",
        "\n",
        "cache_dir = os.path.join(\"cache\", \"sentiment_analysis\")\n",
        "os.makedirs(cache_dir, exist_ok=True)\n",
        "\n",
        "def preprocess_data(data_train, data_test, labels_train, labels_test,\n",
        "                    cache_dir=cache_dir, cache_file=\"preprocessed_data.pkl\"):\n",
        "    \"\"\"Convert each review to words; read from cache if available.\"\"\"\n",
        "\n",
        "    cache_data = None\n",
        "    if cache_file is not None:\n",
        "        try:\n",
        "            with open(os.path.join(cache_dir, cache_file), \"rb\") as f:\n",
        "                cache_data = pickle.load(f)\n",
        "            print(\"Read preprocessed data from cache file:\", cache_file)\n",
        "        except:\n",
        "            pass\n",
        "    \n",
        "    if cache_data is None:\n",
        "        words_train = list(map(review_to_words, data_train))\n",
        "        words_test = list(map(review_to_words, data_test))\n",
        "        \n",
        "        if cache_file is not None:\n",
        "            cache_data = dict(words_train=words_train, words_test=words_test,\n",
        "                              labels_train=labels_train, labels_test=labels_test)\n",
        "            with open(os.path.join(cache_dir, cache_file), \"wb\") as f:\n",
        "                pickle.dump(cache_data, f)\n",
        "            print(\"Wrote preprocessed data to cache file:\", cache_file)\n",
        "    else:\n",
        "        words_train, words_test, labels_train, labels_test = (cache_data['words_train'],\n",
        "                cache_data['words_test'], cache_data['labels_train'], cache_data['labels_test'])\n",
        "    \n",
        "    return words_train, words_test, labels_train, labels_test\n",
        "\n",
        "\n",
        "words_train, words_test, labels_train, labels_test = preprocess_data(\n",
        "        data_train, data_test, labels_train, labels_test)\n",
        "\n",
        "print(\"\\n--- Raw review ---\")\n",
        "print(data_train[1])\n",
        "print(\"\\n--- Preprocessed words ---\")\n",
        "print(words_train[1])\n",
        "print(\"\\n--- Label ---\")\n",
        "print(labels_train[1])"
      ]
    },
    {
      "cell_type": "code",
      "execution_count": null,
      "metadata": {
        "id": "o8tT2St8Wqqh",
        "colab": {
          "base_uri": "https://localhost:8080/"
        },
        "outputId": "8a9a66aa-e62f-4d5a-a623-1dbd1503d3ad"
      },
      "outputs": [
        {
          "output_type": "stream",
          "name": "stdout",
          "text": [
            "Wrote features to cache file: bow_features.pkl\n",
            "Vocabulary: 5000 words\n",
            "Sample words: ['sharon', 'japan', 'highway', 'robinson', 'keen', 'inhabit', 'queen', 'cooki']\n",
            "\n",
            "--- Preprocessed words ---\n",
            "['seri', 'set', 'year', 'mission', 'abydo', 'movi', 'stargat', 'explain', 'lot', 'stuff', 'movi', 'neglect', 'mention', 'stargat', 'activ', 'without', 'human', 'comput', 'goa', 'uld', 'ra', 'race', 'come', 'mani', 'first', 'episod', 'retir', 'jack', 'neill', 'spell', '2', 'ls', 'recal', 'activ', 'duti', 'gener', 'georg', 'hammond', 'due', 'attack', 'shut', 'stargat', 'apophi', 'power', 'goa', 'uld', 'kill', 'four', 'men', 'kidnap', 'one', 'woman', 'meet', 'samantha', 'carter', 'brilliant', 'scientist', 'claim', 'gone', 'stargat', 'first', 'time', 'determin', 'go', 'find', 'daniel', 'got', 'marri', 'abydo', 'hundr', 'gate', 'address', 'dial', 'daniel', 'wife', 'get', 'captur', 'apophi', 'becom', 'new', 'queen', 'continu', 'second', 'episod', 'gener', 'hammond', 'announc', 'format', 'sgc', 'includ', 'nine', 'team', 'jack', 'team', 'sg', '1', 'consist', 'jack', 'samantha', 'daniel', 'go', 'chulak', 'goa', 'uld', 'homeworld', 'rescu', 'daniel', 'wife', 'anoth', 'one', 'captur', 'abydo', 'name', 'ska', 'ra', 'get', 'captur', 'apophi', 'give', 'order', 'kill', 'mani', 'prison', 'jaffa', 'name', 'teal', 'c', 'first', 'prime', 'apophi', 'save', 'goe', 'earth', 'made', 'part', 'sg', '1', 'begin', 'adventur', 'cours', 'show', 'gone', 'past', 'futur', 'gotten', 'transport', 'altern', 'realiti', 'swap', 'bodi', 'grown', 'old', 'met', 'alien', 'race', 'includ', 'rebel', 'allianc', 'goa', 'uld', 'call', 'tok', 'ra', 'samantha', 'dad', 'becom', 'member', 'asgard', 'cute', 'littl', 'race', 'see', 'thor', 'often', 'jack', 'buddi', 'avoid', 'global', 'disast', 'skin', 'teeth', 'countless', 'time', 'show', 'recent', 'cancel', 'last', 'ten', 'season', 'season', 'nine', 'new', 'enemi', 'call', 'ori', 'came', 'flaunt', 'brand', 'new', 'power', 'new', 'danger', 'bring', 'light', 'new', 'mysteri', 'surround', 'stargat', 'creator', 'ancient', 'season', 'nine', 'ten', 'also', 'saw', 'introduct', 'two', 'new', 'charact', 'ben', 'browder', 'cameron', 'mitchel', 'new', 'leader', 'sg', '1', 'claudia', 'black', 'vala', 'maldoran', 'femal', 'human', 'anoth', 'world', 'bring', 'new', 'sens', 'fun', 'team', 'well', 'produc', 'interest', 'charact', 'fantast', 'special', 'effect', 'subtl', 'love', 'interest', 'samantha', 'jack', 'one', 'differ', 'way', 'travel', 'galaxi', 'differ', 'kind', 'adventur', 'one', 'show', 'want', 'miss', 'unlock', 'gate', 'step', 'regret']\n",
            "\n",
            "--- Bag-of-Words features ---\n",
            "[0 0 0 ... 0 0 0]\n",
            "\n",
            "--- Label ---\n",
            "pos\n"
          ]
        }
      ],
      "source": [
        "import numpy as np\n",
        "from sklearn.feature_extraction.text import CountVectorizer\n",
        "import joblib\n",
        "\n",
        "def extract_BoW_features(words_train, words_test, vocabulary_size=5000,\n",
        "                         cache_dir=cache_dir, cache_file=\"bow_features.pkl\"):\n",
        "    \"\"\"Extract Bag-of-Words for a given set of documents, already preprocessed into words.\"\"\"\n",
        "    \n",
        "    cache_data = None\n",
        "    if cache_file is not None:\n",
        "        try:\n",
        "            with open(os.path.join(cache_dir, cache_file), \"rb\") as f:\n",
        "                cache_data = joblib.load(f)\n",
        "            print(\"Read features from cache file:\", cache_file)\n",
        "        except:\n",
        "            pass\n",
        "    \n",
        "    if cache_data is None:\n",
        "        vectorizer = CountVectorizer(max_features=vocabulary_size,\n",
        "                preprocessor=lambda x: x, tokenizer=lambda x: x)  # already preprocessed\n",
        "        features_train = vectorizer.fit_transform(words_train).toarray()\n",
        "\n",
        "        features_test = vectorizer.transform(words_test).toarray()\n",
        "                \n",
        "        if cache_file is not None:\n",
        "            vocabulary = vectorizer.vocabulary_\n",
        "            cache_data = dict(features_train=features_train, features_test=features_test,\n",
        "                             vocabulary=vocabulary)\n",
        "            with open(os.path.join(cache_dir, cache_file), \"wb\") as f:\n",
        "                joblib.dump(cache_data, f)\n",
        "            print(\"Wrote features to cache file:\", cache_file)\n",
        "    else:\n",
        "        features_train, features_test, vocabulary = (cache_data['features_train'],\n",
        "                cache_data['features_test'], cache_data['vocabulary'])\n",
        "    \n",
        "    return features_train, features_test, vocabulary\n",
        "\n",
        "features_train, features_test, vocabulary = extract_BoW_features(words_train, words_test)\n",
        "\n",
        "print(\"Vocabulary: {} words\".format(len(vocabulary)))\n",
        "\n",
        "import random\n",
        "print(\"Sample words: {}\".format(random.sample(list(vocabulary.keys()), 8)))\n",
        "\n",
        "print(\"\\n--- Preprocessed words ---\")\n",
        "print(words_train[5])\n",
        "print(\"\\n--- Bag-of-Words features ---\")\n",
        "print(features_train[5])\n",
        "print(\"\\n--- Label ---\")\n",
        "print(labels_train[5])"
      ]
    },
    {
      "cell_type": "code",
      "source": [
        "import matplotlib.pyplot as plt"
      ],
      "metadata": {
        "id": "9pqGM_MDbQnc"
      },
      "execution_count": null,
      "outputs": []
    },
    {
      "cell_type": "code",
      "execution_count": null,
      "metadata": {
        "id": "wahQ0kz0WvcN",
        "colab": {
          "base_uri": "https://localhost:8080/",
          "height": 279
        },
        "outputId": "46bb30d9-41d8-4179-9708-9801665b4587"
      },
      "outputs": [
        {
          "output_type": "display_data",
          "data": {
            "text/plain": [
              "<Figure size 432x288 with 1 Axes>"
            ],
            "image/png": "[encoded data removed]"
          },
          "metadata": {
            "needs_background": "light"
          }
        }
      ],
      "source": [
        "#Frecuencia de las palabras. Observamos algunos outliers. \n",
        "#Esos datos tienen q ser significativos dado que se ha realizado un preprocesamiento previo\n",
        "plt.plot(features_train[5,:])\n",
        "plt.xlabel('Word')\n",
        "plt.ylabel('Count')\n",
        "plt.show()"
      ]
    },
    {
      "cell_type": "code",
      "execution_count": null,
      "metadata": {
        "id": "ZDD50OJ-vVOV",
        "colab": {
          "base_uri": "https://localhost:8080/",
          "height": 283
        },
        "outputId": "4f8a97cf-d305-4166-cb79-54c5b2061f7d"
      },
      "outputs": [
        {
          "output_type": "display_data",
          "data": {
            "text/plain": [
              "<Figure size 432x288 with 1 Axes>"
            ],
            "image/png": "[encoded data removed]"
          },
          "metadata": {
            "needs_background": "light"
          }
        }
      ],
      "source": [
        "\n",
        "#Observamos la ley de Zipf\n",
        "word_freq = features_train.sum(axis=0)\n",
        "\n",
        "sorted_word_freq = np.sort(word_freq)[::-1]\n",
        "\n",
        "plt.plot(sorted_word_freq)\n",
        "plt.gca().set_xscale('log')\n",
        "plt.gca().set_yscale('log')\n",
        "plt.xlabel('Rank')\n",
        "plt.ylabel('Number of occurrences')\n",
        "plt.show()"
      ]
    },
    {
      "cell_type": "code",
      "execution_count": null,
      "metadata": {
        "id": "wpVHk7N3vdoE"
      },
      "outputs": [],
      "source": [
        "import sklearn.preprocessing as pr\n",
        "\n",
        "features_train = pr.normalize(features_train, axis=1)\n",
        "features_test = pr.normalize(features_test, axis=1)"
      ]
    },
    {
      "cell_type": "markdown",
      "metadata": {
        "id": "ENBuwKdRvzch"
      },
      "source": [
        "Debate: ¿Por qué normalizamos los BoW?"
      ]
    },
    {
      "cell_type": "markdown",
      "metadata": {
        "id": "7irloKrKwC9u"
      },
      "source": [
        "# 4. Entrenamiento"
      ]
    },
    {
      "cell_type": "code",
      "execution_count": null,
      "metadata": {
        "id": "0A_r612Fv56f",
        "colab": {
          "base_uri": "https://localhost:8080/"
        },
        "outputId": "45487703-947b-42b1-957d-b6a8366d360b"
      },
      "outputs": [
        {
          "output_type": "stream",
          "name": "stdout",
          "text": [
            "[GradientBoostingClassifier] Accuracy: train = 0.79472, test = 0.79004\n"
          ]
        }
      ],
      "source": [
        "from sklearn.ensemble import GradientBoostingClassifier\n",
        "\n",
        "n_estimators = 32\n",
        "\n",
        "def classify_gboost(X_train, X_test, y_train, y_test):        \n",
        "    clf = GradientBoostingClassifier(n_estimators=n_estimators, learning_rate=1.0, max_depth=1, random_state=42)\n",
        "\n",
        "    clf.fit(X_train, y_train)\n",
        "    \n",
        "    print(\"[{}] Accuracy: train = {}, test = {}\".format(\n",
        "            clf.__class__.__name__,\n",
        "            clf.score(X_train, y_train),\n",
        "            clf.score(X_test, y_test)))\n",
        "    \n",
        "    return clf\n",
        "\n",
        "\n",
        "clf2 = classify_gboost(features_train, features_test, labels_train, labels_test)"
      ]
    },
    {
      "cell_type": "markdown",
      "metadata": {
        "id": "zTYamnpnwTRD"
      },
      "source": [
        "# 5. Pasamos a Deep Learning!"
      ]
    },
    {
      "cell_type": "code",
      "execution_count": null,
      "metadata": {
        "id": "Xj66XsTEwXj9",
        "colab": {
          "base_uri": "https://localhost:8080/"
        },
        "outputId": "b9f0cff1-612b-48bf-8080-0cd7b93da126"
      },
      "outputs": [
        {
          "output_type": "stream",
          "name": "stdout",
          "text": [
            "Downloading data from https://storage.googleapis.com/tensorflow/tf-keras-datasets/imdb.npz\n",
            "17464789/17464789 [==============================] - 1s 0us/step\n",
            "Loaded dataset with 25000 training samples, 25000 test samples\n"
          ]
        }
      ],
      "source": [
        "from keras.datasets import imdb\n",
        "\n",
        "vocabulary_size = 5000\n",
        "\n",
        "(X_train, y_train), (X_test, y_test) = imdb.load_data(num_words=vocabulary_size)\n",
        "print(\"Loaded dataset with {} training samples, {} test samples\".format(len(X_train), len(X_test)))"
      ]
    },
    {
      "cell_type": "code",
      "execution_count": null,
      "metadata": {
        "id": "dopxGqf0QUX5"
      },
      "outputs": [],
      "source": [
        "(X_train_example, y_train_example), (X_test_example, y_test_example) = imdb.load_data(num_words=vocabulary_size)"
      ]
    },
    {
      "cell_type": "code",
      "execution_count": null,
      "metadata": {
        "id": "EGe9QIBGwsP9",
        "colab": {
          "base_uri": "https://localhost:8080/"
        },
        "outputId": "fee9e6ba-6b26-477d-f500-14108441a23b"
      },
      "outputs": [
        {
          "output_type": "stream",
          "name": "stdout",
          "text": [
            "--- Review ---\n",
            "[1, 14, 22, 16, 43, 530, 973, 1622, 1385, 65, 458, 4468, 66, 3941, 4, 173, 36, 256, 5, 25, 100, 43, 838, 112, 50, 670, 2, 9, 35, 480, 284, 5, 150, 4, 172, 112, 167, 2, 336, 385, 39, 4, 172, 4536, 1111, 17, 546, 38, 13, 447, 4, 192, 50, 16, 6, 147, 2025, 19, 14, 22, 4, 1920, 4613, 469, 4, 22, 71, 87, 12, 16, 43, 530, 38, 76, 15, 13, 1247, 4, 22, 17, 515, 17, 12, 16, 626, 18, 2, 5, 62, 386, 12, 8, 316, 8, 106, 5, 4, 2223, 2, 16, 480, 66, 3785, 33, 4, 130, 12, 16, 38, 619, 5, 25, 124, 51, 36, 135, 48, 25, 1415, 33, 6, 22, 12, 215, 28, 77, 52, 5, 14, 407, 16, 82, 2, 8, 4, 107, 117, 2, 15, 256, 4, 2, 7, 3766, 5, 723, 36, 71, 43, 530, 476, 26, 400, 317, 46, 7, 4, 2, 1029, 13, 104, 88, 4, 381, 15, 297, 98, 32, 2071, 56, 26, 141, 6, 194, 2, 18, 4, 226, 22, 21, 134, 476, 26, 480, 5, 144, 30, 2, 18, 51, 36, 28, 224, 92, 25, 104, 4, 226, 65, 16, 38, 1334, 88, 12, 16, 283, 5, 16, 4472, 113, 103, 32, 15, 16, 2, 19, 178, 32]\n",
            "--- Label ---\n",
            "1\n"
          ]
        }
      ],
      "source": [
        "print(\"--- Review ---\")\n",
        "print(X_train[0])\n",
        "print(\"--- Label ---\")\n",
        "print(y_train[0])"
      ]
    },
    {
      "cell_type": "code",
      "source": [
        "# Datos ya vienen tokenizados (no son palabras, asignados a un identificador)"
      ],
      "metadata": {
        "id": "yWyxiGVMVDmA"
      },
      "execution_count": null,
      "outputs": []
    },
    {
      "cell_type": "code",
      "execution_count": null,
      "metadata": {
        "id": "cioT16suxoCi",
        "colab": {
          "base_uri": "https://localhost:8080/"
        },
        "outputId": "430add83-9878-4c01-c8ad-63545fc98958"
      },
      "outputs": [
        {
          "output_type": "stream",
          "name": "stdout",
          "text": [
            "Downloading data from https://storage.googleapis.com/tensorflow/tf-keras-datasets/imdb_word_index.json\n",
            "1641221/1641221 [==============================] - 0s 0us/step\n",
            "--- Review (with words) ---\n",
            "['the', 'as', 'you', 'with', 'out', 'themselves', 'powerful', 'lets', 'loves', 'their', 'becomes', 'reaching', 'had', 'journalist', 'of', 'lot', 'from', 'anyone', 'to', 'have', 'after', 'out', 'atmosphere', 'never', 'more', 'room', 'and', 'it', 'so', 'heart', 'shows', 'to', 'years', 'of', 'every', 'never', 'going', 'and', 'help', 'moments', 'or', 'of', 'every', 'chest', 'visual', 'movie', 'except', 'her', 'was', 'several', 'of', 'enough', 'more', 'with', 'is', 'now', 'current', 'film', 'as', 'you', 'of', 'mine', 'potentially', 'unfortunately', 'of', 'you', 'than', 'him', 'that', 'with', 'out', 'themselves', 'her', 'get', 'for', 'was', 'camp', 'of', 'you', 'movie', 'sometimes', 'movie', 'that', 'with', 'scary', 'but', 'and', 'to', 'story', 'wonderful', 'that', 'in', 'seeing', 'in', 'character', 'to', 'of', '70s', 'and', 'with', 'heart', 'had', 'shadows', 'they', 'of', 'here', 'that', 'with', 'her', 'serious', 'to', 'have', 'does', 'when', 'from', 'why', 'what', 'have', 'critics', 'they', 'is', 'you', 'that', \"isn't\", 'one', 'will', 'very', 'to', 'as', 'itself', 'with', 'other', 'and', 'in', 'of', 'seen', 'over', 'and', 'for', 'anyone', 'of', 'and', 'br', \"show's\", 'to', 'whether', 'from', 'than', 'out', 'themselves', 'history', 'he', 'name', 'half', 'some', 'br', 'of', 'and', 'odd', 'was', 'two', 'most', 'of', 'mean', 'for', '1', 'any', 'an', 'boat', 'she', 'he', 'should', 'is', 'thought', 'and', 'but', 'of', 'script', 'you', 'not', 'while', 'history', 'he', 'heart', 'to', 'real', 'at', 'and', 'but', 'when', 'from', 'one', 'bit', 'then', 'have', 'two', 'of', 'script', 'their', 'with', 'her', 'nobody', 'most', 'that', 'with', \"wasn't\", 'to', 'with', 'armed', 'acting', 'watch', 'an', 'for', 'with', 'and', 'film', 'want', 'an']\n",
            "--- Label ---\n",
            "1\n"
          ]
        }
      ],
      "source": [
        "#cambiamos de número a palabras (metodo de Keras)\n",
        "word2id = imdb.get_word_index()\n",
        "id2word = {i: word for word, i in word2id.items()}\n",
        "print(\"--- Review (with words) ---\")\n",
        "print([id2word.get(i, \" \") for i in X_train[0]])\n",
        "print(\"--- Label ---\")\n",
        "print(y_train[0])"
      ]
    },
    {
      "cell_type": "code",
      "execution_count": null,
      "metadata": {
        "id": "LA8o4_grO7d2"
      },
      "outputs": [],
      "source": [
        "# Media de palabras en la reviews.\n",
        "# RRN necesitamos establcer el tamaño de neruonas \n",
        "# primero hacer el análisis para ver el número medio y máxcimo de palabras en las revies.\n",
        "#si una frase se queda corta, la palabrs restantes se rellenaran de 0. Esto sería negativop\n",
        "max = 0\n",
        "mean = []\n",
        "for example in X_train_example:\n",
        "  length = len(example)\n",
        "  mean.append(len(example))\n",
        "  if length > max:\n",
        "    max = length"
      ]
    },
    {
      "cell_type": "code",
      "execution_count": null,
      "metadata": {
        "id": "2rlL5JDwP_3i",
        "colab": {
          "base_uri": "https://localhost:8080/"
        },
        "outputId": "d1d8d4bc-3d8d-4016-ff9a-5c1c0d3f813d"
      },
      "outputs": [
        {
          "output_type": "execute_result",
          "data": {
            "text/plain": [
              "238.71364"
            ]
          },
          "metadata": {},
          "execution_count": 26
        }
      ],
      "source": [
        "sum(mean) / len(mean)"
      ]
    },
    {
      "cell_type": "code",
      "execution_count": null,
      "metadata": {
        "id": "Ufc7drzvP4rS",
        "colab": {
          "base_uri": "https://localhost:8080/"
        },
        "outputId": "9a6a62dc-4d34-4c35-a644-eb2557a8efb4"
      },
      "outputs": [
        {
          "output_type": "execute_result",
          "data": {
            "text/plain": [
              "2494"
            ]
          },
          "metadata": {},
          "execution_count": 28
        }
      ],
      "source": [
        "max"
      ]
    },
    {
      "cell_type": "code",
      "source": [
        "from tensorflow.keras.utils import pad_sequences\n",
        "\n",
        "max_words = 500\n",
        "\n",
        "X_train = pad_sequences(X_train, maxlen=max_words)\n",
        "X_test = pad_sequences(X_test, maxlen=max_words)"
      ],
      "metadata": {
        "id": "8r-iGY1WlUMd"
      },
      "execution_count": null,
      "outputs": []
    },
    {
      "cell_type": "code",
      "execution_count": null,
      "metadata": {
        "id": "tf8h5j-Qy4JM",
        "colab": {
          "base_uri": "https://localhost:8080/"
        },
        "outputId": "78d5c1d1-e29a-4c43-f328-ba6a3d37f7b8"
      },
      "outputs": [
        {
          "output_type": "stream",
          "name": "stdout",
          "text": [
            "Model: \"sequential\"\n",
            "_________________________________________________________________\n",
            " Layer (type)                Output Shape              Param #   \n",
            "=================================================================\n",
            " embedding (Embedding)       (None, 500, 32)           160000    \n",
            "                                                                 \n",
            " lstm (LSTM)                 (None, 100)               53200     \n",
            "                                                                 \n",
            " dense (Dense)               (None, 1)                 101       \n",
            "                                                                 \n",
            "=================================================================\n",
            "Total params: 213,301\n",
            "Trainable params: 213,301\n",
            "Non-trainable params: 0\n",
            "_________________________________________________________________\n",
            "None\n"
          ]
        }
      ],
      "source": [
        "from keras.models import Sequential\n",
        "from keras.layers import Embedding, LSTM, Dense, Dropout, GRUV2, SimpleRNN\n",
        "\n",
        "embedding_size = 32\n",
        "model = Sequential()\n",
        "model.add(Embedding(vocabulary_size, embedding_size, input_length=max_words))\n",
        "model.add(LSTM(100))\n",
        "model.add(Dense(1, activation='sigmoid'))\n",
        "\n",
        "print(model.summary())"
      ]
    },
    {
      "cell_type": "code",
      "execution_count": null,
      "metadata": {
        "id": "fiYzO7t8y8cI"
      },
      "outputs": [],
      "source": [
        "model.compile(loss='binary_crossentropy', optimizer='adam', metrics=['accuracy'])"
      ]
    },
    {
      "cell_type": "code",
      "execution_count": null,
      "metadata": {
        "id": "_ENigjgBzA30",
        "colab": {
          "base_uri": "https://localhost:8080/"
        },
        "outputId": "626e03c4-5722-41a9-a52e-b93b448c9852"
      },
      "outputs": [
        {
          "output_type": "stream",
          "name": "stdout",
          "text": [
            "390/390 [==============================] - 363s 920ms/step - loss: 0.4698 - accuracy: 0.7741 - val_loss: 0.2477 - val_accuracy: 0.9219\n"
          ]
        },
        {
          "output_type": "execute_result",
          "data": {
            "text/plain": [
              "<keras.callbacks.History at 0x7f29e1fe1610>"
            ]
          },
          "metadata": {},
          "execution_count": 20
        }
      ],
      "source": [
        "batch_size = 64\n",
        "num_epochs = 1\n",
        "\n",
        "X_valid, y_valid = X_train[:batch_size], y_train[:batch_size]  # first batch_size samples\n",
        "X_train2, y_train2 = X_train[batch_size:], y_train[batch_size:]  # rest for training\n",
        "\n",
        "model.fit(X_train2, y_train2,\n",
        "          validation_data=(X_valid, y_valid),\n",
        "          batch_size=batch_size, epochs=num_epochs)"
      ]
    },
    {
      "cell_type": "code",
      "source": [
        "import os\n"
      ],
      "metadata": {
        "id": "lKYtBiG2oBpC"
      },
      "execution_count": null,
      "outputs": []
    },
    {
      "cell_type": "code",
      "execution_count": null,
      "metadata": {
        "id": "LR_gl4ERzKSY",
        "colab": {
          "base_uri": "https://localhost:8080/",
          "height": 187
        },
        "outputId": "a1dc2f49-6eb3-4761-9e83-169246d575ad"
      },
      "outputs": [
        {
          "output_type": "error",
          "ename": "NameError",
          "evalue": "ignored",
          "traceback": [
            "\u001b[0;31m---------------------------------------------------------------------------\u001b[0m",
            "\u001b[0;31mNameError\u001b[0m                                 Traceback (most recent call last)",
            "\u001b[0;32m<ipython-input-23-9b33bdb94003>\u001b[0m in \u001b[0;36m<module>\u001b[0;34m\u001b[0m\n\u001b[1;32m      1\u001b[0m \u001b[0mmodel_file\u001b[0m \u001b[0;34m=\u001b[0m \u001b[0;34m\"lstm_model.h5\"\u001b[0m  \u001b[0;31m# HDF5 file\u001b[0m\u001b[0;34m\u001b[0m\u001b[0;34m\u001b[0m\u001b[0m\n\u001b[0;32m----> 2\u001b[0;31m \u001b[0mmodel\u001b[0m\u001b[0;34m.\u001b[0m\u001b[0msave\u001b[0m\u001b[0;34m(\u001b[0m\u001b[0mos\u001b[0m\u001b[0;34m.\u001b[0m\u001b[0mpath\u001b[0m\u001b[0;34m.\u001b[0m\u001b[0mjoin\u001b[0m\u001b[0;34m(\u001b[0m\u001b[0mcache_dir\u001b[0m\u001b[0;34m,\u001b[0m \u001b[0mmodel_file\u001b[0m\u001b[0;34m)\u001b[0m\u001b[0;34m)\u001b[0m\u001b[0;34m\u001b[0m\u001b[0;34m\u001b[0m\u001b[0m\n\u001b[0m",
            "\u001b[0;31mNameError\u001b[0m: name 'cache_dir' is not defined"
          ]
        }
      ],
      "source": [
        "model_file = \"lstm_model.h5\"  # HDF5 file\n",
        "model.save(os.path.join(cache_dir, model_file))"
      ]
    },
    {
      "cell_type": "code",
      "execution_count": null,
      "metadata": {
        "id": "9a1FEXr_zM-7",
        "colab": {
          "base_uri": "https://localhost:8080/"
        },
        "outputId": "865375a8-36e4-4d9e-c26e-5f8ceac4a4f4"
      },
      "outputs": [
        {
          "output_type": "stream",
          "name": "stdout",
          "text": [
            "Test accuracy: 0.8519999980926514\n"
          ]
        }
      ],
      "source": [
        "scores = model.evaluate(X_test, y_test, verbose=0)  # returns loss and other metrics specified in model.compile()\n",
        "print(\"Test accuracy:\", scores[1])  # scores[1] should correspond to accuracy if you passed in metrics=['accuracy']"
      ]
    },
    {
      "cell_type": "markdown",
      "metadata": {
        "id": "QAscCZtK0c8q"
      },
      "source": [
        "Vamos a ver con GRU:"
      ]
    },
    {
      "cell_type": "code",
      "execution_count": null,
      "metadata": {
        "id": "s8sAJFscz-tr",
        "colab": {
          "base_uri": "https://localhost:8080/"
        },
        "outputId": "5ee91fd9-3179-4f75-ab42-6179b1547283"
      },
      "outputs": [
        {
          "output_type": "stream",
          "name": "stdout",
          "text": [
            "Model: \"sequential_1\"\n",
            "_________________________________________________________________\n",
            " Layer (type)                Output Shape              Param #   \n",
            "=================================================================\n",
            " embedding_1 (Embedding)     (None, 500, 32)           160000    \n",
            "                                                                 \n",
            " gru (GRU)                   (None, 100)               40200     \n",
            "                                                                 \n",
            " dense_1 (Dense)             (None, 1)                 101       \n",
            "                                                                 \n",
            "=================================================================\n",
            "Total params: 200,301\n",
            "Trainable params: 200,301\n",
            "Non-trainable params: 0\n",
            "_________________________________________________________________\n",
            "None\n"
          ]
        }
      ],
      "source": [
        "embedding_size = 32\n",
        "model_gru = Sequential()\n",
        "model_gru.add(Embedding(vocabulary_size, embedding_size, input_length=max_words))\n",
        "model_gru.add(GRUV2(100))\n",
        "model_gru.add(Dense(1, activation='sigmoid'))\n",
        "\n",
        "print(model_gru.summary())"
      ]
    },
    {
      "cell_type": "code",
      "execution_count": null,
      "metadata": {
        "id": "dfYp0LxU1xhf"
      },
      "outputs": [],
      "source": [
        "model_gru.compile(loss='binary_crossentropy', optimizer='adam', metrics=['accuracy'])"
      ]
    },
    {
      "cell_type": "code",
      "execution_count": null,
      "metadata": {
        "id": "1aSdbibz1yzw",
        "colab": {
          "base_uri": "https://localhost:8080/"
        },
        "outputId": "6e016aa7-ed24-4f1e-ebed-d0edcab91766"
      },
      "outputs": [
        {
          "output_type": "stream",
          "name": "stdout",
          "text": [
            "390/390 [==============================] - 345s 872ms/step - loss: 0.4965 - accuracy: 0.7351 - val_loss: 0.2017 - val_accuracy: 0.9375\n"
          ]
        },
        {
          "output_type": "execute_result",
          "data": {
            "text/plain": [
              "<keras.callbacks.History at 0x7f29e3714790>"
            ]
          },
          "metadata": {},
          "execution_count": 29
        }
      ],
      "source": [
        "batch_size = 64\n",
        "num_epochs = 1\n",
        "\n",
        "X_valid, y_valid = X_train[:batch_size], y_train[:batch_size]  # first batch_size samples\n",
        "X_train2, y_train2 = X_train[batch_size:], y_train[batch_size:]  # rest for training\n",
        "\n",
        "model_gru.fit(X_train2, y_train2,\n",
        "          validation_data=(X_valid, y_valid),\n",
        "          batch_size=batch_size, epochs=num_epochs)"
      ]
    },
    {
      "cell_type": "code",
      "execution_count": null,
      "metadata": {
        "id": "nzNScGZU11sv"
      },
      "outputs": [],
      "source": [
        "model_file = \"gru_model.h5\"  # HDF5 file\n",
        "model_gru.save(os.path.join(cache_dir, model_file))"
      ]
    },
    {
      "cell_type": "code",
      "execution_count": null,
      "metadata": {
        "id": "1LzlI2FO11Pf"
      },
      "outputs": [],
      "source": [
        "scores = model_gru.evaluate(X_test, y_test, verbose=0)  # returns loss and other metrics specified in model.compile()\n",
        "print(\"Test accuracy:\", scores[1])  # scores[1] should correspond to accuracy if you passed in metrics=['accuracy']"
      ]
    },
    {
      "cell_type": "markdown",
      "metadata": {
        "id": "E_5Si51_0fEM"
      },
      "source": [
        "Y por último con RNN:"
      ]
    },
    {
      "cell_type": "code",
      "execution_count": null,
      "metadata": {
        "id": "4cjTljsW0heh",
        "colab": {
          "base_uri": "https://localhost:8080/"
        },
        "outputId": "609f391d-18c7-4ee9-f5fa-29b797a621e9"
      },
      "outputs": [
        {
          "output_type": "stream",
          "name": "stdout",
          "text": [
            "Model: \"sequential_2\"\n",
            "_________________________________________________________________\n",
            " Layer (type)                Output Shape              Param #   \n",
            "=================================================================\n",
            " embedding_2 (Embedding)     (None, 500, 32)           160000    \n",
            "                                                                 \n",
            " simple_rnn (SimpleRNN)      (None, 100)               13300     \n",
            "                                                                 \n",
            " dense_2 (Dense)             (None, 1)                 101       \n",
            "                                                                 \n",
            "=================================================================\n",
            "Total params: 173,401\n",
            "Trainable params: 173,401\n",
            "Non-trainable params: 0\n",
            "_________________________________________________________________\n",
            "None\n"
          ]
        }
      ],
      "source": [
        "embedding_size = 32\n",
        "model_rnn = Sequential()\n",
        "model_rnn.add(Embedding(vocabulary_size, embedding_size, input_length=max_words))\n",
        "model_rnn.add(SimpleRNN(100))\n",
        "model_rnn.add(Dense(1, activation='sigmoid'))\n",
        "\n",
        "print(model_rnn.summary())"
      ]
    },
    {
      "cell_type": "code",
      "execution_count": null,
      "metadata": {
        "id": "US7sBsoA1-g1"
      },
      "outputs": [],
      "source": [
        "model_rnn.compile(loss='binary_crossentropy', optimizer='adam', metrics=['accuracy'])"
      ]
    },
    {
      "cell_type": "code",
      "execution_count": null,
      "metadata": {
        "id": "VOjkTsmo1_tB",
        "colab": {
          "base_uri": "https://localhost:8080/"
        },
        "outputId": "0bfe2ef4-94d3-4180-ab47-2d6f7a4f0083"
      },
      "outputs": [
        {
          "output_type": "stream",
          "name": "stdout",
          "text": [
            "390/390 [==============================] - 108s 273ms/step - loss: 0.6862 - accuracy: 0.5402 - val_loss: 0.6606 - val_accuracy: 0.6094\n"
          ]
        },
        {
          "output_type": "execute_result",
          "data": {
            "text/plain": [
              "<keras.callbacks.History at 0x7f29e3109940>"
            ]
          },
          "metadata": {},
          "execution_count": 35
        }
      ],
      "source": [
        "batch_size = 64\n",
        "num_epochs = 1\n",
        "\n",
        "X_valid, y_valid = X_train[:batch_size], y_train[:batch_size]  # first batch_size samples\n",
        "X_train2, y_train2 = X_train[batch_size:], y_train[batch_size:]  # rest for training\n",
        "\n",
        "model_rnn.fit(X_train2, y_train2,\n",
        "          validation_data=(X_valid, y_valid),\n",
        "          batch_size=batch_size, epochs=num_epochs)"
      ]
    },
    {
      "cell_type": "code",
      "execution_count": null,
      "metadata": {
        "id": "iUnazEjo2BOD"
      },
      "outputs": [],
      "source": [
        "model_file = \"rnn_model.h5\"  # HDF5 file\n",
        "model_rnn.save(os.path.join(cache_dir, model_file))"
      ]
    },
    {
      "cell_type": "code",
      "execution_count": null,
      "metadata": {
        "id": "nfluChJ82C_E",
        "colab": {
          "base_uri": "https://localhost:8080/"
        },
        "outputId": "1f8f83e0-5952-4a61-b2ef-7c3ea2a559a0"
      },
      "outputs": [
        {
          "output_type": "stream",
          "name": "stdout",
          "text": [
            "Test accuracy: 0.5378400087356567\n"
          ]
        }
      ],
      "source": [
        "scores = model_rnn.evaluate(X_test, y_test, verbose=0)  # returns loss and other metrics specified in model.compile()\n",
        "print(\"Test accuracy:\", scores[1])  # scores[1] should correspond to accuracy if you passed in metrics=['accuracy']"
      ]
    },
    {
      "cell_type": "markdown",
      "metadata": {
        "id": "aCd568FE0n8y"
      },
      "source": [
        "Y si quitamos el Embedding?"
      ]
    },
    {
      "cell_type": "markdown",
      "metadata": {
        "id": "quunsatuTjOR"
      },
      "source": [
        "# 5. RNN + word2vec Embedding"
      ]
    },
    {
      "cell_type": "code",
      "execution_count": null,
      "metadata": {
        "id": "GbdqedRaT8SR"
      },
      "outputs": [],
      "source": [
        "import gensim\n",
        "import multiprocessing as mp\n",
        "\n",
        "from tensorflow.keras.preprocessing.text import Tokenizer\n",
        "from tensorflow.keras.preprocessing.sequence import pad_sequences\n",
        "from tensorflow.keras.models import Sequential\n",
        "from tensorflow.keras.layers import (\n",
        "    Dense,\n",
        "    Dropout,\n",
        "    Embedding,\n",
        "    LSTM,\n",
        ")\n",
        "from tensorflow.keras.callbacks import ReduceLROnPlateau, EarlyStopping\n",
        "from sklearn.preprocessing import LabelEncoder\n",
        " "
      ]
    },
    {
      "cell_type": "code",
      "execution_count": null,
      "metadata": {
        "id": "owDKazhkUGfy"
      },
      "outputs": [],
      "source": [
        "# Parámetros del WORD2VEC\n",
        "W2V_SIZE = 300 # tamaño de vectores\n",
        "W2V_WINDOW = 7 # número de palabras que va a mirar alrededor\n",
        "# 32\n",
        "W2V_EPOCH = 5 # número de epoca\n",
        "W2V_MIN_COUNT = 2 #número mínimo de frecuencia\n",
        "\n",
        "# KERAS\n",
        "SEQUENCE_LENGTH = 500 # número de secuencias de keras"
      ]
    },
    {
      "cell_type": "code",
      "execution_count": null,
      "metadata": {
        "id": "0acrxjhaTpHD"
      },
      "outputs": [],
      "source": [
        "def generate_tokenizer(train_df):\n",
        "    tokenizer = Tokenizer()\n",
        "    tokenizer.fit_on_texts(train_df)\n",
        "    vocab_size = len(tokenizer.word_index) + 1\n",
        "    print(f\"Total words: {vocab_size}\")\n",
        "    return tokenizer, vocab_size"
      ]
    },
    {
      "cell_type": "code",
      "execution_count": null,
      "metadata": {
        "id": "Xz4CmbiHUeMW"
      },
      "outputs": [],
      "source": [
        "def generate_word2vec(train_df):\n",
        "    documents = [_text.split() for _text in train_df.review]\n",
        "    w2v_model = gensim.models.word2vec.Word2Vec(\n",
        "        size=W2V_SIZE,\n",
        "        window=W2V_WINDOW,\n",
        "        min_count=W2V_MIN_COUNT,\n",
        "        workers=mp.cpu_count(),\n",
        "    )\n",
        "    w2v_model.build_vocab(documents)\n",
        "\n",
        "    words = w2v_model.wv.vocab.keys()\n",
        "    vocab_size = len(words)\n",
        "    print(f\"Vocab size: {vocab_size}\")\n",
        "    w2v_model.train(documents, total_examples=len(documents), epochs=W2V_EPOCH)\n",
        "\n",
        "    return w2v_model"
      ]
    },
    {
      "cell_type": "code",
      "execution_count": null,
      "metadata": {
        "id": "H3vey-qvU-iQ"
      },
      "outputs": [],
      "source": [
        "# Generamos la capa de embeddings\n",
        "\n",
        "def generate_embedding(word2vec_model, vocab_size, tokenizer):\n",
        "    embedding_matrix = np.zeros((vocab_size, W2V_SIZE))\n",
        "    for word, i in tokenizer.word_index.items():\n",
        "        if word in word2vec_model.wv:\n",
        "            embedding_matrix[i] = word2vec_model.wv[word]\n",
        "    return Embedding(\n",
        "        vocab_size,\n",
        "        W2V_SIZE,\n",
        "        weights=[embedding_matrix],\n",
        "        input_length=SEQUENCE_LENGTH, \n",
        "        trainable=False,\n",
        "    )\n",
        "\n",
        "   "
      ]
    },
    {
      "cell_type": "code",
      "execution_count": null,
      "metadata": {
        "id": "axtSnGplWlf9"
      },
      "outputs": [],
      "source": [
        "#cargamos los datos con imdb. Tendremos el vocabularion con los índices \n",
        "(X_train_index, y_train_index), (X_test_index, y_test_index) = imdb.load_data(num_words=vocabulary_size)"
      ]
    },
    {
      "cell_type": "code",
      "execution_count": null,
      "metadata": {
        "id": "hjy1w727V6di"
      },
      "outputs": [],
      "source": [
        "\n",
        "word2id = imdb.get_word_index()\n",
        "id2word = {i: word for word, i in word2id.items()}\n",
        "\n",
        "X_train_words = []\n",
        "for index, example in enumerate(X_train_index):\n",
        "  words = \" \".join([id2word.get(i, \" \") for i in X_train_index[index]]).strip()\n",
        "  X_train_words.append(words)"
      ]
    },
    {
      "cell_type": "code",
      "execution_count": null,
      "metadata": {
        "id": "KN9f0ayYgibY"
      },
      "outputs": [],
      "source": [
        "X_test_words = []\n",
        "for index, example in enumerate(X_test_index):\n",
        "  words = \" \".join([id2word.get(i, \" \") for i in X_test_index[index]]).strip()\n",
        "  X_test_words.append(words)"
      ]
    },
    {
      "cell_type": "code",
      "execution_count": null,
      "metadata": {
        "id": "cvuqWRhjWVtp",
        "colab": {
          "base_uri": "https://localhost:8080/",
          "height": 142
        },
        "outputId": "41dbb60c-6c31-4bae-ad6b-684e3ee26324"
      },
      "outputs": [
        {
          "output_type": "execute_result",
          "data": {
            "text/plain": [
              "\"the clear fact entertaining there life back br is and show of performance stars br actors film him many should movie reasons to and reading and are in of scenes and and of and out compared not boss yes to and show its disappointed fact raw to it justice by br of where clear fact many your way and with city nice are is along wrong not as it way she but this anything up haven't been by who of choices br of you to as this i'd it and who of shot you'll to love for and of you it is sequels of little quest are seen watched front chemistry to simply alive of chris being it is say easy and cry in chemistry but and all it maybe this is wing film job live of and relief and level names and and to be stops serial and watch is men go this of wing american from and moving is accepted put this of jerry for places so work and watch and lot br that from sometimes wondered make department introduced to wondered from action at turns in low that in gay i'm of chemistry bible i i simply alive it is time done inspector to watching look world named for more tells up many fans are that movie music her get grasp but seems in people film that if explain in why for and find of where br if and movie throughout if and of you best look red and to recently in successfully much unfortunately going dan and stuck is him sequences but of you of enough for its br that beautiful put reasons of chris chemistry wing and for of you red time and to as companion and of chris less br of subplots torture in low alive in gay some br of wing if time actual in also side any if name takes for of friendship it of 10 for had and great to as you students for movie of going and for bad well best had at woman br musical when it caused of gripping to as gem in and for and look end gene in at world aliens of you it meet but is quite br western ideas of chris little of films he an time done this were right too to of enough for of ending become family beautiful are make right being it time much bit especially craig for of you parts bond who of here parts at due given movie of once give find actor to recently in at world dolls loved and it is video him fact you to by br of where br of grown fight culture leads\""
            ],
            "application/vnd.google.colaboratory.intrinsic+json": {
              "type": "string"
            }
          },
          "metadata": {},
          "execution_count": 46
        }
      ],
      "source": [
        "X_train_words[10]"
      ]
    },
    {
      "cell_type": "code",
      "execution_count": null,
      "metadata": {
        "id": "PIyyQZrYd9RC"
      },
      "outputs": [],
      "source": [
        "\n",
        "import pandas as pd\n",
        "\n",
        "X_train_words = pd.DataFrame(X_train_words, columns=[\"review\"])\n",
        "X_test_words = pd.DataFrame(X_test_words, columns=[\"review\"])"
      ]
    },
    {
      "cell_type": "code",
      "execution_count": null,
      "metadata": {
        "id": "ncOKgcgoeJ4p",
        "colab": {
          "base_uri": "https://localhost:8080/",
          "height": 206
        },
        "outputId": "22df12b5-801f-4705-e2ee-fe106912b36c"
      },
      "outputs": [
        {
          "output_type": "execute_result",
          "data": {
            "text/plain": [
              "                                              review\n",
              "0  the as you with out themselves powerful lets l...\n",
              "1  the thought solid thought and do making to is ...\n",
              "2  the as there in at by br of sure many br of an...\n",
              "3  the of and and they halfway of identity went p...\n",
              "4  the sure themes br only acting i i was favouri..."
            ],
            "text/html": [
              "\n",
              "  <div id=\"df-035538ac-081e-49ef-bb77-c662041fcffe\">\n",
              "    <div class=\"colab-df-container\">\n",
              "      <div>\n",
              "<style scoped>\n",
              "    .dataframe tbody tr th:only-of-type {\n",
              "        vertical-align: middle;\n",
              "    }\n",
              "\n",
              "    .dataframe tbody tr th {\n",
              "        vertical-align: top;\n",
              "    }\n",
              "\n",
              "    .dataframe thead th {\n",
              "        text-align: right;\n",
              "    }\n",
              "</style>\n",
              "<table border=\"1\" class=\"dataframe\">\n",
              "  <thead>\n",
              "    <tr style=\"text-align: right;\">\n",
              "      <th></th>\n",
              "      <th>review</th>\n",
              "    </tr>\n",
              "  </thead>\n",
              "  <tbody>\n",
              "    <tr>\n",
              "      <th>0</th>\n",
              "      <td>the as you with out themselves powerful lets l...</td>\n",
              "    </tr>\n",
              "    <tr>\n",
              "      <th>1</th>\n",
              "      <td>the thought solid thought and do making to is ...</td>\n",
              "    </tr>\n",
              "    <tr>\n",
              "      <th>2</th>\n",
              "      <td>the as there in at by br of sure many br of an...</td>\n",
              "    </tr>\n",
              "    <tr>\n",
              "      <th>3</th>\n",
              "      <td>the of and and they halfway of identity went p...</td>\n",
              "    </tr>\n",
              "    <tr>\n",
              "      <th>4</th>\n",
              "      <td>the sure themes br only acting i i was favouri...</td>\n",
              "    </tr>\n",
              "  </tbody>\n",
              "</table>\n",
              "</div>\n",
              "      <button class=\"colab-df-convert\" onclick=\"convertToInteractive('df-035538ac-081e-49ef-bb77-c662041fcffe')\"\n",
              "              title=\"Convert this dataframe to an interactive table.\"\n",
              "              style=\"display:none;\">\n",
              "        \n",
              "  <svg xmlns=\"http://www.w3.org/2000/svg\" height=\"24px\"viewBox=\"0 0 24 24\"\n",
              "       width=\"24px\">\n",
              "    <path d=\"M0 0h24v24H0V0z\" fill=\"none\"/>\n",
              "    <path d=\"M18.56 5.44l.94 2.06.94-2.06 2.06-.94-2.06-.94-.94-2.06-.94 2.06-2.06.94zm-11 1L8.5 8.5l.94-2.06 2.06-.94-2.06-.94L8.5 2.5l-.94 2.06-2.06.94zm10 10l.94 2.06.94-2.06 2.06-.94-2.06-.94-.94-2.06-.94 2.06-2.06.94z\"/><path d=\"M17.41 7.96l-1.37-1.37c-.4-.4-.92-.59-1.43-.59-.52 0-1.04.2-1.43.59L10.3 9.45l-7.72 7.72c-.78.78-.78 2.05 0 2.83L4 21.41c.39.39.9.59 1.41.59.51 0 1.02-.2 1.41-.59l7.78-7.78 2.81-2.81c.8-.78.8-2.07 0-2.86zM5.41 20L4 18.59l7.72-7.72 1.47 1.35L5.41 20z\"/>\n",
              "  </svg>\n",
              "      </button>\n",
              "      \n",
              "  <style>\n",
              "    .colab-df-container {\n",
              "      display:flex;\n",
              "      flex-wrap:wrap;\n",
              "      gap: 12px;\n",
              "    }\n",
              "\n",
              "    .colab-df-convert {\n",
              "      background-color: #E8F0FE;\n",
              "      border: none;\n",
              "      border-radius: 50%;\n",
              "      cursor: pointer;\n",
              "      display: none;\n",
              "      fill: #1967D2;\n",
              "      height: 32px;\n",
              "      padding: 0 0 0 0;\n",
              "      width: 32px;\n",
              "    }\n",
              "\n",
              "    .colab-df-convert:hover {\n",
              "      background-color: #E2EBFA;\n",
              "      box-shadow: 0px 1px 2px rgba(60, 64, 67, 0.3), 0px 1px 3px 1px rgba(60, 64, 67, 0.15);\n",
              "      fill: #174EA6;\n",
              "    }\n",
              "\n",
              "    [theme=dark] .colab-df-convert {\n",
              "      background-color: #3B4455;\n",
              "      fill: #D2E3FC;\n",
              "    }\n",
              "\n",
              "    [theme=dark] .colab-df-convert:hover {\n",
              "      background-color: #434B5C;\n",
              "      box-shadow: 0px 1px 3px 1px rgba(0, 0, 0, 0.15);\n",
              "      filter: drop-shadow(0px 1px 2px rgba(0, 0, 0, 0.3));\n",
              "      fill: #FFFFFF;\n",
              "    }\n",
              "  </style>\n",
              "\n",
              "      <script>\n",
              "        const buttonEl =\n",
              "          document.querySelector('#df-035538ac-081e-49ef-bb77-c662041fcffe button.colab-df-convert');\n",
              "        buttonEl.style.display =\n",
              "          google.colab.kernel.accessAllowed ? 'block' : 'none';\n",
              "\n",
              "        async function convertToInteractive(key) {\n",
              "          const element = document.querySelector('#df-035538ac-081e-49ef-bb77-c662041fcffe');\n",
              "          const dataTable =\n",
              "            await google.colab.kernel.invokeFunction('convertToInteractive',\n",
              "                                                     [key], {});\n",
              "          if (!dataTable) return;\n",
              "\n",
              "          const docLinkHtml = 'Like what you see? Visit the ' +\n",
              "            '<a target=\"_blank\" href=https://colab.research.google.com/notebooks/data_table.ipynb>data table notebook</a>'\n",
              "            + ' to learn more about interactive tables.';\n",
              "          element.innerHTML = '';\n",
              "          dataTable['output_type'] = 'display_data';\n",
              "          await google.colab.output.renderOutput(dataTable, element);\n",
              "          const docLink = document.createElement('div');\n",
              "          docLink.innerHTML = docLinkHtml;\n",
              "          element.appendChild(docLink);\n",
              "        }\n",
              "      </script>\n",
              "    </div>\n",
              "  </div>\n",
              "  "
            ]
          },
          "metadata": {},
          "execution_count": 48
        }
      ],
      "source": [
        "X_train_words.head()"
      ]
    },
    {
      "cell_type": "code",
      "execution_count": null,
      "metadata": {
        "id": "QXOl-Jb0WW2M",
        "colab": {
          "base_uri": "https://localhost:8080/"
        },
        "outputId": "3ec610c9-499c-45c6-eff3-538a515d56ba"
      },
      "outputs": [
        {
          "output_type": "stream",
          "name": "stdout",
          "text": [
            "Total words: 4999\n"
          ]
        }
      ],
      "source": [
        "tokenizer, vocab = generate_tokenizer(X_train_words.review)"
      ]
    },
    {
      "cell_type": "code",
      "execution_count": null,
      "metadata": {
        "id": "KB-DSk8kYGkG",
        "colab": {
          "base_uri": "https://localhost:8080/"
        },
        "outputId": "3bee496e-fe08-42f4-c663-7e8c8f288614"
      },
      "outputs": [
        {
          "output_type": "stream",
          "name": "stdout",
          "text": [
            "Vocab size: 4998\n"
          ]
        }
      ],
      "source": [
        "word2vec_model = generate_word2vec(X_train_words)"
      ]
    },
    {
      "cell_type": "code",
      "source": [
        "from tensorflow.keras.utils import pad_sequences\n",
        "\n",
        "\n",
        "max_words = 500\n",
        "\n",
        "X_train_words = pad_sequences(tokenizer.texts_to_sequences(X_train_words.review), maxlen=max_words)\n",
        "X_test_words = pad_sequences(tokenizer.texts_to_sequences(X_test_words.review), maxlen=max_words)"
      ],
      "metadata": {
        "id": "zFd6At1tsXZ6"
      },
      "execution_count": null,
      "outputs": []
    },
    {
      "cell_type": "code",
      "execution_count": null,
      "metadata": {
        "id": "xyyGw__gYlbu"
      },
      "outputs": [],
      "source": [
        "import numpy as np\n",
        "embedding_layer = generate_embedding(word2vec_model, vocab, tokenizer)"
      ]
    },
    {
      "cell_type": "code",
      "execution_count": null,
      "metadata": {
        "id": "XhwslU8BYvVi"
      },
      "outputs": [],
      "source": [
        "model_custom = Sequential()\n",
        "#pasamos directamente la capa que hemos generado\n",
        "model_custom.add(embedding_layer)\n",
        "model_custom.add(LSTM(100, dropout=0.2, recurrent_dropout=0.2))\n",
        "model_custom.add(Dense(1, activation=\"sigmoid\"))"
      ]
    },
    {
      "cell_type": "code",
      "execution_count": null,
      "metadata": {
        "id": "_Dk6wg5zY8WR",
        "colab": {
          "base_uri": "https://localhost:8080/"
        },
        "outputId": "97c6c761-8fe0-44e5-d86a-53b5b48f5641"
      },
      "outputs": [
        {
          "output_type": "stream",
          "name": "stdout",
          "text": [
            "Model: \"sequential_3\"\n",
            "_________________________________________________________________\n",
            " Layer (type)                Output Shape              Param #   \n",
            "=================================================================\n",
            " embedding_3 (Embedding)     (None, 500, 300)          1499700   \n",
            "                                                                 \n",
            " lstm_1 (LSTM)               (None, 100)               160400    \n",
            "                                                                 \n",
            " dense_3 (Dense)             (None, 1)                 101       \n",
            "                                                                 \n",
            "=================================================================\n",
            "Total params: 1,660,201\n",
            "Trainable params: 160,501\n",
            "Non-trainable params: 1,499,700\n",
            "_________________________________________________________________\n"
          ]
        }
      ],
      "source": [
        "model_custom.summary()"
      ]
    },
    {
      "cell_type": "code",
      "execution_count": null,
      "metadata": {
        "id": "QWpqnw7jY_FM"
      },
      "outputs": [],
      "source": [
        "model_custom.compile(loss=\"binary_crossentropy\", optimizer=\"adam\", metrics=[\"accuracy\"])"
      ]
    },
    {
      "cell_type": "code",
      "execution_count": null,
      "metadata": {
        "id": "KnXrjJ38ZGT4",
        "colab": {
          "base_uri": "https://localhost:8080/"
        },
        "outputId": "08cab6d3-9126-49c0-e38c-5b28749bf831"
      },
      "outputs": [
        {
          "output_type": "stream",
          "name": "stdout",
          "text": [
            "390/390 [==============================] - 1333s 3s/step - loss: 0.5049 - accuracy: 0.7584 - val_loss: 0.4464 - val_accuracy: 0.7969\n"
          ]
        },
        {
          "output_type": "execute_result",
          "data": {
            "text/plain": [
              "<keras.callbacks.History at 0x7f29de900070>"
            ]
          },
          "metadata": {},
          "execution_count": 59
        }
      ],
      "source": [
        "batch_size = 64\n",
        "num_epochs = 1\n",
        "\n",
        "X_train_words_valid, y_valid = X_train_words[:batch_size], y_train[:batch_size]  # first batch_size samples\n",
        "X_train_words2, y_train2 = X_train_words[batch_size:], y_train[batch_size:]  # rest for training\n",
        "\n",
        "model_custom.fit(X_train_words2, y_train2,\n",
        "          validation_data=(X_train_words_valid, y_valid),\n",
        "          batch_size=batch_size, epochs=num_epochs)"
      ]
    }
  ],
  "metadata": {
    "colab": {
      "provenance": []
    },
    "kernelspec": {
      "display_name": "Python 3 (ipykernel)",
      "language": "python",
      "name": "python3"
    },
    "language_info": {
      "codemirror_mode": {
        "name": "ipython",
        "version": 3
      },
      "file_extension": ".py",
      "mimetype": "text/x-python",
      "name": "python",
      "nbconvert_exporter": "python",
      "pygments_lexer": "ipython3",
      "version": "3.9.13"
    },
    "accelerator": "TPU",
    "gpuClass": "standard"
  },
  "nbformat": 4,
  "nbformat_minor": 0
}