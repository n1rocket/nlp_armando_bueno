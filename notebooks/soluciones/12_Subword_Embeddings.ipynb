{
  "cells": [
    {
      "cell_type": "markdown",
      "metadata": {
        "id": "eJBuKgYggV6W"
      },
      "source": [
        "# FastText\n",
        "\n",
        "A diferencia de Word2Vec, que trabaja a nivel de palabra, FastText trata de capturar la información morfológica de las palabras.\n",
        "\n",
        ">*\"[...] we propose a new approach **based on the skipgram model, where each word is represented as a bag of character n-grams**. A vector representation is associated to each character n-gram; words being represented as the sum of these representations. [...]\"* <br>(Mikolov et al., Enriching Word Vectors with Subword Information, https://arxiv.org/pdf/1607.04606.pdf)\n",
        "\n",
        "De esta manera, una palabra quedará representada por sus n-grams.\n",
        "\n",
        "El tamaño de los n-grams deberá ser definido como hiperparámetro\n",
        "- min_n: valor mínimo de _n_ a considerar\n",
        "- max_n: valor máximo de _n_ a considerar\n",
        "\n",
        "Ejemplo:\n",
        ">*\"Me gusta el procesado del lenguaje natural\"*\n",
        ">* Ejemplo de *skip-gram* pre-procesado con una ventana de contexto de 2 palabras\n",
        ">\n",
        ">$w_{target} =$ \"procesado\" &emsp;$w_{context} =$ [\"gusta\", \"el\", \"del\", \"lenguaje\"] \n",
        ">\n",
        ">     (\"procesado\", \"gusta\")\n",
        ">\n",
        "> Descomoposición de n-grams con min_n=3 and max_n=4:\n",
        ">\n",
        ">\"procesado\" = [\"$<$pr\", \"pro\", ..., \"ado\", \"do$>$\", \"$<$pro\", \"roce\", ..., \"sado\", \"ado$>$\"]\n",
        ">\n",
        ">* De este modo, la similitud será: <br><br>\n",
        ">&emsp;$\\boxed{s(w_{target}, w_{context}) = \\sum_{g \\in G_{w_{target}}}z_{g}^T v_{w_{context}}}$, where $G_{w_{target}}\\subset\\{g_{1}, ..., g_{G}\\}$"
      ]
    },
    {
      "cell_type": "markdown",
      "metadata": {
        "id": "V0qLjFS_gV6a"
      },
      "source": [
        "## Palabras más similares"
      ]
    },
    {
      "cell_type": "code",
      "execution_count": null,
      "metadata": {
        "id": "VTzIvoQ-gV6b"
      },
      "outputs": [],
      "source": [
        "def print_sim_words(word, model1, model2):\n",
        "    query = \"Most similar to {}\".format(word) \n",
        "    print(query)\n",
        "    print(\"-\"*len(query))\n",
        "    for (sim1, sim2) in zip(model1.wv.most_similar(word), model2.wv.most_similar(word)):\n",
        "        print(\"{}:{}{:.3f}{}{}:{}{:.3f}\".format(sim1[0],\n",
        "                                               \" \"*(20-len(sim1[0])), \n",
        "                                               sim1[1], \n",
        "                                               \" \"*10, \n",
        "                                               sim2[0],\n",
        "                                               \" \"*(20-len(sim2[0])),\n",
        "                                               sim2[1]))\n",
        "    print(\"\\n\")"
      ]
    },
    {
      "cell_type": "markdown",
      "metadata": {
        "id": "4GYhLbgugV6c"
      },
      "source": [
        "## Importamos las librerías"
      ]
    },
    {
      "cell_type": "code",
      "execution_count": null,
      "metadata": {
        "id": "LD5YKchbgV6c"
      },
      "outputs": [],
      "source": [
        "from gensim.models import FastText\n",
        "from gensim.models.word2vec import LineSentence\n",
        "from gensim.models.phrases import Phrases, Phraser"
      ]
    },
    {
      "cell_type": "markdown",
      "metadata": {
        "id": "RX8m7DX1gV6c"
      },
      "source": [
        "## Lectura de datos"
      ]
    },
    {
      "cell_type": "code",
      "source": [
        "!pip install unzip\n",
        "!unzip df_clean_simpsons.csv.zip"
      ],
      "metadata": {
        "id": "j_XwCiBWEqXU",
        "colab": {
          "base_uri": "https://localhost:8080/"
        },
        "outputId": "d0d2aaf8-9082-42f7-e57b-5c3f3fe831a7"
      },
      "execution_count": null,
      "outputs": [
        {
          "output_type": "stream",
          "name": "stdout",
          "text": [
            "Looking in indexes: https://pypi.org/simple, https://us-python.pkg.dev/colab-wheels/public/simple/\n",
            "Requirement already satisfied: unzip in /usr/local/lib/python3.8/dist-packages (1.0.0)\n",
            "Archive:  df_clean_simpsons.csv.zip\n",
            "  inflating: df_clean_simpsons.csv   \n",
            "  inflating: __MACOSX/._df_clean_simpsons.csv  \n"
          ]
        }
      ]
    },
    {
      "cell_type": "code",
      "source": [
        "import pandas as pd\n",
        "df_clean = pd.read_csv('./df_clean_simpsons.csv')"
      ],
      "metadata": {
        "id": "QXn1Q5bgOKPT"
      },
      "execution_count": null,
      "outputs": []
    },
    {
      "cell_type": "code",
      "source": [
        "\n",
        "sent = [row.split() for row in df_clean['clean']]"
      ],
      "metadata": {
        "id": "d1GDH8oeOd5G"
      },
      "execution_count": null,
      "outputs": []
    },
    {
      "cell_type": "markdown",
      "metadata": {
        "id": "DzpsA8BpgV6d"
      },
      "source": [
        "## Hyperparameters"
      ]
    },
    {
      "cell_type": "code",
      "execution_count": null,
      "metadata": {
        "id": "WsUJBv_igV6d"
      },
      "outputs": [],
      "source": [
        "sg_params = {\n",
        "    'sg': 1,\n",
        "    'size': 300,\n",
        "    'min_count': 5,\n",
        "    'window': 5,\n",
        "    'hs': 0,\n",
        "    'negative': 20,\n",
        "    'workers': 4,\n",
        "    'min_n': 3,\n",
        "    'max_n': 6\n",
        "}\n",
        "\n"
      ]
    },
    {
      "cell_type": "markdown",
      "metadata": {
        "id": "UT5AbNulgV6d"
      },
      "source": [
        "## Inicializamos el objeto FastText"
      ]
    },
    {
      "cell_type": "code",
      "source": [
        "help(FastText)"
      ],
      "metadata": {
        "id": "Y_uqb5bjggc4"
      },
      "execution_count": null,
      "outputs": []
    },
    {
      "cell_type": "code",
      "execution_count": null,
      "metadata": {
        "id": "dw9JpI6AgV6e"
      },
      "outputs": [],
      "source": [
        "# Skip Gram\n",
        "ft_sg = FastText(**sg_params)\n",
        "\n"
      ]
    },
    {
      "cell_type": "markdown",
      "metadata": {
        "id": "ZVumppbugV6e"
      },
      "source": [
        "## Construímos el vocabulario"
      ]
    },
    {
      "cell_type": "code",
      "execution_count": null,
      "metadata": {
        "id": "nEahkKoUgV6e"
      },
      "outputs": [],
      "source": [
        "# Skip Gram\n",
        "ft_sg.build_vocab(sent)\n",
        "\n"
      ]
    },
    {
      "cell_type": "code",
      "source": [
        "print('Vocabulario compuesto por {} palabras'.format(len(ft_sg.wv.vocab)))"
      ],
      "metadata": {
        "id": "CfwtYvJoQgGi",
        "colab": {
          "base_uri": "https://localhost:8080/"
        },
        "outputId": "1e40249a-7c5f-4ab4-cfcc-3b901cebcf42"
      },
      "execution_count": null,
      "outputs": [
        {
          "output_type": "stream",
          "name": "stdout",
          "text": [
            "Vocabulario compuesto por 8770 palabras\n"
          ]
        }
      ]
    },
    {
      "cell_type": "markdown",
      "metadata": {
        "id": "NlXG1UfHgV6f"
      },
      "source": [
        "## Entrenamos los pesos de los embeddings"
      ]
    },
    {
      "cell_type": "code",
      "execution_count": null,
      "metadata": {
        "id": "Sz1U_c4pgV6f"
      },
      "outputs": [],
      "source": [
        "# Skip Gram\n",
        "ft_sg.train(sentences=sent, total_examples=ft_sg.corpus_count, epochs=20)"
      ]
    },
    {
      "cell_type": "markdown",
      "metadata": {
        "id": "-F62S0H2gV6f"
      },
      "source": [
        "## Guardamos los modelos"
      ]
    },
    {
      "cell_type": "code",
      "execution_count": null,
      "metadata": {
        "id": "eTt2zNitgV6f"
      },
      "outputs": [],
      "source": [
        "ft_sg.save('./w2v_model_fast.pkl')\n"
      ]
    },
    {
      "cell_type": "markdown",
      "metadata": {
        "id": "-79KWIfjgV6f"
      },
      "source": [
        "## Algunos resultados"
      ]
    },
    {
      "cell_type": "code",
      "source": [
        "ft_sg.wv.most_similar(positive=[\"homer\"])"
      ],
      "metadata": {
        "id": "878nHw2fQjPM",
        "colab": {
          "base_uri": "https://localhost:8080/"
        },
        "outputId": "a22c1495-1eb7-4f54-b8ef-ae26663f2e9f"
      },
      "execution_count": null,
      "outputs": [
        {
          "output_type": "execute_result",
          "data": {
            "text/plain": [
              "[('knockahomer', 0.6135291457176208),\n",
              " ('homey', 0.6062021255493164),\n",
              " ('homeboy', 0.5659101009368896),\n",
              " ('hom', 0.5419987440109253),\n",
              " ('hometown', 0.5186790823936462),\n",
              " ('astronomer', 0.5175546407699585),\n",
              " ('fonzie', 0.5121568441390991),\n",
              " ('homosexual', 0.4817216694355011),\n",
              " ('homie', 0.4720458984375),\n",
              " ('timer', 0.46853768825531006)]"
            ]
          },
          "metadata": {},
          "execution_count": 13
        }
      ]
    },
    {
      "cell_type": "code",
      "source": [
        "ft_sg.wv.most_similar(positive=[\"marge\"])"
      ],
      "metadata": {
        "id": "X6IPOQj_QjRY",
        "colab": {
          "base_uri": "https://localhost:8080/"
        },
        "outputId": "37f893c4-8ad0-4829-e97b-eb5eca1747bf"
      },
      "execution_count": null,
      "outputs": [
        {
          "output_type": "execute_result",
          "data": {
            "text/plain": [
              "[('sarge', 0.6486552953720093),\n",
              " ('margarita', 0.5945071578025818),\n",
              " ('margie', 0.5929368138313293),\n",
              " ('margaret', 0.5686913132667542),\n",
              " ('barge', 0.5686628818511963),\n",
              " ('marmaduke', 0.5014662742614746),\n",
              " ('marjorie', 0.48846176266670227),\n",
              " ('marble', 0.45711302757263184),\n",
              " ('marco', 0.452824205160141),\n",
              " ('marlon', 0.44601792097091675)]"
            ]
          },
          "metadata": {},
          "execution_count": 14
        }
      ]
    },
    {
      "cell_type": "code",
      "source": [
        "ft_sg.wv.most_similar(positive=[\"bart\"])"
      ],
      "metadata": {
        "id": "579VgWJHQpgG",
        "colab": {
          "base_uri": "https://localhost:8080/"
        },
        "outputId": "872642b2-8818-49c2-acee-dfc5c9db9ec8"
      },
      "execution_count": null,
      "outputs": [
        {
          "output_type": "execute_result",
          "data": {
            "text/plain": [
              "[('barto', 0.5967378616333008),\n",
              " ('bartman', 0.5079664587974548),\n",
              " ('bartron', 0.5004277229309082),\n",
              " ('bartholomew', 0.4930424690246582),\n",
              " ('barty', 0.4902939200401306),\n",
              " ('baryshnikov', 0.4792308807373047),\n",
              " ('nikki', 0.4688391089439392),\n",
              " ('dart', 0.465351939201355),\n",
              " ('art', 0.4629773795604706),\n",
              " ('impart', 0.4613049030303955)]"
            ]
          },
          "metadata": {},
          "execution_count": 15
        }
      ]
    },
    {
      "cell_type": "code",
      "source": [
        "ft_sg.wv.similarity('maggie', 'baby')"
      ],
      "metadata": {
        "id": "ATqRO5LoQsLz",
        "colab": {
          "base_uri": "https://localhost:8080/"
        },
        "outputId": "f1a09254-d16f-4bd3-f1fa-ab39e0d63ead"
      },
      "execution_count": null,
      "outputs": [
        {
          "output_type": "execute_result",
          "data": {
            "text/plain": [
              "0.32618228"
            ]
          },
          "metadata": {},
          "execution_count": 16
        }
      ]
    },
    {
      "cell_type": "code",
      "source": [
        "ft_sg.wv.similarity('bart', 'nelson')"
      ],
      "metadata": {
        "id": "qXCHTWzKQvUd",
        "colab": {
          "base_uri": "https://localhost:8080/"
        },
        "outputId": "9006312c-f814-4d12-a8b9-bf462de90b92"
      },
      "execution_count": null,
      "outputs": [
        {
          "output_type": "execute_result",
          "data": {
            "text/plain": [
              "0.29418728"
            ]
          },
          "metadata": {},
          "execution_count": 17
        }
      ]
    },
    {
      "cell_type": "code",
      "source": [
        "ft_sg.wv.doesnt_match(['jimbo', 'milhouse', 'kearney'])"
      ],
      "metadata": {
        "id": "os5efiscQxk5",
        "colab": {
          "base_uri": "https://localhost:8080/",
          "height": 91
        },
        "outputId": "a739cdba-58f8-4241-e50a-e8bdfd490ee5"
      },
      "execution_count": null,
      "outputs": [
        {
          "output_type": "stream",
          "name": "stderr",
          "text": [
            "/usr/local/lib/python3.8/dist-packages/gensim/models/keyedvectors.py:895: FutureWarning: arrays to stack must be passed as a \"sequence\" type such as list or tuple. Support for non-sequence iterables such as generators is deprecated as of NumPy 1.16 and will raise an error in the future.\n",
            "  vectors = vstack(self.word_vec(word, use_norm=True) for word in used_words).astype(REAL)\n"
          ]
        },
        {
          "output_type": "execute_result",
          "data": {
            "text/plain": [
              "'milhouse'"
            ],
            "application/vnd.google.colaboratory.intrinsic+json": {
              "type": "string"
            }
          },
          "metadata": {},
          "execution_count": 18
        }
      ]
    },
    {
      "cell_type": "code",
      "source": [
        "ft_sg.wv.doesnt_match(['homer', 'patty', 'selma'])"
      ],
      "metadata": {
        "id": "vu_WWM9mQ0TO",
        "colab": {
          "base_uri": "https://localhost:8080/",
          "height": 35
        },
        "outputId": "acc2a14e-c1f9-45b2-ef4c-553b9d168b84"
      },
      "execution_count": null,
      "outputs": [
        {
          "output_type": "execute_result",
          "data": {
            "text/plain": [
              "'homer'"
            ],
            "application/vnd.google.colaboratory.intrinsic+json": {
              "type": "string"
            }
          },
          "metadata": {},
          "execution_count": 19
        }
      ]
    },
    {
      "cell_type": "markdown",
      "metadata": {
        "id": "uivGUy4AgV6g"
      },
      "source": [
        "## Out-of-Vocabulary (OOV) Words "
      ]
    },
    {
      "cell_type": "markdown",
      "metadata": {
        "id": "enFbsjjNgV6g"
      },
      "source": [
        "la cantidad de n-grams creados durante el entrenamiento del FastText hace improbable (que no imposible) que alguna palabra no pueda ser construída como una bolsa de n-grams"
      ]
    },
    {
      "cell_type": "code",
      "source": [
        "'asereje' in ft_sg.wv.vocab"
      ],
      "metadata": {
        "id": "X4rs_XO7Q2wX",
        "colab": {
          "base_uri": "https://localhost:8080/"
        },
        "outputId": "a2aff7f5-155d-4860-ecdd-8193b2f40b96"
      },
      "execution_count": null,
      "outputs": [
        {
          "output_type": "execute_result",
          "data": {
            "text/plain": [
              "False"
            ]
          },
          "metadata": {},
          "execution_count": 20
        }
      ]
    },
    {
      "cell_type": "code",
      "source": [
        "ft_sg.wv.most_similar('asereje')"
      ],
      "metadata": {
        "id": "YzL_dhM-Q5j8",
        "colab": {
          "base_uri": "https://localhost:8080/"
        },
        "outputId": "46e10a77-20b5-4993-ead7-f37c20f872f6"
      },
      "execution_count": null,
      "outputs": [
        {
          "output_type": "execute_result",
          "data": {
            "text/plain": [
              "[('reject', 0.6776005029678345),\n",
              " ('serenity', 0.5853143930435181),\n",
              " ('ohmygod', 0.5259625911712646),\n",
              " ('fulfill', 0.5136178135871887),\n",
              " ('sera', 0.5104902386665344),\n",
              " ('unnecessary', 0.5089079141616821),\n",
              " ('eraser', 0.5040486454963684),\n",
              " ('taser', 0.4980926513671875),\n",
              " ('guarantee', 0.4953840374946594),\n",
              " ('vengeful', 0.48939526081085205)]"
            ]
          },
          "metadata": {},
          "execution_count": 21
        }
      ]
    },
    {
      "cell_type": "code",
      "source": [
        "ft_sg.wv['asereje'].shape"
      ],
      "metadata": {
        "id": "wA7HOBBCQ8Ux",
        "colab": {
          "base_uri": "https://localhost:8080/"
        },
        "outputId": "ae01f34f-3df6-4346-f982-8e05fc3b0766"
      },
      "execution_count": null,
      "outputs": [
        {
          "output_type": "execute_result",
          "data": {
            "text/plain": [
              "(300,)"
            ]
          },
          "metadata": {},
          "execution_count": 22
        }
      ]
    }
  ],
  "metadata": {
    "kernelspec": {
      "display_name": "Python 3 (ipykernel)",
      "language": "python",
      "name": "python3"
    },
    "language_info": {
      "codemirror_mode": {
        "name": "ipython",
        "version": 3
      },
      "file_extension": ".py",
      "mimetype": "text/x-python",
      "name": "python",
      "nbconvert_exporter": "python",
      "pygments_lexer": "ipython3",
      "version": "3.9.13"
    },
    "colab": {
      "provenance": []
    },
    "accelerator": "GPU",
    "gpuClass": "standard"
  },
  "nbformat": 4,
  "nbformat_minor": 0
}