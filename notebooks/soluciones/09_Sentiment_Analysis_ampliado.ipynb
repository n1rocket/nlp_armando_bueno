{
  "cells": [
    {
      "cell_type": "markdown",
      "metadata": {
        "id": "2Fv_sftqpG1k"
      },
      "source": [
        "# Librerías necesarias"
      ]
    },
    {
      "cell_type": "code",
      "source": [
        "!pip install -r requirements.txt\n",
        "!pip install utils.py"
      ],
      "metadata": {
        "id": "bX5Hl5LHbErZ"
      },
      "execution_count": null,
      "outputs": []
    },
    {
      "cell_type": "code",
      "source": [
        "!pip install unzip\n",
        "!unzip corpusCine.zip"
      ],
      "metadata": {
        "id": "rkKjCocDbHi-"
      },
      "execution_count": null,
      "outputs": []
    },
    {
      "cell_type": "code",
      "execution_count": 3,
      "metadata": {
        "id": "5HntXJS6pG1n"
      },
      "outputs": [],
      "source": [
        "\n",
        "from utils import load_cinema_reviews\n",
        "\n",
        "import random\n",
        "import numpy as np\n",
        "import pandas as pd\n",
        "from collections import Counter # Exploración\n",
        "from nltk import ngrams # Exploración\n",
        "from nltk.probability import FreqDist # Exploración\n",
        "from stop_words import get_stop_words # Preprocesado\n",
        "import unicodedata # Preprocesado\n",
        "import re # Preprocesado\n",
        "\n",
        "\n",
        "from sklearn.model_selection import train_test_split # Modelado\n",
        "from sklearn.pipeline import Pipeline # Modelado\n",
        "from sklearn.feature_extraction.text import CountVectorizer, TfidfVectorizer # Modelado\n",
        "from sklearn.feature_selection import chi2 # Reporte\n",
        "from sklearn.linear_model import LogisticRegression # Reporte\n",
        "from sklearn.metrics import accuracy_score, confusion_matrix, classification_report, roc_curve, precision_recall_curve # Reporte\n",
        "\n",
        "import matplotlib.pyplot as plt"
      ]
    },
    {
      "cell_type": "markdown",
      "metadata": {
        "id": "KY4D8YYapG1o"
      },
      "source": [
        "# Carga de datos"
      ]
    },
    {
      "cell_type": "code",
      "execution_count": 4,
      "metadata": {
        "id": "z1M1lJ7EpG1p"
      },
      "outputs": [],
      "source": [
        "# Path al directorio donde tenemos los datasets con las reviews\n",
        "# ¡Descomprimir antes!\n",
        "datasets_path = './'\n",
        "corpus_cine_folder = 'corpusCine'"
      ]
    },
    {
      "cell_type": "code",
      "execution_count": 5,
      "metadata": {
        "id": "FtkshSOdpG1p"
      },
      "outputs": [],
      "source": [
        "reviews_dict = load_cinema_reviews(datasets_path, corpus_cine_folder)"
      ]
    },
    {
      "cell_type": "code",
      "execution_count": 6,
      "metadata": {
        "colab": {
          "base_uri": "https://localhost:8080/"
        },
        "id": "wn9gxrDiMBdj",
        "outputId": "bf5cb49a-620c-4b7e-8c6f-f9e12ade0577"
      },
      "outputs": [
        {
          "output_type": "execute_result",
          "data": {
            "text/plain": [
              "{'author': 'Javier Moreno',\n",
              " 'title': 'Harry poter y el caliz de fuego',\n",
              " 'sentiment': '4',\n",
              " 'summary': 'Interesante adaptación de la novela de Rowling',\n",
              " 'review_text': 'No. Esta vez no voy a usar una película como pretexto para exponer mis ideas o pensamientos mas dementes/racionales/insensatos. Esta vez, y lo juro ante el sagrado Necronomicón de Lovecraft, pienso hablar de la película en si (por primera vez y esperando que no sirva de precedente), aunque creo que es evidente que prefiero que una película me haga reflexionar sobre cualquier aspecto que en ella se de cita. Quizas algún dia hable sobre todo lo que significa la saga de novelas de Rowling (anda que no tengo cosas de las que hablar) desde una perspectiva menos mitológica y mas profunda.Parto de la base de que soy un autentico fan de los libros, los adoro, me parecen de lo mejorcito que ha salido en fantasia, con un personaje principal realmente interesante y atormentado a todos los niveles por todo lo que su no-existencia está implicando. Parto de la base, que cuando se adapta un libro a la gran pantalla, lo que menos me interesa es su posible fidelidad o no (aunque seria un autentico hipócrita si negara que me importa un bledo). Parto de la base, que lo que mas me gusta ver en una adaptación, es ver plasmado en imagenes lo que los libros me sugirieron con palabras.Tras estas premisas, indico como preludio, que las adaptaciones de Columbus me parecieron bastante interesantes, acordes con lo que los libros narran y reflejando en imagenes todo lo que disfruté en cada uno de los dos volumenes llevados a la gran pantalla por el director de solo en casa. Tambien me gustaria indicar, que la tercera pelicula, dirigida por Alfonso Cuaron, si bien a nivel tecnico me parecio bastante sorprendente (a excepción de ese anorexico hombre lobo), no me acabó de convencer, es mas, me defraudó muchisimo, porque no vi el espiritu de la novela reflejado en la pantalla. Rowling puede decir que la pelicula le encanta y mil cosas mas, pero si a mi me ponen un cheque de 10 millones de dolares sobre la mesa, digo si hace falta que dios existe por mucho que traicione todo lo que la novela implicaba.Con estas breves reseñas, y como indicaba, tras el fiasco sufrido con Harry Potter y el prisionero de Azkaban, he acudido al cine, sin ninguna información (no queria sentirme influido a ningún nivel, ni predispuesto a sentirme decepcionado, ni predispuesto a sentirme satisfecho) a ver la cuarta película del mago huerfano. ¿Que me he encontrado en la película?, pues no mucho, lo que mas me a sorprendido es que un libro de 650 paginas, aun habiendo obviado ciertos pasajes, haya sido mas que correctamente sintetizado en 150 minutos de pelicula, me he encontrado con un director, Mike Newell (realizador entre otras de Cuatro bodas y un funeral, y a priori el menos indicado para una película como esta), que a sabido trasladar la idea global que inspiraba la novela a los 35mm. Sorprendente sin lugar a dudas. Me he encontrado tambien con unos individuos que representaban en las anteriores peliculas a los personajes de las novelas actuando minimamente, aunque Daniel Radcliffe tenga menos talento que la araña a la cual Ojoloco Moody le lanza las maldiciones imperdonables. Mucho efecto visual -inevitable-, absolutamente apabullantes y en ocasiones excelentes (con especial mención para el colacuerno hungaro), buen ritmo narrativo, y algunas escenas que precisaban de mas metraje (especialmente el ataque de los mortifagos, que con lo genial que queda su entrada en escena, uno desea mucho mas). En USA el filme a sido calificado PG-13, en España PG-7. Bueno, es cierto que es muy oscura (algo por otra parte heredero del espiritu de la novela -y me estoy repitiendo con el jodido espiritu-), tiene momentos \"terrorificos\" como la citada aparición de los mortifagos en los mundiales de quidditch y tiene momentos divertidos. Eso es la película, los fans mas radicales de Harry Potter la amarán, los fans mas puristas la repudiaran, entre los menos radicales habrá gente a la que le guste y otra a la que le deje indiferente, y a los que no se han leido las novelas pues les parecera entretenida. Yo, que siendo seguidor de los libros, prefiero situarme en un termino medio, ni tan increible como estoy leyendo por ahi, ni tan mala como se podría esperar viniendo del director que viene. Una película interesante que a mi modo de ver mejora muchisimo el fiasco de Cuarón.De todas formas, dentro de 20 años, veremos si la saga cinematográfica del mago londinense sigue siendo recordada o se quedará en el olvido mas absoluto. Será digno de verlo, si se me permite una reflexión rapida.. soy de los que piensan que los filmes no aguantarán el paso del tiempo como si lo harán las novelas.Y por ultimo, recomendaciones para los productores, para la orden del fenix olvidaros de David Yates y contratad a Guillermo del Toro, para the half blood prince yo apostaria por un Shane Carruth (director de Primer) y para el septimo libro, aun sin haberlo leido, Darren Aronofsky, del cual una vez mas reivindico el urgente estreno de The fountain, que servidor, desde que vio Requiem por un sueño, ansia ver la tercera obra maestra de este director tan destroyer.PD: En caso de no ser Aronofsky, un Takashi Miike seria tremendo.'}"
            ]
          },
          "metadata": {},
          "execution_count": 6
        }
      ],
      "source": [
        "reviews_dict.get(10)"
      ]
    },
    {
      "cell_type": "code",
      "execution_count": 7,
      "metadata": {
        "id": "Oan26tm0pG1q"
      },
      "outputs": [],
      "source": [
        "reviews_text = []\n",
        "reviews_sentiment = []\n",
        "\n",
        "for review in reviews_dict.values():\n",
        "    reviews_text.append(review.get('review_text'))\n",
        "    reviews_sentiment.append(review.get('sentiment'))\n",
        "\n",
        "df = pd.DataFrame({\n",
        "    'review': reviews_text,\n",
        "    'sentiment': reviews_sentiment\n",
        "})\n",
        "df.dropna(subset=['review', 'sentiment'], inplace=True)\n",
        "df.reset_index(drop=True, inplace=True)"
      ]
    },
    {
      "cell_type": "markdown",
      "metadata": {
        "id": "eJfgGNo_9OXY"
      },
      "source": [
        "# Análisis Exploratorio"
      ]
    },
    {
      "cell_type": "code",
      "execution_count": null,
      "metadata": {
        "colab": {
          "base_uri": "https://localhost:8080/",
          "height": 206
        },
        "id": "ElfN0QCX9fcE",
        "outputId": "450bc59d-9cb6-41f5-c9e3-4ee15e1d8723"
      },
      "outputs": [
        {
          "data": {
            "text/html": [
              "\n",
              "  <div id=\"df-0ad1d75e-8aef-4bd6-b775-e3519fb20e09\">\n",
              "    <div class=\"colab-df-container\">\n",
              "      <div>\n",
              "<style scoped>\n",
              "    .dataframe tbody tr th:only-of-type {\n",
              "        vertical-align: middle;\n",
              "    }\n",
              "\n",
              "    .dataframe tbody tr th {\n",
              "        vertical-align: top;\n",
              "    }\n",
              "\n",
              "    .dataframe thead th {\n",
              "        text-align: right;\n",
              "    }\n",
              "</style>\n",
              "<table border=\"1\" class=\"dataframe\">\n",
              "  <thead>\n",
              "    <tr style=\"text-align: right;\">\n",
              "      <th></th>\n",
              "      <th>review</th>\n",
              "      <th>sentiment</th>\n",
              "    </tr>\n",
              "  </thead>\n",
              "  <tbody>\n",
              "    <tr>\n",
              "      <th>0</th>\n",
              "      <td>Cada vez me gusta menos el cine de masas. Las ...</td>\n",
              "      <td>1</td>\n",
              "    </tr>\n",
              "    <tr>\n",
              "      <th>1</th>\n",
              "      <td>El otro dia fui a ver \"la de los sioux\" como d...</td>\n",
              "      <td>3</td>\n",
              "    </tr>\n",
              "    <tr>\n",
              "      <th>2</th>\n",
              "      <td>Es que no la cagan en ninguna, todas las pelis...</td>\n",
              "      <td>5</td>\n",
              "    </tr>\n",
              "    <tr>\n",
              "      <th>3</th>\n",
              "      <td>Es un dolor esto del cine. Yo ya voy con miedo...</td>\n",
              "      <td>2</td>\n",
              "    </tr>\n",
              "    <tr>\n",
              "      <th>4</th>\n",
              "      <td>Tras una insufrible primera media hora, la cas...</td>\n",
              "      <td>2</td>\n",
              "    </tr>\n",
              "  </tbody>\n",
              "</table>\n",
              "</div>\n",
              "      <button class=\"colab-df-convert\" onclick=\"convertToInteractive('df-0ad1d75e-8aef-4bd6-b775-e3519fb20e09')\"\n",
              "              title=\"Convert this dataframe to an interactive table.\"\n",
              "              style=\"display:none;\">\n",
              "        \n",
              "  <svg xmlns=\"http://www.w3.org/2000/svg\" height=\"24px\"viewBox=\"0 0 24 24\"\n",
              "       width=\"24px\">\n",
              "    <path d=\"M0 0h24v24H0V0z\" fill=\"none\"/>\n",
              "    <path d=\"M18.56 5.44l.94 2.06.94-2.06 2.06-.94-2.06-.94-.94-2.06-.94 2.06-2.06.94zm-11 1L8.5 8.5l.94-2.06 2.06-.94-2.06-.94L8.5 2.5l-.94 2.06-2.06.94zm10 10l.94 2.06.94-2.06 2.06-.94-2.06-.94-.94-2.06-.94 2.06-2.06.94z\"/><path d=\"M17.41 7.96l-1.37-1.37c-.4-.4-.92-.59-1.43-.59-.52 0-1.04.2-1.43.59L10.3 9.45l-7.72 7.72c-.78.78-.78 2.05 0 2.83L4 21.41c.39.39.9.59 1.41.59.51 0 1.02-.2 1.41-.59l7.78-7.78 2.81-2.81c.8-.78.8-2.07 0-2.86zM5.41 20L4 18.59l7.72-7.72 1.47 1.35L5.41 20z\"/>\n",
              "  </svg>\n",
              "      </button>\n",
              "      \n",
              "  <style>\n",
              "    .colab-df-container {\n",
              "      display:flex;\n",
              "      flex-wrap:wrap;\n",
              "      gap: 12px;\n",
              "    }\n",
              "\n",
              "    .colab-df-convert {\n",
              "      background-color: #E8F0FE;\n",
              "      border: none;\n",
              "      border-radius: 50%;\n",
              "      cursor: pointer;\n",
              "      display: none;\n",
              "      fill: #1967D2;\n",
              "      height: 32px;\n",
              "      padding: 0 0 0 0;\n",
              "      width: 32px;\n",
              "    }\n",
              "\n",
              "    .colab-df-convert:hover {\n",
              "      background-color: #E2EBFA;\n",
              "      box-shadow: 0px 1px 2px rgba(60, 64, 67, 0.3), 0px 1px 3px 1px rgba(60, 64, 67, 0.15);\n",
              "      fill: #174EA6;\n",
              "    }\n",
              "\n",
              "    [theme=dark] .colab-df-convert {\n",
              "      background-color: #3B4455;\n",
              "      fill: #D2E3FC;\n",
              "    }\n",
              "\n",
              "    [theme=dark] .colab-df-convert:hover {\n",
              "      background-color: #434B5C;\n",
              "      box-shadow: 0px 1px 3px 1px rgba(0, 0, 0, 0.15);\n",
              "      filter: drop-shadow(0px 1px 2px rgba(0, 0, 0, 0.3));\n",
              "      fill: #FFFFFF;\n",
              "    }\n",
              "  </style>\n",
              "\n",
              "      <script>\n",
              "        const buttonEl =\n",
              "          document.querySelector('#df-0ad1d75e-8aef-4bd6-b775-e3519fb20e09 button.colab-df-convert');\n",
              "        buttonEl.style.display =\n",
              "          google.colab.kernel.accessAllowed ? 'block' : 'none';\n",
              "\n",
              "        async function convertToInteractive(key) {\n",
              "          const element = document.querySelector('#df-0ad1d75e-8aef-4bd6-b775-e3519fb20e09');\n",
              "          const dataTable =\n",
              "            await google.colab.kernel.invokeFunction('convertToInteractive',\n",
              "                                                     [key], {});\n",
              "          if (!dataTable) return;\n",
              "\n",
              "          const docLinkHtml = 'Like what you see? Visit the ' +\n",
              "            '<a target=\"_blank\" href=https://colab.research.google.com/notebooks/data_table.ipynb>data table notebook</a>'\n",
              "            + ' to learn more about interactive tables.';\n",
              "          element.innerHTML = '';\n",
              "          dataTable['output_type'] = 'display_data';\n",
              "          await google.colab.output.renderOutput(dataTable, element);\n",
              "          const docLink = document.createElement('div');\n",
              "          docLink.innerHTML = docLinkHtml;\n",
              "          element.appendChild(docLink);\n",
              "        }\n",
              "      </script>\n",
              "    </div>\n",
              "  </div>\n",
              "  "
            ],
            "text/plain": [
              "                                              review sentiment\n",
              "0  Cada vez me gusta menos el cine de masas. Las ...         1\n",
              "1  El otro dia fui a ver \"la de los sioux\" como d...         3\n",
              "2  Es que no la cagan en ninguna, todas las pelis...         5\n",
              "3  Es un dolor esto del cine. Yo ya voy con miedo...         2\n",
              "4  Tras una insufrible primera media hora, la cas...         2"
            ]
          },
          "execution_count": 9,
          "metadata": {},
          "output_type": "execute_result"
        }
      ],
      "source": [
        "df.head()"
      ]
    },
    {
      "cell_type": "code",
      "execution_count": 8,
      "metadata": {
        "id": "ukjEmVUM9sLA"
      },
      "outputs": [],
      "source": [
        "splitted_reviews = df['review'].str.lower().str.split()"
      ]
    },
    {
      "cell_type": "markdown",
      "metadata": {
        "id": "nq3bEBfT9o9-"
      },
      "source": [
        "De cara a una aproximación rápida, únicamente convertimos a minúsculas y tokenizamos por espacios."
      ]
    },
    {
      "cell_type": "code",
      "execution_count": 9,
      "metadata": {
        "id": "qu8L9hp49fef"
      },
      "outputs": [],
      "source": [
        "words = splitted_reviews.apply(pd.Series).stack().reset_index(drop = True)"
      ]
    },
    {
      "cell_type": "code",
      "execution_count": 10,
      "metadata": {
        "id": "UNq_i8n99yQL"
      },
      "outputs": [],
      "source": [
        "vocabulary_ = Counter(words)"
      ]
    },
    {
      "cell_type": "markdown",
      "metadata": {
        "id": "8cnJLLdB-CBz"
      },
      "source": [
        "Número de tokens que componen el vocabulario "
      ]
    },
    {
      "cell_type": "code",
      "execution_count": null,
      "metadata": {
        "colab": {
          "base_uri": "https://localhost:8080/"
        },
        "id": "VVu6jWlx9yTK",
        "outputId": "5024d43d-e260-4cc3-e91c-0ed4af9af4d8"
      },
      "outputs": [
        {
          "data": {
            "text/plain": [
              "139838"
            ]
          },
          "execution_count": 13,
          "metadata": {},
          "output_type": "execute_result"
        }
      ],
      "source": [
        "len(vocabulary_)"
      ]
    },
    {
      "cell_type": "markdown",
      "metadata": {
        "id": "6AjknJwysF8_"
      },
      "source": [
        "### Distribución de reviews por sentimiento"
      ]
    },
    {
      "cell_type": "markdown",
      "metadata": {
        "id": "4MI_sipC-fFF"
      },
      "source": [
        "Podemos que la mayor parte de reviews se corresponde con aquellas con sentimiento 2,3 y 4"
      ]
    },
    {
      "cell_type": "code",
      "execution_count": null,
      "metadata": {
        "colab": {
          "base_uri": "https://localhost:8080/",
          "height": 278
        },
        "id": "A3rddWfPMF6X",
        "outputId": "24bc178f-4754-4dc8-cd4c-f2cd0d6dfe7d"
      },
      "outputs": [
        {
          "data": {
            "image/png": "[encoded data removed]",
            "text/plain": [
              "<Figure size 576x288 with 1 Axes>"
            ]
          },
          "metadata": {},
          "output_type": "display_data"
        }
      ],
      "source": [
        "aux_df = pd.DataFrame(df['sentiment'].value_counts(sort=False).sort_index())\n",
        "aux_df = aux_df.plot(kind='bar', title='Overall sentiment distribution (review)', figsize=(8, 4))"
      ]
    },
    {
      "cell_type": "code",
      "execution_count": 29,
      "metadata": {
        "id": "_1B-zu9IpG1r"
      },
      "outputs": [],
      "source": [
        "def label_sentiment(row):\n",
        "    if int(row['sentiment']) < 3:\n",
        "        return 1\n",
        "    else:\n",
        "        return 0"
      ]
    },
    {
      "cell_type": "code",
      "execution_count": 30,
      "metadata": {
        "id": "WdOCPhZbpG1r",
        "scrolled": true
      },
      "outputs": [],
      "source": [
        "df['sentiment_label'] = df.apply(lambda row: label_sentiment(row), axis=1)"
      ]
    },
    {
      "cell_type": "code",
      "execution_count": null,
      "metadata": {
        "colab": {
          "base_uri": "https://localhost:8080/",
          "height": 206
        },
        "id": "KUNyLYL4tO5i",
        "outputId": "fa57e52a-0ca1-418e-f5b1-a4f458e4cf52"
      },
      "outputs": [
        {
          "data": {
            "text/html": [
              "\n",
              "  <div id=\"df-4758d9ad-d2dd-444d-a4cf-0340f294cd86\">\n",
              "    <div class=\"colab-df-container\">\n",
              "      <div>\n",
              "<style scoped>\n",
              "    .dataframe tbody tr th:only-of-type {\n",
              "        vertical-align: middle;\n",
              "    }\n",
              "\n",
              "    .dataframe tbody tr th {\n",
              "        vertical-align: top;\n",
              "    }\n",
              "\n",
              "    .dataframe thead th {\n",
              "        text-align: right;\n",
              "    }\n",
              "</style>\n",
              "<table border=\"1\" class=\"dataframe\">\n",
              "  <thead>\n",
              "    <tr style=\"text-align: right;\">\n",
              "      <th></th>\n",
              "      <th>review</th>\n",
              "      <th>sentiment</th>\n",
              "      <th>sentiment_label</th>\n",
              "    </tr>\n",
              "  </thead>\n",
              "  <tbody>\n",
              "    <tr>\n",
              "      <th>0</th>\n",
              "      <td>Cada vez me gusta menos el cine de masas. Las ...</td>\n",
              "      <td>1</td>\n",
              "      <td>1</td>\n",
              "    </tr>\n",
              "    <tr>\n",
              "      <th>1</th>\n",
              "      <td>El otro dia fui a ver \"la de los sioux\" como d...</td>\n",
              "      <td>3</td>\n",
              "      <td>0</td>\n",
              "    </tr>\n",
              "    <tr>\n",
              "      <th>2</th>\n",
              "      <td>Es que no la cagan en ninguna, todas las pelis...</td>\n",
              "      <td>5</td>\n",
              "      <td>0</td>\n",
              "    </tr>\n",
              "    <tr>\n",
              "      <th>3</th>\n",
              "      <td>Es un dolor esto del cine. Yo ya voy con miedo...</td>\n",
              "      <td>2</td>\n",
              "      <td>1</td>\n",
              "    </tr>\n",
              "    <tr>\n",
              "      <th>4</th>\n",
              "      <td>Tras una insufrible primera media hora, la cas...</td>\n",
              "      <td>2</td>\n",
              "      <td>1</td>\n",
              "    </tr>\n",
              "  </tbody>\n",
              "</table>\n",
              "</div>\n",
              "      <button class=\"colab-df-convert\" onclick=\"convertToInteractive('df-4758d9ad-d2dd-444d-a4cf-0340f294cd86')\"\n",
              "              title=\"Convert this dataframe to an interactive table.\"\n",
              "              style=\"display:none;\">\n",
              "        \n",
              "  <svg xmlns=\"http://www.w3.org/2000/svg\" height=\"24px\"viewBox=\"0 0 24 24\"\n",
              "       width=\"24px\">\n",
              "    <path d=\"M0 0h24v24H0V0z\" fill=\"none\"/>\n",
              "    <path d=\"M18.56 5.44l.94 2.06.94-2.06 2.06-.94-2.06-.94-.94-2.06-.94 2.06-2.06.94zm-11 1L8.5 8.5l.94-2.06 2.06-.94-2.06-.94L8.5 2.5l-.94 2.06-2.06.94zm10 10l.94 2.06.94-2.06 2.06-.94-2.06-.94-.94-2.06-.94 2.06-2.06.94z\"/><path d=\"M17.41 7.96l-1.37-1.37c-.4-.4-.92-.59-1.43-.59-.52 0-1.04.2-1.43.59L10.3 9.45l-7.72 7.72c-.78.78-.78 2.05 0 2.83L4 21.41c.39.39.9.59 1.41.59.51 0 1.02-.2 1.41-.59l7.78-7.78 2.81-2.81c.8-.78.8-2.07 0-2.86zM5.41 20L4 18.59l7.72-7.72 1.47 1.35L5.41 20z\"/>\n",
              "  </svg>\n",
              "      </button>\n",
              "      \n",
              "  <style>\n",
              "    .colab-df-container {\n",
              "      display:flex;\n",
              "      flex-wrap:wrap;\n",
              "      gap: 12px;\n",
              "    }\n",
              "\n",
              "    .colab-df-convert {\n",
              "      background-color: #E8F0FE;\n",
              "      border: none;\n",
              "      border-radius: 50%;\n",
              "      cursor: pointer;\n",
              "      display: none;\n",
              "      fill: #1967D2;\n",
              "      height: 32px;\n",
              "      padding: 0 0 0 0;\n",
              "      width: 32px;\n",
              "    }\n",
              "\n",
              "    .colab-df-convert:hover {\n",
              "      background-color: #E2EBFA;\n",
              "      box-shadow: 0px 1px 2px rgba(60, 64, 67, 0.3), 0px 1px 3px 1px rgba(60, 64, 67, 0.15);\n",
              "      fill: #174EA6;\n",
              "    }\n",
              "\n",
              "    [theme=dark] .colab-df-convert {\n",
              "      background-color: #3B4455;\n",
              "      fill: #D2E3FC;\n",
              "    }\n",
              "\n",
              "    [theme=dark] .colab-df-convert:hover {\n",
              "      background-color: #434B5C;\n",
              "      box-shadow: 0px 1px 3px 1px rgba(0, 0, 0, 0.15);\n",
              "      filter: drop-shadow(0px 1px 2px rgba(0, 0, 0, 0.3));\n",
              "      fill: #FFFFFF;\n",
              "    }\n",
              "  </style>\n",
              "\n",
              "      <script>\n",
              "        const buttonEl =\n",
              "          document.querySelector('#df-4758d9ad-d2dd-444d-a4cf-0340f294cd86 button.colab-df-convert');\n",
              "        buttonEl.style.display =\n",
              "          google.colab.kernel.accessAllowed ? 'block' : 'none';\n",
              "\n",
              "        async function convertToInteractive(key) {\n",
              "          const element = document.querySelector('#df-4758d9ad-d2dd-444d-a4cf-0340f294cd86');\n",
              "          const dataTable =\n",
              "            await google.colab.kernel.invokeFunction('convertToInteractive',\n",
              "                                                     [key], {});\n",
              "          if (!dataTable) return;\n",
              "\n",
              "          const docLinkHtml = 'Like what you see? Visit the ' +\n",
              "            '<a target=\"_blank\" href=https://colab.research.google.com/notebooks/data_table.ipynb>data table notebook</a>'\n",
              "            + ' to learn more about interactive tables.';\n",
              "          element.innerHTML = '';\n",
              "          dataTable['output_type'] = 'display_data';\n",
              "          await google.colab.output.renderOutput(dataTable, element);\n",
              "          const docLink = document.createElement('div');\n",
              "          docLink.innerHTML = docLinkHtml;\n",
              "          element.appendChild(docLink);\n",
              "        }\n",
              "      </script>\n",
              "    </div>\n",
              "  </div>\n",
              "  "
            ],
            "text/plain": [
              "                                              review sentiment  \\\n",
              "0  Cada vez me gusta menos el cine de masas. Las ...         1   \n",
              "1  El otro dia fui a ver \"la de los sioux\" como d...         3   \n",
              "2  Es que no la cagan en ninguna, todas las pelis...         5   \n",
              "3  Es un dolor esto del cine. Yo ya voy con miedo...         2   \n",
              "4  Tras una insufrible primera media hora, la cas...         2   \n",
              "\n",
              "   sentiment_label  \n",
              "0                1  \n",
              "1                0  \n",
              "2                0  \n",
              "3                1  \n",
              "4                1  "
            ]
          },
          "execution_count": 17,
          "metadata": {},
          "output_type": "execute_result"
        }
      ],
      "source": [
        "df.head()"
      ]
    },
    {
      "cell_type": "markdown",
      "metadata": {
        "id": "jHT-DccL-6AN"
      },
      "source": [
        "Al no haber podido seleccionar de manera estratificada las reviews deberíamos tener 2500 reviews negativas y 1500 positivas ."
      ]
    },
    {
      "cell_type": "code",
      "execution_count": null,
      "metadata": {
        "colab": {
          "base_uri": "https://localhost:8080/",
          "height": 278
        },
        "id": "jGEK4P9BMLKV",
        "outputId": "2870faab-d201-4dee-cf4f-a5ad1aa1927f"
      },
      "outputs": [
        {
          "data": {
            "image/png": "[encoded data removed]",
            "text/plain": [
              "<Figure size 576x288 with 1 Axes>"
            ]
          },
          "metadata": {},
          "output_type": "display_data"
        }
      ],
      "source": [
        "aux_df = pd.DataFrame(df['sentiment_label'].value_counts(sort=False).sort_index())\n",
        "aux_df = aux_df.plot(kind='bar', title='Sentiment distribution (Corpus Final)', figsize=(8, 4))"
      ]
    },
    {
      "cell_type": "markdown",
      "metadata": {
        "id": "NVkUYonRtVHd"
      },
      "source": [
        "# N-grams más frecuentes"
      ]
    },
    {
      "cell_type": "markdown",
      "metadata": {
        "id": "fzjcG16t_nQw"
      },
      "source": [
        "Realizamos el cálculo de los 2-gramas y 3-grams directamente de la Series de pandas con todas las palabras. Al estar interesados únicamente en los más frecuentes no habrá problemas al combinar el último token de una review con el token inicial de la siguiente. Esto nos permite agilizar el cómputo en esta etapa previa de exploración."
      ]
    },
    {
      "cell_type": "code",
      "execution_count": null,
      "metadata": {
        "id": "WeOfGMJMzktF"
      },
      "outputs": [],
      "source": [
        "bigrams_ = ngrams(words, 2)\n",
        "trigrams_ = ngrams(words, 3)"
      ]
    },
    {
      "cell_type": "code",
      "execution_count": null,
      "metadata": {
        "id": "8-2pAImuzkvW"
      },
      "outputs": [],
      "source": [
        "bigrams_freq_ = FreqDist(bigrams_)\n",
        "trigrams_freq_ = FreqDist(trigrams_)"
      ]
    },
    {
      "cell_type": "markdown",
      "metadata": {
        "id": "GbQ20por_xrc"
      },
      "source": [
        "Parece evidente que la eliminación de stopwords es necesaria."
      ]
    },
    {
      "cell_type": "code",
      "execution_count": null,
      "metadata": {
        "colab": {
          "base_uri": "https://localhost:8080/"
        },
        "id": "PVgZzwUfMP8m",
        "outputId": "a7544aea-f44f-4da4-bccd-1813bb4aafde"
      },
      "outputs": [
        {
          "data": {
            "text/plain": [
              "[(('de', 'la'), 13931),\n",
              " (('en', 'la'), 6660),\n",
              " (('en', 'el'), 6648),\n",
              " (('de', 'los'), 6645),\n",
              " (('a', 'la'), 6142),\n",
              " (('que', 'se'), 5032),\n",
              " (('lo', 'que'), 4749),\n",
              " (('que', 'no'), 3911),\n",
              " (('de', 'un'), 3737),\n",
              " (('de', 'las'), 3535)]"
            ]
          },
          "execution_count": 21,
          "metadata": {},
          "output_type": "execute_result"
        }
      ],
      "source": [
        "bigrams_freq_.most_common(10)"
      ]
    },
    {
      "cell_type": "code",
      "execution_count": null,
      "metadata": {
        "colab": {
          "base_uri": "https://localhost:8080/"
        },
        "id": "i4GiGucBMSxB",
        "outputId": "e0ef8cf8-c6a8-469f-bcf7-ee7d1ccfe796"
      },
      "outputs": [
        {
          "data": {
            "text/plain": [
              "[(('uno', 'de', 'los'), 978),\n",
              " (('una', 'de', 'las'), 790),\n",
              " (('en', 'la', 'que'), 772),\n",
              " (('en', 'el', 'que'), 742),\n",
              " (('de', 'la', 'película'), 722),\n",
              " (('de', 'lo', 'que'), 685),\n",
              " (('a', 'pesar', 'de'), 633),\n",
              " (('y', 'es', 'que'), 540),\n",
              " (('es', 'una', 'película'), 524),\n",
              " (('la', 'historia', 'de'), 498)]"
            ]
          },
          "execution_count": 22,
          "metadata": {},
          "output_type": "execute_result"
        }
      ],
      "source": [
        "trigrams_freq_.most_common(10)\n"
      ]
    },
    {
      "cell_type": "markdown",
      "metadata": {
        "id": "nLJr4OxrAIWn"
      },
      "source": [
        "# Preprocesado"
      ]
    },
    {
      "cell_type": "markdown",
      "metadata": {
        "id": "90xV_gsvAXC7"
      },
      "source": [
        "### Función de preprocesado de texto"
      ]
    },
    {
      "cell_type": "markdown",
      "metadata": {
        "id": "qhPLNCH2AaWH"
      },
      "source": [
        "Implementamos una función de preprocesado de texto que nos permitirá estandarizar el formato de las reviews a la entrada. Se realizan los siguientes pasos:\n",
        "\n",
        "* Eliminar tildes\n",
        "* Eliminar símbolos\n",
        "* Eliminar todo carácter que no sea una letra\n",
        "* Elimar stopwords"
      ]
    },
    {
      "cell_type": "code",
      "execution_count": 20,
      "metadata": {
        "id": "XoAmtFvK0x3x"
      },
      "outputs": [],
      "source": [
        "def sentence_normalization(sentence):\n",
        "    sentence = unicodedata.normalize('NFKD', sentence).lower().encode('ascii', errors='ignore').decode('utf-8')\n",
        "    sentence = re.sub(' +', ' ', ' '.join([word if word.isalpha() else '' for word in sentence.split()])).strip()\n",
        "    return sentence"
      ]
    },
    {
      "cell_type": "code",
      "execution_count": 21,
      "metadata": {
        "id": "PLolFgWY0FWz"
      },
      "outputs": [],
      "source": [
        "def remove_stopwords(sentence, sw_list):\n",
        "    sentence = ' '.join([word for word in sentence.split() if word not in sw_list])\n",
        "    return sentence"
      ]
    },
    {
      "cell_type": "code",
      "execution_count": 22,
      "metadata": {
        "id": "eYmgRWMU1fKS"
      },
      "outputs": [],
      "source": [
        "sw_list = get_stop_words('es')"
      ]
    },
    {
      "cell_type": "code",
      "execution_count": 23,
      "metadata": {
        "id": "pb0SwZA71EGx"
      },
      "outputs": [],
      "source": [
        "def process_reviews(reviews, sw_list):\n",
        "    processed_sentences = []\n",
        "    for sent in df['review']:\n",
        "        if not sent != sent:  # check if sent is not nan\n",
        "            sent = sentence_normalization(sent)\n",
        "            sent = remove_stopwords(sent, sw_list)\n",
        "            processed_sentences.append(sent)\n",
        "        else:\n",
        "            processed_sentences.append('None')\n",
        "    return processed_sentences"
      ]
    },
    {
      "cell_type": "code",
      "execution_count": 24,
      "metadata": {
        "id": "Hc-b04yG1KS_"
      },
      "outputs": [],
      "source": [
        "processed_reviews = process_reviews(df['review'], sw_list)"
      ]
    },
    {
      "cell_type": "markdown",
      "metadata": {
        "id": "lCMlxWj-AyEd"
      },
      "source": [
        "Vemos lo que conseguimos con nuestro preprocesado"
      ]
    },
    {
      "cell_type": "code",
      "execution_count": 25,
      "metadata": {
        "colab": {
          "base_uri": "https://localhost:8080/"
        },
        "id": "kyu1vFi5MWYa",
        "outputId": "9a722436-3f74-47ff-827b-3d1d228c43c6"
      },
      "outputs": [
        {
          "output_type": "stream",
          "name": "stdout",
          "text": [
            "Review original: Cada vez me gusta menos el cine de masas. Las peliculas que ven todo el mundo me parecen cada vez mas coñazo y mas insufribles. No se porqué pero siempre el prota es tonto del culo y tiene suerte, y al final de la peli, cuando ha logrado vencer al mal, se convierte en listo, y las chorradas que hacia al comienzo de la pelicula se esfuman como por arte de magia. Se vuelve maduro e inteligente.Esta peli de Spielberg es mas de lo mismo, huir y huir y que no le den ni un solo tiro. Además el cabron ha metido a un par de actores que es como para echarles de comer aparte. La niña, una vieja metida en el cuerpo de una niña, porque solo hay que verle hablar (en version original claro) para darse cuenta que estamos ante uno de los grandes freaks del cine. Se creeran que hace gracia la nena cuando habla igual que su puta madre, pero a mi me causa pavor. Ver a una cria que habla como una persona madura es algo horroroso. Los niños son niños y verlos fuera de su rol asusta.Luego esta el hijo adolescente que tiene el Cruise. Otro subnormal que es para darle de bofetadas hasta que se te vea el hueso a la mano. Fiel reflejo de lo que se denomina manipulacion militar, el chico quiere matar a los bichos sin ningun arma, hale, a lo loco y sin pensar, venga, a saco.Que quereis que os diga, pero a mi eso me parece fanatismo y locura. Que alguien quiera ir a luchar sin medios es ir a una muerte segura, por eso me jode sobremanera que al final de la pelicula aparezca el mongo este y sus abuelos y toda la familia. Se salva todo dios, y encima la vieja aparece en traje de los domingos y toda maquillada.¿Pero que sinsorgada es esta? Solo falta que Cruise vuelva con su exmujer y que el mundo sea mucho mejor. Tranquilos, os cuento el final de la peli pero no pasa nada, todas las pelis acaban de igual manera, y decir eso no resta misterio al bodrio este. Yo no se de que va Spielberg, pero a este paso se va a convertir tan solo en un director que es bueno haciendo efectos especiales, porque lo que es contando historias?¿No os disteis cuenta de que los norteamericanos no saben guardar la compostura? Que todo lo dicen gritando. En momentos dificiles lo mas sensato es tranquilizarse y no discutir por chorradas, y en toda la puta peli no paran de gritar y pegarse entre ellos.Me hace gracia como al comienzo de la peli, cuando el suelo empieza a resquebrajarse, la gente se queda ahí a mirar que pasa. Joder, no se ellos, pero yo ya estaria corriendo como una puta desde hace tiempo, e escondiéndome. Si veo que un bicho esta lanzando rayos y machacando a to dios, me escondo.En fin, que para que seguir hablando de esta mierda, si lo que querian ya lo han conseguido, que es que pagasemos la entrada, por eso creo que va a ir al cine su prima, a partir de ahora me lo bajare todo de internet, que por lo que se ve, la calidad de las pelis es aceptable, y puedo pasarla palante. Hoy en dia no tener un mando con el forward en la mano es morir.\n",
            "Review procesada: cada vez gusta menos cine peliculas ven mundo parecen cada vez mas conazo mas siempre prota tonto culo final logrado vencer convierte chorradas hacia comienzo pelicula esfuman arte vuelve maduro peli spielberg mas huir huir den solo ademas cabron metido par actores echarles comer vieja metida cuerpo solo verle hablar version original darse cuenta grandes freaks creeran hace gracia nena habla igual puta causa ver cria habla persona madura ninos ninos verlos rol hijo adolescente subnormal darle bofetadas vea hueso fiel reflejo denomina manipulacion chico quiere matar bichos ningun loco quereis parece fanatismo alguien quiera ir luchar medios ir muerte jode sobremanera final pelicula aparezca mongo abuelos toda salva encima vieja aparece traje domingos toda sinsorgada solo falta cruise vuelva exmujer mundo cuento final peli pasa todas pelis acaban igual decir resta misterio bodrio va paso va convertir tan solo director bueno haciendo efectos contando disteis cuenta norteamericanos saben guardar dicen momentos dificiles mas sensato tranquilizarse discutir toda puta peli paran gritar pegarse hace gracia comienzo suelo empieza gente queda ahi mirar estaria corriendo puta hace si veo bicho lanzando rayos machacando to seguir hablando si querian pagasemos creo va ir cine partir ahora bajare calidad pelis puedo pasarla hoy dia tener mando forward mano\n"
          ]
        }
      ],
      "source": [
        "print('Review original: {}'.format(df['review'].values[0]))\n",
        "print('Review procesada: {}'.format(processed_reviews[0]))"
      ]
    },
    {
      "cell_type": "code",
      "execution_count": 26,
      "metadata": {
        "id": "424WrsBr5XBL"
      },
      "outputs": [],
      "source": [
        "df.loc[:, 'processedReview'] = processed_reviews"
      ]
    },
    {
      "cell_type": "code",
      "execution_count": 27,
      "metadata": {
        "id": "TsfiKBze46SY"
      },
      "outputs": [],
      "source": [
        "df['processedReview'] = df['processedReview'].replace('', np.nan)\n",
        "df = df.dropna(subset=['processedReview'])"
      ]
    },
    {
      "cell_type": "markdown",
      "metadata": {
        "id": "GvYA-JO6A7KF"
      },
      "source": [
        "# Modelado"
      ]
    },
    {
      "cell_type": "markdown",
      "metadata": {
        "id": "P5SLOo1ZpG1r"
      },
      "source": [
        "# Separamos en conjunto de train y test"
      ]
    },
    {
      "cell_type": "markdown",
      "metadata": {
        "id": "LfO_deOlBGE5"
      },
      "source": [
        "Creamos los conjuntos de entrenamiento (75% del total) y test (25%)."
      ]
    },
    {
      "cell_type": "code",
      "execution_count": 31,
      "metadata": {
        "id": "8j_SwxwopG1s"
      },
      "outputs": [],
      "source": [
        "X_train, X_test, y_train, y_test = train_test_split(\n",
        "    df['processedReview'],\n",
        "    df['sentiment_label'],\n",
        "    train_size=0.75,\n",
        "    test_size=0.25,\n",
        "    random_state=42,\n",
        "    shuffle=True\n",
        ")"
      ]
    },
    {
      "cell_type": "code",
      "execution_count": null,
      "metadata": {
        "colab": {
          "base_uri": "https://localhost:8080/"
        },
        "id": "WxLSYYpsMZ3O",
        "outputId": "f80d0739-a797-4bfd-a827-be871287a739"
      },
      "outputs": [
        {
          "data": {
            "text/plain": [
              "1924    zhang yimou poeta director chino firmo filmo l...\n",
              "3250    aventuras amorosas joven molire segundo largom...\n",
              "1620    cientifismo naturalista genero cinematografico...\n",
              "907     quiza esperaba critica mas demoledora sistema ...\n",
              "1864    colateral michael mann desnuda claridad vicios...\n",
              "3007    gracia querejeta directora tomada medida debid...\n",
              "1583    extranas peliculas empiezan importandome pepin...\n",
              "370     suele ocurrir alguien pone expectativas altas ...\n",
              "2045    vivian vive trabaja tienda chocolates aficione...\n",
              "3601    filmes pasan ser culto hecho concreto menos ca...\n",
              "Name: processedReview, dtype: object"
            ]
          },
          "execution_count": 32,
          "metadata": {},
          "output_type": "execute_result"
        }
      ],
      "source": [
        "X_train.iloc[:10]"
      ]
    },
    {
      "cell_type": "code",
      "execution_count": null,
      "metadata": {
        "colab": {
          "base_uri": "https://localhost:8080/"
        },
        "id": "SlIu4GO6MZ5w",
        "outputId": "12309a2d-4d99-4ab7-e8ea-39e6215c4f8b"
      },
      "outputs": [
        {
          "data": {
            "text/plain": [
              "1924    0\n",
              "3250    0\n",
              "1620    1\n",
              "907     1\n",
              "1864    0\n",
              "3007    0\n",
              "1583    0\n",
              "370     0\n",
              "2045    1\n",
              "3601    1\n",
              "Name: sentiment_label, dtype: int64"
            ]
          },
          "execution_count": 33,
          "metadata": {},
          "output_type": "execute_result"
        }
      ],
      "source": [
        "y_train.iloc[:10]"
      ]
    },
    {
      "cell_type": "markdown",
      "metadata": {
        "id": "gkpFgdWhpG1s"
      },
      "source": [
        "# Extracción de features"
      ]
    },
    {
      "cell_type": "code",
      "execution_count": null,
      "metadata": {
        "colab": {
          "base_uri": "https://localhost:8080/"
        },
        "id": "qtzfQeSDy63Q",
        "outputId": "e9ce8478-5c3a-4a60-9acb-713e86a2883f"
      },
      "outputs": [
        {
          "data": {
            "text/plain": [
              "TfidfVectorizer(max_df=0.95, max_features=2500, min_df=3, strip_accents='ascii')"
            ]
          },
          "execution_count": 34,
          "metadata": {},
          "output_type": "execute_result"
        }
      ],
      "source": [
        "cv = TfidfVectorizer(\n",
        "    max_df=0.95,\n",
        "    min_df=3,\n",
        "    max_features=2500,\n",
        "    strip_accents='ascii',\n",
        "    ngram_range=(1, 1)\n",
        ")\n",
        "cv.fit(X_train)"
      ]
    },
    {
      "cell_type": "markdown",
      "metadata": {
        "id": "iyKnFkpI2-_s"
      },
      "source": [
        "La extracción de características será realizada con la clase **TfidfVectorizerde sklearn**. Los parámetros y valores que se definen son:\n",
        "\n",
        "* ngram_range: (1, 3), de cara a codificar de manera más rica el contexto de cada palabra se trabajará con 1-grams, 2-grams y 3-grams.\n",
        "* max_df: 0.95, al haber realizado una etapa de preprocesado en la que se eliminan stopwords y se lemmatiza no se requiere volver a eliminar tokens muy frecuentes.\n",
        "* min_df: 3, tokens con una frecuencia baja se interpretan como outliers, posiblemente typos u otro tipo de errores.\n",
        "* max_features: 2500, al trabajar con 1-gram, 2-grams y 3-grams seleccionamos un tamaño de vocabulario grande que nos permita contemplar los top n-grams más representativos."
      ]
    },
    {
      "cell_type": "code",
      "execution_count": null,
      "metadata": {
        "colab": {
          "base_uri": "https://localhost:8080/"
        },
        "id": "ZyF3CjW4Me5l",
        "outputId": "a7256375-1291-4bae-a9a0-71a11231ec86"
      },
      "outputs": [
        {
          "name": "stdout",
          "output_type": "stream",
          "text": [
            "[('director', 683), ('alla', 87), ('primeros', 1826), ('ahora', 72), ('visual', 2465), ('maestro', 1358), ('cuyo', 552), ('talento', 2246), ('consiste', 447), ('ejercicio', 749), ('bajo', 202), ('forma', 970), ('entender', 790), ('cine', 354), ('mas', 1397), ('puro', 1897), ('estilo', 856), ('precisa', 1801), ('tan', 2251), ('traje', 2339)]\n"
          ]
        }
      ],
      "source": [
        "print(list(cv.vocabulary_.items())[:20])"
      ]
    },
    {
      "cell_type": "code",
      "execution_count": null,
      "metadata": {
        "colab": {
          "base_uri": "https://localhost:8080/"
        },
        "id": "lqg1i_ZrMhqb",
        "outputId": "fe9bd665-9d90-4a4e-e254-588c86baaf0d"
      },
      "outputs": [
        {
          "name": "stdout",
          "output_type": "stream",
          "text": [
            "2500\n"
          ]
        }
      ],
      "source": [
        "print(len(cv.vocabulary_))"
      ]
    },
    {
      "cell_type": "markdown",
      "metadata": {
        "id": "EbtvUpjZpG1t"
      },
      "source": [
        "## TF-IDF scores del training set y test set"
      ]
    },
    {
      "cell_type": "code",
      "execution_count": null,
      "metadata": {
        "id": "yIIl_icspG1t"
      },
      "outputs": [],
      "source": [
        "X_train_ = cv.transform(X_train)\n",
        "X_test_ = cv.transform(X_test)"
      ]
    },
    {
      "cell_type": "markdown",
      "metadata": {
        "id": "x3JultgCpG1t"
      },
      "source": [
        "## Score IDF de algunas palabras"
      ]
    },
    {
      "cell_type": "code",
      "execution_count": null,
      "metadata": {
        "id": "SHNtzO99pG1t"
      },
      "outputs": [],
      "source": [
        "words_example = [\n",
        "    'cine',\n",
        "    'pelicula',\n",
        "    'muy',\n",
        "    'y',\n",
        "    'de',\n",
        "    'que',\n",
        "    'potter',\n",
        "    'mala',\n",
        "    'aburrimiento',\n",
        "    'sorprendente',\n",
        "    'aburrir',\n",
        "    'ausdf'\n",
        "]"
      ]
    },
    {
      "cell_type": "code",
      "execution_count": null,
      "metadata": {
        "colab": {
          "base_uri": "https://localhost:8080/"
        },
        "id": "dh3bYsaoMlNw",
        "outputId": "05d53327-16bc-4b04-af21-c9364ee1bfbd"
      },
      "outputs": [
        {
          "name": "stdout",
          "output_type": "stream",
          "text": [
            "Palabra             IDF                 \n",
            "cine                1.737\n",
            "pelicula            1.229\n",
            "muy                 OOV                 \n",
            "y                   OOV                 \n",
            "de                  OOV                 \n",
            "que                 OOV                 \n",
            "potter              5.449\n",
            "mala                3.411\n",
            "aburrimiento        5.364\n",
            "sorprendente        4.631\n",
            "aburrir             OOV                 \n",
            "ausdf               OOV                 \n"
          ]
        },
        {
          "name": "stderr",
          "output_type": "stream",
          "text": [
            "/usr/local/lib/python3.8/dist-packages/sklearn/utils/deprecation.py:87: FutureWarning: Function get_feature_names is deprecated; get_feature_names is deprecated in 1.0 and will be removed in 1.2. Please use get_feature_names_out instead.\n",
            "  warnings.warn(msg, category=FutureWarning)\n"
          ]
        }
      ],
      "source": [
        "vocab_idf = dict(zip(cv.get_feature_names(), cv.idf_))\n",
        "\n",
        "print('{0:20}{1:20}'.format('Palabra', 'IDF'))\n",
        "for word in words_example:\n",
        "    if word not in vocab_idf:\n",
        "        print('{0:20}{1:20}'.format(word, 'OOV'))\n",
        "    else:\n",
        "        print('{0:20}{1:2.3f}'.format(word, vocab_idf[word]))"
      ]
    },
    {
      "cell_type": "markdown",
      "metadata": {
        "id": "ooUJ05G1pG1t"
      },
      "source": [
        "## Palabras con el TF-IDF en alguna review"
      ]
    },
    {
      "cell_type": "code",
      "execution_count": null,
      "metadata": {
        "colab": {
          "base_uri": "https://localhost:8080/"
        },
        "id": "odXUSV8QMocX",
        "outputId": "540ce818-1c18-4410-f2bc-061c7e3181b8"
      },
      "outputs": [
        {
          "name": "stdout",
          "output_type": "stream",
          "text": [
            "ID: 2538\n",
            "Sentiment: 1\n",
            "Review: asusta encerrado posibilidad contactar exterior enfrentado amenaza tan real sobrecoge recibir historia traves camara television filma espeluznantes figuras vision pues ahi unico secreto exito desbordante pelicula atipica funciona mas pasaje terror cinta solo ultimos bajo estandarte vamos pasar apagones luz movimientos camara hacen todavia mas limitada profundidad campo vuelve perdidas sonido histeria colectiva siempre alcanza cotas rozan irrisoria serenidad emerge acertado juego sombras problema parte duda encaja dentro llegar situacion espectador tendra hacer esfuerzo sobrehumano pasar alto cumulo imprevistos despropositos inadmisibles configuran punto hace pensar concebido ser vendido industria alli mas habitual policia siempre llegue tarde ponga peligro vida dando paso intervenciones heroicas incluso historias basadas hechos hace patente descoordinacion confusion sucede aqui activaria protocolo antiterrorista manera autoridades sanitarias actuaran bajo propio criterio conocimiento resto cuerpos componen seguridad habria mas sensato omitir lugar desarrolla puesto improbabilidad respuestas acerca ciencia ficcion mas aislamiento forzoso alcanza sistemas comunicacion moviles pierden mire aquel viejo quieres pille burda mezcla generos siempre mas peligrosa perros rabiosos transmiten virus letales traves contentos crear situacion inverosimil creimos resident evil dias guionistas permiten lujazo insertar episodio aqui grupo aterrados vecinos motivos faltan preocupa mas salir bien peinado camara criticar habitos alimenticios senor vive cuarto propia integridad increible roza tomadura pelo mientras expertos hablan critica mordaz problemas mientras interpretaciones direccion actores dejan muchisimo inicio desaguisado encontramos parpadeo escalofriante augurio ausencia titulos credito parece indicar directores podrian desacreditados proyecto blair rodado camara fotografia imposible tomada condiciones bajisima intensidad aqui ahora saltos temporales si puntos aparicion armas exclusion explicita peliculas genero alguien diga sola pelicula pertenezca encontrariamos filme obviamos resto decalogo propios fundadores decia dios dirigir placer escribir guiones cine mas dignos alabanza propias tecnicas cualquier segundas nunca deberian prevalecer da jaume balaguero grandes aprueba sobresaliente ambas nombre duda mejor pelicula terror rodado guiones historias fragiles tan buenos momentos hecho pasar amantes superan patrones americanos convertirse futuro cine queremos concepcion lleva convencimiento unico terrorifico pelicula colas kilometricas superar cines caer lateral fila dos soportar ochenta cinco minutos camara graba\n"
          ]
        }
      ],
      "source": [
        "i = random.randint(0, len(X_train))\n",
        "print('ID: {}'.format(i))\n",
        "print('Sentiment: {}'.format(y_train.iloc[i]))\n",
        "print('Review: {}'.format(X_train.iloc[i]))"
      ]
    },
    {
      "cell_type": "code",
      "execution_count": null,
      "metadata": {
        "colab": {
          "base_uri": "https://localhost:8080/"
        },
        "id": "MxgafYApMq4F",
        "outputId": "07e2ebb5-87ad-4295-d64a-0deb0f6cb265"
      },
      "outputs": [
        {
          "name": "stdout",
          "output_type": "stream",
          "text": [
            "Top 10 words with highest TF_IDF in the review 2538:\n",
            "              tfidf\n",
            "camara     0.256094\n",
            "alcanza    0.165883\n",
            "pasar      0.158218\n",
            "rodado     0.157403\n",
            "guiones    0.153198\n",
            "mas        0.147923\n",
            "situacion  0.126283\n",
            "aqui       0.125986\n",
            "bajo       0.114532\n",
            "terror     0.113995\n",
            "\n",
            "Top 10 words with lowest TF_IDF in the review 2538:\n",
            "              tfidf\n",
            "hacer      0.035679\n",
            "parte      0.035462\n",
            "peliculas  0.033467\n",
            "mejor      0.033136\n",
            "dos        0.031517\n",
            "bien       0.030265\n",
            "solo       0.029826\n",
            "historia   0.028455\n",
            "ser        0.026199\n",
            "si         0.023316\n"
          ]
        }
      ],
      "source": [
        "doc_vector = X_train_[i]\n",
        "df_tfidf = pd.DataFrame(doc_vector.T.todense(), index=cv.get_feature_names(), columns=['tfidf'])\n",
        "df_tfidf = df_tfidf[df_tfidf['tfidf'] > 0]\n",
        "\n",
        "top_n = 10\n",
        "print('Top {} words with highest TF_IDF in the review {}:\\n{}'.format(top_n, i, df_tfidf.sort_values(by=[\"tfidf\"],ascending=False)[:top_n]))\n",
        "print('\\nTop {} words with lowest TF_IDF in the review {}:\\n{}'.format(top_n, i, df_tfidf.sort_values(by=[\"tfidf\"],ascending=False)[-top_n:]))"
      ]
    },
    {
      "cell_type": "markdown",
      "metadata": {
        "id": "pOZGJn36pG1u"
      },
      "source": [
        "## $\\chi²$ scores"
      ]
    },
    {
      "cell_type": "code",
      "execution_count": null,
      "metadata": {
        "colab": {
          "base_uri": "https://localhost:8080/",
          "height": 641
        },
        "id": "jtHOu1EdMv41",
        "outputId": "671b0a21-c8a7-43fb-b8e0-db531fa60e27"
      },
      "outputs": [
        {
          "name": "stderr",
          "output_type": "stream",
          "text": [
            "/usr/local/lib/python3.8/dist-packages/sklearn/utils/deprecation.py:87: FutureWarning: Function get_feature_names is deprecated; get_feature_names is deprecated in 1.0 and will be removed in 1.2. Please use get_feature_names_out instead.\n",
            "  warnings.warn(msg, category=FutureWarning)\n"
          ]
        },
        {
          "data": {
            "image/png": "[encoded data removed]",
            "text/plain": [
              "<Figure size 864x576 with 1 Axes>"
            ]
          },
          "metadata": {},
          "output_type": "display_data"
        }
      ],
      "source": [
        "# Compute the chi-squared score for each word in the training set and show the values\n",
        "i = 15\n",
        "\n",
        "chi2score = chi2(X_train_, y_train)[0]\n",
        "scores = list(zip(cv.get_feature_names(), chi2score))\n",
        "sorted_scores = sorted(scores, key=lambda x:x[1])\n",
        "topchi2 = list(zip(*sorted_scores[-i:]))\n",
        "x = range(len(topchi2[1]))\n",
        "labels = topchi2[0]\n",
        "\n",
        "plt.figure(figsize=(12, 8))\n",
        "plt.barh(x,topchi2[1], align='center', alpha=0.5)\n",
        "plt.plot(topchi2[1], x, '-o', markersize=5, alpha=0.8)\n",
        "plt.yticks(x, labels, fontsize=12)\n",
        "plt.xlabel('$\\chi^2$', fontsize=26)\n",
        "plt.ylabel('word', fontsize=16)\n",
        "plt.title('Top {} $\\chi^2$ score for each word in the training set'.format(i), fontsize=20)\n",
        "plt.grid()\n",
        "plt.tight_layout()\n",
        "plt.show();"
      ]
    },
    {
      "cell_type": "markdown",
      "metadata": {
        "id": "ES65lfuepG1u"
      },
      "source": [
        "# Entrenamiento"
      ]
    },
    {
      "cell_type": "markdown",
      "metadata": {
        "id": "WnkjYqIrBu_M"
      },
      "source": [
        "\n",
        "Para este apartado empelaremos un modelo que es  adecuado para tareas de clasificación binaria con variables discretas. La aproximación será simple en el sentido de que no se destinarán esfuerzos al tuning de hiperparametros."
      ]
    },
    {
      "cell_type": "code",
      "execution_count": null,
      "metadata": {
        "colab": {
          "base_uri": "https://localhost:8080/"
        },
        "id": "n_Aa1aN1M0Nm",
        "outputId": "e483c875-face-4ba7-d234-fc146386ac85"
      },
      "outputs": [
        {
          "name": "stdout",
          "output_type": "stream",
          "text": [
            "Accuracy for C=0.01: 0.6597938144329897\n",
            "Accuracy for C=0.05: 0.6597938144329897\n",
            "Accuracy for C=0.25: 0.6701030927835051\n",
            "Accuracy for C=0.5: 0.7010309278350515\n",
            "Accuracy for C=1: 0.7402061855670103\n",
            "Accuracy for C=10: 0.7536082474226804\n",
            "Accuracy for C=100: 0.7329896907216494\n",
            "Accuracy for C=1000: 0.7381443298969073\n",
            "Accuracy for C=10000: 0.7412371134020619\n"
          ]
        }
      ],
      "source": [
        "c_params = [0.01, 0.05, 0.25, 0.5, 1, 10, 100, 1000, 10000]\n",
        "\n",
        "train_acc = list()\n",
        "test_acc = list()\n",
        "for c in c_params:\n",
        "    lr = LogisticRegression(C=c, solver='lbfgs', max_iter=500)\n",
        "    lr.fit(X_train_, y_train)\n",
        "    \n",
        "    train_predict = lr.predict(X_train_)\n",
        "    test_predict = lr.predict(X_test_)\n",
        "    \n",
        "    print (\"Accuracy for C={}: {}\".format(c, accuracy_score(y_test, test_predict)))\n",
        "    \n",
        "    train_acc.append(accuracy_score(y_train, train_predict))\n",
        "    test_acc.append(accuracy_score(y_test, test_predict))"
      ]
    },
    {
      "cell_type": "markdown",
      "metadata": {
        "id": "D1u49-JgpG1u"
      },
      "source": [
        "# Algunas métricas"
      ]
    },
    {
      "cell_type": "code",
      "execution_count": null,
      "metadata": {
        "colab": {
          "base_uri": "https://localhost:8080/"
        },
        "id": "Nhv0R3L5M3U-",
        "outputId": "fcdd5ba9-d76d-415f-9c1f-eaa62c9b88c0"
      },
      "outputs": [
        {
          "name": "stdout",
          "output_type": "stream",
          "text": [
            "Confussion matrix:\n",
            "[[516 124]\n",
            " [127 203]]\n",
            "\n",
            "Classification report:\n",
            "              precision    recall  f1-score   support\n",
            "\n",
            "           0       0.80      0.81      0.80       640\n",
            "           1       0.62      0.62      0.62       330\n",
            "\n",
            "    accuracy                           0.74       970\n",
            "   macro avg       0.71      0.71      0.71       970\n",
            "weighted avg       0.74      0.74      0.74       970\n",
            "\n",
            "Accuracy score:0.7412371134020619\n"
          ]
        }
      ],
      "source": [
        "print('Confussion matrix:\\n{}'.format(confusion_matrix(y_test, test_predict)))\n",
        "print('\\nClassification report:\\n{}'.format(classification_report(y_test, test_predict)))\n",
        "print('Accuracy score:{}'.format(accuracy_score(y_test, test_predict)))"
      ]
    },
    {
      "cell_type": "code",
      "execution_count": null,
      "metadata": {
        "colab": {
          "base_uri": "https://localhost:8080/",
          "height": 585
        },
        "id": "em92TI8dM6Af",
        "outputId": "cec7ac2c-06fd-4dc3-85b7-956281670814"
      },
      "outputs": [
        {
          "data": {
            "image/png": "[encoded data removed]",
            "text/plain": [
              "<Figure size 864x576 with 1 Axes>"
            ]
          },
          "metadata": {},
          "output_type": "display_data"
        }
      ],
      "source": [
        "plt.figure(figsize=(12, 8))\n",
        "plt.plot(train_acc, label='train')\n",
        "plt.plot(test_acc, label='test')\n",
        "plt.axvline(np.argmax(test_acc), c='g', ls='--', alpha=0.8)\n",
        "plt.title('Accuracy evolution for different C values')\n",
        "plt.xlabel('C')\n",
        "plt.ylabel('Accuracy')\n",
        "plt.legend()\n",
        "plt.grid()\n",
        "plt.xticks(list(range(len(c_params))), c_params)\n",
        "plt.tight_layout()\n",
        "plt.show()"
      ]
    },
    {
      "cell_type": "code",
      "execution_count": null,
      "metadata": {
        "id": "z5Kvexf50eFq"
      },
      "outputs": [],
      "source": [
        "p, r, thresholds = precision_recall_curve(y_test, test_predict)"
      ]
    },
    {
      "cell_type": "code",
      "execution_count": null,
      "metadata": {
        "id": "JG2yooDHM_rn"
      },
      "outputs": [],
      "source": [
        "def plot_precision_recall_vs_threshold(precisions, recalls, thresholds):\n",
        "    plt.figure(figsize=(8, 8))\n",
        "    plt.title(\"Precision and Recall Scores as a function of the decision threshold\")\n",
        "    plt.plot(thresholds, precisions[:-1], \"b--\", label=\"Precision\")\n",
        "    plt.plot(thresholds, recalls[:-1], \"g-\", label=\"Recall\")\n",
        "    plt.ylabel(\"Score\")\n",
        "    plt.xlabel(\"Decision Threshold\")\n",
        "    plt.legend(loc='best')"
      ]
    },
    {
      "cell_type": "code",
      "execution_count": null,
      "metadata": {
        "colab": {
          "base_uri": "https://localhost:8080/",
          "height": 513
        },
        "id": "3oXmpAFqNjDp",
        "outputId": "82757cc3-0b38-416c-a917-4acf1985610e"
      },
      "outputs": [
        {
          "data": {
            "image/png": "[encoded data removed]",
            "text/plain": [
              "<Figure size 576x576 with 1 Axes>"
            ]
          },
          "metadata": {},
          "output_type": "display_data"
        }
      ],
      "source": [
        "plot_precision_recall_vs_threshold(p, r, thresholds)"
      ]
    },
    {
      "cell_type": "markdown",
      "metadata": {
        "id": "0ezx70d9pG1v"
      },
      "source": [
        "# Predict"
      ]
    },
    {
      "cell_type": "code",
      "execution_count": null,
      "metadata": {
        "id": "Txs32QR_pG1v"
      },
      "outputs": [],
      "source": [
        "def predict_review_sentiment(review_index, model):\n",
        "    print('Actual sentiment: {}'.format(df.iloc[review_index]['sentiment_label']))\n",
        "    r = df.iloc[review_index]['review']\n",
        "    print('Prediction: {}'.format(lr.predict(cv.transform([r]))))"
      ]
    },
    {
      "cell_type": "code",
      "execution_count": null,
      "metadata": {
        "colab": {
          "base_uri": "https://localhost:8080/"
        },
        "id": "n2698dDHNCqn",
        "outputId": "70ac93a6-9cce-43de-8ce9-d602b6555251"
      },
      "outputs": [
        {
          "name": "stdout",
          "output_type": "stream",
          "text": [
            "\n",
            "Review no. 3557\n",
            "Actual sentiment: 1\n",
            "Prediction: [1]\n",
            "\n",
            "Review no. 355\n",
            "Actual sentiment: 1\n",
            "Prediction: [1]\n",
            "\n",
            "Review no. 893\n",
            "Actual sentiment: 0\n",
            "Prediction: [0]\n",
            "\n",
            "Review no. 240\n",
            "Actual sentiment: 1\n",
            "Prediction: [1]\n",
            "\n",
            "Review no. 5\n",
            "Actual sentiment: 1\n",
            "Prediction: [1]\n"
          ]
        }
      ],
      "source": [
        "for i in random.sample(range(0, len(df)), 5):\n",
        "    print('\\nReview no. {}'.format(i))\n",
        "    predict_review_sentiment(i, lr)"
      ]
    },
    {
      "cell_type": "code",
      "execution_count": null,
      "metadata": {
        "id": "6sWgOM0r54YJ"
      },
      "outputs": [],
      "source": []
    },
    {
      "cell_type": "code",
      "execution_count": null,
      "metadata": {
        "id": "vnR7k8F054bI"
      },
      "outputs": [],
      "source": []
    },
    {
      "cell_type": "markdown",
      "metadata": {
        "id": "V6YAIPFjCl0A"
      },
      "source": [
        "# Plus"
      ]
    },
    {
      "cell_type": "markdown",
      "metadata": {
        "id": "SRQaROPhEfuR"
      },
      "source": [
        "## Vader "
      ]
    },
    {
      "cell_type": "markdown",
      "metadata": {
        "id": "zfqIu4b4E4DD"
      },
      "source": [
        "Es una libreria de procesamiento de Lenguaje Natural proporciona tareas comunes de procesamiento de lenguaje natural (PNL) tales como análisis de sentimiento"
      ]
    },
    {
      "cell_type": "code",
      "execution_count": 32,
      "metadata": {
        "colab": {
          "base_uri": "https://localhost:8080/"
        },
        "id": "5wIuOYYJNIc9",
        "outputId": "3df53808-1ec0-4c1d-ac32-7d94d1da1c92"
      },
      "outputs": [
        {
          "output_type": "stream",
          "name": "stdout",
          "text": [
            "Looking in indexes: https://pypi.org/simple, https://us-python.pkg.dev/colab-wheels/public/simple/\n",
            "Collecting vaderSentiment\n",
            "  Downloading vaderSentiment-3.3.2-py2.py3-none-any.whl (125 kB)\n",
            "\u001b[2K     \u001b[90m━━━━━━━━━━━━━━━━━━━━━━━━━━━━━━━━━━━━━━━\u001b[0m \u001b[32m126.0/126.0 KB\u001b[0m \u001b[31m3.9 MB/s\u001b[0m eta \u001b[36m0:00:00\u001b[0m\n",
            "\u001b[?25hRequirement already satisfied: requests in /usr/local/lib/python3.8/dist-packages (from vaderSentiment) (2.25.1)\n",
            "Requirement already satisfied: idna<3,>=2.5 in /usr/local/lib/python3.8/dist-packages (from requests->vaderSentiment) (2.10)\n",
            "Requirement already satisfied: certifi>=2017.4.17 in /usr/local/lib/python3.8/dist-packages (from requests->vaderSentiment) (2022.12.7)\n",
            "Requirement already satisfied: chardet<5,>=3.0.2 in /usr/local/lib/python3.8/dist-packages (from requests->vaderSentiment) (4.0.0)\n",
            "Requirement already satisfied: urllib3<1.27,>=1.21.1 in /usr/local/lib/python3.8/dist-packages (from requests->vaderSentiment) (1.24.3)\n",
            "Installing collected packages: vaderSentiment\n",
            "Successfully installed vaderSentiment-3.3.2\n"
          ]
        }
      ],
      "source": [
        "!pip install vaderSentiment"
      ]
    },
    {
      "cell_type": "code",
      "execution_count": 33,
      "metadata": {
        "id": "2ky5MXCMtg_6"
      },
      "outputs": [],
      "source": [
        "from vaderSentiment.vaderSentiment import SentimentIntensityAnalyzer\n",
        "from sklearn.feature_extraction.text import TfidfVectorizer\n",
        "import matplotlib.pyplot as plt\n",
        "import seaborn as sns"
      ]
    },
    {
      "cell_type": "code",
      "execution_count": 34,
      "metadata": {
        "id": "61PvxzGRthCx"
      },
      "outputs": [],
      "source": [
        "analyzer = SentimentIntensityAnalyzer()\n",
        "for row in df:\n",
        "    vs = analyzer.polarity_scores(df)"
      ]
    },
    {
      "cell_type": "markdown",
      "metadata": {
        "id": "fTkMB2DcFJ_r"
      },
      "source": [
        "¿Que significa estos resultados de VADER?\n",
        "\n",
        "* neu=neutral\n",
        "* compound= es una regla que normaliza, digamos que puede ser parecido a una media de los otros valores\n",
        "* pos=positivo\n",
        "* neg=negativo\n",
        "\n",
        "\n",
        "En general podemos decir:\n",
        "\n",
        "* ositivo sentimiento: compound >= 0.5\n",
        "* neutral sentimiento: (compound > -0.5) and (compound < 0.5)\n",
        "* negativo sentimiento: compound <= -0.5\n"
      ]
    },
    {
      "cell_type": "code",
      "execution_count": 35,
      "metadata": {
        "id": "PWCU-MvavL2X"
      },
      "outputs": [],
      "source": [
        "# Calculamos los 4 scores para cada review y las guardamos como features en el dataframe\n",
        "df['vader_neg_t'] = 0\n",
        "df['vader_pos_t'] = 0\n",
        "df['vader_neu_t'] = 0\n",
        "df['vader_compound_t'] = 0"
      ]
    },
    {
      "cell_type": "code",
      "execution_count": 36,
      "metadata": {
        "id": "3AcmSC_avL5E"
      },
      "outputs": [],
      "source": [
        "for i, q in enumerate(df['review'].values):\n",
        "    vs = analyzer.polarity_scores(q)\n",
        "    df.iloc[i, -4] = vs['neg']\n",
        "    df.iloc[i, -3] = vs['pos']\n",
        "    df.iloc[i, -2] = vs['neu']\n",
        "    df.iloc[i, -1] = vs['compound']\n",
        "  "
      ]
    },
    {
      "cell_type": "code",
      "execution_count": 37,
      "metadata": {
        "id": "iPGF7_Oev6XB"
      },
      "outputs": [],
      "source": [
        "# PROCESAMIENTO DEL TEXTO\n",
        "SP_STOP_WORDS = [\"pelicula\",\"telefilm\"]\n",
        "custom_stop_words = list(SP_STOP_WORDS)\n",
        "\n",
        "# Usamos  TfidfVectorizer para transformar y quitando las stopwords. \n",
        "# With TfidfVectorizer, palabras comunes son penalizadas y palabras raras tienen mucha influencia \n",
        "vectorizer = TfidfVectorizer(stop_words=custom_stop_words)\n",
        "\n",
        "X = vectorizer.fit_transform(df['review']) "
      ]
    },
    {
      "cell_type": "code",
      "execution_count": null,
      "metadata": {
        "id": "AIOScGgLv6Z3"
      },
      "outputs": [],
      "source": [
        "X.todense().tolist()\n",
        "a = zip(vectorizer.get_feature_names(),X.sum(axis=0).tolist()[0])"
      ]
    },
    {
      "cell_type": "code",
      "execution_count": null,
      "metadata": {
        "id": "ra6ho3d91F8P"
      },
      "outputs": [],
      "source": [
        "df.head()"
      ]
    },
    {
      "cell_type": "code",
      "execution_count": null,
      "metadata": {
        "id": "S0XwKcCnv6cX"
      },
      "outputs": [],
      "source": [
        "df.sort_values('vader_neg_t', ascending=False, inplace=True)\n",
        "for i in range(10):\n",
        "    print (df[['review','sentiment']].values[i])"
      ]
    },
    {
      "cell_type": "code",
      "execution_count": null,
      "metadata": {
        "id": "xgR7N830z7Yc"
      },
      "outputs": [],
      "source": [
        "df.sort_values('vader_pos_t', ascending=False, inplace=True)\n",
        "for i in range(10):\n",
        "    print (df.review.values[i])"
      ]
    },
    {
      "cell_type": "code",
      "execution_count": null,
      "metadata": {
        "id": "i5qLgSlhGSMn"
      },
      "outputs": [],
      "source": []
    },
    {
      "cell_type": "code",
      "execution_count": null,
      "metadata": {
        "id": "mQ8bHL6aGSPT"
      },
      "outputs": [],
      "source": []
    },
    {
      "cell_type": "code",
      "execution_count": null,
      "metadata": {
        "id": "Yz2SMQt3GSRh"
      },
      "outputs": [],
      "source": []
    }
  ],
  "metadata": {
    "accelerator": "GPU",
    "colab": {
      "provenance": []
    },
    "gpuClass": "standard",
    "kernelspec": {
      "display_name": "Python 3 (ipykernel)",
      "language": "python",
      "name": "python3"
    },
    "language_info": {
      "codemirror_mode": {
        "name": "ipython",
        "version": 3
      },
      "file_extension": ".py",
      "mimetype": "text/x-python",
      "name": "python",
      "nbconvert_exporter": "python",
      "pygments_lexer": "ipython3",
      "version": "3.9.13"
    }
  },
  "nbformat": 4,
  "nbformat_minor": 0
}