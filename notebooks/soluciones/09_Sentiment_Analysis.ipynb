{
  "cells": [
    {
      "cell_type": "markdown",
      "metadata": {
        "id": "2Fv_sftqpG1k"
      },
      "source": [
        "# Librerías necesarias"
      ]
    },
    {
      "cell_type": "code",
      "source": [
        "!pip install -r requirements.txt\n",
        "!pip install utils.py"
      ],
      "metadata": {
        "id": "wBXVY_GGBB6-"
      },
      "execution_count": null,
      "outputs": []
    },
    {
      "cell_type": "code",
      "source": [
        "!pip install unzip\n",
        "!unzip corpusCine.zip"
      ],
      "metadata": {
        "id": "NkO_kvJYBEvF"
      },
      "execution_count": null,
      "outputs": []
    },
    {
      "cell_type": "code",
      "execution_count": 5,
      "metadata": {
        "id": "5HntXJS6pG1n"
      },
      "outputs": [],
      "source": [
        "\n",
        "from utils import load_cinema_reviews\n",
        "\n",
        "import random\n",
        "import numpy as np\n",
        "import pandas as pd\n",
        "\n",
        "from sklearn.model_selection import train_test_split\n",
        "from sklearn.pipeline import Pipeline\n",
        "from sklearn.feature_extraction.text import CountVectorizer, TfidfVectorizer\n",
        "from sklearn.feature_selection import chi2\n",
        "from sklearn.linear_model import LogisticRegression\n",
        "from sklearn.metrics import accuracy_score, confusion_matrix, classification_report, roc_curve, precision_recall_curve\n",
        "\n",
        "import matplotlib.pyplot as plt"
      ]
    },
    {
      "cell_type": "markdown",
      "metadata": {
        "id": "KY4D8YYapG1o"
      },
      "source": [
        "# Carga de datos"
      ]
    },
    {
      "cell_type": "code",
      "execution_count": 3,
      "metadata": {
        "id": "z1M1lJ7EpG1p"
      },
      "outputs": [],
      "source": [
        "# Path al directorio donde tenemos los datasets con las reviews\n",
        "# ¡Descomprimir antes!\n",
        "datasets_path = './'\n",
        "corpus_cine_folder = 'corpusCine'"
      ]
    },
    {
      "cell_type": "code",
      "execution_count": 6,
      "metadata": {
        "id": "FtkshSOdpG1p"
      },
      "outputs": [],
      "source": [
        "reviews_dict = load_cinema_reviews(datasets_path, corpus_cine_folder)"
      ]
    },
    {
      "cell_type": "code",
      "source": [
        "reviews_dict.get(10)"
      ],
      "metadata": {
        "id": "NYZMd0SHBHmt"
      },
      "execution_count": null,
      "outputs": []
    },
    {
      "cell_type": "code",
      "execution_count": 8,
      "metadata": {
        "id": "Oan26tm0pG1q"
      },
      "outputs": [],
      "source": [
        "reviews_text = []\n",
        "reviews_sentiment = []\n",
        "\n",
        "for review in reviews_dict.values():\n",
        "    reviews_text.append(review.get('review_text'))\n",
        "    reviews_sentiment.append(review.get('sentiment'))\n",
        "\n",
        "df = pd.DataFrame({\n",
        "    'review': reviews_text,\n",
        "    'sentiment': reviews_sentiment\n",
        "})\n",
        "df.dropna(subset=['review', 'sentiment'], inplace=True)\n",
        "df.reset_index(drop=True, inplace=True)"
      ]
    },
    {
      "cell_type": "code",
      "source": [
        "df.head()"
      ],
      "metadata": {
        "id": "0LCJlYg1yL5J",
        "colab": {
          "base_uri": "https://localhost:8080/",
          "height": 206
        },
        "outputId": "5e3f438b-35d7-4334-c38b-ec4db3bc2b1a"
      },
      "execution_count": 9,
      "outputs": [
        {
          "output_type": "execute_result",
          "data": {
            "text/plain": [
              "                                              review sentiment\n",
              "0  Cada vez me gusta menos el cine de masas. Las ...         1\n",
              "1  El otro dia fui a ver \"la de los sioux\" como d...         3\n",
              "2  Es que no la cagan en ninguna, todas las pelis...         5\n",
              "3  Es un dolor esto del cine. Yo ya voy con miedo...         2\n",
              "4  Tras una insufrible primera media hora, la cas...         2"
            ],
            "text/html": [
              "\n",
              "  <div id=\"df-9a2e5045-7f2d-4ebe-84e8-abe18b751a01\">\n",
              "    <div class=\"colab-df-container\">\n",
              "      <div>\n",
              "<style scoped>\n",
              "    .dataframe tbody tr th:only-of-type {\n",
              "        vertical-align: middle;\n",
              "    }\n",
              "\n",
              "    .dataframe tbody tr th {\n",
              "        vertical-align: top;\n",
              "    }\n",
              "\n",
              "    .dataframe thead th {\n",
              "        text-align: right;\n",
              "    }\n",
              "</style>\n",
              "<table border=\"1\" class=\"dataframe\">\n",
              "  <thead>\n",
              "    <tr style=\"text-align: right;\">\n",
              "      <th></th>\n",
              "      <th>review</th>\n",
              "      <th>sentiment</th>\n",
              "    </tr>\n",
              "  </thead>\n",
              "  <tbody>\n",
              "    <tr>\n",
              "      <th>0</th>\n",
              "      <td>Cada vez me gusta menos el cine de masas. Las ...</td>\n",
              "      <td>1</td>\n",
              "    </tr>\n",
              "    <tr>\n",
              "      <th>1</th>\n",
              "      <td>El otro dia fui a ver \"la de los sioux\" como d...</td>\n",
              "      <td>3</td>\n",
              "    </tr>\n",
              "    <tr>\n",
              "      <th>2</th>\n",
              "      <td>Es que no la cagan en ninguna, todas las pelis...</td>\n",
              "      <td>5</td>\n",
              "    </tr>\n",
              "    <tr>\n",
              "      <th>3</th>\n",
              "      <td>Es un dolor esto del cine. Yo ya voy con miedo...</td>\n",
              "      <td>2</td>\n",
              "    </tr>\n",
              "    <tr>\n",
              "      <th>4</th>\n",
              "      <td>Tras una insufrible primera media hora, la cas...</td>\n",
              "      <td>2</td>\n",
              "    </tr>\n",
              "  </tbody>\n",
              "</table>\n",
              "</div>\n",
              "      <button class=\"colab-df-convert\" onclick=\"convertToInteractive('df-9a2e5045-7f2d-4ebe-84e8-abe18b751a01')\"\n",
              "              title=\"Convert this dataframe to an interactive table.\"\n",
              "              style=\"display:none;\">\n",
              "        \n",
              "  <svg xmlns=\"http://www.w3.org/2000/svg\" height=\"24px\"viewBox=\"0 0 24 24\"\n",
              "       width=\"24px\">\n",
              "    <path d=\"M0 0h24v24H0V0z\" fill=\"none\"/>\n",
              "    <path d=\"M18.56 5.44l.94 2.06.94-2.06 2.06-.94-2.06-.94-.94-2.06-.94 2.06-2.06.94zm-11 1L8.5 8.5l.94-2.06 2.06-.94-2.06-.94L8.5 2.5l-.94 2.06-2.06.94zm10 10l.94 2.06.94-2.06 2.06-.94-2.06-.94-.94-2.06-.94 2.06-2.06.94z\"/><path d=\"M17.41 7.96l-1.37-1.37c-.4-.4-.92-.59-1.43-.59-.52 0-1.04.2-1.43.59L10.3 9.45l-7.72 7.72c-.78.78-.78 2.05 0 2.83L4 21.41c.39.39.9.59 1.41.59.51 0 1.02-.2 1.41-.59l7.78-7.78 2.81-2.81c.8-.78.8-2.07 0-2.86zM5.41 20L4 18.59l7.72-7.72 1.47 1.35L5.41 20z\"/>\n",
              "  </svg>\n",
              "      </button>\n",
              "      \n",
              "  <style>\n",
              "    .colab-df-container {\n",
              "      display:flex;\n",
              "      flex-wrap:wrap;\n",
              "      gap: 12px;\n",
              "    }\n",
              "\n",
              "    .colab-df-convert {\n",
              "      background-color: #E8F0FE;\n",
              "      border: none;\n",
              "      border-radius: 50%;\n",
              "      cursor: pointer;\n",
              "      display: none;\n",
              "      fill: #1967D2;\n",
              "      height: 32px;\n",
              "      padding: 0 0 0 0;\n",
              "      width: 32px;\n",
              "    }\n",
              "\n",
              "    .colab-df-convert:hover {\n",
              "      background-color: #E2EBFA;\n",
              "      box-shadow: 0px 1px 2px rgba(60, 64, 67, 0.3), 0px 1px 3px 1px rgba(60, 64, 67, 0.15);\n",
              "      fill: #174EA6;\n",
              "    }\n",
              "\n",
              "    [theme=dark] .colab-df-convert {\n",
              "      background-color: #3B4455;\n",
              "      fill: #D2E3FC;\n",
              "    }\n",
              "\n",
              "    [theme=dark] .colab-df-convert:hover {\n",
              "      background-color: #434B5C;\n",
              "      box-shadow: 0px 1px 3px 1px rgba(0, 0, 0, 0.15);\n",
              "      filter: drop-shadow(0px 1px 2px rgba(0, 0, 0, 0.3));\n",
              "      fill: #FFFFFF;\n",
              "    }\n",
              "  </style>\n",
              "\n",
              "      <script>\n",
              "        const buttonEl =\n",
              "          document.querySelector('#df-9a2e5045-7f2d-4ebe-84e8-abe18b751a01 button.colab-df-convert');\n",
              "        buttonEl.style.display =\n",
              "          google.colab.kernel.accessAllowed ? 'block' : 'none';\n",
              "\n",
              "        async function convertToInteractive(key) {\n",
              "          const element = document.querySelector('#df-9a2e5045-7f2d-4ebe-84e8-abe18b751a01');\n",
              "          const dataTable =\n",
              "            await google.colab.kernel.invokeFunction('convertToInteractive',\n",
              "                                                     [key], {});\n",
              "          if (!dataTable) return;\n",
              "\n",
              "          const docLinkHtml = 'Like what you see? Visit the ' +\n",
              "            '<a target=\"_blank\" href=https://colab.research.google.com/notebooks/data_table.ipynb>data table notebook</a>'\n",
              "            + ' to learn more about interactive tables.';\n",
              "          element.innerHTML = '';\n",
              "          dataTable['output_type'] = 'display_data';\n",
              "          await google.colab.output.renderOutput(dataTable, element);\n",
              "          const docLink = document.createElement('div');\n",
              "          docLink.innerHTML = docLinkHtml;\n",
              "          element.appendChild(docLink);\n",
              "        }\n",
              "      </script>\n",
              "    </div>\n",
              "  </div>\n",
              "  "
            ]
          },
          "metadata": {},
          "execution_count": 9
        }
      ]
    },
    {
      "cell_type": "code",
      "execution_count": 10,
      "metadata": {
        "id": "_1B-zu9IpG1r"
      },
      "outputs": [],
      "source": [
        "def label_sentiment(row):\n",
        "    if int(row['sentiment']) < 3:\n",
        "        return 1\n",
        "    else:\n",
        "        return 0"
      ]
    },
    {
      "cell_type": "code",
      "execution_count": 11,
      "metadata": {
        "scrolled": true,
        "id": "WdOCPhZbpG1r"
      },
      "outputs": [],
      "source": [
        "df['sentiment_label'] = df.apply(lambda row: label_sentiment(row), axis=1)"
      ]
    },
    {
      "cell_type": "code",
      "source": [
        "df.head()"
      ],
      "metadata": {
        "id": "SdGDb1L-yOy-",
        "colab": {
          "base_uri": "https://localhost:8080/",
          "height": 206
        },
        "outputId": "eb9cac61-11e9-4087-baea-7d007844cfe1"
      },
      "execution_count": 12,
      "outputs": [
        {
          "output_type": "execute_result",
          "data": {
            "text/plain": [
              "                                              review sentiment  \\\n",
              "0  Cada vez me gusta menos el cine de masas. Las ...         1   \n",
              "1  El otro dia fui a ver \"la de los sioux\" como d...         3   \n",
              "2  Es que no la cagan en ninguna, todas las pelis...         5   \n",
              "3  Es un dolor esto del cine. Yo ya voy con miedo...         2   \n",
              "4  Tras una insufrible primera media hora, la cas...         2   \n",
              "\n",
              "   sentiment_label  \n",
              "0                1  \n",
              "1                0  \n",
              "2                0  \n",
              "3                1  \n",
              "4                1  "
            ],
            "text/html": [
              "\n",
              "  <div id=\"df-a66d2164-154b-4bca-af0e-b61d7094776c\">\n",
              "    <div class=\"colab-df-container\">\n",
              "      <div>\n",
              "<style scoped>\n",
              "    .dataframe tbody tr th:only-of-type {\n",
              "        vertical-align: middle;\n",
              "    }\n",
              "\n",
              "    .dataframe tbody tr th {\n",
              "        vertical-align: top;\n",
              "    }\n",
              "\n",
              "    .dataframe thead th {\n",
              "        text-align: right;\n",
              "    }\n",
              "</style>\n",
              "<table border=\"1\" class=\"dataframe\">\n",
              "  <thead>\n",
              "    <tr style=\"text-align: right;\">\n",
              "      <th></th>\n",
              "      <th>review</th>\n",
              "      <th>sentiment</th>\n",
              "      <th>sentiment_label</th>\n",
              "    </tr>\n",
              "  </thead>\n",
              "  <tbody>\n",
              "    <tr>\n",
              "      <th>0</th>\n",
              "      <td>Cada vez me gusta menos el cine de masas. Las ...</td>\n",
              "      <td>1</td>\n",
              "      <td>1</td>\n",
              "    </tr>\n",
              "    <tr>\n",
              "      <th>1</th>\n",
              "      <td>El otro dia fui a ver \"la de los sioux\" como d...</td>\n",
              "      <td>3</td>\n",
              "      <td>0</td>\n",
              "    </tr>\n",
              "    <tr>\n",
              "      <th>2</th>\n",
              "      <td>Es que no la cagan en ninguna, todas las pelis...</td>\n",
              "      <td>5</td>\n",
              "      <td>0</td>\n",
              "    </tr>\n",
              "    <tr>\n",
              "      <th>3</th>\n",
              "      <td>Es un dolor esto del cine. Yo ya voy con miedo...</td>\n",
              "      <td>2</td>\n",
              "      <td>1</td>\n",
              "    </tr>\n",
              "    <tr>\n",
              "      <th>4</th>\n",
              "      <td>Tras una insufrible primera media hora, la cas...</td>\n",
              "      <td>2</td>\n",
              "      <td>1</td>\n",
              "    </tr>\n",
              "  </tbody>\n",
              "</table>\n",
              "</div>\n",
              "      <button class=\"colab-df-convert\" onclick=\"convertToInteractive('df-a66d2164-154b-4bca-af0e-b61d7094776c')\"\n",
              "              title=\"Convert this dataframe to an interactive table.\"\n",
              "              style=\"display:none;\">\n",
              "        \n",
              "  <svg xmlns=\"http://www.w3.org/2000/svg\" height=\"24px\"viewBox=\"0 0 24 24\"\n",
              "       width=\"24px\">\n",
              "    <path d=\"M0 0h24v24H0V0z\" fill=\"none\"/>\n",
              "    <path d=\"M18.56 5.44l.94 2.06.94-2.06 2.06-.94-2.06-.94-.94-2.06-.94 2.06-2.06.94zm-11 1L8.5 8.5l.94-2.06 2.06-.94-2.06-.94L8.5 2.5l-.94 2.06-2.06.94zm10 10l.94 2.06.94-2.06 2.06-.94-2.06-.94-.94-2.06-.94 2.06-2.06.94z\"/><path d=\"M17.41 7.96l-1.37-1.37c-.4-.4-.92-.59-1.43-.59-.52 0-1.04.2-1.43.59L10.3 9.45l-7.72 7.72c-.78.78-.78 2.05 0 2.83L4 21.41c.39.39.9.59 1.41.59.51 0 1.02-.2 1.41-.59l7.78-7.78 2.81-2.81c.8-.78.8-2.07 0-2.86zM5.41 20L4 18.59l7.72-7.72 1.47 1.35L5.41 20z\"/>\n",
              "  </svg>\n",
              "      </button>\n",
              "      \n",
              "  <style>\n",
              "    .colab-df-container {\n",
              "      display:flex;\n",
              "      flex-wrap:wrap;\n",
              "      gap: 12px;\n",
              "    }\n",
              "\n",
              "    .colab-df-convert {\n",
              "      background-color: #E8F0FE;\n",
              "      border: none;\n",
              "      border-radius: 50%;\n",
              "      cursor: pointer;\n",
              "      display: none;\n",
              "      fill: #1967D2;\n",
              "      height: 32px;\n",
              "      padding: 0 0 0 0;\n",
              "      width: 32px;\n",
              "    }\n",
              "\n",
              "    .colab-df-convert:hover {\n",
              "      background-color: #E2EBFA;\n",
              "      box-shadow: 0px 1px 2px rgba(60, 64, 67, 0.3), 0px 1px 3px 1px rgba(60, 64, 67, 0.15);\n",
              "      fill: #174EA6;\n",
              "    }\n",
              "\n",
              "    [theme=dark] .colab-df-convert {\n",
              "      background-color: #3B4455;\n",
              "      fill: #D2E3FC;\n",
              "    }\n",
              "\n",
              "    [theme=dark] .colab-df-convert:hover {\n",
              "      background-color: #434B5C;\n",
              "      box-shadow: 0px 1px 3px 1px rgba(0, 0, 0, 0.15);\n",
              "      filter: drop-shadow(0px 1px 2px rgba(0, 0, 0, 0.3));\n",
              "      fill: #FFFFFF;\n",
              "    }\n",
              "  </style>\n",
              "\n",
              "      <script>\n",
              "        const buttonEl =\n",
              "          document.querySelector('#df-a66d2164-154b-4bca-af0e-b61d7094776c button.colab-df-convert');\n",
              "        buttonEl.style.display =\n",
              "          google.colab.kernel.accessAllowed ? 'block' : 'none';\n",
              "\n",
              "        async function convertToInteractive(key) {\n",
              "          const element = document.querySelector('#df-a66d2164-154b-4bca-af0e-b61d7094776c');\n",
              "          const dataTable =\n",
              "            await google.colab.kernel.invokeFunction('convertToInteractive',\n",
              "                                                     [key], {});\n",
              "          if (!dataTable) return;\n",
              "\n",
              "          const docLinkHtml = 'Like what you see? Visit the ' +\n",
              "            '<a target=\"_blank\" href=https://colab.research.google.com/notebooks/data_table.ipynb>data table notebook</a>'\n",
              "            + ' to learn more about interactive tables.';\n",
              "          element.innerHTML = '';\n",
              "          dataTable['output_type'] = 'display_data';\n",
              "          await google.colab.output.renderOutput(dataTable, element);\n",
              "          const docLink = document.createElement('div');\n",
              "          docLink.innerHTML = docLinkHtml;\n",
              "          element.appendChild(docLink);\n",
              "        }\n",
              "      </script>\n",
              "    </div>\n",
              "  </div>\n",
              "  "
            ]
          },
          "metadata": {},
          "execution_count": 12
        }
      ]
    },
    {
      "cell_type": "markdown",
      "metadata": {
        "id": "P5SLOo1ZpG1r"
      },
      "source": [
        "# Separamos en conjunto de train y test"
      ]
    },
    {
      "cell_type": "code",
      "execution_count": 13,
      "metadata": {
        "id": "8j_SwxwopG1s"
      },
      "outputs": [],
      "source": [
        "X_train, X_test, y_train, y_test = train_test_split(\n",
        "    df['review'],\n",
        "    df['sentiment_label'],\n",
        "    train_size=0.75,\n",
        "    test_size=0.25,\n",
        "    random_state=42,\n",
        "    shuffle=True\n",
        ")"
      ]
    },
    {
      "cell_type": "code",
      "source": [
        "X_train.iloc[:10]"
      ],
      "metadata": {
        "id": "G3b9UZMjyzL7",
        "colab": {
          "base_uri": "https://localhost:8080/"
        },
        "outputId": "9cfbc07d-4a1c-446a-b590-11eb4ea82d9d"
      },
      "execution_count": 14,
      "outputs": [
        {
          "output_type": "execute_result",
          "data": {
            "text/plain": [
              "1924    Zhang Yimou ya no es el poeta de lo íntimo, el...\n",
              "3250    Las aventuras amorosas del joven Molire es el ...\n",
              "1620    El cientifismo naturalista es un género cinema...\n",
              "907     Quizá esperaba una crítica más demoledora del ...\n",
              "1864    Colateral de Michael Mann desnuda con claridad...\n",
              "3007    No es Gracia Querejeta una directora a la que ...\n",
              "1583    Esta es una de esas extrañas películas que emp...\n",
              "370     Suele ocurrir que cuando alguien pone las expe...\n",
              "2045    Vivian vive en Bucarest, trabaja en una tienda...\n",
              "3601    Algunos filmes pasan a ser de culto por un hec...\n",
              "Name: review, dtype: object"
            ]
          },
          "metadata": {},
          "execution_count": 14
        }
      ]
    },
    {
      "cell_type": "code",
      "source": [
        "y_train.iloc[:10]"
      ],
      "metadata": {
        "id": "yJmCKKfjy2g4",
        "colab": {
          "base_uri": "https://localhost:8080/"
        },
        "outputId": "2aa529fe-8369-47df-e578-7da68443b6fc"
      },
      "execution_count": 15,
      "outputs": [
        {
          "output_type": "execute_result",
          "data": {
            "text/plain": [
              "1924    0\n",
              "3250    0\n",
              "1620    1\n",
              "907     1\n",
              "1864    0\n",
              "3007    0\n",
              "1583    0\n",
              "370     0\n",
              "2045    1\n",
              "3601    1\n",
              "Name: sentiment_label, dtype: int64"
            ]
          },
          "metadata": {},
          "execution_count": 15
        }
      ]
    },
    {
      "cell_type": "markdown",
      "metadata": {
        "id": "gkpFgdWhpG1s"
      },
      "source": [
        "# Extracción de features"
      ]
    },
    {
      "cell_type": "code",
      "source": [
        "cv = TfidfVectorizer(\n",
        "    max_df=0.95,\n",
        "    min_df=5,\n",
        "    max_features=2500,\n",
        "    strip_accents='ascii',\n",
        "    ngram_range=(1, 1)\n",
        ")\n",
        "cv.fit(X_train)"
      ],
      "metadata": {
        "id": "qtzfQeSDy63Q",
        "colab": {
          "base_uri": "https://localhost:8080/"
        },
        "outputId": "b43a8a52-027d-41bf-d6d6-3235e4992b28"
      },
      "execution_count": 16,
      "outputs": [
        {
          "output_type": "execute_result",
          "data": {
            "text/plain": [
              "TfidfVectorizer(max_df=0.95, max_features=2500, min_df=5, strip_accents='ascii')"
            ]
          },
          "metadata": {},
          "execution_count": 16
        }
      ]
    },
    {
      "cell_type": "code",
      "source": [
        "print(list(cv.vocabulary_.items())[:20])"
      ],
      "metadata": {
        "id": "korU-m2Ky9kh",
        "colab": {
          "base_uri": "https://localhost:8080/"
        },
        "outputId": "b4893072-6568-4073-afcf-e49381ed5a80"
      },
      "execution_count": 17,
      "outputs": [
        {
          "output_type": "stream",
          "name": "stdout",
          "text": [
            "[('ya', 2493), ('lo', 1349), ('director', 683), ('alla', 102), ('primeros', 1845), ('ahora', 83), ('visual', 2460), ('maestro', 1376), ('cuyo', 561), ('talento', 2248), ('consiste', 457), ('belleza', 235), ('ejercicio', 748), ('bajo', 215), ('forma', 973), ('entender', 782), ('cine', 368), ('acostumbrados', 49), ('esta', 852), ('al', 86)]\n"
          ]
        }
      ]
    },
    {
      "cell_type": "code",
      "source": [
        "print(len(cv.vocabulary_))"
      ],
      "metadata": {
        "id": "8jtAeTAczBHz",
        "colab": {
          "base_uri": "https://localhost:8080/"
        },
        "outputId": "544d83c8-5c7d-4472-b610-b26c96157dda"
      },
      "execution_count": 18,
      "outputs": [
        {
          "output_type": "stream",
          "name": "stdout",
          "text": [
            "2500\n"
          ]
        }
      ]
    },
    {
      "cell_type": "markdown",
      "metadata": {
        "id": "EbtvUpjZpG1t"
      },
      "source": [
        "## TF-IDF scores del training set y test set"
      ]
    },
    {
      "cell_type": "code",
      "execution_count": 19,
      "metadata": {
        "id": "yIIl_icspG1t"
      },
      "outputs": [],
      "source": [
        "X_train_ = cv.transform(X_train)\n",
        "X_test_ = cv.transform(X_test)"
      ]
    },
    {
      "cell_type": "markdown",
      "metadata": {
        "id": "x3JultgCpG1t"
      },
      "source": [
        "## Score IDF de algunas palabras"
      ]
    },
    {
      "cell_type": "code",
      "execution_count": 20,
      "metadata": {
        "id": "SHNtzO99pG1t"
      },
      "outputs": [],
      "source": [
        "words_example = [\n",
        "    'cine',\n",
        "    'pelicula',\n",
        "    'muy',\n",
        "    'y',\n",
        "    'de',\n",
        "    'que',\n",
        "    'potter',\n",
        "    'mala',\n",
        "    'aburrimiento',\n",
        "    'sorprendente',\n",
        "    'aburrir',\n",
        "    'ausdf'\n",
        "]"
      ]
    },
    {
      "cell_type": "code",
      "source": [
        "vocab_idf = dict(zip(cv.get_feature_names(), cv.idf_))\n",
        "\n",
        "print('{0:20}{1:20}'.format('Palabra', 'IDF'))\n",
        "for word in words_example:\n",
        "    if word not in vocab_idf:\n",
        "        print('{0:20}{1:20}'.format(word, 'OOV'))\n",
        "    else:\n",
        "        print('{0:20}{1:2.3f}'.format(word, vocab_idf[word]))"
      ],
      "metadata": {
        "id": "vs0cP49RzFrq",
        "colab": {
          "base_uri": "https://localhost:8080/"
        },
        "outputId": "eb3a7d4d-4d42-4ade-b4f0-7d653dd4260e"
      },
      "execution_count": 21,
      "outputs": [
        {
          "output_type": "stream",
          "name": "stdout",
          "text": [
            "Palabra             IDF                 \n",
            "cine                1.556\n",
            "pelicula            1.154\n",
            "muy                 1.532\n",
            "y                   OOV                 \n",
            "de                  OOV                 \n",
            "que                 OOV                 \n",
            "potter              5.005\n",
            "mala                3.155\n",
            "aburrimiento        4.727\n",
            "sorprendente        4.275\n",
            "aburrir             OOV                 \n",
            "ausdf               OOV                 \n"
          ]
        },
        {
          "output_type": "stream",
          "name": "stderr",
          "text": [
            "/usr/local/lib/python3.8/dist-packages/sklearn/utils/deprecation.py:87: FutureWarning: Function get_feature_names is deprecated; get_feature_names is deprecated in 1.0 and will be removed in 1.2. Please use get_feature_names_out instead.\n",
            "  warnings.warn(msg, category=FutureWarning)\n"
          ]
        }
      ]
    },
    {
      "cell_type": "markdown",
      "metadata": {
        "id": "ooUJ05G1pG1t"
      },
      "source": [
        "## Palabras con el TF-IDF en alguna review"
      ]
    },
    {
      "cell_type": "code",
      "source": [
        "i = random.randint(0, len(X_train))\n",
        "print('ID: {}'.format(i))\n",
        "print('Sentiment: {}'.format(y_train.iloc[i]))\n",
        "print('Review: {}'.format(X_train.iloc[i]))"
      ],
      "metadata": {
        "id": "3wYrfoaezJPR",
        "colab": {
          "base_uri": "https://localhost:8080/"
        },
        "outputId": "f7bc3e45-2aeb-4283-9868-7965766a7e29"
      },
      "execution_count": 22,
      "outputs": [
        {
          "output_type": "stream",
          "name": "stdout",
          "text": [
            "ID: 1982\n",
            "Sentiment: 0\n",
            "Review: Lúcida y divertida, Juno es la 'otra comedia adolescente', la que no deja en mal lugar a los jóvenes, resulta más real a pesar de la abrumadora carga presuntuosa de los diálogos-, convence con su mezcla de tono agridulce y picante y, sobre todo, sorprende. Que nadie le ponga la etiqueta de producto 'indie', en la senda de Pequeña Miss Sunshine, porque eso no puede más que lastrar el devenir de esta atípica cinta. Lo de atípica viene por ser deliciosa y acertadamente irreverente algo menos que Ghost World, por situarla en algún punto- en una época en la que sólo de cuando en cuando se atisba un oasis en medio de un desierto lleno de arena insulsa.El personaje de Juno y sus problemas y su capacidad, o no, para resolverlos- articula un relato sazonado con un toque justo de amargura y en el se saborean ciertas gotas de brillantez. El plato, un entrante sustancioso y original, se presenta salpicado por muestras de una galería de seres un tanto estereotipados aunque idóneos para sustentar el viaducto entre los dos mundos por los que transita Juno en el camino que va desde la inmadurez lógica y aprehendida, hasta la tierra en la que, o eres adulto. ¡o eres adulto!Nuestra compañera de viaje tiene ese halo atractivo de chica sabionda, un punto repelente muy seductor, por cierto- al creerse un tanto superior, aunque presuma de no hacérnoslo creer. Por eso y muchas otras razones, Ellen Page está exultante en un personaje creíble, mucho más que el de la 'lolita-caperucita' de Hard Candy, que resultaba algo forzado exigencias de guión, por supuesto-. Hay que apuntar que no son comparables estos loables trabajos: en Juno, el personaje de Page -con un sentido de la ironía mucho más trabajado- recuerda a la niña que fue Natalie Portman en Beautiful girls y maduró hasta convertirse en la protagonista de Garden State (Algo en común).Jasón Reitman, director de la curiosa Gracias por fumar, y Brook Busey-Hunt (alías Diablo Cody), ex stripper y voz de línea erótica metida a escritora, han acertado con esta mirada a la aventura de crecer. Nadie considerara Juno un trabajo al uso, sino una demoledora fábula sobre intensidades y caminos que, aunque más largos, son más llamativos y enriquecedores que los atajos comunes. En definitiva, estamos ante una propuesta que echa sal a eso de que la vida te juega malas pasadas, algo que tampoco es que nos coja de improviso. Ahora bien, que la gracia de la vida está en vivirla con intensidad, siendo un poco insolente si te dejan, lo sabemos, aunque pocos se atreven a ponerlo en práctica. \n"
          ]
        }
      ]
    },
    {
      "cell_type": "code",
      "source": [
        "doc_vector = X_train_[i]\n",
        "df_tfidf = pd.DataFrame(doc_vector.T.todense(), index=cv.get_feature_names(), columns=['tfidf'])\n",
        "df_tfidf = df_tfidf[df_tfidf['tfidf'] > 0]\n",
        "\n",
        "top_n = 10\n",
        "print('Top {} words with highest TF_IDF in the review {}:\\n{}'.format(top_n, i, df_tfidf.sort_values(by=[\"tfidf\"],ascending=False)[:top_n]))\n",
        "print('\\nTop {} words with lowest TF_IDF in the review {}:\\n{}'.format(top_n, i, df_tfidf.sort_values(by=[\"tfidf\"],ascending=False)[-top_n:]))"
      ],
      "metadata": {
        "id": "yqyIGlc8zLpW",
        "colab": {
          "base_uri": "https://localhost:8080/"
        },
        "outputId": "1bb6f504-98a5-4129-811c-5a86c1a2c8a8"
      },
      "execution_count": 23,
      "outputs": [
        {
          "output_type": "stream",
          "name": "stdout",
          "text": [
            "Top 10 words with highest TF_IDF in the review 1982:\n",
            "              tfidf\n",
            "juno       0.566676\n",
            "eres       0.173184\n",
            "adulto     0.166638\n",
            "por        0.148881\n",
            "algo       0.131861\n",
            "aunque     0.123486\n",
            "mas        0.116943\n",
            "personaje  0.114662\n",
            "nadie      0.105068\n",
            "eso        0.103460\n",
            "\n",
            "Top 10 words with lowest TF_IDF in the review 1982:\n",
            "          tfidf\n",
            "hay    0.031156\n",
            "tiene  0.029515\n",
            "bien   0.029479\n",
            "nos    0.028455\n",
            "ser    0.027785\n",
            "muy    0.027078\n",
            "le     0.026639\n",
            "sus    0.025233\n",
            "todo   0.024791\n",
            "si     0.023478\n"
          ]
        }
      ]
    },
    {
      "cell_type": "markdown",
      "metadata": {
        "id": "pOZGJn36pG1u"
      },
      "source": [
        "## $\\chi²$ scores"
      ]
    },
    {
      "cell_type": "code",
      "source": [
        "# Compute the chi-squared score for each word in the training set and show the values\n",
        "i = 15\n",
        "\n",
        "chi2score = chi2(X_train_, y_train)[0]\n",
        "scores = list(zip(cv.get_feature_names(), chi2score))\n",
        "sorted_scores = sorted(scores, key=lambda x:x[1])\n",
        "topchi2 = list(zip(*sorted_scores[-i:]))\n",
        "x = range(len(topchi2[1]))\n",
        "labels = topchi2[0]\n",
        "\n",
        "plt.figure(figsize=(12, 8))\n",
        "plt.barh(x,topchi2[1], align='center', alpha=0.5)\n",
        "plt.plot(topchi2[1], x, '-o', markersize=5, alpha=0.8)\n",
        "plt.yticks(x, labels, fontsize=12)\n",
        "plt.xlabel('$\\chi^2$', fontsize=26)\n",
        "plt.ylabel('word', fontsize=16)\n",
        "plt.title('Top {} $\\chi^2$ score for each word in the training set'.format(i), fontsize=20)\n",
        "plt.grid()\n",
        "plt.tight_layout()\n",
        "plt.show();"
      ],
      "metadata": {
        "id": "84sELpCbzRjl",
        "colab": {
          "base_uri": "https://localhost:8080/",
          "height": 641
        },
        "outputId": "2f8b1341-d689-4b9c-a0c8-8db76bf596d0"
      },
      "execution_count": 24,
      "outputs": [
        {
          "output_type": "stream",
          "name": "stderr",
          "text": [
            "/usr/local/lib/python3.8/dist-packages/sklearn/utils/deprecation.py:87: FutureWarning: Function get_feature_names is deprecated; get_feature_names is deprecated in 1.0 and will be removed in 1.2. Please use get_feature_names_out instead.\n",
            "  warnings.warn(msg, category=FutureWarning)\n"
          ]
        },
        {
          "output_type": "display_data",
          "data": {
            "text/plain": [
              "<Figure size 864x576 with 1 Axes>"
            ],
            "image/png": "[encoded data removed]"
          },
          "metadata": {
            "needs_background": "light"
          }
        }
      ]
    },
    {
      "cell_type": "markdown",
      "metadata": {
        "id": "ES65lfuepG1u"
      },
      "source": [
        "# Entrenamiento"
      ]
    },
    {
      "cell_type": "code",
      "source": [
        "c_params = [0.01, 0.05, 0.25, 0.5, 1, 10, 100, 1000, 10000]\n",
        "\n",
        "train_acc = list()\n",
        "test_acc = list()\n",
        "for c in c_params:\n",
        "    lr = LogisticRegression(C=c, solver='lbfgs', max_iter=500)\n",
        "    lr.fit(X_train_, y_train)\n",
        "    \n",
        "    train_predict = lr.predict(X_train_)\n",
        "    test_predict = lr.predict(X_test_)\n",
        "    \n",
        "    print (\"Accuracy for C={}: {}\".format(c, accuracy_score(y_test, test_predict)))\n",
        "    \n",
        "    train_acc.append(accuracy_score(y_train, train_predict))\n",
        "    test_acc.append(accuracy_score(y_test, test_predict))"
      ],
      "metadata": {
        "id": "m1A7A81_zVW8",
        "colab": {
          "base_uri": "https://localhost:8080/"
        },
        "outputId": "990fd7bb-01ed-4576-9b0a-7aeb0815927a"
      },
      "execution_count": 25,
      "outputs": [
        {
          "output_type": "stream",
          "name": "stdout",
          "text": [
            "Accuracy for C=0.01: 0.6597938144329897\n",
            "Accuracy for C=0.05: 0.6597938144329897\n",
            "Accuracy for C=0.25: 0.6876288659793814\n",
            "Accuracy for C=0.5: 0.7381443298969073\n",
            "Accuracy for C=1: 0.765979381443299\n",
            "Accuracy for C=10: 0.7896907216494845\n",
            "Accuracy for C=100: 0.7855670103092783\n",
            "Accuracy for C=1000: 0.7680412371134021\n",
            "Accuracy for C=10000: 0.756701030927835\n"
          ]
        }
      ]
    },
    {
      "cell_type": "markdown",
      "metadata": {
        "id": "D1u49-JgpG1u"
      },
      "source": [
        "# Algunas métricas"
      ]
    },
    {
      "cell_type": "code",
      "source": [
        "print('Confussion matrix:\\n{}'.format(confusion_matrix(y_test, test_predict)))\n",
        "print('\\nClassification report:\\n{}'.format(classification_report(y_test, test_predict)))\n",
        "print('Accuracy score:{}'.format(accuracy_score(y_test, test_predict)))"
      ],
      "metadata": {
        "id": "upM8IREh0X7T",
        "colab": {
          "base_uri": "https://localhost:8080/"
        },
        "outputId": "19fa46d2-7d52-4eb6-ef45-bcc59e3715ef"
      },
      "execution_count": 26,
      "outputs": [
        {
          "output_type": "stream",
          "name": "stdout",
          "text": [
            "Confussion matrix:\n",
            "[[543  97]\n",
            " [139 191]]\n",
            "\n",
            "Classification report:\n",
            "              precision    recall  f1-score   support\n",
            "\n",
            "           0       0.80      0.85      0.82       640\n",
            "           1       0.66      0.58      0.62       330\n",
            "\n",
            "    accuracy                           0.76       970\n",
            "   macro avg       0.73      0.71      0.72       970\n",
            "weighted avg       0.75      0.76      0.75       970\n",
            "\n",
            "Accuracy score:0.756701030927835\n"
          ]
        }
      ]
    },
    {
      "cell_type": "code",
      "source": [
        "plt.figure(figsize=(12, 8))\n",
        "plt.plot(train_acc, label='train')\n",
        "plt.plot(test_acc, label='test')\n",
        "plt.axvline(np.argmax(test_acc), c='g', ls='--', alpha=0.8)\n",
        "plt.title('Accuracy evolution for different C values')\n",
        "plt.xlabel('C')\n",
        "plt.ylabel('Accuracy')\n",
        "plt.legend()\n",
        "plt.grid()\n",
        "plt.xticks(list(range(len(c_params))), c_params)\n",
        "plt.tight_layout()\n",
        "plt.show()"
      ],
      "metadata": {
        "id": "z7MVJjSq0bRJ",
        "colab": {
          "base_uri": "https://localhost:8080/",
          "height": 585
        },
        "outputId": "7dac2544-8d95-4e33-9716-e9785cfc3f0f"
      },
      "execution_count": 27,
      "outputs": [
        {
          "output_type": "display_data",
          "data": {
            "text/plain": [
              "<Figure size 864x576 with 1 Axes>"
            ],
            "image/png": "[encoded data removed]"
          },
          "metadata": {
            "needs_background": "light"
          }
        }
      ]
    },
    {
      "cell_type": "code",
      "source": [
        "p, r, thresholds = precision_recall_curve(y_test, test_predict)"
      ],
      "metadata": {
        "id": "z5Kvexf50eFq"
      },
      "execution_count": 28,
      "outputs": []
    },
    {
      "cell_type": "code",
      "execution_count": 29,
      "metadata": {
        "id": "WeLNo9ompG1u"
      },
      "outputs": [],
      "source": [
        "def plot_precision_recall_vs_threshold(precisions, recalls, thresholds):\n",
        "    plt.figure(figsize=(8, 8))\n",
        "    plt.title(\"Precision and Recall Scores as a function of the decision threshold\")\n",
        "    plt.plot(thresholds, precisions[:-1], \"b--\", label=\"Precision\")\n",
        "    plt.plot(thresholds, recalls[:-1], \"g-\", label=\"Recall\")\n",
        "    plt.ylabel(\"Score\")\n",
        "    plt.xlabel(\"Decision Threshold\")\n",
        "    plt.legend(loc='best')"
      ]
    },
    {
      "cell_type": "code",
      "source": [
        "plot_precision_recall_vs_threshold(p, r, thresholds)"
      ],
      "metadata": {
        "id": "3-8Qqo3h0iyg",
        "colab": {
          "base_uri": "https://localhost:8080/",
          "height": 513
        },
        "outputId": "8d01881a-0eb2-45e2-a32b-42ee9b8b25c0"
      },
      "execution_count": 30,
      "outputs": [
        {
          "output_type": "display_data",
          "data": {
            "text/plain": [
              "<Figure size 576x576 with 1 Axes>"
            ],
            "image/png": "[encoded data removed]"
          },
          "metadata": {
            "needs_background": "light"
          }
        }
      ]
    },
    {
      "cell_type": "markdown",
      "metadata": {
        "id": "0ezx70d9pG1v"
      },
      "source": [
        "# Predict"
      ]
    },
    {
      "cell_type": "code",
      "execution_count": 31,
      "metadata": {
        "id": "Txs32QR_pG1v"
      },
      "outputs": [],
      "source": [
        "def predict_review_sentiment(review_index, model):\n",
        "    print('Actual sentiment: {}'.format(df.iloc[review_index]['sentiment_label']))\n",
        "    r = df.iloc[review_index]['review']\n",
        "    print('Prediction: {}'.format(lr.predict(cv.transform([r]))))"
      ]
    },
    {
      "cell_type": "code",
      "source": [
        "for i in random.sample(range(0, len(df)), 5):\n",
        "    print('\\nReview no. {}'.format(i))\n",
        "    predict_review_sentiment(i, lr)"
      ],
      "metadata": {
        "id": "4kX_68B50zgn",
        "colab": {
          "base_uri": "https://localhost:8080/"
        },
        "outputId": "10ad6864-16b5-4211-e263-f14c983feb39"
      },
      "execution_count": 32,
      "outputs": [
        {
          "output_type": "stream",
          "name": "stdout",
          "text": [
            "\n",
            "Review no. 480\n",
            "Actual sentiment: 0\n",
            "Prediction: [0]\n",
            "\n",
            "Review no. 1262\n",
            "Actual sentiment: 0\n",
            "Prediction: [0]\n",
            "\n",
            "Review no. 2078\n",
            "Actual sentiment: 0\n",
            "Prediction: [0]\n",
            "\n",
            "Review no. 1544\n",
            "Actual sentiment: 0\n",
            "Prediction: [0]\n",
            "\n",
            "Review no. 3292\n",
            "Actual sentiment: 1\n",
            "Prediction: [1]\n"
          ]
        }
      ]
    }
  ],
  "metadata": {
    "kernelspec": {
      "display_name": "Python 3 (ipykernel)",
      "language": "python",
      "name": "python3"
    },
    "language_info": {
      "codemirror_mode": {
        "name": "ipython",
        "version": 3
      },
      "file_extension": ".py",
      "mimetype": "text/x-python",
      "name": "python",
      "nbconvert_exporter": "python",
      "pygments_lexer": "ipython3",
      "version": "3.9.13"
    },
    "colab": {
      "provenance": []
    }
  },
  "nbformat": 4,
  "nbformat_minor": 0
}