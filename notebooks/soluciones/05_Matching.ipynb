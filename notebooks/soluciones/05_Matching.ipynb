{
  "cells": [
    {
      "cell_type": "code",
      "source": [
        "!pip install unzip\n",
        "!pip install -r requirements.txt\n",
        "!pip install utils"
      ],
      "metadata": {
        "id": "LycU1cH1GFvz"
      },
      "execution_count": null,
      "outputs": []
    },
    {
      "cell_type": "markdown",
      "metadata": {
        "id": "9Kix6HEEayKD"
      },
      "source": [
        "# Introducción\n",
        "\n",
        "El objetivo principal de los algoritmos de _matching_ es el de, dado un fragmento de texto, encontrar, de entre un conjunto de candidatos, los textos más similares al fragmento orginial.\n",
        "\n",
        "Como texto podemos pensar tanto en palabras, en pequeñas frases o en documentos enteros.\n",
        "\n",
        "Podemos pensar en 3 tipos de técnicas de matching:\n",
        "- **Coincidencia exacta**: ya vimos ejemplos de este tipo al estudiar la **Distancia de Edición**.\n",
        "    - A nivel de carácter: strings que difieren en caracteres\n",
        "    - A nivel de token: strings que difieren en palabras\n",
        "    - Fonéticos: palabras que suenan de manera similar\n",
        "- **Coincidencia aproximada o difusa**\n",
        "- **Coincidencia mediante aproximaciones**\n",
        "\n",
        "| Candidato / Tipo de resultado \t| Exacta \t| Aproximada \t| Transformación \t|\n",
        "|-\t|-\t|-\t|-\t|\n",
        "| String \t| Comparación de strings \t| Comparación difusa \t| Ontologías \t|\n",
        "| Categoría \t| Gramáticas \t| Reconocimiento probabilístico \t| Análisis de topics \t|\n",
        "| Documento \t| - \t| Recuperación de información \t| Traducción automática \t|"
      ]
    },
    {
      "cell_type": "markdown",
      "metadata": {
        "id": "6fAtoLRqcxV-"
      },
      "source": [
        "# Regular expressions (Regex)\n",
        "\n",
        "Muy utilizadas (y conocidas) suelen emplearse al limpiar el texto o buscar formatos dentro del texto. A modo introductorio, las expresiones regulares son una forma de finite state automaton.\n",
        "\n",
        "<img src=http://www.cs.cornell.edu/courses/cs312/2006fa/recitations/images/dfa-examples.gif>\n",
        "\n",
        "Son grafos que siguen una secuencia que nosotros definimos. Por ejemplo, el grafo de la izquierda, solo podría generar expresiones como ab, abb, abbb, abbbb y así hasta el infinito. El de la derecha, podría generar expresiones como abcb, o abbb, abbbbbb, por ejemplo.\n",
        "\n",
        "Conceptualmente, las regex _funcionan_ así _por debajo_. Lógicamente cuando las usamos es mucho más fácil, ¿verdad :D?\n",
        "\n",
        "La definición de estos grafos es posible mediante la [librería de Python re](https://docs.python.org/3/library/re.html), módulo del paquete base de Python dedicado a las expresiones regulares.\n",
        "\n",
        "Cierto es que no siempre nos hará falta. Algunas veces con un simple _string.replace()_ o _string.find()_ tendremos suficiente. No obstante, para muchas tareas son bastante útiles.\n",
        "\n",
        "Algunas tareas típicas en las que se utilizan son la búsqueda (y a veces normalización) de emails, urls, numeros de telefono, etc. Solo la extracción es interesante, pero mediante su normalización nos permite reducir la cardinalidad del vocabulario y asociar entidades similares a un mismo alias.\n",
        "\n",
        "[Regex Online](https://regexr.com/) es uno de los mejores recursos online para visualizar que hacen los regex\n",
        "\n",
        "Veamos algunos ejemplos."
      ]
    },
    {
      "cell_type": "markdown",
      "source": [],
      "metadata": {
        "id": "_KqmU4ZeqwtW"
      }
    },
    {
      "cell_type": "markdown",
      "source": [],
      "metadata": {
        "id": "1acJWFL4qwvr"
      }
    },
    {
      "cell_type": "code",
      "execution_count": null,
      "metadata": {
        "id": "aVNaYYv3cxV7"
      },
      "outputs": [],
      "source": [
        "# Función que nos ayudará a visualizar algunos resultados\n",
        "\n",
        "from termcolor import colored\n",
        "def test_pass(ok, text):\n",
        "    color = 'green' if ok else 'red'\n",
        "    return colored(text, color) "
      ]
    },
    {
      "cell_type": "code",
      "execution_count": null,
      "metadata": {
        "id": "4cn_YtqeayKI"
      },
      "outputs": [],
      "source": [
        "import re"
      ]
    },
    {
      "cell_type": "code",
      "execution_count": null,
      "metadata": {
        "id": "maJ7nCuRayKI"
      },
      "outputs": [],
      "source": [
        "text = 'Todos los animales son iguales, pero algunos son más iguales que otros'"
      ]
    },
    {
      "cell_type": "code",
      "execution_count": null,
      "metadata": {
        "colab": {
          "base_uri": "https://localhost:8080/"
        },
        "id": "pH9PfXeGayKI",
        "outputId": "5eff8639-f467-43a3-a26c-c2e684ff2c87"
      },
      "outputs": [
        {
          "output_type": "stream",
          "name": "stdout",
          "text": [
            "None\n"
          ]
        }
      ],
      "source": [
        "RE_TEST = re.compile(r'todos')\n",
        "print(RE_TEST.match(text))"
      ]
    },
    {
      "cell_type": "code",
      "execution_count": null,
      "metadata": {
        "scrolled": true,
        "colab": {
          "base_uri": "https://localhost:8080/"
        },
        "id": "BAzhGWx2ayKJ",
        "outputId": "142f9341-851a-4147-8d82-dbfc4cabb04a"
      },
      "outputs": [
        {
          "output_type": "stream",
          "name": "stdout",
          "text": [
            "<re.Match object; span=(0, 5), match='Todos'>\n"
          ]
        }
      ],
      "source": [
        "RE_TEST = re.compile(r'Todos')\n",
        "print(RE_TEST.match(text))"
      ]
    },
    {
      "cell_type": "code",
      "execution_count": null,
      "metadata": {
        "colab": {
          "base_uri": "https://localhost:8080/"
        },
        "id": "xGCJgs2LayKJ",
        "outputId": "843144da-39c2-4933-b1cf-360a8b72c0a7"
      },
      "outputs": [
        {
          "output_type": "stream",
          "name": "stdout",
          "text": [
            "<re.Match object; span=(0, 1), match='T'>\n"
          ]
        }
      ],
      "source": [
        "RE_TEST = re.compile(r'[a-zA-Z]')\n",
        "print(RE_TEST.match(text))"
      ]
    },
    {
      "cell_type": "code",
      "execution_count": null,
      "metadata": {
        "colab": {
          "base_uri": "https://localhost:8080/"
        },
        "id": "b4AHDZcfayKK",
        "outputId": "bd93ba95-9cea-48aa-9dcf-e154450072d4"
      },
      "outputs": [
        {
          "output_type": "stream",
          "name": "stdout",
          "text": [
            "<re.Match object; span=(0, 5), match='Todos'>\n"
          ]
        }
      ],
      "source": [
        "RE_TEST = re.compile(r'\\bTodos\\b')\n",
        "print(RE_TEST.match(text))"
      ]
    },
    {
      "cell_type": "code",
      "execution_count": null,
      "metadata": {
        "colab": {
          "base_uri": "https://localhost:8080/"
        },
        "id": "mEJooVfIayKK",
        "outputId": "b7e43b93-48d8-4f19-dc49-f91bdd4d4f6c"
      },
      "outputs": [
        {
          "output_type": "stream",
          "name": "stdout",
          "text": [
            "None\n"
          ]
        }
      ],
      "source": [
        "RE_TEST = re.compile(r'\\bTod\\b')\n",
        "print(RE_TEST.match(text))"
      ]
    },
    {
      "cell_type": "markdown",
      "metadata": {
        "id": "LYl1HWnqcxWe"
      },
      "source": [
        "## Obtener un correo electrónico"
      ]
    },
    {
      "cell_type": "code",
      "execution_count": null,
      "metadata": {
        "id": "Gdbhnbp1cxWe"
      },
      "outputs": [],
      "source": [
        "\"\"\"\n",
        "^ -> start of string\n",
        "+ -> match 1 or more preceding regex\n",
        "[^@]+\n",
        "@[^@]+\n",
        "\\. -> '.'\n",
        "\"\"\"\n",
        "\n",
        "RE_EMAIL = re.compile('[^@]+@[^@]+\\.[^@]+')"
      ]
    },
    {
      "cell_type": "code",
      "source": [
        "emails_list = [\n",
        "    '@invalid@adress.com',\n",
        "    'correo_valido@gmail.com',\n",
        "    'notan@valido@gmail.com',\n",
        "    'si.valido.david@gmail.com',\n",
        "    'paginaweb.com',\n",
        "    'paginaweb.com@paginaweb.com'\n",
        "]\n",
        "for email in emails_list:\n",
        "    if RE_EMAIL.match(email):\n",
        "        print(True)\n",
        "        print(test_pass(True, email))\n",
        "        print('___')\n",
        "    else:\n",
        "        print(False)\n",
        "        print(test_pass(False, email))\n",
        "        print('___')"
      ],
      "metadata": {
        "id": "rax_iSyQZfeB",
        "colab": {
          "base_uri": "https://localhost:8080/"
        },
        "outputId": "681cf23f-53e7-4d0c-ced2-ca8daf785958"
      },
      "execution_count": null,
      "outputs": [
        {
          "output_type": "stream",
          "name": "stdout",
          "text": [
            "False\n",
            "@invalid@adress.com\n",
            "___\n",
            "True\n",
            "correo_valido@gmail.com\n",
            "___\n",
            "False\n",
            "notan@valido@gmail.com\n",
            "___\n",
            "True\n",
            "si.valido.david@gmail.com\n",
            "___\n",
            "False\n",
            "paginaweb.com\n",
            "___\n",
            "True\n",
            "paginaweb.com@paginaweb.com\n",
            "___\n"
          ]
        }
      ]
    },
    {
      "cell_type": "markdown",
      "metadata": {
        "id": "guXnMjYrcxWs"
      },
      "source": [
        "## Obtener precios"
      ]
    },
    {
      "cell_type": "code",
      "source": [
        "from random import shuffle\n",
        "import unicodedata\n",
        "\n",
        "CURRENCIES = ''.join(chr(i) for i in range(0xffff) if unicodedata.category(chr(i)) == 'Sc')\n",
        "RE_MONEY_GENERAL= re.compile('((\\s|^)([\\d]*)(\\.)?([\\d])*([%s]|e|USD|USD\\$|U\\$D)(\\s|$))'\n",
        "                          '|((\\s|^)([%s]|e|USD|USD\\$|U\\$D)([\\d])*(\\.)?([\\d])*(\\s|$))'%(CURRENCIES, CURRENCIES), re.IGNORECASE)\n",
        "RE_MONEY_EU= re.compile('((\\s|^)([\\d]{0,3}([\\.][\\d]{3})(,[\\d]*))([%s]|e|(USD|USD\\$|U\\$D))(\\s|$))'\n",
        "                     '|((\\s|^)([%s]|e|(USD|USD\\$|U\\$D))([\\d]{0,3}([\\.][\\d]{3})(,[\\d]*))(\\s|$))'%(CURRENCIES, CURRENCIES), re.IGNORECASE)\n",
        "RE_MONEY_EU_INVERSE= re.compile('((\\s|^)([\\d]{0,3}([,][\\d]{3})(\\.[\\d]*))([%s]|e|(USD|USD\\$|U\\$D))(\\s|$))'\n",
        "                             '|((\\s|^)([%s]|e|(USD|USD\\$|U\\$D))([\\d]{0,3}([,][\\d]{3})(\\.[\\d]*))(\\s|$))'%(CURRENCIES, CURRENCIES), re.IGNORECASE)\n"
      ],
      "metadata": {
        "id": "k3OdYu4-ZkuY"
      },
      "execution_count": null,
      "outputs": []
    },
    {
      "cell_type": "code",
      "source": [
        "correct_currencies = [\n",
        "    '$20.2',\n",
        "    '$.2',\n",
        "    '$0.2',\n",
        "    '$3433.2',\n",
        "    '.2$',\n",
        "    '2.0$',\n",
        "    '2.$',\n",
        "    '2.0€',\n",
        "    '2¥',\n",
        "    '20USD',\n",
        "    '20e',\n",
        "    '20 €',\n",
        "    '20 usd',\n",
        "    '€200.123,2',\n",
        "    '2.134,56$',\n",
        "    '23232₽',\n",
        "    '334,222.20€',\n",
        "    '20U$D',\n",
        "    '$200']\n",
        "\n",
        "incorrect_currencies = [\n",
        "    'asdfsd', \n",
        "    '$asdasd', \n",
        "    '23333,444.20€',\n",
        "    '€34523sdfas', \n",
        "    '€213.sd', \n",
        "    '$3vg554.25', \n",
        "    'expensive', \n",
        "    'cheap', \n",
        "    '2342,222.90€'\n",
        "]\n",
        "\n",
        "all_currencies = correct_currencies + incorrect_currencies\n",
        "shuffle(all_currencies)\n",
        "\n",
        "for currency in all_currencies:\n",
        "    if RE_MONEY_GENERAL.match(currency) or RE_MONEY_EU.match(currency) or RE_MONEY_EU_INVERSE.match(currency):\n",
        "        print(test_pass(True, currency))\n",
        "    else:\n",
        "        print(test_pass(False, currency))"
      ],
      "metadata": {
        "id": "t4tro_maZprq",
        "colab": {
          "base_uri": "https://localhost:8080/"
        },
        "outputId": "33884ca1-3975-4956-faaf-4a6c225bb092"
      },
      "execution_count": null,
      "outputs": [
        {
          "output_type": "stream",
          "name": "stdout",
          "text": [
            "2.0$\n",
            "$20.2\n",
            "2.134,56$\n",
            ".2$\n",
            "2¥\n",
            "$asdasd\n",
            "334,222.20€\n",
            "asdfsd\n",
            "$3vg554.25\n",
            "2.0€\n",
            "€34523sdfas\n",
            "$0.2\n",
            "$.2\n",
            "20 €\n",
            "cheap\n",
            "€200.123,2\n",
            "$200\n",
            "20 usd\n",
            "20e\n",
            "2342,222.90€\n",
            "€213.sd\n",
            "2.$\n",
            "20U$D\n",
            "23232₽\n",
            "23333,444.20€\n",
            "expensive\n",
            "$3433.2\n",
            "20USD\n"
          ]
        }
      ]
    },
    {
      "cell_type": "markdown",
      "metadata": {
        "id": "7ql50I8sayKM"
      },
      "source": [
        "# DAWG\n",
        "\n",
        "Lo presentábamos antes de manera muy  rápida, un _Directed Acyclic Word Graph_ (por sus siglas, DAWG), también llamado, _Deterministic Acyclic Finite State Automaton_ (DAFSA), es un tipo de estructura de datos que permite representar datos de tipo texto y realizar consultas.\n",
        "\n",
        "![image.png](attachment:image.png)\n",
        "\n",
        "En el grafo generado se distinguen:\n",
        "- **Nodos**: un carácter / símbolo\n",
        "- **Vértices**: enlace con el siguiente carácter / símbolo más probable\n",
        "\n",
        "http://www.wutka.com/dawg.html\n"
      ]
    },
    {
      "cell_type": "markdown",
      "metadata": {
        "id": "lFEdr2WPayKM"
      },
      "source": [
        "## Ejemplos"
      ]
    },
    {
      "cell_type": "code",
      "execution_count": null,
      "metadata": {
        "id": "Qhm2js1tayKM"
      },
      "outputs": [],
      "source": [
        "\n",
        "from utils import load_movie_titles"
      ]
    },
    {
      "cell_type": "code",
      "execution_count": null,
      "metadata": {
        "id": "0TuIc8pYayKM"
      },
      "outputs": [],
      "source": [
        "datasets_path = './'\n",
        "movie_titles_file = 'films.txt'"
      ]
    },
    {
      "cell_type": "code",
      "execution_count": null,
      "metadata": {
        "id": "t4KNu8eyayKM"
      },
      "outputs": [],
      "source": [
        "movies_titles = load_movie_titles(datasets_path, movie_titles_file)"
      ]
    },
    {
      "cell_type": "markdown",
      "metadata": {
        "id": "2U1ZMHFAayKM"
      },
      "source": [
        "## Lo creamos"
      ]
    },
    {
      "cell_type": "code",
      "source": [
        "!pip install DAWG"
      ],
      "metadata": {
        "id": "FxlTWnTeH2_i"
      },
      "execution_count": null,
      "outputs": []
    },
    {
      "cell_type": "code",
      "source": [
        "from pydawg import DAWG\n",
        "\n",
        "dawg = DAWG()\n",
        "\n",
        "for w in sorted(m.title for m in movies_titles):\n",
        "    dawg.add_word_unchecked(w)"
      ],
      "metadata": {
        "id": "2HdDedQ2bUxP"
      },
      "execution_count": null,
      "outputs": []
    },
    {
      "cell_type": "code",
      "source": [
        "import random\n",
        "t = random.choice(movies_titles).title\n",
        "t"
      ],
      "metadata": {
        "id": "VvRkcWaBbVAn",
        "colab": {
          "base_uri": "https://localhost:8080/",
          "height": 35
        },
        "outputId": "2c501496-ab9b-4ad1-e145-a068de278d9d"
      },
      "execution_count": null,
      "outputs": [
        {
          "output_type": "execute_result",
          "data": {
            "text/plain": [
              "'Deliverance'"
            ],
            "application/vnd.google.colaboratory.intrinsic+json": {
              "type": "string"
            }
          },
          "metadata": {},
          "execution_count": 26
        }
      ]
    },
    {
      "cell_type": "code",
      "source": [
        "t in dawg"
      ],
      "metadata": {
        "id": "NFVmz00kbepx",
        "colab": {
          "base_uri": "https://localhost:8080/"
        },
        "outputId": "acdd3157-a64f-4581-975e-eaebd34ba4ad"
      },
      "execution_count": null,
      "outputs": [
        {
          "output_type": "execute_result",
          "data": {
            "text/plain": [
              "True"
            ]
          },
          "metadata": {},
          "execution_count": 27
        }
      ]
    },
    {
      "cell_type": "markdown",
      "metadata": {
        "id": "r9yJBxMpayKN"
      },
      "source": [
        "## Operaciones"
      ]
    },
    {
      "cell_type": "markdown",
      "metadata": {
        "id": "q_uiw_nDayKN"
      },
      "source": [
        "### Búsqueda por prefijo"
      ]
    },
    {
      "cell_type": "code",
      "source": [
        "for m in dawg.find_all('Batman'):\n",
        "    print(m)"
      ],
      "metadata": {
        "id": "vwOPcy9pbhlp",
        "colab": {
          "base_uri": "https://localhost:8080/"
        },
        "outputId": "432b10d4-af83-4020-9fa3-9007d61ea264"
      },
      "execution_count": null,
      "outputs": [
        {
          "output_type": "stream",
          "name": "stdout",
          "text": [
            "Batman\n",
            "Batman: The Movie\n",
            "Batman Returns\n"
          ]
        }
      ]
    },
    {
      "cell_type": "markdown",
      "metadata": {
        "id": "FFRXPGr8ayKN"
      },
      "source": [
        "### Prefijo más largo "
      ]
    },
    {
      "cell_type": "code",
      "source": [
        "s = 'La guerra de nunca jamás'\n",
        "pfx = dawg.longest_prefix(s)\n",
        "print( s[:pfx])"
      ],
      "metadata": {
        "id": "lwQLERK5blzc",
        "colab": {
          "base_uri": "https://localhost:8080/"
        },
        "outputId": "a7e09c96-8f6d-4411-bd4d-f46cbe6f17f9"
      },
      "execution_count": null,
      "outputs": [
        {
          "output_type": "stream",
          "name": "stdout",
          "text": [
            "La \n"
          ]
        }
      ]
    },
    {
      "cell_type": "markdown",
      "metadata": {
        "id": "oaf-X-WmayKN"
      },
      "source": [
        "### Búsqueda en una oración"
      ]
    },
    {
      "cell_type": "code",
      "execution_count": null,
      "metadata": {
        "id": "8kiwmLNOayKN"
      },
      "outputs": [],
      "source": [
        "def token_match(dawg, tknlist):\n",
        "    for n in range(len(tknlist), 0, -1):\n",
        "        test_str = ' '.join(tknlist[:n])\n",
        "        if test_str in dawg:\n",
        "            return test_str\n",
        "\n",
        "def token_match_all(dawg, utterance):\n",
        "    tknlist = utterance.split()\n",
        "    return [token_match(dawg, tknlist[chunk:])\n",
        "             for chunk in range(len(tknlist))]"
      ]
    },
    {
      "cell_type": "code",
      "source": [
        "token_match_all(dawg, 'Donde echan Batman y Robin esta noche')"
      ],
      "metadata": {
        "id": "dQwxITdWbpZx",
        "colab": {
          "base_uri": "https://localhost:8080/"
        },
        "outputId": "3ccdd849-85ff-4609-c968-7a4703d0c328"
      },
      "execution_count": null,
      "outputs": [
        {
          "output_type": "execute_result",
          "data": {
            "text/plain": [
              "[None, None, 'Batman', None, None, None, None]"
            ]
          },
          "metadata": {},
          "execution_count": 31
        }
      ]
    },
    {
      "cell_type": "markdown",
      "metadata": {
        "id": "nJOW4iy6ayKN"
      },
      "source": [
        "### Minimal perfect hash"
      ]
    },
    {
      "cell_type": "code",
      "source": [
        "dawg.word2index('Batman')"
      ],
      "metadata": {
        "id": "xOOG3HeZbsfL",
        "colab": {
          "base_uri": "https://localhost:8080/"
        },
        "outputId": "639568c0-16a8-4c6a-f16d-51f938a48570"
      },
      "execution_count": null,
      "outputs": [
        {
          "output_type": "execute_result",
          "data": {
            "text/plain": [
              "242"
            ]
          },
          "metadata": {},
          "execution_count": 32
        }
      ]
    },
    {
      "cell_type": "markdown",
      "metadata": {
        "id": "iuQDZqMbayKN"
      },
      "source": [
        "# Distancia entre textos"
      ]
    },
    {
      "cell_type": "markdown",
      "metadata": {
        "id": "cOY33cUzayKO"
      },
      "source": [
        "[Jellyfish](https://jellyfish.readthedocs.io/en/latest/) es una librería que contiene funciones para el cálculo de similitud entre textos. Dicha similitud puede ser á nivel léxico-gráfico (strings) o fonético.\n",
        "\n",
        "\n",
        "Algoritmos de comparación de strings:\n",
        "\n",
        "- Levenshtein Distance\n",
        "- Damerau-Levenshtein Distance\n",
        "- Jaro Distance\n",
        "- Jaro-Winkler Distance\n",
        "- Match Rating Approach Comparison\n",
        "- Hamming Distance\n",
        "\n",
        "Algoritmos de encoding fonético:\n",
        "\n",
        "- American Soundex\n",
        "- Metaphone\n",
        "- NYSIIS (New York State Identification and Intelligence System)\n",
        "- Match Rating Codex\n"
      ]
    },
    {
      "cell_type": "code",
      "execution_count": null,
      "metadata": {
        "id": "DzeeexprayKO"
      },
      "outputs": [],
      "source": [
        "# !pip3 install jellyfish\n",
        "import jellyfish\n",
        "\n"
      ]
    },
    {
      "cell_type": "markdown",
      "source": [
        "https://pypi.org/project/jellyfish/"
      ],
      "metadata": {
        "id": "sMaIVJQz0R2m"
      }
    },
    {
      "cell_type": "markdown",
      "metadata": {
        "id": "JA3gAeG0ayKO"
      },
      "source": [
        "## Levenshtein\n",
        "\n",
        "Recordemos: distancia de Edit (Edición) en la que las operaciones permitidas son la inserción, la eliminación y la sustitución."
      ]
    },
    {
      "cell_type": "code",
      "source": [
        "jellyfish.levenshtein_distance('Cisne negro', 'Cisne negro')"
      ],
      "metadata": {
        "id": "mYtg6_vEb3ym",
        "colab": {
          "base_uri": "https://localhost:8080/"
        },
        "outputId": "90548735-5b9a-4667-84de-eab7a3751d53"
      },
      "execution_count": null,
      "outputs": [
        {
          "output_type": "execute_result",
          "data": {
            "text/plain": [
              "0"
            ]
          },
          "metadata": {},
          "execution_count": 35
        }
      ]
    },
    {
      "cell_type": "code",
      "source": [
        "jellyfish.levenshtein_distance('Cisne negro', 'Cisne negor')"
      ],
      "metadata": {
        "id": "CDdw0XQLb36a",
        "colab": {
          "base_uri": "https://localhost:8080/"
        },
        "outputId": "f092edd9-4d78-44fb-de61-42e8277c426a"
      },
      "execution_count": null,
      "outputs": [
        {
          "output_type": "execute_result",
          "data": {
            "text/plain": [
              "2"
            ]
          },
          "metadata": {},
          "execution_count": 36
        }
      ]
    },
    {
      "cell_type": "code",
      "source": [
        "jellyfish.levenshtein_distance('Cisne negro', 'Cisne nego')"
      ],
      "metadata": {
        "id": "AXxo79Zub4Bc",
        "colab": {
          "base_uri": "https://localhost:8080/"
        },
        "outputId": "16fae738-ddea-4c4d-8a49-dbddbaf81ad8"
      },
      "execution_count": null,
      "outputs": [
        {
          "output_type": "execute_result",
          "data": {
            "text/plain": [
              "1"
            ]
          },
          "metadata": {},
          "execution_count": 37
        }
      ]
    },
    {
      "cell_type": "code",
      "source": [
        "jellyfish.levenshtein_distance('Cisnee negro', 'Cisne nego')"
      ],
      "metadata": {
        "id": "jIHNrKG9b4Id",
        "colab": {
          "base_uri": "https://localhost:8080/"
        },
        "outputId": "cde6405c-ed2e-4afa-a604-11a75e677d9c"
      },
      "execution_count": null,
      "outputs": [
        {
          "output_type": "execute_result",
          "data": {
            "text/plain": [
              "2"
            ]
          },
          "metadata": {},
          "execution_count": 38
        }
      ]
    },
    {
      "cell_type": "code",
      "source": [
        "jellyfish.levenshtein_distance('Cisneee negro', 'Cisne nego')"
      ],
      "metadata": {
        "id": "t5g9Xy2bb4Zl",
        "colab": {
          "base_uri": "https://localhost:8080/"
        },
        "outputId": "6096db09-9aca-45c8-8f5c-2f1be94059f7"
      },
      "execution_count": null,
      "outputs": [
        {
          "output_type": "execute_result",
          "data": {
            "text/plain": [
              "3"
            ]
          },
          "metadata": {},
          "execution_count": 39
        }
      ]
    },
    {
      "cell_type": "markdown",
      "metadata": {
        "id": "PWAXMBK4ayKO"
      },
      "source": [
        "## Damerau-Levenshtein\n",
        "\n",
        "Recordemos: distancia de Edit (Edición) en la que las operaciones permitidas son la inserción, la eliminación y la transposición de 2 caracteres adyacentes."
      ]
    },
    {
      "cell_type": "code",
      "source": [
        "jellyfish.damerau_levenshtein_distance('Cisne negro', 'Cisne negro')"
      ],
      "metadata": {
        "id": "3JJLjn0wcDwK",
        "colab": {
          "base_uri": "https://localhost:8080/"
        },
        "outputId": "36597ac2-4fb4-4944-c8d6-a9dc3e7608c7"
      },
      "execution_count": null,
      "outputs": [
        {
          "output_type": "execute_result",
          "data": {
            "text/plain": [
              "0"
            ]
          },
          "metadata": {},
          "execution_count": 40
        }
      ]
    },
    {
      "cell_type": "code",
      "source": [
        "jellyfish.damerau_levenshtein_distance('Cisne negro', 'Cisne negor')"
      ],
      "metadata": {
        "id": "a1VfTf1CcD3B",
        "colab": {
          "base_uri": "https://localhost:8080/"
        },
        "outputId": "352bdd1f-fba8-4b96-f996-b54740071d12"
      },
      "execution_count": null,
      "outputs": [
        {
          "output_type": "execute_result",
          "data": {
            "text/plain": [
              "1"
            ]
          },
          "metadata": {},
          "execution_count": 45
        }
      ]
    },
    {
      "cell_type": "code",
      "source": [
        "jellyfish.damerau_levenshtein_distance('Cisne negro', 'Cisne nego')"
      ],
      "metadata": {
        "id": "-dJgKMnHcD-U",
        "colab": {
          "base_uri": "https://localhost:8080/"
        },
        "outputId": "324421a5-f054-4e3c-e66b-cbcc87362bfe"
      },
      "execution_count": null,
      "outputs": [
        {
          "output_type": "execute_result",
          "data": {
            "text/plain": [
              "1"
            ]
          },
          "metadata": {},
          "execution_count": 43
        }
      ]
    },
    {
      "cell_type": "code",
      "source": [
        "jellyfish.damerau_levenshtein_distance('Cisnee negro', 'Cisne nego')"
      ],
      "metadata": {
        "id": "jmW6hmMzcEF_",
        "colab": {
          "base_uri": "https://localhost:8080/"
        },
        "outputId": "4431619e-8b77-45db-b82c-c64a9e1670b6"
      },
      "execution_count": null,
      "outputs": [
        {
          "output_type": "execute_result",
          "data": {
            "text/plain": [
              "2"
            ]
          },
          "metadata": {},
          "execution_count": 42
        }
      ]
    },
    {
      "cell_type": "code",
      "source": [
        "jellyfish.damerau_levenshtein_distance('Cisneee negro', 'Cisne nego')"
      ],
      "metadata": {
        "id": "yjEsgBwkcEQ2",
        "colab": {
          "base_uri": "https://localhost:8080/"
        },
        "outputId": "70625c40-cf9e-4d61-c0dc-74bac516fca9"
      },
      "execution_count": null,
      "outputs": [
        {
          "output_type": "execute_result",
          "data": {
            "text/plain": [
              "3"
            ]
          },
          "metadata": {},
          "execution_count": 44
        }
      ]
    },
    {
      "cell_type": "markdown",
      "metadata": {
        "id": "VTwTtrKmayKP"
      },
      "source": [
        "## Jaro distance\n",
        "\n",
        "Recordemos: distancia de Edit (Edición) en la que la operacion permitida es la transposición."
      ]
    },
    {
      "cell_type": "code",
      "source": [
        "jellyfish.jaro_distance('Cisne negro', 'Cisne nego')"
      ],
      "metadata": {
        "id": "-paSGojldf-p",
        "colab": {
          "base_uri": "https://localhost:8080/"
        },
        "outputId": "1faf0e80-d24c-4d53-b7e7-00e72f117647"
      },
      "execution_count": null,
      "outputs": [
        {
          "output_type": "execute_result",
          "data": {
            "text/plain": [
              "0.9696969696969697"
            ]
          },
          "metadata": {},
          "execution_count": 46
        }
      ]
    },
    {
      "cell_type": "code",
      "source": [
        "jellyfish.jaro_distance('Cisnee negro', 'Cisne nego')"
      ],
      "metadata": {
        "id": "MggQBhoFdgFi",
        "colab": {
          "base_uri": "https://localhost:8080/"
        },
        "outputId": "6a76c3a3-9c3e-47ee-ecff-875636c89c00"
      },
      "execution_count": null,
      "outputs": [
        {
          "output_type": "execute_result",
          "data": {
            "text/plain": [
              "0.9111111111111111"
            ]
          },
          "metadata": {},
          "execution_count": 47
        }
      ]
    },
    {
      "cell_type": "code",
      "source": [
        "jellyfish.jaro_distance('Cisneee negro', 'Cisne nego')"
      ],
      "metadata": {
        "id": "ED8Ktgg9dgJk",
        "colab": {
          "base_uri": "https://localhost:8080/"
        },
        "outputId": "16c1a41b-0b16-497c-bbc4-5fe788e815ca"
      },
      "execution_count": null,
      "outputs": [
        {
          "output_type": "execute_result",
          "data": {
            "text/plain": [
              "0.8897435897435897"
            ]
          },
          "metadata": {},
          "execution_count": 48
        }
      ]
    }
  ],
  "metadata": {
    "colab": {
      "provenance": []
    },
    "kernelspec": {
      "display_name": "Python 3 (ipykernel)",
      "language": "python",
      "name": "python3"
    },
    "language_info": {
      "codemirror_mode": {
        "name": "ipython",
        "version": 3
      },
      "file_extension": ".py",
      "mimetype": "text/x-python",
      "name": "python",
      "nbconvert_exporter": "python",
      "pygments_lexer": "ipython3",
      "version": "3.9.13"
    }
  },
  "nbformat": 4,
  "nbformat_minor": 0
}