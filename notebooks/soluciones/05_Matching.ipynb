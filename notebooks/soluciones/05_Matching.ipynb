{
  "cells": [
    {
      "cell_type": "code",
      "source": [
        "!pip install unzip\n",
        "!pip install -r requirements.txt\n",
        "!pip install utils"
      ],
      "metadata": {
        "id": "X7afznzuZVKi",
        "colab": {
          "base_uri": "https://localhost:8080/",
          "height": 1000
        },
        "outputId": "87a5bdd0-1b83-446f-c362-fa8c2cc4d8a1"
      },
      "execution_count": 22,
      "outputs": [
        {
          "output_type": "stream",
          "name": "stdout",
          "text": [
            "Looking in indexes: https://pypi.org/simple, https://us-python.pkg.dev/colab-wheels/public/simple/\n",
            "Requirement already satisfied: unzip in /usr/local/lib/python3.8/dist-packages (1.0.0)\n",
            "Looking in indexes: https://pypi.org/simple, https://us-python.pkg.dev/colab-wheels/public/simple/\n",
            "Requirement already satisfied: gensim in /usr/local/lib/python3.8/dist-packages (from -r requirements.txt (line 1)) (3.6.0)\n",
            "Requirement already satisfied: ipykernel in /usr/local/lib/python3.8/dist-packages (from -r requirements.txt (line 2)) (5.3.4)\n",
            "Requirement already satisfied: ipython in /usr/local/lib/python3.8/dist-packages (from -r requirements.txt (line 3)) (7.9.0)\n",
            "Collecting jellyfish\n",
            "  Downloading jellyfish-0.9.0.tar.gz (132 kB)\n",
            "\u001b[2K     \u001b[90m━━━━━━━━━━━━━━━━━━━━━━━━━━━━━━━━━━━━━━━\u001b[0m \u001b[32m132.6/132.6 KB\u001b[0m \u001b[31m3.4 MB/s\u001b[0m eta \u001b[36m0:00:00\u001b[0m\n",
            "\u001b[?25h  Preparing metadata (setup.py) ... \u001b[?25l\u001b[?25hdone\n",
            "Requirement already satisfied: lxml in /usr/local/lib/python3.8/dist-packages (from -r requirements.txt (line 5)) (4.9.2)\n",
            "Requirement already satisfied: keras in /usr/local/lib/python3.8/dist-packages (from -r requirements.txt (line 6)) (2.11.0)\n",
            "Requirement already satisfied: matplotlib in /usr/local/lib/python3.8/dist-packages (from -r requirements.txt (line 7)) (3.2.2)\n",
            "Requirement already satisfied: nltk in /usr/local/lib/python3.8/dist-packages (from -r requirements.txt (line 8)) (3.7)\n",
            "Collecting num2words\n",
            "  Downloading num2words-0.5.12-py3-none-any.whl (125 kB)\n",
            "\u001b[2K     \u001b[90m━━━━━━━━━━━━━━━━━━━━━━━━━━━━━━━━━━━━━━\u001b[0m \u001b[32m125.2/125.2 KB\u001b[0m \u001b[31m14.3 MB/s\u001b[0m eta \u001b[36m0:00:00\u001b[0m\n",
            "\u001b[?25hRequirement already satisfied: numpy in /usr/local/lib/python3.8/dist-packages (from -r requirements.txt (line 10)) (1.21.6)\n",
            "Requirement already satisfied: pandas in /usr/local/lib/python3.8/dist-packages (from -r requirements.txt (line 11)) (1.3.5)\n",
            "Collecting plotly_express\n",
            "  Downloading plotly_express-0.4.1-py2.py3-none-any.whl (2.9 kB)\n",
            "Collecting pyDAWG\n",
            "  Downloading pyDAWG-1.0.1.tar.gz (28 kB)\n",
            "  Preparing metadata (setup.py) ... \u001b[?25l\u001b[?25hdone\n",
            "Collecting pyLDAvis\n",
            "  Downloading pyLDAvis-3.4.0-py3-none-any.whl (2.6 MB)\n",
            "\u001b[2K     \u001b[90m━━━━━━━━━━━━━━━━━━━━━━━━━━━━━━━━━━━━━━━━\u001b[0m \u001b[32m2.6/2.6 MB\u001b[0m \u001b[31m37.2 MB/s\u001b[0m eta \u001b[36m0:00:00\u001b[0m\n",
            "\u001b[?25hRequirement already satisfied: scikit-learn in /usr/local/lib/python3.8/dist-packages (from -r requirements.txt (line 15)) (1.0.2)\n",
            "Requirement already satisfied: scipy in /usr/local/lib/python3.8/dist-packages (from -r requirements.txt (line 16)) (1.7.3)\n",
            "Collecting sklearn_crfsuite\n",
            "  Downloading sklearn_crfsuite-0.3.6-py2.py3-none-any.whl (12 kB)\n",
            "Collecting stop_words\n",
            "  Downloading stop-words-2018.7.23.tar.gz (31 kB)\n",
            "  Preparing metadata (setup.py) ... \u001b[?25l\u001b[?25hdone\n",
            "Requirement already satisfied: tensorflow in /usr/local/lib/python3.8/dist-packages (from -r requirements.txt (line 19)) (2.11.0)\n",
            "Requirement already satisfied: tqdm in /usr/local/lib/python3.8/dist-packages (from -r requirements.txt (line 20)) (4.64.1)\n",
            "Requirement already satisfied: wordcloud in /usr/local/lib/python3.8/dist-packages (from -r requirements.txt (line 21)) (1.8.2.2)\n",
            "Requirement already satisfied: six>=1.5.0 in /usr/local/lib/python3.8/dist-packages (from gensim->-r requirements.txt (line 1)) (1.15.0)\n",
            "Requirement already satisfied: smart-open>=1.2.1 in /usr/local/lib/python3.8/dist-packages (from gensim->-r requirements.txt (line 1)) (6.3.0)\n",
            "Requirement already satisfied: tornado>=4.2 in /usr/local/lib/python3.8/dist-packages (from ipykernel->-r requirements.txt (line 2)) (6.2)\n",
            "Requirement already satisfied: jupyter-client in /usr/local/lib/python3.8/dist-packages (from ipykernel->-r requirements.txt (line 2)) (6.1.12)\n",
            "Requirement already satisfied: traitlets>=4.1.0 in /usr/local/lib/python3.8/dist-packages (from ipykernel->-r requirements.txt (line 2)) (5.7.1)\n",
            "Requirement already satisfied: prompt-toolkit<2.1.0,>=2.0.0 in /usr/local/lib/python3.8/dist-packages (from ipython->-r requirements.txt (line 3)) (2.0.10)\n",
            "Requirement already satisfied: pexpect in /usr/local/lib/python3.8/dist-packages (from ipython->-r requirements.txt (line 3)) (4.8.0)\n",
            "Requirement already satisfied: decorator in /usr/local/lib/python3.8/dist-packages (from ipython->-r requirements.txt (line 3)) (4.4.2)\n",
            "Requirement already satisfied: pygments in /usr/local/lib/python3.8/dist-packages (from ipython->-r requirements.txt (line 3)) (2.6.1)\n",
            "Requirement already satisfied: setuptools>=18.5 in /usr/local/lib/python3.8/dist-packages (from ipython->-r requirements.txt (line 3)) (57.4.0)\n",
            "Collecting jedi>=0.10\n",
            "  Downloading jedi-0.18.2-py2.py3-none-any.whl (1.6 MB)\n",
            "\u001b[2K     \u001b[90m━━━━━━━━━━━━━━━━━━━━━━━━━━━━━━━━━━━━━━━━\u001b[0m \u001b[32m1.6/1.6 MB\u001b[0m \u001b[31m57.8 MB/s\u001b[0m eta \u001b[36m0:00:00\u001b[0m\n",
            "\u001b[?25hRequirement already satisfied: backcall in /usr/local/lib/python3.8/dist-packages (from ipython->-r requirements.txt (line 3)) (0.2.0)\n",
            "Requirement already satisfied: pickleshare in /usr/local/lib/python3.8/dist-packages (from ipython->-r requirements.txt (line 3)) (0.7.5)\n",
            "Requirement already satisfied: pyparsing!=2.0.4,!=2.1.2,!=2.1.6,>=2.0.1 in /usr/local/lib/python3.8/dist-packages (from matplotlib->-r requirements.txt (line 7)) (3.0.9)\n",
            "Requirement already satisfied: kiwisolver>=1.0.1 in /usr/local/lib/python3.8/dist-packages (from matplotlib->-r requirements.txt (line 7)) (1.4.4)\n",
            "Requirement already satisfied: cycler>=0.10 in /usr/local/lib/python3.8/dist-packages (from matplotlib->-r requirements.txt (line 7)) (0.11.0)\n",
            "Requirement already satisfied: python-dateutil>=2.1 in /usr/local/lib/python3.8/dist-packages (from matplotlib->-r requirements.txt (line 7)) (2.8.2)\n",
            "Requirement already satisfied: regex>=2021.8.3 in /usr/local/lib/python3.8/dist-packages (from nltk->-r requirements.txt (line 8)) (2022.6.2)\n",
            "Requirement already satisfied: joblib in /usr/local/lib/python3.8/dist-packages (from nltk->-r requirements.txt (line 8)) (1.2.0)\n",
            "Requirement already satisfied: click in /usr/local/lib/python3.8/dist-packages (from nltk->-r requirements.txt (line 8)) (7.1.2)\n",
            "Collecting docopt>=0.6.2\n",
            "  Downloading docopt-0.6.2.tar.gz (25 kB)\n",
            "  Preparing metadata (setup.py) ... \u001b[?25l\u001b[?25hdone\n",
            "Requirement already satisfied: pytz>=2017.3 in /usr/local/lib/python3.8/dist-packages (from pandas->-r requirements.txt (line 11)) (2022.7.1)\n",
            "Requirement already satisfied: patsy>=0.5 in /usr/local/lib/python3.8/dist-packages (from plotly_express->-r requirements.txt (line 12)) (0.5.3)\n",
            "Requirement already satisfied: statsmodels>=0.9.0 in /usr/local/lib/python3.8/dist-packages (from plotly_express->-r requirements.txt (line 12)) (0.12.2)\n",
            "Requirement already satisfied: plotly>=4.1.0 in /usr/local/lib/python3.8/dist-packages (from plotly_express->-r requirements.txt (line 12)) (5.5.0)\n",
            "Collecting numpy\n",
            "  Downloading numpy-1.24.2-cp38-cp38-manylinux_2_17_x86_64.manylinux2014_x86_64.whl (17.3 MB)\n",
            "\u001b[2K     \u001b[90m━━━━━━━━━━━━━━━━━━━━━━━━━━━━━━━━━━━━━━━━\u001b[0m \u001b[32m17.3/17.3 MB\u001b[0m \u001b[31m56.6 MB/s\u001b[0m eta \u001b[36m0:00:00\u001b[0m\n",
            "\u001b[?25hCollecting funcy\n",
            "  Downloading funcy-1.18-py2.py3-none-any.whl (33 kB)\n",
            "Requirement already satisfied: jinja2 in /usr/local/lib/python3.8/dist-packages (from pyLDAvis->-r requirements.txt (line 14)) (2.11.3)\n",
            "Requirement already satisfied: numexpr in /usr/local/lib/python3.8/dist-packages (from pyLDAvis->-r requirements.txt (line 14)) (2.8.4)\n",
            "Requirement already satisfied: threadpoolctl>=2.0.0 in /usr/local/lib/python3.8/dist-packages (from scikit-learn->-r requirements.txt (line 15)) (3.1.0)\n",
            "Collecting numpy\n",
            "  Downloading numpy-1.22.4-cp38-cp38-manylinux_2_17_x86_64.manylinux2014_x86_64.whl (16.9 MB)\n",
            "\u001b[2K     \u001b[90m━━━━━━━━━━━━━━━━━━━━━━━━━━━━━━━━━━━━━━━━\u001b[0m \u001b[32m16.9/16.9 MB\u001b[0m \u001b[31m61.8 MB/s\u001b[0m eta \u001b[36m0:00:00\u001b[0m\n",
            "\u001b[?25hCollecting python-crfsuite>=0.8.3\n",
            "  Downloading python_crfsuite-0.9.9-cp38-cp38-manylinux_2_17_x86_64.manylinux2014_x86_64.whl (1.0 MB)\n",
            "\u001b[2K     \u001b[90m━━━━━━━━━━━━━━━━━━━━━━━━━━━━━━━━━━━━━━━━\u001b[0m \u001b[32m1.0/1.0 MB\u001b[0m \u001b[31m43.3 MB/s\u001b[0m eta \u001b[36m0:00:00\u001b[0m\n",
            "\u001b[?25hRequirement already satisfied: tabulate in /usr/local/lib/python3.8/dist-packages (from sklearn_crfsuite->-r requirements.txt (line 17)) (0.8.10)\n",
            "Requirement already satisfied: gast<=0.4.0,>=0.2.1 in /usr/local/lib/python3.8/dist-packages (from tensorflow->-r requirements.txt (line 19)) (0.4.0)\n",
            "Requirement already satisfied: tensorflow-estimator<2.12,>=2.11.0 in /usr/local/lib/python3.8/dist-packages (from tensorflow->-r requirements.txt (line 19)) (2.11.0)\n",
            "Requirement already satisfied: grpcio<2.0,>=1.24.3 in /usr/local/lib/python3.8/dist-packages (from tensorflow->-r requirements.txt (line 19)) (1.51.1)\n",
            "Requirement already satisfied: typing-extensions>=3.6.6 in /usr/local/lib/python3.8/dist-packages (from tensorflow->-r requirements.txt (line 19)) (4.5.0)\n",
            "Requirement already satisfied: astunparse>=1.6.0 in /usr/local/lib/python3.8/dist-packages (from tensorflow->-r requirements.txt (line 19)) (1.6.3)\n",
            "Requirement already satisfied: opt-einsum>=2.3.2 in /usr/local/lib/python3.8/dist-packages (from tensorflow->-r requirements.txt (line 19)) (3.3.0)\n",
            "Requirement already satisfied: packaging in /usr/local/lib/python3.8/dist-packages (from tensorflow->-r requirements.txt (line 19)) (23.0)\n",
            "Requirement already satisfied: wrapt>=1.11.0 in /usr/local/lib/python3.8/dist-packages (from tensorflow->-r requirements.txt (line 19)) (1.14.1)\n",
            "Requirement already satisfied: h5py>=2.9.0 in /usr/local/lib/python3.8/dist-packages (from tensorflow->-r requirements.txt (line 19)) (3.1.0)\n",
            "Requirement already satisfied: tensorboard<2.12,>=2.11 in /usr/local/lib/python3.8/dist-packages (from tensorflow->-r requirements.txt (line 19)) (2.11.2)\n",
            "Requirement already satisfied: absl-py>=1.0.0 in /usr/local/lib/python3.8/dist-packages (from tensorflow->-r requirements.txt (line 19)) (1.4.0)\n",
            "Requirement already satisfied: libclang>=13.0.0 in /usr/local/lib/python3.8/dist-packages (from tensorflow->-r requirements.txt (line 19)) (15.0.6.1)\n",
            "Requirement already satisfied: google-pasta>=0.1.1 in /usr/local/lib/python3.8/dist-packages (from tensorflow->-r requirements.txt (line 19)) (0.2.0)\n",
            "Requirement already satisfied: tensorflow-io-gcs-filesystem>=0.23.1 in /usr/local/lib/python3.8/dist-packages (from tensorflow->-r requirements.txt (line 19)) (0.30.0)\n",
            "Requirement already satisfied: flatbuffers>=2.0 in /usr/local/lib/python3.8/dist-packages (from tensorflow->-r requirements.txt (line 19)) (23.1.21)\n",
            "Requirement already satisfied: protobuf<3.20,>=3.9.2 in /usr/local/lib/python3.8/dist-packages (from tensorflow->-r requirements.txt (line 19)) (3.19.6)\n",
            "Requirement already satisfied: termcolor>=1.1.0 in /usr/local/lib/python3.8/dist-packages (from tensorflow->-r requirements.txt (line 19)) (2.2.0)\n",
            "Requirement already satisfied: pillow in /usr/local/lib/python3.8/dist-packages (from wordcloud->-r requirements.txt (line 21)) (7.1.2)\n",
            "Requirement already satisfied: wheel<1.0,>=0.23.0 in /usr/local/lib/python3.8/dist-packages (from astunparse>=1.6.0->tensorflow->-r requirements.txt (line 19)) (0.38.4)\n",
            "Requirement already satisfied: parso<0.9.0,>=0.8.0 in /usr/local/lib/python3.8/dist-packages (from jedi>=0.10->ipython->-r requirements.txt (line 3)) (0.8.3)\n",
            "Requirement already satisfied: tenacity>=6.2.0 in /usr/local/lib/python3.8/dist-packages (from plotly>=4.1.0->plotly_express->-r requirements.txt (line 12)) (8.2.1)\n",
            "Requirement already satisfied: wcwidth in /usr/local/lib/python3.8/dist-packages (from prompt-toolkit<2.1.0,>=2.0.0->ipython->-r requirements.txt (line 3)) (0.2.6)\n",
            "Requirement already satisfied: tensorboard-data-server<0.7.0,>=0.6.0 in /usr/local/lib/python3.8/dist-packages (from tensorboard<2.12,>=2.11->tensorflow->-r requirements.txt (line 19)) (0.6.1)\n",
            "Requirement already satisfied: google-auth-oauthlib<0.5,>=0.4.1 in /usr/local/lib/python3.8/dist-packages (from tensorboard<2.12,>=2.11->tensorflow->-r requirements.txt (line 19)) (0.4.6)\n",
            "Requirement already satisfied: tensorboard-plugin-wit>=1.6.0 in /usr/local/lib/python3.8/dist-packages (from tensorboard<2.12,>=2.11->tensorflow->-r requirements.txt (line 19)) (1.8.1)\n",
            "Requirement already satisfied: requests<3,>=2.21.0 in /usr/local/lib/python3.8/dist-packages (from tensorboard<2.12,>=2.11->tensorflow->-r requirements.txt (line 19)) (2.25.1)\n",
            "Requirement already satisfied: werkzeug>=1.0.1 in /usr/local/lib/python3.8/dist-packages (from tensorboard<2.12,>=2.11->tensorflow->-r requirements.txt (line 19)) (1.0.1)\n",
            "Requirement already satisfied: google-auth<3,>=1.6.3 in /usr/local/lib/python3.8/dist-packages (from tensorboard<2.12,>=2.11->tensorflow->-r requirements.txt (line 19)) (2.16.0)\n",
            "Requirement already satisfied: markdown>=2.6.8 in /usr/local/lib/python3.8/dist-packages (from tensorboard<2.12,>=2.11->tensorflow->-r requirements.txt (line 19)) (3.4.1)\n",
            "Requirement already satisfied: MarkupSafe>=0.23 in /usr/local/lib/python3.8/dist-packages (from jinja2->pyLDAvis->-r requirements.txt (line 14)) (2.0.1)\n",
            "Requirement already satisfied: jupyter-core>=4.6.0 in /usr/local/lib/python3.8/dist-packages (from jupyter-client->ipykernel->-r requirements.txt (line 2)) (5.2.0)\n",
            "Requirement already satisfied: pyzmq>=13 in /usr/local/lib/python3.8/dist-packages (from jupyter-client->ipykernel->-r requirements.txt (line 2)) (23.2.1)\n",
            "Requirement already satisfied: ptyprocess>=0.5 in /usr/local/lib/python3.8/dist-packages (from pexpect->ipython->-r requirements.txt (line 3)) (0.7.0)\n",
            "Requirement already satisfied: pyasn1-modules>=0.2.1 in /usr/local/lib/python3.8/dist-packages (from google-auth<3,>=1.6.3->tensorboard<2.12,>=2.11->tensorflow->-r requirements.txt (line 19)) (0.2.8)\n",
            "Requirement already satisfied: rsa<5,>=3.1.4 in /usr/local/lib/python3.8/dist-packages (from google-auth<3,>=1.6.3->tensorboard<2.12,>=2.11->tensorflow->-r requirements.txt (line 19)) (4.9)\n",
            "Requirement already satisfied: cachetools<6.0,>=2.0.0 in /usr/local/lib/python3.8/dist-packages (from google-auth<3,>=1.6.3->tensorboard<2.12,>=2.11->tensorflow->-r requirements.txt (line 19)) (5.3.0)\n",
            "Requirement already satisfied: requests-oauthlib>=0.7.0 in /usr/local/lib/python3.8/dist-packages (from google-auth-oauthlib<0.5,>=0.4.1->tensorboard<2.12,>=2.11->tensorflow->-r requirements.txt (line 19)) (1.3.1)\n",
            "Requirement already satisfied: platformdirs>=2.5 in /usr/local/lib/python3.8/dist-packages (from jupyter-core>=4.6.0->jupyter-client->ipykernel->-r requirements.txt (line 2)) (3.0.0)\n",
            "Requirement already satisfied: importlib-metadata>=4.4 in /usr/local/lib/python3.8/dist-packages (from markdown>=2.6.8->tensorboard<2.12,>=2.11->tensorflow->-r requirements.txt (line 19)) (6.0.0)\n",
            "Requirement already satisfied: idna<3,>=2.5 in /usr/local/lib/python3.8/dist-packages (from requests<3,>=2.21.0->tensorboard<2.12,>=2.11->tensorflow->-r requirements.txt (line 19)) (2.10)\n",
            "Requirement already satisfied: urllib3<1.27,>=1.21.1 in /usr/local/lib/python3.8/dist-packages (from requests<3,>=2.21.0->tensorboard<2.12,>=2.11->tensorflow->-r requirements.txt (line 19)) (1.24.3)\n",
            "Requirement already satisfied: chardet<5,>=3.0.2 in /usr/local/lib/python3.8/dist-packages (from requests<3,>=2.21.0->tensorboard<2.12,>=2.11->tensorflow->-r requirements.txt (line 19)) (4.0.0)\n",
            "Requirement already satisfied: certifi>=2017.4.17 in /usr/local/lib/python3.8/dist-packages (from requests<3,>=2.21.0->tensorboard<2.12,>=2.11->tensorflow->-r requirements.txt (line 19)) (2022.12.7)\n",
            "Requirement already satisfied: zipp>=0.5 in /usr/local/lib/python3.8/dist-packages (from importlib-metadata>=4.4->markdown>=2.6.8->tensorboard<2.12,>=2.11->tensorflow->-r requirements.txt (line 19)) (3.13.0)\n",
            "Requirement already satisfied: pyasn1<0.5.0,>=0.4.6 in /usr/local/lib/python3.8/dist-packages (from pyasn1-modules>=0.2.1->google-auth<3,>=1.6.3->tensorboard<2.12,>=2.11->tensorflow->-r requirements.txt (line 19)) (0.4.8)\n",
            "Requirement already satisfied: oauthlib>=3.0.0 in /usr/local/lib/python3.8/dist-packages (from requests-oauthlib>=0.7.0->google-auth-oauthlib<0.5,>=0.4.1->tensorboard<2.12,>=2.11->tensorflow->-r requirements.txt (line 19)) (3.2.2)\n",
            "Building wheels for collected packages: jellyfish, pyDAWG, stop_words, docopt\n",
            "  Building wheel for jellyfish (setup.py) ... \u001b[?25l\u001b[?25hdone\n",
            "  Created wheel for jellyfish: filename=jellyfish-0.9.0-cp38-cp38-linux_x86_64.whl size=77901 sha256=7bf051190f8d0250b3dc370db35dd838eb5b5e047df0c0d79b03bcac91f0bdd3\n",
            "  Stored in directory: /root/.cache/pip/wheels/f1/c7/3c/4c83132de76359e3a429fd09c08995945ca96c5290a41651d3\n",
            "  Building wheel for pyDAWG (setup.py) ... \u001b[?25l\u001b[?25hdone\n",
            "  Created wheel for pyDAWG: filename=pyDAWG-1.0.1-cp38-cp38-linux_x86_64.whl size=66442 sha256=0727788761a98871fcb69a7795c8dfc8e9af6c12b382c6b2a379ff3b2928958d\n",
            "  Stored in directory: /root/.cache/pip/wheels/1d/54/df/5b90df07c98caac74d09973a9258b50e06ba37bb08a4ef0600\n",
            "  Building wheel for stop_words (setup.py) ... \u001b[?25l\u001b[?25hdone\n",
            "  Created wheel for stop_words: filename=stop_words-2018.7.23-py3-none-any.whl size=32910 sha256=09762636ef9f27cd6f64d93ccf3d9c8138ba829e199256887b5296547611d79f\n",
            "  Stored in directory: /root/.cache/pip/wheels/eb/03/0d/3bd31c983789aeb0b4d5e2ca48590288d9db1586cf5f225062\n",
            "  Building wheel for docopt (setup.py) ... \u001b[?25l\u001b[?25hdone\n",
            "  Created wheel for docopt: filename=docopt-0.6.2-py2.py3-none-any.whl size=13723 sha256=f460fe19edc770f4b39e6272873ad71abbe5f46b1837492bcac43e431bff5568\n",
            "  Stored in directory: /root/.cache/pip/wheels/56/ea/58/ead137b087d9e326852a851351d1debf4ada529b6ac0ec4e8c\n",
            "Successfully built jellyfish pyDAWG stop_words docopt\n",
            "Installing collected packages: stop_words, python-crfsuite, pyDAWG, funcy, docopt, sklearn_crfsuite, numpy, num2words, jellyfish, jedi, pyLDAvis, plotly_express\n",
            "  Attempting uninstall: numpy\n",
            "    Found existing installation: numpy 1.21.6\n",
            "    Uninstalling numpy-1.21.6:\n",
            "      Successfully uninstalled numpy-1.21.6\n",
            "Successfully installed docopt-0.6.2 funcy-1.18 jedi-0.18.2 jellyfish-0.9.0 num2words-0.5.12 numpy-1.22.4 plotly_express-0.4.1 pyDAWG-1.0.1 pyLDAvis-3.4.0 python-crfsuite-0.9.9 sklearn_crfsuite-0.3.6 stop_words-2018.7.23\n"
          ]
        },
        {
          "output_type": "display_data",
          "data": {
            "application/vnd.colab-display-data+json": {
              "pip_warning": {
                "packages": [
                  "numpy"
                ]
              }
            }
          },
          "metadata": {}
        },
        {
          "output_type": "stream",
          "name": "stdout",
          "text": [
            "Looking in indexes: https://pypi.org/simple, https://us-python.pkg.dev/colab-wheels/public/simple/\n",
            "Requirement already satisfied: utils in /usr/local/lib/python3.8/dist-packages (1.0.1)\n"
          ]
        }
      ]
    },
    {
      "cell_type": "markdown",
      "metadata": {
        "id": "9Kix6HEEayKD"
      },
      "source": [
        "# Introducción\n",
        "\n",
        "El objetivo principal de los algoritmos de _matching_ es el de, dado un fragmento de texto, encontrar, de entre un conjunto de candidatos, los textos más similares al fragmento orginial.\n",
        "\n",
        "Como texto podemos pensar tanto en palabras, en pequeñas frases o en documentos enteros.\n",
        "\n",
        "Podemos pensar en 3 tipos de técnicas de matching:\n",
        "- **Coincidencia exacta**: ya vimos ejemplos de este tipo al estudiar la **Distancia de Edición**.\n",
        "    - A nivel de carácter: strings que difieren en caracteres\n",
        "    - A nivel de token: strings que difieren en palabras\n",
        "    - Fonéticos: palabras que suenan de manera similar\n",
        "- **Coincidencia aproximada o difusa**\n",
        "- **Coincidencia mediante aproximaciones**\n",
        "\n",
        "| Candidato / Tipo de resultado \t| Exacta \t| Aproximada \t| Transformación \t|\n",
        "|-\t|-\t|-\t|-\t|\n",
        "| String \t| Comparación de strings \t| Comparación difusa \t| Ontologías \t|\n",
        "| Categoría \t| Gramáticas \t| Reconocimiento probabilístico \t| Análisis de topics \t|\n",
        "| Documento \t| - \t| Recuperación de información \t| Traducción automática \t|"
      ]
    },
    {
      "cell_type": "markdown",
      "metadata": {
        "id": "6fAtoLRqcxV-"
      },
      "source": [
        "# Regular expressions (Regex)\n",
        "\n",
        "Muy utilizadas (y conocidas) suelen emplearse al limpiar el texto o buscar formatos dentro del texto. A modo introductorio, las expresiones regulares son una forma de finite state automaton.\n",
        "\n",
        "<img src=http://www.cs.cornell.edu/courses/cs312/2006fa/recitations/images/dfa-examples.gif>\n",
        "\n",
        "Son grafos que siguen una secuencia que nosotros definimos. Por ejemplo, el grafo de la izquierda, solo podría generar expresiones como ab, abb, abbb, abbbb y así hasta el infinito. El de la derecha, podría generar expresiones como abcb, o abbb, abbbbbb, por ejemplo.\n",
        "\n",
        "Conceptualmente, las regex _funcionan_ así _por debajo_. Lógicamente cuando las usamos es mucho más fácil, ¿verdad :D?\n",
        "\n",
        "La definición de estos grafos es posible mediante la [librería de Python re](https://docs.python.org/3/library/re.html), módulo del paquete base de Python dedicado a las expresiones regulares.\n",
        "\n",
        "Cierto es que no siempre nos hará falta. Algunas veces con un simple _string.replace()_ o _string.find()_ tendremos suficiente. No obstante, para muchas tareas son bastante útiles.\n",
        "\n",
        "Algunas tareas típicas en las que se utilizan son la búsqueda (y a veces normalización) de emails, urls, numeros de telefono, etc. Solo la extracción es interesante, pero mediante su normalización nos permite reducir la cardinalidad del vocabulario y asociar entidades similares a un mismo alias.\n",
        "\n",
        "[Regex Online](https://regexr.com/) es uno de los mejores recursos online para visualizar que hacen los regex\n",
        "\n",
        "Veamos algunos ejemplos."
      ]
    },
    {
      "cell_type": "markdown",
      "source": [],
      "metadata": {
        "id": "_KqmU4ZeqwtW"
      }
    },
    {
      "cell_type": "markdown",
      "source": [],
      "metadata": {
        "id": "1acJWFL4qwvr"
      }
    },
    {
      "cell_type": "code",
      "execution_count": 1,
      "metadata": {
        "id": "aVNaYYv3cxV7"
      },
      "outputs": [],
      "source": [
        "# Función que nos ayudará a visualizar algunos resultados\n",
        "\n",
        "from termcolor import colored\n",
        "def test_pass(ok, text):\n",
        "    color = 'green' if ok else 'red'\n",
        "    return colored(text, color) "
      ]
    },
    {
      "cell_type": "code",
      "execution_count": 5,
      "metadata": {
        "id": "4cn_YtqeayKI"
      },
      "outputs": [],
      "source": [
        "import re"
      ]
    },
    {
      "cell_type": "code",
      "execution_count": 6,
      "metadata": {
        "id": "maJ7nCuRayKI"
      },
      "outputs": [],
      "source": [
        "text = 'Todos los animales son iguales, pero algunos son más iguales que otros'"
      ]
    },
    {
      "cell_type": "code",
      "execution_count": 7,
      "metadata": {
        "colab": {
          "base_uri": "https://localhost:8080/"
        },
        "id": "pH9PfXeGayKI",
        "outputId": "5eff8639-f467-43a3-a26c-c2e684ff2c87"
      },
      "outputs": [
        {
          "output_type": "stream",
          "name": "stdout",
          "text": [
            "None\n"
          ]
        }
      ],
      "source": [
        "RE_TEST = re.compile(r'todos')\n",
        "print(RE_TEST.match(text))"
      ]
    },
    {
      "cell_type": "code",
      "execution_count": 8,
      "metadata": {
        "scrolled": true,
        "colab": {
          "base_uri": "https://localhost:8080/"
        },
        "id": "BAzhGWx2ayKJ",
        "outputId": "142f9341-851a-4147-8d82-dbfc4cabb04a"
      },
      "outputs": [
        {
          "output_type": "stream",
          "name": "stdout",
          "text": [
            "<re.Match object; span=(0, 5), match='Todos'>\n"
          ]
        }
      ],
      "source": [
        "RE_TEST = re.compile(r'Todos')\n",
        "print(RE_TEST.match(text))"
      ]
    },
    {
      "cell_type": "code",
      "execution_count": 9,
      "metadata": {
        "colab": {
          "base_uri": "https://localhost:8080/"
        },
        "id": "xGCJgs2LayKJ",
        "outputId": "843144da-39c2-4933-b1cf-360a8b72c0a7"
      },
      "outputs": [
        {
          "output_type": "stream",
          "name": "stdout",
          "text": [
            "<re.Match object; span=(0, 1), match='T'>\n"
          ]
        }
      ],
      "source": [
        "RE_TEST = re.compile(r'[a-zA-Z]')\n",
        "print(RE_TEST.match(text))"
      ]
    },
    {
      "cell_type": "code",
      "execution_count": 10,
      "metadata": {
        "colab": {
          "base_uri": "https://localhost:8080/"
        },
        "id": "b4AHDZcfayKK",
        "outputId": "bd93ba95-9cea-48aa-9dcf-e154450072d4"
      },
      "outputs": [
        {
          "output_type": "stream",
          "name": "stdout",
          "text": [
            "<re.Match object; span=(0, 5), match='Todos'>\n"
          ]
        }
      ],
      "source": [
        "RE_TEST = re.compile(r'\\bTodos\\b')\n",
        "print(RE_TEST.match(text))"
      ]
    },
    {
      "cell_type": "code",
      "execution_count": 11,
      "metadata": {
        "colab": {
          "base_uri": "https://localhost:8080/"
        },
        "id": "mEJooVfIayKK",
        "outputId": "b7e43b93-48d8-4f19-dc49-f91bdd4d4f6c"
      },
      "outputs": [
        {
          "output_type": "stream",
          "name": "stdout",
          "text": [
            "None\n"
          ]
        }
      ],
      "source": [
        "RE_TEST = re.compile(r'\\bTod\\b')\n",
        "print(RE_TEST.match(text))"
      ]
    },
    {
      "cell_type": "markdown",
      "metadata": {
        "id": "LYl1HWnqcxWe"
      },
      "source": [
        "## Obtener un correo electrónico"
      ]
    },
    {
      "cell_type": "code",
      "execution_count": 12,
      "metadata": {
        "id": "Gdbhnbp1cxWe"
      },
      "outputs": [],
      "source": [
        "\"\"\"\n",
        "^ -> start of string\n",
        "+ -> match 1 or more preceding regex\n",
        "[^@]+\n",
        "@[^@]+\n",
        "\\. -> '.'\n",
        "\"\"\"\n",
        "\n",
        "RE_EMAIL = re.compile('[^@]+@[^@]+\\.[^@]+')"
      ]
    },
    {
      "cell_type": "code",
      "source": [
        "emails_list = [\n",
        "    '@invalid@adress.com',\n",
        "    'correo_valido@gmail.com',\n",
        "    'notan@valido@gmail.com',\n",
        "    'si.valido.david@gmail.com',\n",
        "    'paginaweb.com',\n",
        "    'paginaweb.com@paginaweb.com'\n",
        "]\n",
        "for email in emails_list:\n",
        "    if RE_EMAIL.match(email):\n",
        "        print(True)\n",
        "        print(test_pass(True, email))\n",
        "        print('___')\n",
        "    else:\n",
        "        print(False)\n",
        "        print(test_pass(False, email))\n",
        "        print('___')"
      ],
      "metadata": {
        "id": "rax_iSyQZfeB",
        "colab": {
          "base_uri": "https://localhost:8080/"
        },
        "outputId": "681cf23f-53e7-4d0c-ced2-ca8daf785958"
      },
      "execution_count": 13,
      "outputs": [
        {
          "output_type": "stream",
          "name": "stdout",
          "text": [
            "False\n",
            "@invalid@adress.com\n",
            "___\n",
            "True\n",
            "correo_valido@gmail.com\n",
            "___\n",
            "False\n",
            "notan@valido@gmail.com\n",
            "___\n",
            "True\n",
            "si.valido.david@gmail.com\n",
            "___\n",
            "False\n",
            "paginaweb.com\n",
            "___\n",
            "True\n",
            "paginaweb.com@paginaweb.com\n",
            "___\n"
          ]
        }
      ]
    },
    {
      "cell_type": "markdown",
      "metadata": {
        "id": "guXnMjYrcxWs"
      },
      "source": [
        "## Obtener precios"
      ]
    },
    {
      "cell_type": "code",
      "source": [
        "from random import shuffle\n",
        "import unicodedata\n",
        "\n",
        "CURRENCIES = ''.join(chr(i) for i in range(0xffff) if unicodedata.category(chr(i)) == 'Sc')\n",
        "RE_MONEY_GENERAL= re.compile('((\\s|^)([\\d]*)(\\.)?([\\d])*([%s]|e|USD|USD\\$|U\\$D)(\\s|$))'\n",
        "                          '|((\\s|^)([%s]|e|USD|USD\\$|U\\$D)([\\d])*(\\.)?([\\d])*(\\s|$))'%(CURRENCIES, CURRENCIES), re.IGNORECASE)\n",
        "RE_MONEY_EU= re.compile('((\\s|^)([\\d]{0,3}([\\.][\\d]{3})(,[\\d]*))([%s]|e|(USD|USD\\$|U\\$D))(\\s|$))'\n",
        "                     '|((\\s|^)([%s]|e|(USD|USD\\$|U\\$D))([\\d]{0,3}([\\.][\\d]{3})(,[\\d]*))(\\s|$))'%(CURRENCIES, CURRENCIES), re.IGNORECASE)\n",
        "RE_MONEY_EU_INVERSE= re.compile('((\\s|^)([\\d]{0,3}([,][\\d]{3})(\\.[\\d]*))([%s]|e|(USD|USD\\$|U\\$D))(\\s|$))'\n",
        "                             '|((\\s|^)([%s]|e|(USD|USD\\$|U\\$D))([\\d]{0,3}([,][\\d]{3})(\\.[\\d]*))(\\s|$))'%(CURRENCIES, CURRENCIES), re.IGNORECASE)\n"
      ],
      "metadata": {
        "id": "k3OdYu4-ZkuY"
      },
      "execution_count": 14,
      "outputs": []
    },
    {
      "cell_type": "code",
      "source": [
        "correct_currencies = [\n",
        "    '$20.2',\n",
        "    '$.2',\n",
        "    '$0.2',\n",
        "    '$3433.2',\n",
        "    '.2$',\n",
        "    '2.0$',\n",
        "    '2.$',\n",
        "    '2.0€',\n",
        "    '2¥',\n",
        "    '20USD',\n",
        "    '20e',\n",
        "    '20 €',\n",
        "    '20 usd',\n",
        "    '€200.123,2',\n",
        "    '2.134,56$',\n",
        "    '23232₽',\n",
        "    '334,222.20€',\n",
        "    '20U$D',\n",
        "    '$200']\n",
        "\n",
        "incorrect_currencies = [\n",
        "    'asdfsd', \n",
        "    '$asdasd', \n",
        "    '23333,444.20€',\n",
        "    '€34523sdfas', \n",
        "    '€213.sd', \n",
        "    '$3vg554.25', \n",
        "    'expensive', \n",
        "    'cheap', \n",
        "    '2342,222.90€'\n",
        "]\n",
        "\n",
        "all_currencies = correct_currencies + incorrect_currencies\n",
        "shuffle(all_currencies)\n",
        "\n",
        "for currency in all_currencies:\n",
        "    if RE_MONEY_GENERAL.match(currency) or RE_MONEY_EU.match(currency) or RE_MONEY_EU_INVERSE.match(currency):\n",
        "        print(test_pass(True, currency))\n",
        "    else:\n",
        "        print(test_pass(False, currency))"
      ],
      "metadata": {
        "id": "t4tro_maZprq",
        "colab": {
          "base_uri": "https://localhost:8080/"
        },
        "outputId": "33884ca1-3975-4956-faaf-4a6c225bb092"
      },
      "execution_count": 15,
      "outputs": [
        {
          "output_type": "stream",
          "name": "stdout",
          "text": [
            "2.0$\n",
            "$20.2\n",
            "2.134,56$\n",
            ".2$\n",
            "2¥\n",
            "$asdasd\n",
            "334,222.20€\n",
            "asdfsd\n",
            "$3vg554.25\n",
            "2.0€\n",
            "€34523sdfas\n",
            "$0.2\n",
            "$.2\n",
            "20 €\n",
            "cheap\n",
            "€200.123,2\n",
            "$200\n",
            "20 usd\n",
            "20e\n",
            "2342,222.90€\n",
            "€213.sd\n",
            "2.$\n",
            "20U$D\n",
            "23232₽\n",
            "23333,444.20€\n",
            "expensive\n",
            "$3433.2\n",
            "20USD\n"
          ]
        }
      ]
    },
    {
      "cell_type": "markdown",
      "metadata": {
        "id": "7ql50I8sayKM"
      },
      "source": [
        "# DAWG\n",
        "\n",
        "Lo presentábamos antes de manera muy  rápida, un _Directed Acyclic Word Graph_ (por sus siglas, DAWG), también llamado, _Deterministic Acyclic Finite State Automaton_ (DAFSA), es un tipo de estructura de datos que permite representar datos de tipo texto y realizar consultas.\n",
        "\n",
        "![image.png](attachment:image.png)\n",
        "\n",
        "En el grafo generado se distinguen:\n",
        "- **Nodos**: un carácter / símbolo\n",
        "- **Vértices**: enlace con el siguiente carácter / símbolo más probable\n",
        "\n",
        "http://www.wutka.com/dawg.html\n"
      ]
    },
    {
      "cell_type": "markdown",
      "metadata": {
        "id": "lFEdr2WPayKM"
      },
      "source": [
        "## Ejemplos"
      ]
    },
    {
      "cell_type": "code",
      "execution_count": 16,
      "metadata": {
        "id": "Qhm2js1tayKM"
      },
      "outputs": [],
      "source": [
        "\n",
        "from utils import load_movie_titles"
      ]
    },
    {
      "cell_type": "code",
      "execution_count": 17,
      "metadata": {
        "id": "0TuIc8pYayKM"
      },
      "outputs": [],
      "source": [
        "datasets_path = './'\n",
        "movie_titles_file = 'films.txt'"
      ]
    },
    {
      "cell_type": "code",
      "execution_count": 18,
      "metadata": {
        "id": "t4KNu8eyayKM"
      },
      "outputs": [],
      "source": [
        "movies_titles = load_movie_titles(datasets_path, movie_titles_file)"
      ]
    },
    {
      "cell_type": "code",
      "source": [
        "movies_titles"
      ],
      "metadata": {
        "id": "9nkUWW12bFEu",
        "colab": {
          "base_uri": "https://localhost:8080/"
        },
        "outputId": "f3e3284a-f8cf-4c84-e2eb-d70247e92e99"
      },
      "execution_count": 19,
      "outputs": [
        {
          "output_type": "execute_result",
          "data": {
            "text/plain": [
              "[Movie(title='\\ufeffThe 10th Victim', year=1965),\n",
              " Movie(title='100 Feet', year=2008),\n",
              " Movie(title='12 Years a Slave', year=2013),\n",
              " Movie(title='13 Conversations About One Thing', year=2002),\n",
              " Movie(title='1408', year=2007),\n",
              " Movie(title='1776', year=1972),\n",
              " Movie(title='1917', year=2019),\n",
              " Movie(title='1990: The Bronx Warriors', year=1982),\n",
              " Movie(title='The 2000 Year Old Man', year=1975),\n",
              " Movie(title='20,000 Leagues Under the Sea', year=1954),\n",
              " Movie(title='2001: A Space Odyssey', year=1968),\n",
              " Movie(title='2010: The Year We Make Contact', year=1984),\n",
              " Movie(title='2019: After the Fall of New York', year=1983),\n",
              " Movie(title='2069: A Sex Odyssey', year=1974),\n",
              " Movie(title='20th Century Fox: The 1st 50 Years', year=1997),\n",
              " Movie(title='20th Century Fox: The Blockbuster Years', year=2000),\n",
              " Movie(title='24 x 36: A Movie About Movie Posters', year=2016),\n",
              " Movie(title='25th Hour', year=2002),\n",
              " Movie(title='3 Dead Girls', year=2007),\n",
              " Movie(title='30 Days of Night', year=2007),\n",
              " Movie(title='31', year=2016),\n",
              " Movie(title='The 39 Steps', year=1935),\n",
              " Movie(title='4 Dollars of Revenge', year=1968),\n",
              " Movie(title='The 400 Blows', year=1959),\n",
              " Movie(title='42nd Street', year=1933),\n",
              " Movie(title='42nd Street Forever: Vol. 1', year=2005),\n",
              " Movie(title='42nd Street Forever, Vol. 2: The Deuce', year=2006),\n",
              " Movie(title='42nd Street Forever, Vol. 3: Exploitation Explosion', year=2008),\n",
              " Movie(title='42nd Street Forever, Vol. 4: Cooled for Refrigeration', year=2008),\n",
              " Movie(title='42nd Street Forever, Vol. 5: The Alamo Drafthouse Edition', year=2009),\n",
              " Movie(title='48 Hrs', year=1982),\n",
              " Movie(title='The 5-Man Army', year=1969),\n",
              " Movie(title='55 Days at Peking', year=1963),\n",
              " Movie(title='5ive Girls', year=2006),\n",
              " Movie(title='The 5th Wave', year=2016),\n",
              " Movie(title='The 50 Worst Movies Ever Made', year=2004),\n",
              " Movie(title='68 Kill', year=2017),\n",
              " Movie(title='7 Plus Seven', year=1970),\n",
              " Movie(title='The 7th Voyage of Sinbad', year=1958),\n",
              " Movie(title='8 1/2', year=1963),\n",
              " Movie(title='8 Mile', year=2002),\n",
              " Movie(title='9th Company', year=2005),\n",
              " Movie(title='99 Women', year=1969),\n",
              " Movie(title='Abbott and Costello Meet Frankenstein', year=1948),\n",
              " Movie(title='Abbott and Costello Meet the Invisible Man', year=1951),\n",
              " Movie(title='Abbott and Costello Meet the Mummy', year=1955),\n",
              " Movie(title='The ABCs of Death', year=2012),\n",
              " Movie(title='The ABCs of Death 2', year=2014),\n",
              " Movie(title=\"The ABC's of Love and Sex: Australia Style\", year=1978),\n",
              " Movie(title='The Abominable Dr. Phibes', year=1971),\n",
              " Movie(title='Absolution', year=1978),\n",
              " Movie(title='Ace in the Hole', year=1951),\n",
              " Movie(title='Ace Ventura: Pet Detective', year=1994),\n",
              " Movie(title='Across The Universe', year=2007),\n",
              " Movie(title='Adaptation', year=2002),\n",
              " Movie(title='The Addams Family', year=1991),\n",
              " Movie(title='The Addiction', year=1995),\n",
              " Movie(title='Adventure in Sahara', year=1938),\n",
              " Movie(title=\"The Adventure of Sherlock Holmes' Smarter Brother\", year=1975),\n",
              " Movie(title='The Adventures of Buckaroo Banzai Across the 8th Dimension', year=1984),\n",
              " Movie(title='The Adventures of Ichabod and Mr. Toad', year=1949),\n",
              " Movie(title='The Adventures of Prince Achmed', year=1926),\n",
              " Movie(title='The Adventures of Priscilla, Queen of the Desert', year=1994),\n",
              " Movie(title='The Adventures of Robin Hood', year=1938),\n",
              " Movie(title='Afflicted', year=2013),\n",
              " Movie(title='Africa Blood and Guts', year=1966),\n",
              " Movie(title='The African Queen', year=1951),\n",
              " Movie(title='African Safari', year=1968),\n",
              " Movie(title='After.Life', year=2009),\n",
              " Movie(title='After Hours', year=1985),\n",
              " Movie(title='After the Fox', year=1966),\n",
              " Movie(title='Against All Odds', year=1984),\n",
              " Movie(title=\"L'Age d'Or\", year=1930),\n",
              " Movie(title='Age of Consent', year=1969),\n",
              " Movie(title='The Age of Innocence', year=1993),\n",
              " Movie(title='Aguirre: The Wrath of God', year=1972),\n",
              " Movie(title='Agony', year=1981),\n",
              " Movie(title='Aileen Wuernos: The Selling of a Serial Killer', year=1992),\n",
              " Movie(title='Airplane!', year=1980),\n",
              " Movie(title='Airport', year=1970),\n",
              " Movie(title='Aissa', year=2014),\n",
              " Movie(title='Aladdin', year=1992),\n",
              " Movie(title='Alama Yama', year=2002),\n",
              " Movie(title='Ali: Fear Eats the Soul', year=1974),\n",
              " Movie(title='Ali Baba and the Seven Saracens', year=1964),\n",
              " Movie(title='Ali Zaoua: Prince of the Streets', year=2000),\n",
              " Movie(title='Alice', year=1988),\n",
              " Movie(title='Alice, Sweet Alice', year=1976),\n",
              " Movie(title=\"Alice Doesn't Live Here Anymore\", year=1974),\n",
              " Movie(title='Alice in Wonderland', year=1951),\n",
              " Movie(title=\"Alice's Restaurant\", year=1969),\n",
              " Movie(title='Alien', year=1979),\n",
              " Movie(title='Alien Abduction', year=2014),\n",
              " Movie(title='Alien Contamination', year=1980),\n",
              " Movie(title='Aliens', year=1986),\n",
              " Movie(title='Aliens of the Deep', year=2005),\n",
              " Movie(title='Alienween', year=2016),\n",
              " Movie(title='All-American Co-Ed', year=1941),\n",
              " Movie(title='All Cheerleaders Die', year=2013),\n",
              " Movie(title='All is Lost', year=2013),\n",
              " Movie(title=\"All Hallow's Eve\", year=2013),\n",
              " Movie(title='All Monsters Attack', year=1969),\n",
              " Movie(title='All Quiet on the Western Front', year=1930),\n",
              " Movie(title='All That Heaven Allows', year=1955),\n",
              " Movie(title='All the Boys Love Mandy Lane', year=2006),\n",
              " Movie(title='All the Kind Strangers', year=1974),\n",
              " Movie(title='All the Love You Cannes', year=2002),\n",
              " Movie(title=\"All the President's Men\", year=1976),\n",
              " Movie(title='All The Real Girls', year=2003),\n",
              " Movie(title='Alligator', year=1980),\n",
              " Movie(title='The Alligator People', year=1959),\n",
              " Movie(title='Alone', year=2020),\n",
              " Movie(title='Alphaville', year=1965),\n",
              " Movie(title='Altered', year=2006),\n",
              " Movie(title='Altered States', year=1980),\n",
              " Movie(title='Amarcord', year=1973),\n",
              " Movie(title='The Amazing Transparent Man', year=1960),\n",
              " Movie(title='Amazon Women on the Moon', year=1987),\n",
              " Movie(title='Amelie', year=2001),\n",
              " Movie(title='American Beauty', year=1999),\n",
              " Movie(title='The American Dreamer', year=1971),\n",
              " Movie(title='American Gothic', year=1988),\n",
              " Movie(title='American Graffiti', year=1973),\n",
              " Movie(title='American Grindhouse', year=2010),\n",
              " Movie(title='An American Haunting', year=2005),\n",
              " Movie(title='An American Hippie in Israel', year=1972),\n",
              " Movie(title='An American in Paris', year=1951),\n",
              " Movie(title='American Mary', year=2012),\n",
              " Movie(title='American Scary', year=2006),\n",
              " Movie(title='American Splendor', year=2003),\n",
              " Movie(title='American Swing', year=2008),\n",
              " Movie(title='An American Werewolf in London', year=1981),\n",
              " Movie(title='Amulet', year=2020),\n",
              " Movie(title='Amusement', year=2008),\n",
              " Movie(title='Analyze This', year=1999),\n",
              " Movie(title='Anchoress', year=1993),\n",
              " Movie(title='Anchorman: The Legend of Ron Burgundy', year=2004),\n",
              " Movie(title='...And God Created Woman', year=1956),\n",
              " Movie(title='And Now For Something Completely Different', year=1971),\n",
              " Movie(title='And the Ship Sails On', year=1983),\n",
              " Movie(title='Andrei Rublev', year=1966),\n",
              " Movie(title='Angel', year=1984),\n",
              " Movie(title='Angel Heart', year=1987),\n",
              " Movie(title='Angel Unchained', year=1970),\n",
              " Movie(title='Angels With Dirty Faces', year=1938),\n",
              " Movie(title='Animal Crackers', year=1930),\n",
              " Movie(title='Anna Christie', year=1930),\n",
              " Movie(title='Anne of the Thousand Days', year=1969),\n",
              " Movie(title='Annie Hall', year=1977),\n",
              " Movie(title='Anonymous', year=2011),\n",
              " Movie(title='Another Man, Another Chance', year=1977),\n",
              " Movie(title='Antichrist', year=2009),\n",
              " Movie(title='Antwone Fisher', year=2002),\n",
              " Movie(title='Any Which Way You Can', year=1980),\n",
              " Movie(title='Anzio', year=1968),\n",
              " Movie(title='Aphrodisiac: The Sexual Secret of Marijuana', year=1971),\n",
              " Movie(title='Apocalypse Now', year=1979),\n",
              " Movie(title='Apollo 11', year=2019),\n",
              " Movie(title='The Apostle', year=1997),\n",
              " Movie(title='The Apparition', year=2012),\n",
              " Movie(title='The Apple', year=1980),\n",
              " Movie(title='The Apple Dumpling Gang', year=1975),\n",
              " Movie(title=\"April Fool's Day\", year=1986),\n",
              " Movie(title='Arabia', year=2011),\n",
              " Movie(title='Arcade', year=1993),\n",
              " Movie(title='The Arena', year=2001),\n",
              " Movie(title='Armageddon', year=1998),\n",
              " Movie(title='Army of Frankensteins', year=2013),\n",
              " Movie(title='Around the World in 80 Days', year=1956),\n",
              " Movie(title='Arsenic and Old Lace', year=1944),\n",
              " Movie(title='Arthur', year=1981),\n",
              " Movie(title='Arthur Christmas', year=2011),\n",
              " Movie(title='As Above, So Below', year=2014),\n",
              " Movie(title='Ashes of Time', year=1994),\n",
              " Movie(title='Asmodexia', year=2014),\n",
              " Movie(title='The Asphyx', year=1972),\n",
              " Movie(title='Assault of the Sasquatch', year=2009),\n",
              " Movie(title='Assault on Precinct 13', year=1976),\n",
              " Movie(title='Atari: Game Over', year=2014),\n",
              " Movie(title='Atlantic City', year=1980),\n",
              " Movie(title='Atlantis, The Lost Continent', year=1961),\n",
              " Movie(title='Ator, the Fighting Eagle', year=1982),\n",
              " Movie(title='Atragon', year=1963),\n",
              " Movie(title='Atrocious', year=2010),\n",
              " Movie(title='Attack Force Z', year=1982),\n",
              " Movie(title='Attack of the 50 Ft. Woman', year=1958),\n",
              " Movie(title='Attack the Block', year=2011),\n",
              " Movie(title='Audition', year=1999),\n",
              " Movie(title='Austin Powers: International Man of Mystery', year=1997),\n",
              " Movie(title='Austin Powers: The Spy Who Shagged Me', year=1999),\n",
              " Movie(title='Austin Powers in Goldmember', year=2002),\n",
              " Movie(title='Australia', year=2008),\n",
              " Movie(title='Australia: Land Beyond Time', year=2002),\n",
              " Movie(title='Australia After Dark', year=1975),\n",
              " Movie(title='Auto Focus', year=2002),\n",
              " Movie(title='Automaton Transfusion', year=2006),\n",
              " Movie(title='The Autopsy of Jane Doe', year=2016),\n",
              " Movie(title=\"Ava's Possessions\", year=2015),\n",
              " Movie(title='Avalanche', year=1978),\n",
              " Movie(title='The Avengers', year=2012),\n",
              " Movie(title='The Aviator', year=2004),\n",
              " Movie(title=\"L'Avventura\", year=1960),\n",
              " Movie(title='Baadasssss!', year=2003),\n",
              " Movie(title='Baadasssss Cinema', year=2002),\n",
              " Movie(title='Baba Yaga: Terror of the Dark Forest', year=2020),\n",
              " Movie(title='The Baby', year=1973),\n",
              " Movie(title='Baby Face', year=1933),\n",
              " Movie(title='Back to School', year=1986),\n",
              " Movie(title='Back to the Future', year=1985),\n",
              " Movie(title='Backbeat', year=1994),\n",
              " Movie(title='Backcountry', year=2014),\n",
              " Movie(title='The Bad and the Beautiful', year=1952),\n",
              " Movie(title='Bad Boy Bubby', year=1993),\n",
              " Movie(title='Bad Channels', year=1992),\n",
              " Movie(title='Bad Day at Black Rock', year=1955),\n",
              " Movie(title='Bad Dreams', year=1988),\n",
              " Movie(title='Bad Moon', year=1996),\n",
              " Movie(title='The Bad News Bears', year=1976),\n",
              " Movie(title='The Bad News Bears in Breaking Training', year=1977),\n",
              " Movie(title='The Bad News Bears go to Japan', year=1978),\n",
              " Movie(title='Bad Taste', year=1987),\n",
              " Movie(title='Badgered', year=2005),\n",
              " Movie(title='Badlands', year=1973),\n",
              " Movie(title='Bait', year=2012),\n",
              " Movie(title='The Ballad of Nessie', year=2011),\n",
              " Movie(title='Bananas', year=1971),\n",
              " Movie(title='Band of Outsiders', year=1964),\n",
              " Movie(title='The Band Wagon', year=1953),\n",
              " Movie(title='The Bandit of Sherwood Forest', year=1946),\n",
              " Movie(title='Baraka', year=1992),\n",
              " Movie(title='Baran', year=2001),\n",
              " Movie(title='Barbarian Queen', year=1985),\n",
              " Movie(title='Barbarella', year=1968),\n",
              " Movie(title='Barbarosa', year=1982),\n",
              " Movie(title='Barfly', year=1987),\n",
              " Movie(title='The Barrens', year=2012),\n",
              " Movie(title='Barry Lyndon', year=1975),\n",
              " Movie(title='Barton Fink', year=1991),\n",
              " Movie(title='Basket Case', year=1982),\n",
              " Movie(title='The Bat', year=1926),\n",
              " Movie(title='The Bat', year=1959),\n",
              " Movie(title='Batman', year=1989),\n",
              " Movie(title='Batman Returns', year=1992),\n",
              " Movie(title='Batman: The Movie', year=1966),\n",
              " Movie(title='The Battle at Elderbush Gulch', year=1913),\n",
              " Movie(title='Battleship Potemkin', year=1925),\n",
              " Movie(title='The Beast', year=1975),\n",
              " Movie(title='The Beast That Killed Women', year=1965),\n",
              " Movie(title='The Beastmaster', year=1982),\n",
              " Movie(title='Beau Geste', year=1939),\n",
              " Movie(title='Beauty and the Beast', year=1946),\n",
              " Movie(title='Beauty and the Beast', year=1991),\n",
              " Movie(title='Beauty Parlor', year=1932),\n",
              " Movie(title='Becket', year=1964),\n",
              " Movie(title='Bedazzled', year=1967),\n",
              " Movie(title='Beetlejuice', year=1988),\n",
              " Movie(title='Before Sunrise', year=1995),\n",
              " Movie(title='Before Sunset', year=2004),\n",
              " Movie(title='Begotten', year=1989),\n",
              " Movie(title='Behind Convent Walls', year=1978),\n",
              " Movie(title='Behind the Green Door', year=1972),\n",
              " Movie(title='Behind Locked Doors', year=1968),\n",
              " Movie(title='The Being', year=1983),\n",
              " Movie(title='Being John Malkovich', year=1999),\n",
              " Movie(title='Bela Lugosi Meets a Brooklyn Gorilla', year=1952),\n",
              " Movie(title='Bella', year=2006),\n",
              " Movie(title='The Bells of San Angelo', year=1947),\n",
              " Movie(title='Ben-Hur', year=1959),\n",
              " Movie(title='Ben-Hur: A Tale of the Christ', year=1925),\n",
              " Movie(title='Beneath the Planet of the Apes', year=1970),\n",
              " Movie(title='Bend of the River', year=1952),\n",
              " Movie(title='Benny Loves You', year=2019),\n",
              " Movie(title='Bernie', year=2011),\n",
              " Movie(title='The Best Years of Our Lives', year=1946),\n",
              " Movie(title='Better Watch Out', year=2016),\n",
              " Movie(title='Beverly Hills Cop', year=1984),\n",
              " Movie(title='The Beyond', year=1981),\n",
              " Movie(title='Beyond the Door', year=1974),\n",
              " Movie(title='Beyond the Walls of Sleep', year=2006),\n",
              " Movie(title='The Bible: In the Beginning', year=1966),\n",
              " Movie(title='Bicycle Thieves', year=1948),\n",
              " Movie(title='Big Ass Spider!', year=2013),\n",
              " Movie(title='The Big Bus', year=1976),\n",
              " Movie(title='The Big Country', year=1958),\n",
              " Movie(title='The Big Lebowski', year=1998),\n",
              " Movie(title='The Big Parade', year=1925),\n",
              " Movie(title='The Big Red One', year=1980),\n",
              " Movie(title='The Big Trail', year=1930),\n",
              " Movie(title='Big Wednesday', year=1978),\n",
              " Movie(title='Bigger Than Life', year=1956),\n",
              " Movie(title=\"Bill & Ted's Bogus Journey\", year=1991),\n",
              " Movie(title=\"Bill & Ted's Excellent Adventure\", year=1989),\n",
              " Movie(title='The Bird With the Crystal Plumage', year=1970),\n",
              " Movie(title='Birdman or (The Unexpected Virtue of Ignorance)', year=2014),\n",
              " Movie(title='The Birds', year=1963),\n",
              " Movie(title='Bird of Paradise', year=1932),\n",
              " Movie(title='Birds of Passage', year=2018),\n",
              " Movie(title='Bite', year=2015),\n",
              " Movie(title='Bitter Victory', year=1957),\n",
              " Movie(title='Blacula', year=1972),\n",
              " Movie(title='Black Caesar', year=1973),\n",
              " Movie(title='The Black Castle', year=1952),\n",
              " Movie(title='The Black Cat', year=1934),\n",
              " Movie(title='The Black Cat', year=1981),\n",
              " Movie(title='Black Christmas', year=1974),\n",
              " Movie(title='Black Dynamite', year=2009),\n",
              " Movie(title='Black Friday', year=1940),\n",
              " Movie(title='Black Hawk Down', year=2001),\n",
              " Movie(title='The Black Hole', year=1979),\n",
              " Movie(title='Black Magic Rites', year=1973),\n",
              " Movie(title='Black Mama White Mama', year=1973),\n",
              " Movie(title='Black Mask', year=1996),\n",
              " Movie(title='Black Narcissus', year=1947),\n",
              " Movie(title='Black Sabbath', year=1963),\n",
              " Movie(title='Black Sheep', year=2006),\n",
              " Movie(title='The Black Sleep', year=1956),\n",
              " Movie(title='Black Sunday', year=1960),\n",
              " Movie(title='Black Water', year=2007),\n",
              " Movie(title=\"Blackadder's Christmas Carol\", year=1988),\n",
              " Movie(title='Blackboard Jungle', year=1955),\n",
              " Movie(title=\"The Blackcoat's Daughter\", year=2015),\n",
              " Movie(title='Blackmail', year=1929),\n",
              " Movie(title='Blackout', year=1978),\n",
              " Movie(title='Blade', year=1998),\n",
              " Movie(title='The Blade', year=1995),\n",
              " Movie(title='Blade Runner', year=1982),\n",
              " Movie(title='The Blair Witch Project', year=1999),\n",
              " Movie(title='Blazing Saddles', year=1974),\n",
              " Movie(title='Blind Beast', year=1969),\n",
              " Movie(title='Blinded by the Light', year=2019),\n",
              " Movie(title='The Bling Ring', year=2013),\n",
              " Movie(title='The Blob', year=1958),\n",
              " Movie(title='Blonde Venus', year=1932),\n",
              " Movie(title='Blood Feast', year=1963),\n",
              " Movie(title='Blood Hook', year=1986),\n",
              " Movie(title=\"The Blood of Dracula's Castle\", year=1969),\n",
              " Movie(title='Blood Orgy of the She-Devils', year=1972),\n",
              " Movie(title='Blood Simple', year=1984),\n",
              " Movie(title='BloodRayne', year=2005),\n",
              " Movie(title='Bloodstone: Subspecies 2', year=1993),\n",
              " Movie(title='Bloodsucking Freaks', year=1976),\n",
              " Movie(title='Bloody Mama', year=1970),\n",
              " Movie(title='Bloody Pit of Horror', year=1965),\n",
              " Movie(title='Bloody Sunday', year=2002),\n",
              " Movie(title='Blow-Up', year=1966),\n",
              " Movie(title='Blue Crush', year=2002),\n",
              " Movie(title='Blue Hawaii', year=1961),\n",
              " Movie(title='Blue Jasmine', year=2013),\n",
              " Movie(title='The Blue Max', year=1966),\n",
              " Movie(title='Blue Planet', year=1990),\n",
              " Movie(title='Blue Water, White Death', year=1971),\n",
              " Movie(title='Bluebeard', year=2017),\n",
              " Movie(title='The Blues Brothers', year=1980),\n",
              " Movie(title='BMX Bandits', year=1983),\n",
              " Movie(title='Bob & Carol & Ted & Alice', year=1969),\n",
              " Movie(title='Body Melt', year=1993),\n",
              " Movie(title='The Bodyguard', year=1976),\n",
              " Movie(title='Bone Tomahawk', year=2015),\n",
              " Movie(title='Bonnie and Clyde', year=1967),\n",
              " Movie(title=\"Bonnie's Kids\", year=1973),\n",
              " Movie(title='Boogie Nights', year=1997),\n",
              " Movie(title='The Boondock Saints', year=1999),\n",
              " Movie(title='Bordello of Blood', year=1996),\n",
              " Movie(title='Born to be Wild', year=2011),\n",
              " Movie(title='A Bothered Conscience', year=2006),\n",
              " Movie(title='Bottle Rocket', year=1996),\n",
              " Movie(title='Bound', year=1996),\n",
              " Movie(title='The Box Man', year=2002),\n",
              " Movie(title='The BoxTrolls', year=2014),\n",
              " Movie(title='The Boy', year=2016),\n",
              " Movie(title='The Boy Who Cried Werewolf', year=1973),\n",
              " Movie(title='Boyhood', year=2014),\n",
              " Movie(title='The Boys in Company C', year=1978),\n",
              " Movie(title='Boys Town', year=1938),\n",
              " Movie(title='Brain of Blood', year=1971),\n",
              " Movie(title=\"The Brain That Wouldn't Die\", year=1962),\n",
              " Movie(title=\"Bram Stoker's Dracula\", year=1992),\n",
              " Movie(title='Brannigan', year=1975),\n",
              " Movie(title='Brave', year=2012),\n",
              " Movie(title='Braveheart', year=1995),\n",
              " Movie(title='Breaker Morant', year=1980),\n",
              " Movie(title=\"Breakfast at Tiffany's\", year=1961),\n",
              " Movie(title='The Breakfast Club', year=1985),\n",
              " Movie(title=\"Breakin'\", year=1984),\n",
              " Movie(title='Breathe', year=2011),\n",
              " Movie(title='The Breed', year=2006),\n",
              " Movie(title='Breeders', year=1986),\n",
              " Movie(title='Brewster McCloud', year=1970),\n",
              " Movie(title='The Brick Dollhouse', year=1967),\n",
              " Movie(title='The Bride of Frankenstein', year=1935),\n",
              " Movie(title='Bride of the Monster', year=1955),\n",
              " Movie(title='Brides of Blood', year=1968),\n",
              " Movie(title='The Brides of Dracula', year=1960),\n",
              " Movie(title='The Bridge on the River Kwai', year=1957),\n",
              " Movie(title='A Brief History of Time', year=1991),\n",
              " Movie(title='Bringing Out the Dead', year=1999),\n",
              " Movie(title='Bringing Up Baby', year=1938),\n",
              " Movie(title=\"The Brink's Job\", year=1978),\n",
              " Movie(title='Britannia Hospital', year=1982),\n",
              " Movie(title='British Intelligence', year=1940),\n",
              " Movie(title='Broadway Danny Rose', year=1984),\n",
              " Movie(title='Broken', year=2006),\n",
              " Movie(title='Broken Blossoms', year=1919),\n",
              " Movie(title='Bronson', year=2008),\n",
              " Movie(title='The Brood', year=1979),\n",
              " Movie(title='Brooklyn', year=2015),\n",
              " Movie(title='The Brotherhood', year=1968),\n",
              " Movie(title='Brotherhood of Death', year=1976),\n",
              " Movie(title='The Brotherhood of Satan', year=1971),\n",
              " Movie(title='Brotherhood of the Wolf', year=2001),\n",
              " Movie(title='The Brothers Rico', year=1957),\n",
              " Movie(title='The Brothers Warner', year=2007),\n",
              " Movie(title='Bubba Ho-Tep', year=2002),\n",
              " Movie(title='Buck Privates', year=1941),\n",
              " Movie(title='Bucktown', year=1975),\n",
              " Movie(title='Bug', year=2006),\n",
              " Movie(title=\"A Bug's Life\", year=1998),\n",
              " Movie(title='Bugsy', year=1991),\n",
              " Movie(title='Bugsy Malone', year=1976),\n",
              " Movie(title='Bullitt', year=1968),\n",
              " Movie(title='Bully', year=2001),\n",
              " Movie(title='Bunuel in the Labyrinth of the Turtles', year=2018),\n",
              " Movie(title='Burial Ground', year=1981),\n",
              " Movie(title='Burke & Hare', year=1972),\n",
              " Movie(title='The Burning', year=1981),\n",
              " Movie(title='The Burning Moon', year=1992),\n",
              " Movie(title='The Burrowers', year=2008),\n",
              " Movie(title='Bury My Heart at Wounded Knee', year=2007),\n",
              " Movie(title=\"Bustin' Loose\", year=1981),\n",
              " Movie(title='Butch Cassidy and the Sundance Kid', year=1969),\n",
              " Movie(title='Bye Bye Birdie', year=1963),\n",
              " Movie(title='Byleth: The Demon of Incest', year=1972),\n",
              " Movie(title='Byzantium', year=2012),\n",
              " Movie(title='Cabaret', year=1972),\n",
              " Movie(title='The Cabin in the Woods', year=2012),\n",
              " Movie(title='The Cabinet of Dr. Caligari', year=1920),\n",
              " Movie(title='Cabiria', year=1914),\n",
              " Movie(title='Caddyshack', year=1980),\n",
              " Movie(title='Caged Heat', year=1974),\n",
              " Movie(title='Cahill U.S. Marshal', year=1973),\n",
              " Movie(title='Caligula', year=1979),\n",
              " Movie(title='The Call of Cthulhu', year=2005),\n",
              " Movie(title='Calypso Countdown: Rigging for the Amazon', year=1982),\n",
              " Movie(title='Cameraman: The Life and Works of Jack Cardiff', year=2010),\n",
              " Movie(title='The Canal', year=2014),\n",
              " Movie(title='Candy Stripe Nurses', year=1974),\n",
              " Movie(title='Candyman', year=1992),\n",
              " Movie(title='Candyman: The David Klein Story', year=2010),\n",
              " Movie(title='Cannibal Apocalypse', year=1980),\n",
              " Movie(title='Cannibal Holocaust', year=1980),\n",
              " Movie(title='The Cannonball Run', year=1981),\n",
              " Movie(title='Cape Fear', year=1962),\n",
              " Movie(title='The Captain', year=2017),\n",
              " Movie(title='Captain America: The First Avenger', year=2011),\n",
              " Movie(title='Captain Fantastic', year=2016),\n",
              " Movie(title='Captain John Smith and Pocahontas', year=1953),\n",
              " Movie(title='Captain Kronos - Vampire Hunter', year=1974),\n",
              " Movie(title='Captain Phillips', year=2013),\n",
              " Movie(title='Captive Wild Woman', year=1943),\n",
              " Movie(title='Capturing Reality', year=2008),\n",
              " Movie(title='Les Carabiniers', year=1963),\n",
              " Movie(title='Careful, He Might Hear You', year=1983),\n",
              " Movie(title='Carnage Park', year=2016),\n",
              " Movie(title='Carnal Knowledge', year=1971),\n",
              " Movie(title='Carnival of Blood', year=1970),\n",
              " Movie(title='Carnival of Souls', year=1962),\n",
              " Movie(title='Carny', year=1980),\n",
              " Movie(title='Carrie', year=1976),\n",
              " Movie(title='Carriers', year=2009),\n",
              " Movie(title='Carving Magic', year=1959),\n",
              " Movie(title='Casablanca', year=1942),\n",
              " Movie(title='Casanova', year=1976),\n",
              " Movie(title='Casino', year=1995),\n",
              " Movie(title='The Cassandra Crossing', year=1976),\n",
              " Movie(title='Cast Away', year=2000),\n",
              " Movie(title='Castle Freak', year=1995),\n",
              " Movie(title='Castle of Blood', year=1964),\n",
              " Movie(title='The Cat and the Canary', year=1939),\n",
              " Movie(title='Cat Ballou', year=1965),\n",
              " Movie(title=\"The Cat o' Nine Tails\", year=1971),\n",
              " Movie(title='Cat on a Hot Tin Roof', year=1958),\n",
              " Movie(title='Cat People', year=1942),\n",
              " Movie(title='Cat People', year=1982),\n",
              " Movie(title=\"Cat's Eye\", year=1985),\n",
              " Movie(title='Cataclysm', year=1980),\n",
              " Movie(title='Catacombs', year=2007),\n",
              " Movie(title='The Cathedral', year=2002),\n",
              " Movie(title='Cattle Annie and Little Britches', year=1981),\n",
              " Movie(title='Cave of Forgotten Dreams', year=2010),\n",
              " Movie(title='Cecil B. Demented', year=2000),\n",
              " Movie(title='Celia', year=1989),\n",
              " Movie(title='Cemetery Man', year=1994),\n",
              " Movie(title='Censor', year=2021),\n",
              " Movie(title='The Centerfold Girls', year=1974),\n",
              " Movie(title='Centurion', year=2010),\n",
              " Movie(title='Chain Letter', year=2010),\n",
              " Movie(title='Chained for Life', year=1954),\n",
              " Movie(title='Champion', year=1949),\n",
              " Movie(title='Chandu the Magician', year=1932),\n",
              " Movie(title='The Changeling', year=1980),\n",
              " Movie(title='The Chant of Jimmie Blacksmith', year=1978),\n",
              " Movie(title='Chariots of Fire', year=1981),\n",
              " Movie(title='Charley Varrick', year=1973),\n",
              " Movie(title='A Charlie Brown Christmas', year=1965),\n",
              " Movie(title='A Charlie Brown Thanksgiving', year=1973),\n",
              " Movie(title=\"Charlie's Farm\", year=2014),\n",
              " Movie(title='Chatterbox', year=1977),\n",
              " Movie(title='Cheerleader Ninjas', year=2002),\n",
              " Movie(title='Chicago', year=2002),\n",
              " Movie(title='Chicago 10', year=2007),\n",
              " Movie(title='The Chiefs', year=2004),\n",
              " Movie(title='Un Chien Andalou', year=1929),\n",
              " Movie(title=\"Child's Play\", year=1988),\n",
              " Movie(title=\"Child's Play 2\", year=1990),\n",
              " Movie(title='The Children Are Watching Us', year=1944),\n",
              " Movie(title='Children of a Lesser God', year=1986),\n",
              " Movie(title='Children of Eve', year=1915),\n",
              " Movie(title='Children of the Corn', year=1984),\n",
              " Movie(title='Children of the Corn II: The Final Sacrifice', year=1992),\n",
              " Movie(title=\"Children Shouldn't Play With Dead Things\", year=1973),\n",
              " Movie(title='Chinatown', year=1974),\n",
              " Movie(title='The Chinese Connection', year=1972),\n",
              " Movie(title='Chisum', year=1970),\n",
              " Movie(title='Chloe in the Afternoon', year=1972),\n",
              " Movie(title='Chopping Mall', year=1986),\n",
              " Movie(title='Choke Canyon', year=1986),\n",
              " Movie(title='Chosen Survivors', year=1974),\n",
              " Movie(title='Christine', year=1983),\n",
              " Movie(title='A Christmas Carol', year=1951),\n",
              " Movie(title='A Christmas Carol', year=1984),\n",
              " Movie(title='A Christmas Horror Story', year=2015),\n",
              " Movie(title='A Christmas Story', year=1983),\n",
              " Movie(title='Chronos', year=1985),\n",
              " Movie(title='The ChubbChubbs!', year=2002),\n",
              " Movie(title='C.H.U.D.', year=1984),\n",
              " Movie(title='Chungking Express', year=1994),\n",
              " Movie(title='Cinderella', year=1977),\n",
              " Movie(title='Cinderella 2000', year=1977),\n",
              " Movie(title='Cinemania', year=2002),\n",
              " Movie(title='Circus of Fear', year=1966),\n",
              " Movie(title='Cisco Pike', year=1972),\n",
              " Movie(title='Citizen Kane', year=1941),\n",
              " Movie(title='City Lights', year=1931),\n",
              " Movie(title='City of God', year=2002),\n",
              " Movie(title='City of the Living Dead', year=1980),\n",
              " Movie(title='Clash of the Titans', year=1981),\n",
              " Movie(title=\"Class of Nuke 'Em High\", year=1986),\n",
              " Movie(title='Cleanflix', year=2009),\n",
              " Movie(title='The Cleansing Hour', year=2019),\n",
              " Movie(title='Cleopatra', year=1934),\n",
              " Movie(title='Cleopatra', year=1963),\n",
              " Movie(title='Clerks', year=1994),\n",
              " Movie(title='Climax', year=2018),\n",
              " Movie(title='Climb It, Tarzan!', year=2011),\n",
              " Movie(title='A Clockwork Orange', year=1971),\n",
              " Movie(title='Close Encounters of the Third Kind', year=1977),\n",
              " Movie(title='Close-Up', year=1990),\n",
              " Movie(title='Cloverfield', year=2008),\n",
              " Movie(title='Clown', year=2014),\n",
              " Movie(title='The Clowns', year=1970),\n",
              " Movie(title='ClownTown', year=2016),\n",
              " Movie(title='Club Paradise', year=1986),\n",
              " Movie(title='Clue', year=1985),\n",
              " Movie(title='Cobra Verde', year=1987),\n",
              " Movie(title='Cockneys vs. Zombies', year=2012),\n",
              " Movie(title='The Cocoanuts', year=1929),\n",
              " Movie(title='Coffy', year=1973),\n",
              " Movie(title='Cold Prey', year=2006),\n",
              " Movie(title='Cold Prey II', year=2008),\n",
              " Movie(title='Cold Turkey', year=1971),\n",
              " Movie(title='Colin', year=2008),\n",
              " Movie(title='The Collector', year=2009),\n",
              " Movie(title='Colonel Redl', year=1985),\n",
              " Movie(title='Color Me Blood Red', year=1965),\n",
              " Movie(title='Color Me Kubrick', year=2005),\n",
              " Movie(title='The Color of Money', year=1986),\n",
              " Movie(title='Come and See', year=1985),\n",
              " Movie(title='The Comedy of Terrors', year=1963),\n",
              " Movie(title='Coming Distractions', year=2004),\n",
              " Movie(title='Coming Home in the Dark', year=2021),\n",
              " Movie(title='The Commitments', year=1991),\n",
              " Movie(title='The Company of Wolves', year=1984),\n",
              " Movie(title='Conan the Barbarian', year=1982),\n",
              " Movie(title='Coney Island', year=1917),\n",
              " Movie(title='Congo', year=1995),\n",
              " Movie(title='The Conjuring', year=2013),\n",
              " Movie(title='The Conjuring 2', year=2016),\n",
              " Movie(title='Conquest', year=1983),\n",
              " Movie(title='Constantine', year=2005),\n",
              " Movie(title='Contact', year=1997),\n",
              " Movie(title='Contagion', year=2011),\n",
              " Movie(title='Containment', year=2015),\n",
              " Movie(title='Contempt', year=1963),\n",
              " Movie(title='Contracted', year=2013),\n",
              " Movie(title='The Conversation', year=1974),\n",
              " Movie(title='Cool Hand Luke', year=1967),\n",
              " Movie(title='Cooties', year=2014),\n",
              " Movie(title='Coral Reef Adventure', year=2003),\n",
              " Movie(title='Coraline', year=2009),\n",
              " Movie(title='The Core', year=2003),\n",
              " Movie(title='A Corner in Wheat', year=1909),\n",
              " Movie(title='The Corpse Bride', year=2005),\n",
              " Movie(title='The Corpse Grinders', year=1971),\n",
              " Movie(title='The Corpse Vanishes', year=1942),\n",
              " Movie(title='The Corridor', year=2010),\n",
              " Movie(title='Corvette Summer', year=1978),\n",
              " Movie(title='Cosmic Voyage', year=1996),\n",
              " Movie(title='The Cossacks', year=1928),\n",
              " Movie(title='Count Dracula', year=1970),\n",
              " Movie(title='Count Yorga, Vampire', year=1970),\n",
              " Movie(title='Counterblast', year=1948),\n",
              " Movie(title='Countess Perverse', year=1974),\n",
              " Movie(title='The Cowboys', year=1972),\n",
              " Movie(title='The Crater Lake Monster', year=1977),\n",
              " Movie(title='Crawl', year=2019),\n",
              " Movie(title='Crawl or Die', year=2014),\n",
              " Movie(title='The Crazies', year=1973),\n",
              " Movie(title='The Crazies', year=2010),\n",
              " Movie(title='Creation of the Humanoids', year=1962),\n",
              " Movie(title='Creature from the Black Lagoon', year=1954),\n",
              " Movie(title='Creatures the World Forgot', year=1971),\n",
              " Movie(title='Creep', year=2004),\n",
              " Movie(title='Creepshow', year=1982),\n",
              " Movie(title='Creepshow 2', year=1987),\n",
              " Movie(title='Cries and Whispers', year=1972),\n",
              " Movie(title='Crimson Peak', year=2015),\n",
              " Movie(title='Critters', year=1986),\n",
              " Movie(title='Cromwell', year=1970),\n",
              " Movie(title='Crooklyn', year=1994),\n",
              " Movie(title='Crossed Swords', year=1977),\n",
              " Movie(title='Crouching Tiger, Hidden Dragon', year=2000),\n",
              " Movie(title='Crumb', year=1994),\n",
              " Movie(title='The Crusades', year=1935),\n",
              " Movie(title='Cry of the Banshee', year=1970),\n",
              " Movie(title='Cujo', year=1983),\n",
              " Movie(title='The Culpepper Cattle Co.', year=1972),\n",
              " Movie(title='Cult of the Cobra', year=1955),\n",
              " Movie(title='The Curse', year=1987),\n",
              " Movie(title='The Curse of Frankenstein', year=1957),\n",
              " Movie(title='The Curse of the Werewolf', year=1961),\n",
              " Movie(title='Cyborg', year=1989),\n",
              " Movie(title='The Cyclops', year=1957),\n",
              " Movie(title='Dallas Buyers Club', year=2013),\n",
              " Movie(title='Dames', year=1934),\n",
              " Movie(title='Damien: Omen 2', year=1978),\n",
              " Movie(title='Damnation', year=1988),\n",
              " Movie(title='The Dancer Upstairs', year=2002),\n",
              " Movie(title=\"Dante's Inferno: An Animated Epic\", year=2010),\n",
              " Movie(title='The Dark and the Wicked', year=2020),\n",
              " Movie(title='Dark Angel: The Ascent', year=1994),\n",
              " Movie(title='Dark City', year=1998),\n",
              " Movie(title='Dark Command', year=1940),\n",
              " Movie(title='Dark Floors', year=2008),\n",
              " Movie(title='Dark House', year=2009),\n",
              " Movie(title='Dark Remains', year=2005),\n",
              " Movie(title='Dark Ride', year=2006),\n",
              " Movie(title='Dark Side of Genius', year=1994),\n",
              " Movie(title='A Dark Song', year=2016),\n",
              " Movie(title='Dark Star', year=1974),\n",
              " Movie(title='Darling', year=1965),\n",
              " Movie(title='Das Rad', year=2003),\n",
              " Movie(title='Daughters of Darkness', year=1971),\n",
              " Movie(title='Dawn of the Dead', year=1978),\n",
              " Movie(title='Dawn of the Dead', year=2004),\n",
              " Movie(title='Dawson City: Frozen Time', year=2016),\n",
              " Movie(title='The Day After Tomorrow', year=2004),\n",
              " Movie(title='Day for Night', year=1973),\n",
              " Movie(title='Day of the Animals', year=1977),\n",
              " Movie(title='Day of the Dead', year=1985),\n",
              " Movie(title='The Day of the Jackal', year=1973),\n",
              " Movie(title='Day of the Panther', year=1988),\n",
              " Movie(title='Day of Wrath', year=1943),\n",
              " Movie(title='The Day the Sky Exploded', year=1958),\n",
              " Movie(title='Daybreakers', year=2009),\n",
              " Movie(title='Days of Heaven', year=1978),\n",
              " Movie(title='The Dead', year=2010),\n",
              " Movie(title='Dead & Buried', year=1981),\n",
              " Movie(title='Dead Alive', year=1992),\n",
              " Movie(title='Dead Calm', year=1989),\n",
              " Movie(title='Dead End', year=2003),\n",
              " Movie(title='Dead End Drive-In', year=1986),\n",
              " Movie(title='The Dead Hate the Living!', year=2000),\n",
              " Movie(title='Dead Hooker in a Trunk', year=2009),\n",
              " Movie(title=\"The Dead Don't Die\", year=2019),\n",
              " Movie(title='The Dead Lands', year=2014),\n",
              " Movie(title='Dead Man', year=1995),\n",
              " Movie(title=\"Dead Men Don't Wear Plaid\", year=1982),\n",
              " Movie(title='Dead Men Walk', year=1943),\n",
              " Movie(title='The Dead Next Door', year=1989),\n",
              " Movie(title='Dead of Night', year=1945),\n",
              " Movie(title='The Dead Ones', year=2019),\n",
              " Movie(title='The Dead Room', year=2015),\n",
              " Movie(title='Dead Season', year=2012),\n",
              " Movie(title='Dead Snow', year=2009),\n",
              " Movie(title='Dead Snow 2: Red vs. Dead', year=2014),\n",
              " Movie(title='Deadlier Than the Male', year=1967),\n",
              " Movie(title='Deadline', year=1980),\n",
              " Movie(title='The Deadly Bees', year=1966),\n",
              " Movie(title='Deadly Blessing', year=1981),\n",
              " Movie(title='The Deadly Mantis', year=1957),\n",
              " Movie(title='The Deadly Spawn', year=1983),\n",
              " Movie(title='Deadly Weapons', year=1974),\n",
              " Movie(title='Death Becomes Her', year=1992),\n",
              " Movie(title='Death Bed: The Bed That Eats', year=1977),\n",
              " Movie(title='Death of a Snowman', year=1978),\n",
              " Movie(title='The Death of Louis XIV', year=2016),\n",
              " Movie(title='Death on the Nile', year=1978),\n",
              " Movie(title='Death Race 2000', year=1975),\n",
              " Movie(title='Death Ship', year=1980),\n",
              " Movie(title='Death Watch', year=1980),\n",
              " Movie(title='Deathtrap', year=1982),\n",
              " Movie(title='A Decade Under the Influence', year=2003),\n",
              " Movie(title='Deck Dogz', year=2005),\n",
              " Movie(title='The Decline of Western Civilization', year=1981),\n",
              " Movie(title='Deep Blue Sea', year=1999),\n",
              " Movie(title='The Deep End', year=2001),\n",
              " Movie(title='Deep Impact', year=1998),\n",
              " Movie(title='Deep Red', year=1975),\n",
              " Movie(title='The Deeper You Dig', year=2019),\n",
              " Movie(title='Def-Con 4', year=1985),\n",
              " Movie(title='The Defilers', year=1965),\n",
              " Movie(title='Deliver Us From Evil', year=2009),\n",
              " Movie(title='Deliverance', year=1972),\n",
              " Movie(title='The Delta Force', year=1986),\n",
              " Movie(title='Deluge', year=1933),\n",
              " Movie(title='Demonia', year=1990),\n",
              " Movie(title='Demonic', year=2015),\n",
              " Movie(title='Demonic Toys', year=1992),\n",
              " Movie(title='Demonlover', year=2002),\n",
              " Movie(title='The Demoniacs', year=1974),\n",
              " Movie(title='Demons', year=1985),\n",
              " Movie(title='The Departed', year=2006),\n",
              " Movie(title='The Descent', year=2005),\n",
              " Movie(title='Desperado', year=1995),\n",
              " Movie(title='Desperate Living', year=1977),\n",
              " Movie(title='Destiny in Space', year=1994),\n",
              " Movie(title='Devil', year=2010),\n",
              " Movie(title='The Devil Bat', year=1940),\n",
              " Movie(title='The Devil Commands', year=1941),\n",
              " Movie(title='Devil Dog: The Hound of Hell', year=1978),\n",
              " Movie(title='The Devil-Doll', year=1936),\n",
              " Movie(title='Devil Girl from Mars', year=1954),\n",
              " Movie(title='The Devil Lives Here', year=2016),\n",
              " Movie(title='The Devil Rides Out', year=1968),\n",
              " Movie(title='Devil Times Five', year=1974),\n",
              " Movie(title=\"The Devil's Advocate\", year=1997),\n",
              " Movie(title=\"The Devil's Candy\", year=2015),\n",
              " Movie(title=\"Devil's Island\", year=1939),\n",
              " Movie(title=\"Devil's Pass\", year=2013),\n",
              " Movie(title=\"The Devil's Playground\", year=1976),\n",
              " Movie(title=\"The Devil's Rain\", year=1975),\n",
              " Movie(title=\"The Devil's Rejects\", year=2005),\n",
              " Movie(title=\"The Devil's Sword\", year=1984),\n",
              " Movie(title='Diabolique', year=1955),\n",
              " Movie(title='Dial M For Murder', year=1954),\n",
              " Movie(title='Diamonds are Forever', year=1971),\n",
              " Movie(title='Die Another Day', year=2002),\n",
              " Movie(title='Die Hard', year=1988),\n",
              " Movie(title='Die Hard 2', year=1990),\n",
              " Movie(title='Die Sister, Die!', year=1972),\n",
              " Movie(title='Digging Up the Marrow', year=2014),\n",
              " Movie(title='Dillinger', year=1973),\n",
              " Movie(title='Diner', year=1982),\n",
              " Movie(title='Dinner at Eight', year=1933),\n",
              " Movie(title='The Dinner Party', year=2020),\n",
              " Movie(title='Dinosaurs Alive', year=2007),\n",
              " Movie(title='Dinoshark', year=2010),\n",
              " Movie(title='Directed by John Ford', year=1971),\n",
              " Movie(title='The Dirty Dozen', year=1967),\n",
              " Movie(title='Dirty Mary Crazy Larry', year=1974),\n",
              " Movie(title='The Dirty Mind of Young Sally', year=1973),\n",
              " Movie(title='The Dish', year=2000),\n",
              " Movie(title='Django', year=1966),\n",
              " Movie(title='Django, Prepare a Coffin', year=1968),\n",
              " Movie(title='Do the Right Thing', year=1989),\n",
              " Movie(title='Doctor Mordrid', year=1992),\n",
              " Movie(title='Doctor X', year=1932),\n",
              " Movie(title='Dr. Cyclops', year=1940),\n",
              " Movie(title='Dr. Giggles', year=1992),\n",
              " Movie(title='Dr. Jekyll and Mr. Hyde', year=1931),\n",
              " Movie(title='Dr. No', year=1962),\n",
              " Movie(title='Dr. Phibes Rides Again', year=1972),\n",
              " Movie(title=\"Dr. Renault's Secret\", year=1942),\n",
              " Movie(title='Dr. Strangelove, or How I Learned to Stop Worrying...', year=1964),\n",
              " Movie(title='Documenting the Grey Man', year=2011),\n",
              " Movie(title='Dog Day Afternoon', year=1975),\n",
              " Movie(title='Dog Soldiers', year=2002),\n",
              " Movie(title='Doghouse', year=2009),\n",
              " Movie(title='Dogs', year=1976),\n",
              " Movie(title='The Dogs of War', year=1980),\n",
              " Movie(title='Dogtown and Z Boys', year=2001),\n",
              " Movie(title='La Dolce Vita', year=1960),\n",
              " Movie(title='Dolemite', year=1975),\n",
              " Movie(title='Dollman', year=1991),\n",
              " Movie(title='Dolly Dearest', year=1991),\n",
              " Movie(title='Domino', year=2005),\n",
              " Movie(title='The Don is Dead', year=1973),\n",
              " Movie(title=\"Don's Party\", year=1976),\n",
              " Movie(title='Donnie Brasco', year=1997),\n",
              " Movie(title='Donnie Darko', year=2001),\n",
              " Movie(title=\"Don't Answer The Phone!\", year=1980),\n",
              " Movie(title=\"Don't Be Afraid of the Dark\", year=1973),\n",
              " Movie(title=\"Don't Be Afraid of the Dark\", year=2010),\n",
              " Movie(title=\"Don't Breathe\", year=2016),\n",
              " Movie(title=\"Don't Go In The House\", year=1979),\n",
              " Movie(title=\"Don't Go In the Woods\", year=1981),\n",
              " Movie(title=\"Don't Hang Up\", year=2016),\n",
              " Movie(title=\"Don't Look in the Basement\", year=1973),\n",
              " Movie(title=\"Don't Open Till Christmas\", year=1984),\n",
              " Movie(title=\"Don't Torture a Duckling\", year=1972),\n",
              " Movie(title='Doomsday', year=2008),\n",
              " Movie(title='The Dorm That Dripped Blood', year=1982),\n",
              " Movie(title='Double Exposure', year=1983),\n",
              " Movie(title='Dracula', year=1931),\n",
              " Movie(title='Dracula', year=1979),\n",
              " Movie(title='Dracula: Spanish Version', year=1931),\n",
              " Movie(title='Dracula vs. Frankenstein', year=1971),\n",
              " Movie(title=\"Dracula's Daughter\", year=1936),\n",
              " Movie(title='Drag Me to Hell', year=2009),\n",
              " Movie(title='Dragonslayer', year=1981),\n",
              " Movie(title=\"The Draughtsman's Contract\", year=1982),\n",
              " Movie(title='The Dreamers', year=2003),\n",
              " Movie(title='The Dreaming', year=1988),\n",
              " Movie(title='Dredd', year=2012),\n",
              " Movie(title='Dressed to Kill', year=1980),\n",
              " Movie(title='The Dresser', year=1983),\n",
              " Movie(title='The Driller Killer', year=1979),\n",
              " Movie(title='Drums Along the Mohawk', year=1939),\n",
              " Movie(title='Drums in the Deep South', year=1951),\n",
              " Movie(title='Drunken Master', year=1978),\n",
              " Movie(title='Drux Flux', year=2008),\n",
              " Movie(title='Dry Summer', year=1963),\n",
              " Movie(title='Duck Amuck', year=1953),\n",
              " Movie(title='Duck Soup', year=1933),\n",
              " Movie(title='Duel in the Sun', year=1946),\n",
              " Movie(title='Dumb & Dumber', year=1994),\n",
              " Movie(title='Dumbo', year=1941),\n",
              " Movie(title='Dummy', year=2002),\n",
              " Movie(title='Dying Breed', year=2008),\n",
              " Movie(title='Dynamite Chicken', year=1971),\n",
              " Movie(title='The Eagle', year=2011),\n",
              " Movie(title='Eagles Over London', year=1969),\n",
              " Movie(title='Earth vs. The Spider', year=1958),\n",
              " Movie(title='Earthquake', year=1974),\n",
              " Movie(title='East of Eden', year=1955),\n",
              " Movie(title='Easy Money', year=1983),\n",
              " Movie(title='Easy Rider', year=1969),\n",
              " Movie(title='Easy Riders, Raging Bulls', year=2003),\n",
              " Movie(title='Eaten Alive', year=1976),\n",
              " Movie(title='Eaten Alive!', year=1980),\n",
              " Movie(title='Eaters', year=2015),\n",
              " Movie(title='Eating Raoul', year=1982),\n",
              " Movie(title='The Echo', year=2008),\n",
              " Movie(title='Ed Wood', year=1994),\n",
              " Movie(title='Eden Lake', year=2008),\n",
              " Movie(title=\"Eddie Macon's Run\", year=1983),\n",
              " Movie(title='Eddie Murphy Raw', year=1987),\n",
              " Movie(title='The Edge of Seventeen', year=2016),\n",
              " Movie(title='Edge of the Axe', year=1988),\n",
              " Movie(title='The Editor', year=2014),\n",
              " Movie(title='Edward II', year=1991),\n",
              " Movie(title='Edward Scissorhands', year=1990),\n",
              " Movie(title='Eegah', year=1962),\n",
              " Movie(title='Eight Legged Freaks', year=2002),\n",
              " Movie(title='Eight Men Out', year=1988),\n",
              " Movie(title='El Cid', year=1961),\n",
              " Movie(title='Election', year=1999),\n",
              " Movie(title='Electra Glide in Blue', year=1973),\n",
              " Movie(title='Electric Boogaloo: The Wild, Untold Story of Cannon Films', year=2014),\n",
              " Movie(title='Elephant', year=2003),\n",
              " Movie(title='The Elephant Man', year=1980),\n",
              " Movie(title='Elf', year=2003),\n",
              " Movie(title='Elizabeth', year=1998),\n",
              " Movie(title='Elysium', year=2013),\n",
              " Movie(title='The Emerald Forest', year=1986),\n",
              " Movie(title='Emmanuelle', year=1974),\n",
              " Movie(title=\"Emmet Otter's Jug-Band Christmas\", year=1977),\n",
              " Movie(title='Emperor of the North', year=1973),\n",
              " Movie(title='Empire of the Ants', year=1977),\n",
              " Movie(title='The Empire Strike Back', year=1980),\n",
              " Movie(title=\"Employees' Entrance\", year=1933),\n",
              " Movie(title='Encounter With The Unknown', year=1973),\n",
              " Movie(title='The End', year=1978),\n",
              " Movie(title='End of Days', year=1999),\n",
              " Movie(title='The Enigma of Kaspar Hauser', year=1974),\n",
              " Movie(title='Enter the Dragon', year=1973),\n",
              " Movie(title='Enter the Ninja', year=1981),\n",
              " Movie(title='The Entertainer', year=1960),\n",
              " Movie(title='Entrails of a Virgin', year=1986),\n",
              " Movie(title='The Epic of Everest', year=1924),\n",
              " Movie(title='Erik the Conqueror', year=1961),\n",
              " Movie(title='Erotic Nights of the Living Dead', year=1980),\n",
              " Movie(title='Escape From L.A.', year=1996),\n",
              " Movie(title='Escape From New York', year=1981),\n",
              " Movie(title='Escape from the Planet of the Apes', year=1971),\n",
              " Movie(title='Eternal Sunshine of the Spotless Mind', year=2004),\n",
              " Movie(title='Ethel', year=2012),\n",
              " Movie(title='Europa Report', year=2013),\n",
              " Movie(title='Even Dwarfs Started Small', year=1970),\n",
              " Movie(title='Even Pigeons Go to Heaven', year=2007),\n",
              " Movie(title='An Evening of Edgar Allan Poe', year=1972),\n",
              " Movie(title='Event Horizon', year=1997),\n",
              " Movie(title='Every Which Way But Loose', year=1978),\n",
              " Movie(title='Evidence', year=2013),\n",
              " Movie(title='The Evil', year=1978),\n",
              " Movie(title='Evil Aliens', year=2005),\n",
              " Movie(title='The Evil Dead', year=1981),\n",
              " Movie(title='Evil Dead', year=2013),\n",
              " Movie(title='Evil Dead II', year=1987),\n",
              " Movie(title='Evil Things', year=2009),\n",
              " Movie(title='The Evil Within', year=2017),\n",
              " Movie(title='Ex-Lady', year=1933),\n",
              " Movie(title='Excalibur', year=1981),\n",
              " Movie(title='Executive Decision', year=1996),\n",
              " Movie(title='eXistenZ', year=1999),\n",
              " Movie(title='Exists', year=2014),\n",
              " Movie(title='The Exorcism of Emily Rose', year=2005),\n",
              " Movie(title='The Exorcist', year=1973),\n",
              " Movie(title='Exorcist II: The Heretic', year=1977),\n",
              " Movie(title='The Exorcist III', year=1990),\n",
              " Movie(title='Exotica', year=1994),\n",
              " Movie(title='The Expendables', year=2010),\n",
              " Movie(title='The Explosive Generation', year=1961),\n",
              " Movie(title='The Exterminator', year=1980),\n",
              " Movie(title='Extra Weird Sampler', year=2003),\n",
              " Movie(title='The Eye', year=2002),\n",
              " Movie(title='Eyes of Laura Mars', year=1978),\n",
              " Movie(title='The Eyes of the Mummy', year=1918),\n",
              " Movie(title='F for Fake', year=1973),\n",
              " Movie(title='Fairy Tales', year=1978),\n",
              " Movie(title='The Fall of the House of Usher', year=1928),\n",
              " Movie(title='The Fall of the Roman Empire', year=1964),\n",
              " Movie(title='Fame', year=1980),\n",
              " Movie(title='Family Enforcer', year=1976),\n",
              " Movie(title='Family Guy Presents Blue Harvest', year=2007),\n",
              " Movie(title=\"Family Guy Presents It's a Trap\", year=2010),\n",
              " Movie(title='Family Guy Presents Something Something Something Dark Side', year=2009),\n",
              " Movie(title='The Family Jewels', year=1965),\n",
              " Movie(title='Family Plot', year=1976),\n",
              " Movie(title='The Fan', year=1981),\n",
              " Movie(title=\"Fangoria's Blood Drive\", year=2004),\n",
              " Movie(title='Fangs of the Living Dead', year=1969),\n",
              " Movie(title='Fantasm', year=1976),\n",
              " Movie(title='Fantastic Mr. Fox', year=2009),\n",
              " Movie(title='Fantastic Planet', year=1973),\n",
              " Movie(title='Fantastic Voyage', year=1966),\n",
              " Movie(title='Far From Heaven', year=2002),\n",
              " Movie(title='Fargo', year=1996),\n",
              " Movie(title='Fascination', year=1979),\n",
              " Movie(title='The Fast and the Furious', year=2001),\n",
              " Movie(title='Fast Times at Ridgemont High', year=1982),\n",
              " Movie(title='Fata Morgana', year=1971),\n",
              " Movie(title='Fatherland', year=2011),\n",
              " Movie(title=\"Father's Day\", year=2011),\n",
              " Movie(title='Fatso', year=1980),\n",
              " Movie(title='Faust', year=1926),\n",
              " Movie(title='Fear, Inc.', year=2016),\n",
              " Movie(title='Fear and Loathing in Las Vegas', year=1998),\n",
              " Movie(title='Fear(s) of the Dark', year=2007),\n",
              " Movie(title='Feast', year=2014),\n",
              " Movie(title='Felicity', year=1978),\n",
              " Movie(title='Female', year=1933),\n",
              " Movie(title='Female Animal', year=1970),\n",
              " Movie(title='Female Trouble', year=1974),\n",
              " Movie(title='La Femme Nikita', year=1990),\n",
              " Movie(title='Fences', year=2016),\n",
              " Movie(title='Fertile Ground', year=2011),\n",
              " Movie(title='Fiddler on the Roof', year=1971),\n",
              " Movie(title='Fido', year=2006),\n",
              " Movie(title='Field of Lost Shoes', year=2014),\n",
              " Movie(title='The Fifth Element', year=1997),\n",
              " Movie(title='Fighting the War', year=1916),\n",
              " Movie(title='Film Geek', year=2005),\n",
              " Movie(title='A Film Unfinished', year=2010),\n",
              " Movie(title='The Filth and the Fury', year=2000),\n",
              " Movie(title='The Final Countdown', year=1980),\n",
              " Movie(title='Final Destination', year=2000),\n",
              " Movie(title='Final Destination 2', year=2003),\n",
              " Movie(title='Final Destination 3', year=2006),\n",
              " Movie(title='The Final Destination', year=2009),\n",
              " Movie(title='Final Destination 5', year=2011),\n",
              " Movie(title='Final Exam', year=1981),\n",
              " Movie(title='The Final Girls', year=2015),\n",
              " Movie(title='Final Prayer', year=2013),\n",
              " Movie(title='The Final Terror', year=1983),\n",
              " Movie(title='Finding Vivian Maier', year=2013),\n",
              " Movie(title='Fingerprints', year=2006),\n",
              " Movie(title='Fire!', year=1977),\n",
              " Movie(title='Fire and Ice', year=1983),\n",
              " Movie(title='Fire in the Sky', year=1993),\n",
              " Movie(title='First Blood', year=1982),\n",
              " Movie(title='First Men in the Moon', year=1964),\n",
              " Movie(title='A Fish Called Wanda', year=1988),\n",
              " Movie(title='Five Deadly Venoms', year=1978),\n",
              " Movie(title='Five Easy Pieces', year=1970),\n",
              " Movie(title='Five Element Ninjas', year=1982),\n",
              " Movie(title='Five Minutes to Live', year=1961),\n",
              " Movie(title='Flash Gordon', year=1980),\n",
              " Movie(title='Flatliners', year=1990),\n",
              " Movie(title='Flavia the Heretic', year=1974),\n",
              " ...]"
            ]
          },
          "metadata": {},
          "execution_count": 19
        }
      ]
    },
    {
      "cell_type": "markdown",
      "metadata": {
        "id": "2U1ZMHFAayKM"
      },
      "source": [
        "## Lo creamos"
      ]
    },
    {
      "cell_type": "code",
      "source": [
        "!pip install DAWG"
      ],
      "metadata": {
        "id": "yhoY0raJbUto",
        "colab": {
          "base_uri": "https://localhost:8080/"
        },
        "outputId": "067235fd-12fd-49d9-f162-e1f0d9c74862"
      },
      "execution_count": 20,
      "outputs": [
        {
          "output_type": "stream",
          "name": "stdout",
          "text": [
            "Looking in indexes: https://pypi.org/simple, https://us-python.pkg.dev/colab-wheels/public/simple/\n",
            "Collecting DAWG\n",
            "  Downloading DAWG-0.8.0.tar.gz (371 kB)\n",
            "\u001b[2K     \u001b[90m━━━━━━━━━━━━━━━━━━━━━━━━━━━━━━━━━━━━━━━\u001b[0m \u001b[32m371.1/371.1 KB\u001b[0m \u001b[31m7.3 MB/s\u001b[0m eta \u001b[36m0:00:00\u001b[0m\n",
            "\u001b[?25h  Preparing metadata (setup.py) ... \u001b[?25l\u001b[?25hdone\n",
            "Building wheels for collected packages: DAWG\n",
            "  Building wheel for DAWG (setup.py) ... \u001b[?25l\u001b[?25hdone\n",
            "  Created wheel for DAWG: filename=DAWG-0.8.0-cp38-cp38-linux_x86_64.whl size=1313015 sha256=921330f3d5020b278ba781604e686eb1daf2fb8375c670525495905b04144893\n",
            "  Stored in directory: /root/.cache/pip/wheels/1c/e6/8f/313a7ccc57b29a7affb7205664277a1d5ebe73bf600a69a615\n",
            "Successfully built DAWG\n",
            "Installing collected packages: DAWG\n",
            "Successfully installed DAWG-0.8.0\n"
          ]
        }
      ]
    },
    {
      "cell_type": "code",
      "source": [
        "from pydawg import DAWG\n",
        "\n",
        "dawg = DAWG()\n",
        "\n",
        "for w in sorted(m.title for m in movies_titles):\n",
        "    dawg.add_word_unchecked(w)"
      ],
      "metadata": {
        "id": "2HdDedQ2bUxP"
      },
      "execution_count": 23,
      "outputs": []
    },
    {
      "cell_type": "code",
      "source": [
        "import random\n",
        "t = random.choice(movies_titles).title\n",
        "t"
      ],
      "metadata": {
        "id": "VvRkcWaBbVAn",
        "colab": {
          "base_uri": "https://localhost:8080/",
          "height": 35
        },
        "outputId": "2c501496-ab9b-4ad1-e145-a068de278d9d"
      },
      "execution_count": 26,
      "outputs": [
        {
          "output_type": "execute_result",
          "data": {
            "text/plain": [
              "'Deliverance'"
            ],
            "application/vnd.google.colaboratory.intrinsic+json": {
              "type": "string"
            }
          },
          "metadata": {},
          "execution_count": 26
        }
      ]
    },
    {
      "cell_type": "code",
      "source": [
        "t in dawg"
      ],
      "metadata": {
        "id": "NFVmz00kbepx",
        "colab": {
          "base_uri": "https://localhost:8080/"
        },
        "outputId": "acdd3157-a64f-4581-975e-eaebd34ba4ad"
      },
      "execution_count": 27,
      "outputs": [
        {
          "output_type": "execute_result",
          "data": {
            "text/plain": [
              "True"
            ]
          },
          "metadata": {},
          "execution_count": 27
        }
      ]
    },
    {
      "cell_type": "markdown",
      "metadata": {
        "id": "r9yJBxMpayKN"
      },
      "source": [
        "## Operaciones"
      ]
    },
    {
      "cell_type": "markdown",
      "metadata": {
        "id": "q_uiw_nDayKN"
      },
      "source": [
        "### Búsqueda por prefijo"
      ]
    },
    {
      "cell_type": "code",
      "source": [
        "for m in dawg.find_all('Batman'):\n",
        "    print(m)"
      ],
      "metadata": {
        "id": "vwOPcy9pbhlp",
        "colab": {
          "base_uri": "https://localhost:8080/"
        },
        "outputId": "432b10d4-af83-4020-9fa3-9007d61ea264"
      },
      "execution_count": 28,
      "outputs": [
        {
          "output_type": "stream",
          "name": "stdout",
          "text": [
            "Batman\n",
            "Batman: The Movie\n",
            "Batman Returns\n"
          ]
        }
      ]
    },
    {
      "cell_type": "markdown",
      "metadata": {
        "id": "FFRXPGr8ayKN"
      },
      "source": [
        "### Prefijo más largo "
      ]
    },
    {
      "cell_type": "code",
      "source": [
        "s = 'La guerra de nunca jamás'\n",
        "pfx = dawg.longest_prefix(s)\n",
        "print( s[:pfx])"
      ],
      "metadata": {
        "id": "lwQLERK5blzc",
        "colab": {
          "base_uri": "https://localhost:8080/"
        },
        "outputId": "a7e09c96-8f6d-4411-bd4d-f46cbe6f17f9"
      },
      "execution_count": 29,
      "outputs": [
        {
          "output_type": "stream",
          "name": "stdout",
          "text": [
            "La \n"
          ]
        }
      ]
    },
    {
      "cell_type": "markdown",
      "metadata": {
        "id": "oaf-X-WmayKN"
      },
      "source": [
        "### Búsqueda en una oración"
      ]
    },
    {
      "cell_type": "code",
      "execution_count": 30,
      "metadata": {
        "id": "8kiwmLNOayKN"
      },
      "outputs": [],
      "source": [
        "def token_match(dawg, tknlist):\n",
        "    for n in range(len(tknlist), 0, -1):\n",
        "        test_str = ' '.join(tknlist[:n])\n",
        "        if test_str in dawg:\n",
        "            return test_str\n",
        "\n",
        "def token_match_all(dawg, utterance):\n",
        "    tknlist = utterance.split()\n",
        "    return [token_match(dawg, tknlist[chunk:])\n",
        "             for chunk in range(len(tknlist))]"
      ]
    },
    {
      "cell_type": "code",
      "source": [
        "token_match_all(dawg, 'Donde echan Batman y Robin esta noche')"
      ],
      "metadata": {
        "id": "dQwxITdWbpZx",
        "colab": {
          "base_uri": "https://localhost:8080/"
        },
        "outputId": "3ccdd849-85ff-4609-c968-7a4703d0c328"
      },
      "execution_count": 31,
      "outputs": [
        {
          "output_type": "execute_result",
          "data": {
            "text/plain": [
              "[None, None, 'Batman', None, None, None, None]"
            ]
          },
          "metadata": {},
          "execution_count": 31
        }
      ]
    },
    {
      "cell_type": "markdown",
      "metadata": {
        "id": "nJOW4iy6ayKN"
      },
      "source": [
        "### Minimal perfect hash"
      ]
    },
    {
      "cell_type": "code",
      "source": [
        "dawg.word2index('Batman')"
      ],
      "metadata": {
        "id": "xOOG3HeZbsfL",
        "colab": {
          "base_uri": "https://localhost:8080/"
        },
        "outputId": "639568c0-16a8-4c6a-f16d-51f938a48570"
      },
      "execution_count": 32,
      "outputs": [
        {
          "output_type": "execute_result",
          "data": {
            "text/plain": [
              "242"
            ]
          },
          "metadata": {},
          "execution_count": 32
        }
      ]
    },
    {
      "cell_type": "markdown",
      "metadata": {
        "id": "iuQDZqMbayKN"
      },
      "source": [
        "# Distancia entre textos"
      ]
    },
    {
      "cell_type": "markdown",
      "metadata": {
        "id": "cOY33cUzayKO"
      },
      "source": [
        "[Jellyfish](https://jellyfish.readthedocs.io/en/latest/) es una librería que contiene funciones para el cálculo de similitud entre textos. Dicha similitud puede ser á nivel léxico-gráfico (strings) o fonético.\n",
        "\n",
        "\n",
        "Algoritmos de comparación de strings:\n",
        "\n",
        "- Levenshtein Distance\n",
        "- Damerau-Levenshtein Distance\n",
        "- Jaro Distance\n",
        "- Jaro-Winkler Distance\n",
        "- Match Rating Approach Comparison\n",
        "- Hamming Distance\n",
        "\n",
        "Algoritmos de encoding fonético:\n",
        "\n",
        "- American Soundex\n",
        "- Metaphone\n",
        "- NYSIIS (New York State Identification and Intelligence System)\n",
        "- Match Rating Codex\n"
      ]
    },
    {
      "cell_type": "code",
      "execution_count": 34,
      "metadata": {
        "id": "DzeeexprayKO"
      },
      "outputs": [],
      "source": [
        "# !pip3 install jellyfish\n",
        "import jellyfish\n",
        "\n"
      ]
    },
    {
      "cell_type": "markdown",
      "source": [
        "https://pypi.org/project/jellyfish/"
      ],
      "metadata": {
        "id": "sMaIVJQz0R2m"
      }
    },
    {
      "cell_type": "markdown",
      "metadata": {
        "id": "JA3gAeG0ayKO"
      },
      "source": [
        "## Levenshtein\n",
        "\n",
        "Recordemos: distancia de Edit (Edición) en la que las operaciones permitidas son la inserción, la eliminación y la sustitución."
      ]
    },
    {
      "cell_type": "code",
      "source": [
        "jellyfish.levenshtein_distance('Cisne negro', 'Cisne negro')"
      ],
      "metadata": {
        "id": "mYtg6_vEb3ym",
        "colab": {
          "base_uri": "https://localhost:8080/"
        },
        "outputId": "90548735-5b9a-4667-84de-eab7a3751d53"
      },
      "execution_count": 35,
      "outputs": [
        {
          "output_type": "execute_result",
          "data": {
            "text/plain": [
              "0"
            ]
          },
          "metadata": {},
          "execution_count": 35
        }
      ]
    },
    {
      "cell_type": "code",
      "source": [
        "jellyfish.levenshtein_distance('Cisne negro', 'Cisne negor')"
      ],
      "metadata": {
        "id": "CDdw0XQLb36a",
        "colab": {
          "base_uri": "https://localhost:8080/"
        },
        "outputId": "f092edd9-4d78-44fb-de61-42e8277c426a"
      },
      "execution_count": 36,
      "outputs": [
        {
          "output_type": "execute_result",
          "data": {
            "text/plain": [
              "2"
            ]
          },
          "metadata": {},
          "execution_count": 36
        }
      ]
    },
    {
      "cell_type": "code",
      "source": [
        "jellyfish.levenshtein_distance('Cisne negro', 'Cisne nego')"
      ],
      "metadata": {
        "id": "AXxo79Zub4Bc",
        "colab": {
          "base_uri": "https://localhost:8080/"
        },
        "outputId": "16fae738-ddea-4c4d-8a49-dbddbaf81ad8"
      },
      "execution_count": 37,
      "outputs": [
        {
          "output_type": "execute_result",
          "data": {
            "text/plain": [
              "1"
            ]
          },
          "metadata": {},
          "execution_count": 37
        }
      ]
    },
    {
      "cell_type": "code",
      "source": [
        "jellyfish.levenshtein_distance('Cisnee negro', 'Cisne nego')"
      ],
      "metadata": {
        "id": "jIHNrKG9b4Id",
        "colab": {
          "base_uri": "https://localhost:8080/"
        },
        "outputId": "cde6405c-ed2e-4afa-a604-11a75e677d9c"
      },
      "execution_count": 38,
      "outputs": [
        {
          "output_type": "execute_result",
          "data": {
            "text/plain": [
              "2"
            ]
          },
          "metadata": {},
          "execution_count": 38
        }
      ]
    },
    {
      "cell_type": "code",
      "source": [
        "jellyfish.levenshtein_distance('Cisneee negro', 'Cisne nego')"
      ],
      "metadata": {
        "id": "t5g9Xy2bb4Zl",
        "colab": {
          "base_uri": "https://localhost:8080/"
        },
        "outputId": "6096db09-9aca-45c8-8f5c-2f1be94059f7"
      },
      "execution_count": 39,
      "outputs": [
        {
          "output_type": "execute_result",
          "data": {
            "text/plain": [
              "3"
            ]
          },
          "metadata": {},
          "execution_count": 39
        }
      ]
    },
    {
      "cell_type": "markdown",
      "metadata": {
        "id": "PWAXMBK4ayKO"
      },
      "source": [
        "## Damerau-Levenshtein\n",
        "\n",
        "Recordemos: distancia de Edit (Edición) en la que las operaciones permitidas son la inserción, la eliminación y la transposición de 2 caracteres adyacentes."
      ]
    },
    {
      "cell_type": "code",
      "source": [
        "jellyfish.damerau_levenshtein_distance('Cisne negro', 'Cisne negro')"
      ],
      "metadata": {
        "id": "3JJLjn0wcDwK",
        "colab": {
          "base_uri": "https://localhost:8080/"
        },
        "outputId": "36597ac2-4fb4-4944-c8d6-a9dc3e7608c7"
      },
      "execution_count": 40,
      "outputs": [
        {
          "output_type": "execute_result",
          "data": {
            "text/plain": [
              "0"
            ]
          },
          "metadata": {},
          "execution_count": 40
        }
      ]
    },
    {
      "cell_type": "code",
      "source": [
        "jellyfish.damerau_levenshtein_distance('Cisne negro', 'Cisne negor')"
      ],
      "metadata": {
        "id": "a1VfTf1CcD3B",
        "colab": {
          "base_uri": "https://localhost:8080/"
        },
        "outputId": "352bdd1f-fba8-4b96-f996-b54740071d12"
      },
      "execution_count": 45,
      "outputs": [
        {
          "output_type": "execute_result",
          "data": {
            "text/plain": [
              "1"
            ]
          },
          "metadata": {},
          "execution_count": 45
        }
      ]
    },
    {
      "cell_type": "code",
      "source": [
        "jellyfish.damerau_levenshtein_distance('Cisne negro', 'Cisne nego')"
      ],
      "metadata": {
        "id": "-dJgKMnHcD-U",
        "colab": {
          "base_uri": "https://localhost:8080/"
        },
        "outputId": "324421a5-f054-4e3c-e66b-cbcc87362bfe"
      },
      "execution_count": 43,
      "outputs": [
        {
          "output_type": "execute_result",
          "data": {
            "text/plain": [
              "1"
            ]
          },
          "metadata": {},
          "execution_count": 43
        }
      ]
    },
    {
      "cell_type": "code",
      "source": [
        "jellyfish.damerau_levenshtein_distance('Cisnee negro', 'Cisne nego')"
      ],
      "metadata": {
        "id": "jmW6hmMzcEF_",
        "colab": {
          "base_uri": "https://localhost:8080/"
        },
        "outputId": "4431619e-8b77-45db-b82c-c64a9e1670b6"
      },
      "execution_count": 42,
      "outputs": [
        {
          "output_type": "execute_result",
          "data": {
            "text/plain": [
              "2"
            ]
          },
          "metadata": {},
          "execution_count": 42
        }
      ]
    },
    {
      "cell_type": "code",
      "source": [
        "jellyfish.damerau_levenshtein_distance('Cisneee negro', 'Cisne nego')"
      ],
      "metadata": {
        "id": "yjEsgBwkcEQ2",
        "colab": {
          "base_uri": "https://localhost:8080/"
        },
        "outputId": "70625c40-cf9e-4d61-c0dc-74bac516fca9"
      },
      "execution_count": 44,
      "outputs": [
        {
          "output_type": "execute_result",
          "data": {
            "text/plain": [
              "3"
            ]
          },
          "metadata": {},
          "execution_count": 44
        }
      ]
    },
    {
      "cell_type": "markdown",
      "metadata": {
        "id": "VTwTtrKmayKP"
      },
      "source": [
        "## Jaro distance\n",
        "\n",
        "Recordemos: distancia de Edit (Edición) en la que la operacion permitida es la transposición."
      ]
    },
    {
      "cell_type": "code",
      "source": [
        "jellyfish.jaro_distance('Cisne negro', 'Cisne nego')"
      ],
      "metadata": {
        "id": "-paSGojldf-p",
        "colab": {
          "base_uri": "https://localhost:8080/"
        },
        "outputId": "1faf0e80-d24c-4d53-b7e7-00e72f117647"
      },
      "execution_count": 46,
      "outputs": [
        {
          "output_type": "execute_result",
          "data": {
            "text/plain": [
              "0.9696969696969697"
            ]
          },
          "metadata": {},
          "execution_count": 46
        }
      ]
    },
    {
      "cell_type": "code",
      "source": [
        "jellyfish.jaro_distance('Cisnee negro', 'Cisne nego')"
      ],
      "metadata": {
        "id": "MggQBhoFdgFi",
        "colab": {
          "base_uri": "https://localhost:8080/"
        },
        "outputId": "6a76c3a3-9c3e-47ee-ecff-875636c89c00"
      },
      "execution_count": 47,
      "outputs": [
        {
          "output_type": "execute_result",
          "data": {
            "text/plain": [
              "0.9111111111111111"
            ]
          },
          "metadata": {},
          "execution_count": 47
        }
      ]
    },
    {
      "cell_type": "code",
      "source": [
        "jellyfish.jaro_distance('Cisneee negro', 'Cisne nego')"
      ],
      "metadata": {
        "id": "ED8Ktgg9dgJk",
        "colab": {
          "base_uri": "https://localhost:8080/"
        },
        "outputId": "16c1a41b-0b16-497c-bbc4-5fe788e815ca"
      },
      "execution_count": 48,
      "outputs": [
        {
          "output_type": "execute_result",
          "data": {
            "text/plain": [
              "0.8897435897435897"
            ]
          },
          "metadata": {},
          "execution_count": 48
        }
      ]
    },
    {
      "cell_type": "code",
      "source": [],
      "metadata": {
        "id": "SrRvtixOY_Nv"
      },
      "execution_count": null,
      "outputs": []
    },
    {
      "cell_type": "code",
      "source": [],
      "metadata": {
        "id": "wgmZ5a3zY_Qt"
      },
      "execution_count": null,
      "outputs": []
    },
    {
      "cell_type": "code",
      "source": [],
      "metadata": {
        "id": "mirT9hrjY_Tk"
      },
      "execution_count": null,
      "outputs": []
    },
    {
      "cell_type": "code",
      "source": [],
      "metadata": {
        "id": "IM3_uvt9Y_Z9"
      },
      "execution_count": null,
      "outputs": []
    },
    {
      "cell_type": "code",
      "source": [],
      "metadata": {
        "id": "moHgV4okY_cj"
      },
      "execution_count": null,
      "outputs": []
    },
    {
      "cell_type": "code",
      "source": [],
      "metadata": {
        "id": "pn1l1tGQY_fK"
      },
      "execution_count": null,
      "outputs": []
    },
    {
      "cell_type": "code",
      "execution_count": null,
      "metadata": {
        "id": "Bu99b21LayKQ"
      },
      "outputs": [],
      "source": []
    }
  ],
  "metadata": {
    "colab": {
      "provenance": []
    },
    "kernelspec": {
      "display_name": "Python 3 (ipykernel)",
      "language": "python",
      "name": "python3"
    },
    "language_info": {
      "codemirror_mode": {
        "name": "ipython",
        "version": 3
      },
      "file_extension": ".py",
      "mimetype": "text/x-python",
      "name": "python",
      "nbconvert_exporter": "python",
      "pygments_lexer": "ipython3",
      "version": "3.9.13"
    }
  },
  "nbformat": 4,
  "nbformat_minor": 0
}