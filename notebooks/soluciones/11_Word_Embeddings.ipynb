{
  "cells": [
    {
      "cell_type": "markdown",
      "metadata": {
        "id": "TUh0d6qMgMB0"
      },
      "source": [
        "## Word2Vec\n",
        "\n",
        "El modelo más famoso de word embeddings. Inventado por [Tomas Mikolov en 2013 en Google](https://arxiv.org/pdf/1310.4546.pdf)\n",
        "\n",
        "https://radimrehurek.com/gensim/models/word2vec.html\n",
        "\n",
        "### Hyperparameters\n",
        "\n",
        "Algunos de los hiperparámetros que deberemos tener en cuenta y configuraremos:\n",
        "\n",
        "- size: dimensionalidad de las palabras vector\n",
        "- window: ventana para obtener el contexto de cada palabra. Se mide en número de palabras máximo entre la palabra actual y la palabra a predecir\n",
        "- min_count: frecuencia mínima de aparición de una palabra para que sea considerada en el entrenamiento\n",
        "- sg: algoritmo escogido. 1 para Skip-Gram, 0 para CBOW\n",
        "- hs: si = 1, se utiliza una softmax jerárquica. Si = 0, y negative != 0, se emplea negative sampling\n",
        "- negative: si = 0, no se usa negative sampling. Si es > 0, se usará negative sampling. El valor indica el número de \"palabras ruidosas\" se incluirán (usual entre 5-20 para datasets pequeños, entre 2-5 para datasets grandes)\n",
        "\n",
        "### Noción de contexto\n",
        "\n",
        "<img src=https://docs.chainer.org/en/v4.0.0b2/_images/center_context_word.png width=450px>\n",
        "\n",
        "## Atributos\n",
        "\n",
        "- wv: word vectors, contiene el mapeo entre palabras y vectores (embeddings)\n",
        "- vocabulary: vocabulario (o diccionario) del modelo\n",
        "\n",
        "\n",
        "## Negative sampling\n",
        "\n",
        "Cuando se trabaja en NLP el tamaño del vocabulario suele tener una cardinalidad enorme. Esto afecta a los modelos de lenguaje a la hora de predecir aquellas palabras que, aunque correctas, no son demasiado frecuentes.\n",
        "\n",
        "Además, contextos muy comunes (como los que podrían ser aquellos en los que se encuentran muchas stop words) hacen que el entrenamiento sea lento. Se emplea, por tanto, para reducir la carga computacional al problema.\n",
        "\n",
        "La solución que se propone - e implementa - Word2Vec es que cada palabra tenga una determinada probabilidad de ser eliminada del training set. Dicha probabilidad estará relacionada con la frecuencia de repetición de dicha palabra.\n",
        "\n",
        "\n",
        "## Arquitecturas\n",
        "\n",
        "Existen dos arquitecturas de este modelo: CBOW y Skip Gram.\n",
        "\n",
        "\n",
        "#### CBOW (Continuous Bag of Words)\n",
        "\n",
        "Durante el entrenamiento, el modelo tratará de **predecir la palabra actual** dado el contexto en el que se encuentre. La capa de entrada contendrá las palabras-contexto y la de salida será la palabra actual (o palabra a predecir). La capa intermedia tendrá una dimension igual al número de dimensiones en el que queremos representar la palabra actual a la salida.\n",
        "\n",
        "<img src=https://miro.medium.com/max/1104/0*CCsrTAjN80MqswXG width=400px>\n",
        "\n",
        "\n",
        "#### Skip Gram\n",
        "\n",
        "Durante el entrenamiento, el modelo tratará de predecir **el contexto (palabras-contexto)** a una palabra dada. La capa de entrada contendrá la palabra actual y la de salida serán las palabras contexto. La capa intermedia es análoga a la presente en la arquitectura CBOW.\n",
        "\n",
        "<img src=https://miro.medium.com/max/1280/0*Ta3qx5CQsrJloyCA.png width=300px>\n",
        "\n",
        "### ¿Cuál es mejor?\n",
        "\n",
        "En general, depende. CBOW, al haber sido entrenado para predecir una palabra dado un contexto, será algo mejor _rellenando huecos_, aunque eso puede significar que palabras correctas pero menos comunes no aparezcan como resultado algunas veces. Skip Gram, en cambio, debería ser mejor infiriendo relaciones más concretas en contextos similares (por ejemplo, \"me gusta el color verde\" y \"me encanta el color azul\", y la diferencia en la intensidad del sentimiento expresado).\n",
        "\n",
        "Si atendemos a los comentarios de Mikolov:\n",
        "\n",
        "- Skip-gram: funciona bien con conjuntos de datos pequeños, representando bien incluso palabras o frases extrañas (poco comunes)\n",
        "- CBOW: entrenamiento varias veces más rápido, su performance mejor para aquellas palabras más frecuentes que el resto"
      ]
    },
    {
      "cell_type": "markdown",
      "metadata": {
        "id": "t2gRfi5PgMBx"
      },
      "source": [
        "# Word Embeddings\n",
        "\n",
        "Los Word Embeddings son aquellas técnicas y modelos de lenguaje que permiten mapear palabras a vectores de valores continuos. Durante el entrenamiento de dichos vectores se buscará que capturen la información semántica de las palabras.\n",
        "\n",
        "<img src=https://miro.medium.com/max/1280/1*OEmWDt4eztOcm5pr2QbxfA.png widt=500px>\n",
        "\n",
        "Gracias a que los vectores tienen información sobre la semántica, mediante operaciones vectoriales podemos encontrar palabras (o documentos) que tienen un significado similar.\n",
        "\n",
        "La idea principal de este tipo de modelos es que **palabras que aparecen en contextos similares tienen semánticas similares**. **Concepto de sustituibilidad**.\n",
        "\n",
        "**Aquellas palabras que semánticamente son similares tendrán - idealmente - vectores-palabra cercanos entre sí.**\n",
        "\n",
        "Existen multitud de modelos, en esta sesión veremos solo algunas. "
      ]
    },
    {
      "cell_type": "code",
      "source": [
        "!pip install unzip\n",
        "!unzip simpsons_dataset.csv.zip"
      ],
      "metadata": {
        "id": "B94wklRcPd9D",
        "colab": {
          "base_uri": "https://localhost:8080/"
        },
        "outputId": "383ff653-24ba-425c-9889-e3c26279502b"
      },
      "execution_count": null,
      "outputs": [
        {
          "output_type": "stream",
          "name": "stdout",
          "text": [
            "Looking in indexes: https://pypi.org/simple, https://us-python.pkg.dev/colab-wheels/public/simple/\n",
            "Collecting unzip\n",
            "  Downloading unzip-1.0.0.tar.gz (704 bytes)\n",
            "  Preparing metadata (setup.py) ... \u001b[?25l\u001b[?25hdone\n",
            "Building wheels for collected packages: unzip\n",
            "  Building wheel for unzip (setup.py) ... \u001b[?25l\u001b[?25hdone\n",
            "  Created wheel for unzip: filename=unzip-1.0.0-py3-none-any.whl size=1322 sha256=432895d20bbbf040c295aa30f111ccbddc935e98a970cef68405f5ffa892768c\n",
            "  Stored in directory: /root/.cache/pip/wheels/90/bd/0f/a2797a7e90de1cdd91548fba3b16a7c2560e14a268bb137101\n",
            "Successfully built unzip\n",
            "Installing collected packages: unzip\n",
            "Successfully installed unzip-1.0.0\n",
            "Archive:  simpsons_dataset.csv.zip\n",
            "  inflating: simpsons_dataset.csv    \n",
            "  inflating: __MACOSX/._simpsons_dataset.csv  \n"
          ]
        }
      ]
    },
    {
      "cell_type": "markdown",
      "metadata": {
        "id": "_lSrgrn6gMB1"
      },
      "source": [
        "## Palabras más similares"
      ]
    },
    {
      "cell_type": "markdown",
      "metadata": {
        "id": "zi48GKy7gMB2"
      },
      "source": [
        "## Importamos las librerías"
      ]
    },
    {
      "cell_type": "code",
      "execution_count": null,
      "metadata": {
        "id": "Z6fPTAKYgMB2"
      },
      "outputs": [],
      "source": [
        "from gensim.models import Word2Vec\n",
        "from gensim.models.word2vec import LineSentence"
      ]
    },
    {
      "cell_type": "code",
      "source": [
        "import re  # Para Preprocesamiento\n",
        "import pandas as pd  \n",
        "from time import time  # Tiempo de las operaciones\n",
        "from collections import defaultdict  # Para Frecuencias de palabras\n",
        "\n",
        "import spacy  # Para prepocesamiento\n",
        "import logging  # Configuración de loggings para monitor gensim\n",
        "logging.basicConfig(format=\"%(levelname)s - %(asctime)s: %(message)s\", datefmt= '%H:%M:%S', level=logging.INFO)\n",
        "from gensim.models.phrases import Phrases, Phraser"
      ],
      "metadata": {
        "id": "n6KlKP0Ixqrf"
      },
      "execution_count": null,
      "outputs": []
    },
    {
      "cell_type": "markdown",
      "source": [
        "## Lectura de datos"
      ],
      "metadata": {
        "id": "jb0ye5BkE6ZC"
      }
    },
    {
      "cell_type": "code",
      "source": [
        "df = pd.read_csv('./simpsons_dataset.csv')\n",
        "df.shape"
      ],
      "metadata": {
        "colab": {
          "base_uri": "https://localhost:8080/"
        },
        "id": "49WrIu_xxquV",
        "outputId": "cbd59278-635e-4d4b-f97a-6da906aa2219"
      },
      "execution_count": null,
      "outputs": [
        {
          "output_type": "execute_result",
          "data": {
            "text/plain": [
              "(158314, 2)"
            ]
          },
          "metadata": {},
          "execution_count": 4
        }
      ]
    },
    {
      "cell_type": "code",
      "source": [
        "df.head()"
      ],
      "metadata": {
        "id": "dtOqm3__PhXd",
        "colab": {
          "base_uri": "https://localhost:8080/",
          "height": 206
        },
        "outputId": "3b2ff3e2-3573-4107-de04-9a1328902ff1"
      },
      "execution_count": null,
      "outputs": [
        {
          "output_type": "execute_result",
          "data": {
            "text/plain": [
              "        raw_character_text                                       spoken_words\n",
              "0              Miss Hoover  No, actually, it was a little of both. Sometim...\n",
              "1             Lisa Simpson                             Where's Mr. Bergstrom?\n",
              "2              Miss Hoover  I don't know. Although I'd sure like to talk t...\n",
              "3             Lisa Simpson                         That life is worth living.\n",
              "4  Edna Krabappel-Flanders  The polls will be open from now until the end ..."
            ],
            "text/html": [
              "\n",
              "  <div id=\"df-15235906-009a-433a-8a8a-f0bc6043a966\">\n",
              "    <div class=\"colab-df-container\">\n",
              "      <div>\n",
              "<style scoped>\n",
              "    .dataframe tbody tr th:only-of-type {\n",
              "        vertical-align: middle;\n",
              "    }\n",
              "\n",
              "    .dataframe tbody tr th {\n",
              "        vertical-align: top;\n",
              "    }\n",
              "\n",
              "    .dataframe thead th {\n",
              "        text-align: right;\n",
              "    }\n",
              "</style>\n",
              "<table border=\"1\" class=\"dataframe\">\n",
              "  <thead>\n",
              "    <tr style=\"text-align: right;\">\n",
              "      <th></th>\n",
              "      <th>raw_character_text</th>\n",
              "      <th>spoken_words</th>\n",
              "    </tr>\n",
              "  </thead>\n",
              "  <tbody>\n",
              "    <tr>\n",
              "      <th>0</th>\n",
              "      <td>Miss Hoover</td>\n",
              "      <td>No, actually, it was a little of both. Sometim...</td>\n",
              "    </tr>\n",
              "    <tr>\n",
              "      <th>1</th>\n",
              "      <td>Lisa Simpson</td>\n",
              "      <td>Where's Mr. Bergstrom?</td>\n",
              "    </tr>\n",
              "    <tr>\n",
              "      <th>2</th>\n",
              "      <td>Miss Hoover</td>\n",
              "      <td>I don't know. Although I'd sure like to talk t...</td>\n",
              "    </tr>\n",
              "    <tr>\n",
              "      <th>3</th>\n",
              "      <td>Lisa Simpson</td>\n",
              "      <td>That life is worth living.</td>\n",
              "    </tr>\n",
              "    <tr>\n",
              "      <th>4</th>\n",
              "      <td>Edna Krabappel-Flanders</td>\n",
              "      <td>The polls will be open from now until the end ...</td>\n",
              "    </tr>\n",
              "  </tbody>\n",
              "</table>\n",
              "</div>\n",
              "      <button class=\"colab-df-convert\" onclick=\"convertToInteractive('df-15235906-009a-433a-8a8a-f0bc6043a966')\"\n",
              "              title=\"Convert this dataframe to an interactive table.\"\n",
              "              style=\"display:none;\">\n",
              "        \n",
              "  <svg xmlns=\"http://www.w3.org/2000/svg\" height=\"24px\"viewBox=\"0 0 24 24\"\n",
              "       width=\"24px\">\n",
              "    <path d=\"M0 0h24v24H0V0z\" fill=\"none\"/>\n",
              "    <path d=\"M18.56 5.44l.94 2.06.94-2.06 2.06-.94-2.06-.94-.94-2.06-.94 2.06-2.06.94zm-11 1L8.5 8.5l.94-2.06 2.06-.94-2.06-.94L8.5 2.5l-.94 2.06-2.06.94zm10 10l.94 2.06.94-2.06 2.06-.94-2.06-.94-.94-2.06-.94 2.06-2.06.94z\"/><path d=\"M17.41 7.96l-1.37-1.37c-.4-.4-.92-.59-1.43-.59-.52 0-1.04.2-1.43.59L10.3 9.45l-7.72 7.72c-.78.78-.78 2.05 0 2.83L4 21.41c.39.39.9.59 1.41.59.51 0 1.02-.2 1.41-.59l7.78-7.78 2.81-2.81c.8-.78.8-2.07 0-2.86zM5.41 20L4 18.59l7.72-7.72 1.47 1.35L5.41 20z\"/>\n",
              "  </svg>\n",
              "      </button>\n",
              "      \n",
              "  <style>\n",
              "    .colab-df-container {\n",
              "      display:flex;\n",
              "      flex-wrap:wrap;\n",
              "      gap: 12px;\n",
              "    }\n",
              "\n",
              "    .colab-df-convert {\n",
              "      background-color: #E8F0FE;\n",
              "      border: none;\n",
              "      border-radius: 50%;\n",
              "      cursor: pointer;\n",
              "      display: none;\n",
              "      fill: #1967D2;\n",
              "      height: 32px;\n",
              "      padding: 0 0 0 0;\n",
              "      width: 32px;\n",
              "    }\n",
              "\n",
              "    .colab-df-convert:hover {\n",
              "      background-color: #E2EBFA;\n",
              "      box-shadow: 0px 1px 2px rgba(60, 64, 67, 0.3), 0px 1px 3px 1px rgba(60, 64, 67, 0.15);\n",
              "      fill: #174EA6;\n",
              "    }\n",
              "\n",
              "    [theme=dark] .colab-df-convert {\n",
              "      background-color: #3B4455;\n",
              "      fill: #D2E3FC;\n",
              "    }\n",
              "\n",
              "    [theme=dark] .colab-df-convert:hover {\n",
              "      background-color: #434B5C;\n",
              "      box-shadow: 0px 1px 3px 1px rgba(0, 0, 0, 0.15);\n",
              "      filter: drop-shadow(0px 1px 2px rgba(0, 0, 0, 0.3));\n",
              "      fill: #FFFFFF;\n",
              "    }\n",
              "  </style>\n",
              "\n",
              "      <script>\n",
              "        const buttonEl =\n",
              "          document.querySelector('#df-15235906-009a-433a-8a8a-f0bc6043a966 button.colab-df-convert');\n",
              "        buttonEl.style.display =\n",
              "          google.colab.kernel.accessAllowed ? 'block' : 'none';\n",
              "\n",
              "        async function convertToInteractive(key) {\n",
              "          const element = document.querySelector('#df-15235906-009a-433a-8a8a-f0bc6043a966');\n",
              "          const dataTable =\n",
              "            await google.colab.kernel.invokeFunction('convertToInteractive',\n",
              "                                                     [key], {});\n",
              "          if (!dataTable) return;\n",
              "\n",
              "          const docLinkHtml = 'Like what you see? Visit the ' +\n",
              "            '<a target=\"_blank\" href=https://colab.research.google.com/notebooks/data_table.ipynb>data table notebook</a>'\n",
              "            + ' to learn more about interactive tables.';\n",
              "          element.innerHTML = '';\n",
              "          dataTable['output_type'] = 'display_data';\n",
              "          await google.colab.output.renderOutput(dataTable, element);\n",
              "          const docLink = document.createElement('div');\n",
              "          docLink.innerHTML = docLinkHtml;\n",
              "          element.appendChild(docLink);\n",
              "        }\n",
              "      </script>\n",
              "    </div>\n",
              "  </div>\n",
              "  "
            ]
          },
          "metadata": {},
          "execution_count": 5
        }
      ]
    },
    {
      "cell_type": "code",
      "source": [
        "df.isnull().sum()"
      ],
      "metadata": {
        "id": "BxmY6TDHPj-p",
        "colab": {
          "base_uri": "https://localhost:8080/"
        },
        "outputId": "410fbd38-8ad7-4339-b828-24225b2e7150"
      },
      "execution_count": null,
      "outputs": [
        {
          "output_type": "execute_result",
          "data": {
            "text/plain": [
              "raw_character_text    17814\n",
              "spoken_words          26459\n",
              "dtype: int64"
            ]
          },
          "metadata": {},
          "execution_count": 6
        }
      ]
    },
    {
      "cell_type": "code",
      "source": [
        "df = df.dropna().reset_index(drop=True)\n",
        "df.isnull().sum()"
      ],
      "metadata": {
        "id": "WSsEl1tzPmbC",
        "colab": {
          "base_uri": "https://localhost:8080/"
        },
        "outputId": "182e8aa6-ed1a-4537-f6c8-9309b5c730a8"
      },
      "execution_count": null,
      "outputs": [
        {
          "output_type": "execute_result",
          "data": {
            "text/plain": [
              "raw_character_text    0\n",
              "spoken_words          0\n",
              "dtype: int64"
            ]
          },
          "metadata": {},
          "execution_count": 7
        }
      ]
    },
    {
      "cell_type": "code",
      "source": [
        "\n",
        "nlp = spacy.load(\"en_core_web_sm\")\n",
        "def cleaning(doc):\n",
        "    # Lematizamos y removemos stopwords\n",
        "    # doc necesita ser a spacy Doc object\n",
        "    txt = [token.lemma_ for token in doc if not token.is_stop]\n",
        "    # Word2Vec usa las palabras de contexto para aprender a representar el vector de una palabra ,\n",
        "    # si una sentencia tiene solo una o dos palabras ,\n",
        "    # el beneficio para el training es muy pequeño \n",
        "    if len(txt) > 2:\n",
        "        return ' '.join(txt)"
      ],
      "metadata": {
        "id": "eFTJ80iGxq5B"
      },
      "execution_count": null,
      "outputs": []
    },
    {
      "cell_type": "markdown",
      "source": [
        "Quitar los caracteres no alfabéticos "
      ],
      "metadata": {
        "id": "OQhmy7f50TUP"
      }
    },
    {
      "cell_type": "code",
      "source": [
        "brief_cleaning = (re.sub(\"[^A-Za-z']+\", ' ', str(row)).lower() for row in df['spoken_words'])"
      ],
      "metadata": {
        "id": "Gf5dPnngxq7n"
      },
      "execution_count": null,
      "outputs": []
    },
    {
      "cell_type": "markdown",
      "source": [
        "Utilizamos el atributo .pipe() de spaCy para acelerar la velocidad del proceso de limpieza "
      ],
      "metadata": {
        "id": "z9EZxwLw0iaQ"
      }
    },
    {
      "cell_type": "code",
      "source": [
        "t = time()\n",
        "\n",
        "txt = [cleaning(doc) for doc in nlp.pipe(brief_cleaning, batch_size=5000)]\n",
        "\n",
        "print('Tiempo para limpiar todo: {} mins'.format(round((time() - t) / 60, 2)))"
      ],
      "metadata": {
        "id": "Em0MVV0Lxq-O",
        "colab": {
          "base_uri": "https://localhost:8080/"
        },
        "outputId": "ab427510-6a7d-442c-ffd0-55496053618b"
      },
      "execution_count": null,
      "outputs": [
        {
          "output_type": "stream",
          "name": "stdout",
          "text": [
            "Tiempo para limpiar todo: 2.83 mins\n"
          ]
        }
      ]
    },
    {
      "cell_type": "markdown",
      "source": [
        "Organizamos el resultado en una DataFrame eliminando los valores missing y duplicados:"
      ],
      "metadata": {
        "id": "zN2mYGM300vb"
      }
    },
    {
      "cell_type": "code",
      "source": [
        "df_clean_simpsons = pd.DataFrame({'clean': txt})\n",
        "df_clean_simpsons = df_clean_simpsons.dropna().drop_duplicates()\n",
        "df_clean_simpsons.shape"
      ],
      "metadata": {
        "id": "zmMEpog50lQi",
        "colab": {
          "base_uri": "https://localhost:8080/"
        },
        "outputId": "5c0f1e93-76ef-46d0-94a8-7e681cfedaae"
      },
      "execution_count": null,
      "outputs": [
        {
          "output_type": "execute_result",
          "data": {
            "text/plain": [
              "(85954, 1)"
            ]
          },
          "metadata": {},
          "execution_count": 11
        }
      ]
    },
    {
      "cell_type": "code",
      "source": [
        "df_clean_simpsons.to_csv('./df_clean_simpsons.csv')"
      ],
      "metadata": {
        "id": "rHgB5MNVMc6j"
      },
      "execution_count": null,
      "outputs": []
    },
    {
      "cell_type": "code",
      "source": [
        "#df = pd.read_csv('./df_clean_simpsons.csv')\n",
        "#df.shape"
      ],
      "metadata": {
        "id": "iQK7RISc-U8M"
      },
      "execution_count": null,
      "outputs": []
    },
    {
      "cell_type": "markdown",
      "source": [
        "## Entrenamos el modelo"
      ],
      "metadata": {
        "id": "EaQmDpUV23gj"
      }
    },
    {
      "cell_type": "code",
      "source": [
        "import multiprocessing\n",
        "\n",
        "from gensim.models import Word2Vec"
      ],
      "metadata": {
        "id": "SsDfbxj7z3nl"
      },
      "execution_count": null,
      "outputs": []
    },
    {
      "cell_type": "markdown",
      "source": [
        "Separamos el training del modelo en tres pasos: \n",
        "\n",
        "Word2Vec():\n",
        "- En el primer paso preparamos los parametros del modelo  \n",
        "\n",
        ".build_vocab():\n",
        "- En este paso se construye el vocabulario de una secuencia de sentencias y así inicializamos el modelo. Con los loggings, podemos ver el efecto el efecto de   min_count y sample  sobre el word corpus. Estos parametros, en particular sample, tienen una gran influencia sobre el performance del modelo. \n",
        "\n",
        ".train():\n",
        "- Finalmente, entrenamos el modelo.\n",
        "El loggings aquí puede ser útil para ir monitoriando. "
      ],
      "metadata": {
        "id": "WDEkp3k63iVS"
      }
    },
    {
      "cell_type": "code",
      "source": [
        "cores = multiprocessing.cpu_count() # Contamos el número de cores en el ordenador\n",
        "print (cores)"
      ],
      "metadata": {
        "id": "By6JsKbz0D26",
        "colab": {
          "base_uri": "https://localhost:8080/"
        },
        "outputId": "84dcb837-66ea-4656-d654-a81bed5c8583"
      },
      "execution_count": null,
      "outputs": [
        {
          "output_type": "stream",
          "name": "stdout",
          "text": [
            "2\n"
          ]
        }
      ]
    },
    {
      "cell_type": "markdown",
      "source": [
        "## Hyperparameters e Inicializamos los objetos Word2Vec"
      ],
      "metadata": {
        "id": "EZ6GQAMsFEVk"
      }
    },
    {
      "cell_type": "code",
      "source": [
        "w2v_model = Word2Vec(min_count=20,\n",
        "                     window=2,\n",
        "                     size=300,\n",
        "                     sample=6e-5, \n",
        "                     alpha=0.03, \n",
        "                     min_alpha=0.0007, \n",
        "                     negative=20,\n",
        "                     workers=cores-1)"
      ],
      "metadata": {
        "id": "_jAey-hjz3qS"
      },
      "execution_count": null,
      "outputs": []
    },
    {
      "cell_type": "markdown",
      "source": [
        "## Construímos el vocabulario"
      ],
      "metadata": {
        "id": "VAskuSmlFQmJ"
      }
    },
    {
      "cell_type": "markdown",
      "source": [
        "Word2Vec requiere construir una tabla del vocabulario (procesamos todas las palabras, filtramos y las contamos):"
      ],
      "metadata": {
        "id": "oFjsiXM-5vZs"
      }
    },
    {
      "cell_type": "code",
      "source": [
        "t = time()\n",
        "sent = [row.split() for row in df_clean_simpsons['clean']]\n",
        "w2v_model.build_vocab(sent, progress_per=10000)\n",
        "\n",
        "print('Tiempo para construir el vocabulario: {} mins'.format(round((time() - t) / 60, 2)))\n"
      ],
      "metadata": {
        "colab": {
          "base_uri": "https://localhost:8080/"
        },
        "id": "_ukURhOcz3tB",
        "outputId": "2a94a3fa-6420-4c54-fd9a-78dd26f8ba1e"
      },
      "execution_count": null,
      "outputs": [
        {
          "output_type": "stream",
          "name": "stdout",
          "text": [
            "Tiempo para construir el vocabulario: 0.03 mins\n"
          ]
        }
      ]
    },
    {
      "cell_type": "code",
      "source": [
        "print('Vocabulario compuesto por {} palabras'.format(len(w2v_model.wv.vocab)))"
      ],
      "metadata": {
        "colab": {
          "base_uri": "https://localhost:8080/"
        },
        "id": "QGjRiPZtBnYx",
        "outputId": "2d4db3c8-ab63-4979-bd1a-58f6b3dec9dd"
      },
      "execution_count": null,
      "outputs": [
        {
          "output_type": "stream",
          "name": "stdout",
          "text": [
            "Vocabulario compuesto por 3230 palabras\n"
          ]
        }
      ]
    },
    {
      "cell_type": "markdown",
      "source": [
        "## Entrenamos el modelo"
      ],
      "metadata": {
        "id": "dkFW8H_vGddp"
      }
    },
    {
      "cell_type": "markdown",
      "source": [
        "Parametros del training:\n",
        "\n",
        "* total_examples = int - cuenta las sentencias\n",
        "* epochs = int - Número de iteraciones (epochs) sobre el corpus - [10, 20, 30]"
      ],
      "metadata": {
        "id": "g6Wc_KHw7PL9"
      }
    },
    {
      "cell_type": "code",
      "source": [
        "t = time()\n",
        "\n",
        "w2v_model.train(sent, total_examples=w2v_model.corpus_count, epochs=30, report_delay=1)\n",
        "\n",
        "\n",
        "print('Time to train the model: {} mins'.format(round((time() - t) / 60, 2)))"
      ],
      "metadata": {
        "colab": {
          "base_uri": "https://localhost:8080/"
        },
        "id": "PVKlCaFjxrAs",
        "outputId": "70a5a8d1-c804-40f9-ac8e-8fbd6d591cf5"
      },
      "execution_count": null,
      "outputs": [
        {
          "output_type": "stream",
          "name": "stdout",
          "text": [
            "Time to train the model: 0.72 mins\n"
          ]
        }
      ]
    },
    {
      "cell_type": "markdown",
      "source": [
        "## Guardamos los modelos"
      ],
      "metadata": {
        "id": "aPfyehz-GjHT"
      }
    },
    {
      "cell_type": "code",
      "source": [
        "w2v_model.save('./w2v_model.pkl')\n",
        "\n"
      ],
      "metadata": {
        "id": "1KZaT3cZCOHn"
      },
      "execution_count": null,
      "outputs": []
    },
    {
      "cell_type": "markdown",
      "source": [
        "## Algunos resultados"
      ],
      "metadata": {
        "id": "hmJnOk3tHZxw"
      }
    },
    {
      "cell_type": "markdown",
      "source": [
        "* Similares: \n",
        "\n",
        "Preguntamos a nuestros modelo encontrar la palabra más similar a los personajes más populares de the Simpsons!"
      ],
      "metadata": {
        "id": "i5REdF-C709v"
      }
    },
    {
      "cell_type": "code",
      "source": [
        "w2v_model.wv.most_similar(positive=[\"homer\"])\n"
      ],
      "metadata": {
        "id": "3IcEzYCIPved",
        "colab": {
          "base_uri": "https://localhost:8080/"
        },
        "outputId": "bdaf797c-554c-499f-826c-6d4425037dd7"
      },
      "execution_count": null,
      "outputs": [
        {
          "output_type": "execute_result",
          "data": {
            "text/plain": [
              "[('marge', 0.6752402186393738),\n",
              " ('simpson', 0.6584362983703613),\n",
              " ('bongo', 0.6293293237686157),\n",
              " ('badly', 0.626068115234375),\n",
              " ('eliza', 0.6222599148750305),\n",
              " ('depressed', 0.6199551820755005),\n",
              " ('sorry', 0.6185168027877808),\n",
              " ('chef', 0.6180527806282043),\n",
              " ('waylon', 0.6102901697158813),\n",
              " (\"y'ello\", 0.6079051494598389)]"
            ]
          },
          "metadata": {},
          "execution_count": 19
        }
      ]
    },
    {
      "cell_type": "code",
      "source": [
        "w2v_model.wv.most_similar(positive=[\"marge\"])"
      ],
      "metadata": {
        "id": "w242_nZlPyoF",
        "colab": {
          "base_uri": "https://localhost:8080/"
        },
        "outputId": "6447e4ec-5fc1-4252-8f61-f8827349e793"
      },
      "execution_count": null,
      "outputs": [
        {
          "output_type": "execute_result",
          "data": {
            "text/plain": [
              "[('badly', 0.736944854259491),\n",
              " ('homie', 0.7103065252304077),\n",
              " ('embarrass', 0.7053030133247375),\n",
              " ('raccoon', 0.6971333026885986),\n",
              " ('pregnant', 0.6966924667358398),\n",
              " ('becky', 0.6956971287727356),\n",
              " ('marriage', 0.6900540590286255),\n",
              " ('fault', 0.6894456148147583),\n",
              " ('decent', 0.6890127658843994),\n",
              " ('attract', 0.684483528137207)]"
            ]
          },
          "metadata": {},
          "execution_count": 20
        }
      ]
    },
    {
      "cell_type": "code",
      "source": [
        "w2v_model.wv.most_similar(positive=[\"bart\"])"
      ],
      "metadata": {
        "id": "GUip5D4jP1-X",
        "colab": {
          "base_uri": "https://localhost:8080/"
        },
        "outputId": "73c9eb7b-8169-4fe9-cfe5-5d81806bae76"
      },
      "execution_count": null,
      "outputs": [
        {
          "output_type": "execute_result",
          "data": {
            "text/plain": [
              "[('lisa', 0.7843238115310669),\n",
              " ('substitute', 0.7287638187408447),\n",
              " ('creepy', 0.7058081030845642),\n",
              " ('embarrassing', 0.6989721655845642),\n",
              " ('homework', 0.6963070631027222),\n",
              " ('jealous', 0.692651629447937),\n",
              " ('janey', 0.6923822164535522),\n",
              " ('mom', 0.6893306374549866),\n",
              " ('muntz', 0.6885836124420166),\n",
              " ('badly', 0.686866819858551)]"
            ]
          },
          "metadata": {},
          "execution_count": 21
        }
      ]
    },
    {
      "cell_type": "code",
      "source": [
        "w2v_model.wv.similarity('maggie', 'baby')"
      ],
      "metadata": {
        "id": "W8deChhdP5H5",
        "colab": {
          "base_uri": "https://localhost:8080/"
        },
        "outputId": "f22835eb-2762-44f6-d462-9013d6860c76"
      },
      "execution_count": null,
      "outputs": [
        {
          "output_type": "execute_result",
          "data": {
            "text/plain": [
              "0.69321203"
            ]
          },
          "metadata": {},
          "execution_count": 22
        }
      ]
    },
    {
      "cell_type": "code",
      "source": [
        "w2v_model.wv.similarity('bart', 'nelson')"
      ],
      "metadata": {
        "id": "KkwRQ4s5P7Mt",
        "colab": {
          "base_uri": "https://localhost:8080/"
        },
        "outputId": "5b1aa98f-d45d-4554-bd11-2d4edccbccd4"
      },
      "execution_count": null,
      "outputs": [
        {
          "output_type": "execute_result",
          "data": {
            "text/plain": [
              "0.5754722"
            ]
          },
          "metadata": {},
          "execution_count": 23
        }
      ]
    },
    {
      "cell_type": "code",
      "source": [
        "w2v_model.wv.doesnt_match(['jimbo', 'milhouse', 'kearney'])"
      ],
      "metadata": {
        "id": "k-B5ZqTPP9tS",
        "colab": {
          "base_uri": "https://localhost:8080/",
          "height": 109
        },
        "outputId": "8a07bb04-d217-42fe-82da-be9f45440223"
      },
      "execution_count": null,
      "outputs": [
        {
          "output_type": "stream",
          "name": "stderr",
          "text": [
            "WARNING:gensim.models.keyedvectors:vectors for words {'kearney'} are not present in the model, ignoring these words\n",
            "/usr/local/lib/python3.8/dist-packages/gensim/models/keyedvectors.py:895: FutureWarning: arrays to stack must be passed as a \"sequence\" type such as list or tuple. Support for non-sequence iterables such as generators is deprecated as of NumPy 1.16 and will raise an error in the future.\n",
            "  vectors = vstack(self.word_vec(word, use_norm=True) for word in used_words).astype(REAL)\n"
          ]
        },
        {
          "output_type": "execute_result",
          "data": {
            "text/plain": [
              "'jimbo'"
            ],
            "application/vnd.google.colaboratory.intrinsic+json": {
              "type": "string"
            }
          },
          "metadata": {},
          "execution_count": 24
        }
      ]
    },
    {
      "cell_type": "code",
      "source": [
        "w2v_model.wv.doesnt_match(['homer', 'patty', 'selma'])"
      ],
      "metadata": {
        "id": "tG1WWiCeQBnC",
        "colab": {
          "base_uri": "https://localhost:8080/",
          "height": 35
        },
        "outputId": "9244ed8d-5133-4d06-b09e-105994bc8847"
      },
      "execution_count": null,
      "outputs": [
        {
          "output_type": "execute_result",
          "data": {
            "text/plain": [
              "'homer'"
            ],
            "application/vnd.google.colaboratory.intrinsic+json": {
              "type": "string"
            }
          },
          "metadata": {},
          "execution_count": 25
        }
      ]
    },
    {
      "cell_type": "markdown",
      "source": [
        "## Palabras fuera del vocabulario (OOV Words)\n",
        "\n",
        "Los embeddings calculados a nivel de palabra no devolverán un vector para aquellos tokens que no hayan guardado en su vocabulario. Una vez que los vectores palabra han sido aprendidos, aquellas palabras que no han sido aprendidas durante el entrenamiento no tendrán representación."
      ],
      "metadata": {
        "id": "Aznf4EEjHib_"
      }
    },
    {
      "cell_type": "code",
      "source": [
        "'asereje' in w2v_model.wv.vocab"
      ],
      "metadata": {
        "id": "i0NdHBQRQE8J",
        "colab": {
          "base_uri": "https://localhost:8080/"
        },
        "outputId": "18c4bd65-f898-4568-9813-f2fbc5bea315"
      },
      "execution_count": null,
      "outputs": [
        {
          "output_type": "execute_result",
          "data": {
            "text/plain": [
              "False"
            ]
          },
          "metadata": {},
          "execution_count": 26
        }
      ]
    },
    {
      "cell_type": "code",
      "source": [
        "w2v_model.wv.most_similar('asereje')"
      ],
      "metadata": {
        "id": "S7tOzvMGQHQM",
        "colab": {
          "base_uri": "https://localhost:8080/",
          "height": 318
        },
        "outputId": "c0719808-3316-4be5-f0d6-58056eff3a8b"
      },
      "execution_count": null,
      "outputs": [
        {
          "output_type": "error",
          "ename": "KeyError",
          "evalue": "ignored",
          "traceback": [
            "\u001b[0;31m---------------------------------------------------------------------------\u001b[0m",
            "\u001b[0;31mKeyError\u001b[0m                                  Traceback (most recent call last)",
            "\u001b[0;32m<ipython-input-27-42640da976bf>\u001b[0m in \u001b[0;36m<module>\u001b[0;34m\u001b[0m\n\u001b[0;32m----> 1\u001b[0;31m \u001b[0mw2v_model\u001b[0m\u001b[0;34m.\u001b[0m\u001b[0mwv\u001b[0m\u001b[0;34m.\u001b[0m\u001b[0mmost_similar\u001b[0m\u001b[0;34m(\u001b[0m\u001b[0;34m'asereje'\u001b[0m\u001b[0;34m)\u001b[0m\u001b[0;34m\u001b[0m\u001b[0;34m\u001b[0m\u001b[0m\n\u001b[0m",
            "\u001b[0;32m/usr/local/lib/python3.8/dist-packages/gensim/models/keyedvectors.py\u001b[0m in \u001b[0;36mmost_similar\u001b[0;34m(self, positive, negative, topn, restrict_vocab, indexer)\u001b[0m\n\u001b[1;32m    529\u001b[0m                 \u001b[0mmean\u001b[0m\u001b[0;34m.\u001b[0m\u001b[0mappend\u001b[0m\u001b[0;34m(\u001b[0m\u001b[0mweight\u001b[0m \u001b[0;34m*\u001b[0m \u001b[0mword\u001b[0m\u001b[0;34m)\u001b[0m\u001b[0;34m\u001b[0m\u001b[0;34m\u001b[0m\u001b[0m\n\u001b[1;32m    530\u001b[0m             \u001b[0;32melse\u001b[0m\u001b[0;34m:\u001b[0m\u001b[0;34m\u001b[0m\u001b[0;34m\u001b[0m\u001b[0m\n\u001b[0;32m--> 531\u001b[0;31m                 \u001b[0mmean\u001b[0m\u001b[0;34m.\u001b[0m\u001b[0mappend\u001b[0m\u001b[0;34m(\u001b[0m\u001b[0mweight\u001b[0m \u001b[0;34m*\u001b[0m \u001b[0mself\u001b[0m\u001b[0;34m.\u001b[0m\u001b[0mword_vec\u001b[0m\u001b[0;34m(\u001b[0m\u001b[0mword\u001b[0m\u001b[0;34m,\u001b[0m \u001b[0muse_norm\u001b[0m\u001b[0;34m=\u001b[0m\u001b[0;32mTrue\u001b[0m\u001b[0;34m)\u001b[0m\u001b[0;34m)\u001b[0m\u001b[0;34m\u001b[0m\u001b[0;34m\u001b[0m\u001b[0m\n\u001b[0m\u001b[1;32m    532\u001b[0m                 \u001b[0;32mif\u001b[0m \u001b[0mword\u001b[0m \u001b[0;32min\u001b[0m \u001b[0mself\u001b[0m\u001b[0;34m.\u001b[0m\u001b[0mvocab\u001b[0m\u001b[0;34m:\u001b[0m\u001b[0;34m\u001b[0m\u001b[0;34m\u001b[0m\u001b[0m\n\u001b[1;32m    533\u001b[0m                     \u001b[0mall_words\u001b[0m\u001b[0;34m.\u001b[0m\u001b[0madd\u001b[0m\u001b[0;34m(\u001b[0m\u001b[0mself\u001b[0m\u001b[0;34m.\u001b[0m\u001b[0mvocab\u001b[0m\u001b[0;34m[\u001b[0m\u001b[0mword\u001b[0m\u001b[0;34m]\u001b[0m\u001b[0;34m.\u001b[0m\u001b[0mindex\u001b[0m\u001b[0;34m)\u001b[0m\u001b[0;34m\u001b[0m\u001b[0;34m\u001b[0m\u001b[0m\n",
            "\u001b[0;32m/usr/local/lib/python3.8/dist-packages/gensim/models/keyedvectors.py\u001b[0m in \u001b[0;36mword_vec\u001b[0;34m(self, word, use_norm)\u001b[0m\n\u001b[1;32m    450\u001b[0m             \u001b[0;32mreturn\u001b[0m \u001b[0mresult\u001b[0m\u001b[0;34m\u001b[0m\u001b[0;34m\u001b[0m\u001b[0m\n\u001b[1;32m    451\u001b[0m         \u001b[0;32melse\u001b[0m\u001b[0;34m:\u001b[0m\u001b[0;34m\u001b[0m\u001b[0;34m\u001b[0m\u001b[0m\n\u001b[0;32m--> 452\u001b[0;31m             \u001b[0;32mraise\u001b[0m \u001b[0mKeyError\u001b[0m\u001b[0;34m(\u001b[0m\u001b[0;34m\"word '%s' not in vocabulary\"\u001b[0m \u001b[0;34m%\u001b[0m \u001b[0mword\u001b[0m\u001b[0;34m)\u001b[0m\u001b[0;34m\u001b[0m\u001b[0;34m\u001b[0m\u001b[0m\n\u001b[0m\u001b[1;32m    453\u001b[0m \u001b[0;34m\u001b[0m\u001b[0m\n\u001b[1;32m    454\u001b[0m     \u001b[0;32mdef\u001b[0m \u001b[0mget_vector\u001b[0m\u001b[0;34m(\u001b[0m\u001b[0mself\u001b[0m\u001b[0;34m,\u001b[0m \u001b[0mword\u001b[0m\u001b[0;34m)\u001b[0m\u001b[0;34m:\u001b[0m\u001b[0;34m\u001b[0m\u001b[0;34m\u001b[0m\u001b[0m\n",
            "\u001b[0;31mKeyError\u001b[0m: \"word 'asereje' not in vocabulary\""
          ]
        }
      ]
    },
    {
      "cell_type": "code",
      "source": [],
      "metadata": {
        "id": "jE1gi1HuXiYa"
      },
      "execution_count": null,
      "outputs": []
    },
    {
      "cell_type": "markdown",
      "source": [
        "Algunas estrategias para lidiar con palabras OOV:\n",
        "- Asignar un vector que siga una distribución aleatoria uniforme. P. ej.:\n",
        "`unk = np.random.uniform(-np.var(w2v.wv.vectors), np.var(w2v.wv.vectors), w2v.wv.vector_size)`\n",
        "- Reemplazar por un token especial, conocido y distinto del resto, (`<unk>`) y entrenar los embeddings\n",
        "- Reemplazar por un token especial, conocido y disinto del resto, y añadir información extra. P. ej.: `<unk_noun>` o `<unk_verb>`\n",
        "- Utilizar modelos que no sean a nivel de palabra"
      ],
      "metadata": {
        "id": "jgK4Dpz9SIZc"
      }
    },
    {
      "cell_type": "markdown",
      "metadata": {
        "id": "CyMvQlCLgMB6"
      },
      "source": [
        "## Visualización: Bonus\n",
        "\n",
        "[Enlace](https://anvaka.github.io/pm/#/galaxy/word2vec-wiki?cx=-16179&cy=-1641&cz=4313&lx=0.3194&ly=-0.5230&lz=-0.4110&lw=0.6749&ml=300&s=1.75&l=1&v=d50_clean)\n",
        "\n",
        "<img src=https://empresas.blogthinkbig.com/wp-content/uploads/2019/06/embeddings_galaxy.png width=650px>"
      ]
    }
  ],
  "metadata": {
    "kernelspec": {
      "display_name": "Python 3 (ipykernel)",
      "language": "python",
      "name": "python3"
    },
    "language_info": {
      "codemirror_mode": {
        "name": "ipython",
        "version": 3
      },
      "file_extension": ".py",
      "mimetype": "text/x-python",
      "name": "python",
      "nbconvert_exporter": "python",
      "pygments_lexer": "ipython3",
      "version": "3.9.13"
    },
    "colab": {
      "provenance": []
    },
    "accelerator": "GPU",
    "gpuClass": "standard"
  },
  "nbformat": 4,
  "nbformat_minor": 0
}