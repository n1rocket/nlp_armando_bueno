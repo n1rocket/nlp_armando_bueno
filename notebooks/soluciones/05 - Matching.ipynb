{
 "cells": [
  {
   "cell_type": "markdown",
   "metadata": {},
   "source": [
    "# Introducción\n",
    "\n",
    "El objetivo principal de los algoritmos de _matching_ es el de, dado un fragmento de texto, encontrar, de entre un conjunto de candidatos, los textos más similares al fragmento orginial.\n",
    "\n",
    "Como texto podemos pensar tanto en palabras, en pequeñas frases o en documentos enteros.\n",
    "\n",
    "Podemos pensar en 3 tipos de técnicas de matching:\n",
    "- **Coincidencia exacta**: ya vimos ejemplos de este tipo al estudiar la **Distancia de Edición**.\n",
    "    - A nivel de carácter: strings que difieren en caracteres\n",
    "    - A nivel de token: strings que difieren en palabras\n",
    "    - Fonéticos: palabras que suenan de manera similar\n",
    "- **Coincidencia aproximada o difusa**\n",
    "- **Coincidencia mediante aproximaciones**\n",
    "\n",
    "| Candidato / Tipo de resultado \t| Exacta \t| Aproximada \t| Transformación \t|\n",
    "|-\t|-\t|-\t|-\t|\n",
    "| String \t| Comparación de strings \t| Comparación difusa \t| Ontologías \t|\n",
    "| Categoría \t| Gramáticas \t| Reconocimiento probabilístico \t| Análisis de topics \t|\n",
    "| Documento \t| - \t| Recuperación de información \t| Traducción automática \t|"
   ]
  },
  {
   "cell_type": "markdown",
   "metadata": {
    "colab_type": "text",
    "id": "6fAtoLRqcxV-"
   },
   "source": [
    "# Regular expressions (Regex)\n",
    "\n",
    "Muy utilizadas (y conocidas) suelen emplearse al limpiar el texto o buscar formatos dentro del texto. A modo introductorio, las expresiones regulares son una forma de finite state automaton.\n",
    "\n",
    "<img src=http://www.cs.cornell.edu/courses/cs312/2006fa/recitations/images/dfa-examples.gif>\n",
    "\n",
    "Son grafos que siguen una secuencia que nosotros definimos. Por ejemplo, el grafo de la izquierda, solo podría generar expresiones como ab, abb, abbb, abbbb y así hasta el infinito. El de la derecha, podría generar expresiones como abcb, o abbb, abbbbbb, por ejemplo.\n",
    "\n",
    "Conceptualmente, las regex _funcionan_ así _por debajo_. Lógicamente cuando las usamos es mucho más fácil, ¿verdad :D?\n",
    "\n",
    "La definición de estos grafos es posible mediante la [librería de Python re](https://docs.python.org/3/library/re.html), módulo del paquete base de Python dedicado a las expresiones regulares.\n",
    "\n",
    "Cierto es que no siempre nos hará falta. Algunas veces con un simple _string.replace()_ o _string.find()_ tendremos suficiente. No obstante, para muchas tareas son bastante útiles.\n",
    "\n",
    "Algunas tareas típicas en las que se utilizan son la búsqueda (y a veces normalización) de emails, urls, numeros de telefono, etc. Solo la extracción es interesante, pero mediante su normalización nos permite reducir la cardinalidad del vocabulario y asociar entidades similares a un mismo alias.\n",
    "\n",
    "[Regex Online](https://regexr.com/) es uno de los mejores recursos online para visualizar que hacen los regex\n",
    "\n",
    "Veamos algunos ejemplos."
   ]
  },
  {
   "cell_type": "code",
   "execution_count": null,
   "metadata": {
    "colab": {},
    "colab_type": "code",
    "id": "aVNaYYv3cxV7"
   },
   "outputs": [],
   "source": [
    "# Función que nos ayudará a visualizar algunos resultados\n",
    "\n",
    "from termcolor import colored\n",
    "def test_pass(ok, text):\n",
    "    color = 'green' if ok else 'red'\n",
    "    return colored(text, color) "
   ]
  },
  {
   "cell_type": "code",
   "execution_count": null,
   "metadata": {},
   "outputs": [],
   "source": [
    "import re"
   ]
  },
  {
   "cell_type": "code",
   "execution_count": null,
   "metadata": {},
   "outputs": [],
   "source": [
    "text = 'Todos los animales son iguales, pero algunos son más iguales que otros'"
   ]
  },
  {
   "cell_type": "code",
   "execution_count": null,
   "metadata": {},
   "outputs": [],
   "source": [
    "RE_TEST = re.compile(r'todos')\n",
    "print(RE_TEST.match(text))"
   ]
  },
  {
   "cell_type": "code",
   "execution_count": null,
   "metadata": {},
   "outputs": [],
   "source": [
    "RE_TEST = re.compile(r'Todos')\n",
    "print(RE_TEST.match(text))"
   ]
  },
  {
   "cell_type": "code",
   "execution_count": null,
   "metadata": {},
   "outputs": [],
   "source": [
    "RE_TEST = re.compile(r'[Tt]od')\n",
    "print(RE_TEST.match(text))"
   ]
  },
  {
   "cell_type": "code",
   "execution_count": null,
   "metadata": {},
   "outputs": [],
   "source": [
    "RE_TEST = re.compile(r'\\bTodos\\b')\n",
    "print(RE_TEST.match(text))"
   ]
  },
  {
   "cell_type": "code",
   "execution_count": null,
   "metadata": {},
   "outputs": [],
   "source": [
    "RE_TEST = re.compile(r'\\bTod\\b')\n",
    "print(RE_TEST.match(text))"
   ]
  },
  {
   "cell_type": "markdown",
   "metadata": {
    "colab_type": "text",
    "id": "LYl1HWnqcxWe"
   },
   "source": [
    "## Obtener un correo electrónico"
   ]
  },
  {
   "cell_type": "code",
   "execution_count": null,
   "metadata": {
    "colab": {},
    "colab_type": "code",
    "id": "Gdbhnbp1cxWe"
   },
   "outputs": [],
   "source": [
    "\"\"\"\n",
    "^ -> start of string\n",
    "+ -> match 1 or more preceding regex\n",
    "[^@]+\n",
    "@[^@]+\n",
    "\\. -> '.'\n",
    "\"\"\"\n",
    "\n",
    "RE_EMAIL = re.compile('[^@]+@[^@]+\\.[^@]+')"
   ]
  },
  {
   "cell_type": "code",
   "execution_count": null,
   "metadata": {
    "colab": {
     "base_uri": "https://localhost:8080/",
     "height": 126
    },
    "colab_type": "code",
    "executionInfo": {
     "elapsed": 631,
     "status": "ok",
     "timestamp": 1530358001474,
     "user": {
      "displayName": "David Torrejon",
      "photoUrl": "https://lh3.googleusercontent.com/a/default-user=s128",
      "userId": "100674754889499666756"
     },
     "user_tz": -120
    },
    "id": "0MXfdG2GcxWp",
    "outputId": "58a9bf84-03cd-4ede-8d9f-6842b84caa96"
   },
   "outputs": [],
   "source": [
    "emails_list = [\n",
    "    '@invalid@adress.com',\n",
    "    'correo_valido@gmail.com',\n",
    "    'notan@valido@gmail.com',\n",
    "    'si.valido.david@gmail.com',\n",
    "    'paginaweb.com',\n",
    "    'paginaweb.com@paginaweb.com'\n",
    "]\n",
    "for email in emails_list:\n",
    "    if RE_EMAIL.match(email):\n",
    "        print(test_pass(True, email))\n",
    "    else:\n",
    "        print(test_pass(False, email))"
   ]
  },
  {
   "cell_type": "markdown",
   "metadata": {
    "colab_type": "text",
    "id": "guXnMjYrcxWs"
   },
   "source": [
    "## Obtener precios"
   ]
  },
  {
   "cell_type": "code",
   "execution_count": null,
   "metadata": {
    "colab": {},
    "colab_type": "code",
    "id": "tmW-nVQocxWt"
   },
   "outputs": [],
   "source": [
    "from random import shuffle\n",
    "import unicodedata\n",
    "\n",
    "CURRENCIES = ''.join(chr(i) for i in range(0xffff) if unicodedata.category(chr(i)) == 'Sc')\n",
    "RE_MONEY_GENERAL= re.compile('((\\s|^)([\\d]*)(\\.)?([\\d])*([%s]|e|USD|USD\\$|U\\$D)(\\s|$))'\n",
    "                          '|((\\s|^)([%s]|e|USD|USD\\$|U\\$D)([\\d])*(\\.)?([\\d])*(\\s|$))'%(CURRENCIES, CURRENCIES), re.IGNORECASE)\n",
    "RE_MONEY_EU= re.compile('((\\s|^)([\\d]{0,3}([\\.][\\d]{3})(,[\\d]*))([%s]|e|(USD|USD\\$|U\\$D))(\\s|$))'\n",
    "                     '|((\\s|^)([%s]|e|(USD|USD\\$|U\\$D))([\\d]{0,3}([\\.][\\d]{3})(,[\\d]*))(\\s|$))'%(CURRENCIES, CURRENCIES), re.IGNORECASE)\n",
    "RE_MONEY_EU_INVERSE= re.compile('((\\s|^)([\\d]{0,3}([,][\\d]{3})(\\.[\\d]*))([%s]|e|(USD|USD\\$|U\\$D))(\\s|$))'\n",
    "                             '|((\\s|^)([%s]|e|(USD|USD\\$|U\\$D))([\\d]{0,3}([,][\\d]{3})(\\.[\\d]*))(\\s|$))'%(CURRENCIES, CURRENCIES), re.IGNORECASE)\n"
   ]
  },
  {
   "cell_type": "code",
   "execution_count": null,
   "metadata": {
    "colab": {},
    "colab_type": "code",
    "id": "LU2dV129cxW1",
    "outputId": "a2ab423a-f710-4fcc-8155-f606651f13a4"
   },
   "outputs": [],
   "source": [
    "correct_currencies = [\n",
    "    '$20.2',\n",
    "    '$.2',\n",
    "    '$0.2',\n",
    "    '$3433.2',\n",
    "    '.2$',\n",
    "    '2.0$',\n",
    "    '2.$',\n",
    "    '2.0€',\n",
    "    '2¥',\n",
    "    '20USD',\n",
    "    '20e',\n",
    "    '20 €',\n",
    "    '20 usd',\n",
    "    '€200.123,2',\n",
    "    '2.134,56$',\n",
    "    '23232₽',\n",
    "    '334,222.20€',\n",
    "    '20U$D',\n",
    "    '$200']\n",
    "\n",
    "incorrect_currencies = [\n",
    "    'asdfsd', \n",
    "    '$asdasd', \n",
    "    '23333,444.20€',\n",
    "    '€34523sdfas', \n",
    "    '€213.sd', \n",
    "    '$3vg554.25', \n",
    "    'expensive', \n",
    "    'cheap', \n",
    "    '2342,222.90€'\n",
    "]\n",
    "\n",
    "all_currencies = correct_currencies + incorrect_currencies\n",
    "shuffle(all_currencies)\n",
    "\n",
    "for currency in all_currencies:\n",
    "    if RE_MONEY_GENERAL.match(currency) or RE_MONEY_EU.match(currency) or RE_MONEY_EU_INVERSE.match(currency):\n",
    "        print(test_pass(True, currency))\n",
    "    else:\n",
    "        print(test_pass(False, currency))"
   ]
  },
  {
   "attachments": {
    "image.png": {
     "image/png": "[encoded data removed]"
    }
   },
   "cell_type": "markdown",
   "metadata": {},
   "source": [
    "# DAWG\n",
    "\n",
    "Lo presentábamos antes de manera muy  rápida, un _Directed Acyclic Word Graph_ (por sus siglas, DAWG), también llamado, _Deterministic Acyclic Finite State Automaton_ (DAFSA), es un tipo de estructura de datos que permite representar datos de tipo texto y realizar consultas.\n",
    "\n",
    "![image.png](attachment:image.png)\n",
    "\n",
    "En el grafo generado se distinguen:\n",
    "- **Nodos**: un carácter / símbolo\n",
    "- **Vértices**: enlace con el siguiente carácter / símbolo más probable"
   ]
  },
  {
   "cell_type": "markdown",
   "metadata": {},
   "source": [
    "## Ejemplos"
   ]
  },
  {
   "cell_type": "code",
   "execution_count": null,
   "metadata": {},
   "outputs": [],
   "source": [
    "import sys\n",
    "sys.path.append('../..')\n",
    "\n",
    "from utils import load_movie_titles"
   ]
  },
  {
   "cell_type": "code",
   "execution_count": null,
   "metadata": {},
   "outputs": [],
   "source": [
    "datasets_path = '../../datasets'\n",
    "movie_titles_file = 'films.txt'"
   ]
  },
  {
   "cell_type": "code",
   "execution_count": null,
   "metadata": {},
   "outputs": [],
   "source": [
    "movies_titles = load_movie_titles(datasets_path, movie_titles_file)"
   ]
  },
  {
   "cell_type": "code",
   "execution_count": null,
   "metadata": {},
   "outputs": [],
   "source": [
    "movies_titles"
   ]
  },
  {
   "cell_type": "markdown",
   "metadata": {},
   "source": [
    "## Lo creamos"
   ]
  },
  {
   "cell_type": "code",
   "execution_count": null,
   "metadata": {
    "scrolled": true
   },
   "outputs": [],
   "source": [
    "!pip install pyDAWG"
   ]
  },
  {
   "cell_type": "code",
   "execution_count": null,
   "metadata": {},
   "outputs": [],
   "source": [
    "from pydawg import DAWG"
   ]
  },
  {
   "cell_type": "code",
   "execution_count": null,
   "metadata": {},
   "outputs": [],
   "source": [
    "dawg = DAWG()\n",
    "\n",
    "for w in sorted(m.title for m in movies_titles):\n",
    "    dawg.add_word_unchecked(w)"
   ]
  },
  {
   "cell_type": "code",
   "execution_count": null,
   "metadata": {},
   "outputs": [],
   "source": [
    "import random"
   ]
  },
  {
   "cell_type": "code",
   "execution_count": null,
   "metadata": {},
   "outputs": [],
   "source": [
    "t = random.choice(movies_titles).title\n",
    "t"
   ]
  },
  {
   "cell_type": "code",
   "execution_count": null,
   "metadata": {},
   "outputs": [],
   "source": [
    "t in dawg"
   ]
  },
  {
   "cell_type": "markdown",
   "metadata": {},
   "source": [
    "## Operaciones"
   ]
  },
  {
   "cell_type": "markdown",
   "metadata": {},
   "source": [
    "### Búsqueda por prefijo"
   ]
  },
  {
   "cell_type": "code",
   "execution_count": null,
   "metadata": {},
   "outputs": [],
   "source": [
    "for m in dawg.find_all('Batman'):\n",
    "    print(m)"
   ]
  },
  {
   "cell_type": "markdown",
   "metadata": {},
   "source": [
    "### Prefijo más largo "
   ]
  },
  {
   "cell_type": "code",
   "execution_count": null,
   "metadata": {},
   "outputs": [],
   "source": [
    "s = 'La guerra de nunca jamás'\n",
    "pfx = dawg.longest_prefix(s)\n",
    "print( s[:pfx])"
   ]
  },
  {
   "cell_type": "markdown",
   "metadata": {},
   "source": [
    "### Búsqueda en una oración"
   ]
  },
  {
   "cell_type": "code",
   "execution_count": null,
   "metadata": {},
   "outputs": [],
   "source": [
    "def token_match(dawg, tknlist):\n",
    "    for n in range(len(tknlist), 0, -1):\n",
    "        test_str = ' '.join(tknlist[:n])\n",
    "        if test_str in dawg:\n",
    "            return test_str\n",
    "\n",
    "def token_match_all(dawg, utterance):\n",
    "    tknlist = utterance.split()\n",
    "    return [token_match(dawg, tknlist[chunk:])\n",
    "             for chunk in range(len(tknlist))]"
   ]
  },
  {
   "cell_type": "code",
   "execution_count": null,
   "metadata": {},
   "outputs": [],
   "source": [
    "token_match_all(dawg, 'Donde echan Batman y Robin esta noche')"
   ]
  },
  {
   "cell_type": "markdown",
   "metadata": {},
   "source": [
    "### Minimal perfect hash"
   ]
  },
  {
   "cell_type": "code",
   "execution_count": null,
   "metadata": {},
   "outputs": [],
   "source": [
    "dawg.word2index('Batman')"
   ]
  },
  {
   "cell_type": "markdown",
   "metadata": {},
   "source": [
    "# Distancia entre textos"
   ]
  },
  {
   "cell_type": "markdown",
   "metadata": {},
   "source": [
    "[Jellyfish](https://jellyfish.readthedocs.io/en/latest/) es una librería que contiene funciones para el cálculo de similitud entre textos. Dicha similitud puede ser á nivel léxico-gráfico (strings) o fonético.\n",
    "\n",
    "\n",
    "Algoritmos de comparación de strings:\n",
    "\n",
    "- Levenshtein Distance\n",
    "- Damerau-Levenshtein Distance\n",
    "- Jaro Distance\n",
    "- Jaro-Winkler Distance\n",
    "- Match Rating Approach Comparison\n",
    "- Hamming Distance\n",
    "\n",
    "Algoritmos de encoding fonético:\n",
    "\n",
    "- American Soundex\n",
    "- Metaphone\n",
    "- NYSIIS (New York State Identification and Intelligence System)\n",
    "- Match Rating Codex\n"
   ]
  },
  {
   "cell_type": "code",
   "execution_count": null,
   "metadata": {},
   "outputs": [],
   "source": [
    "# !pip3 install jellyfish\n",
    "import jellyfish"
   ]
  },
  {
   "cell_type": "markdown",
   "metadata": {},
   "source": [
    "## Levenshtein\n",
    "\n",
    "Recordemos: distancia de Edit (Edición) en la que las operaciones permitidas son la inserción, la eliminación y la sustitución."
   ]
  },
  {
   "cell_type": "code",
   "execution_count": null,
   "metadata": {},
   "outputs": [],
   "source": [
    "jellyfish.levenshtein_distance('Cisne negro', 'Cisne negro')"
   ]
  },
  {
   "cell_type": "code",
   "execution_count": null,
   "metadata": {},
   "outputs": [],
   "source": [
    "jellyfish.levenshtein_distance('Cisne negro', 'Cisne negor')"
   ]
  },
  {
   "cell_type": "code",
   "execution_count": null,
   "metadata": {
    "scrolled": true
   },
   "outputs": [],
   "source": [
    "jellyfish.levenshtein_distance('Cisne negro', 'Cisne nego')"
   ]
  },
  {
   "cell_type": "code",
   "execution_count": null,
   "metadata": {},
   "outputs": [],
   "source": [
    "jellyfish.levenshtein_distance('Cisnee negro', 'Cisne nego')"
   ]
  },
  {
   "cell_type": "code",
   "execution_count": null,
   "metadata": {},
   "outputs": [],
   "source": [
    "jellyfish.levenshtein_distance('Cisneee negro', 'Cisne nego')"
   ]
  },
  {
   "cell_type": "markdown",
   "metadata": {},
   "source": [
    "## Damerau-Levenshtein\n",
    "\n",
    "Recordemos: distancia de Edit (Edición) en la que las operaciones permitidas son la inserción, la eliminación y la transposición de 2 caracteres adyacentes."
   ]
  },
  {
   "cell_type": "code",
   "execution_count": null,
   "metadata": {},
   "outputs": [],
   "source": [
    "jellyfish.damerau_levenshtein_distance('Cisne negro', 'Cisne negro')"
   ]
  },
  {
   "cell_type": "code",
   "execution_count": null,
   "metadata": {},
   "outputs": [],
   "source": [
    "jellyfish.damerau_levenshtein_distance('Cisne negro', 'Cisne negor')"
   ]
  },
  {
   "cell_type": "code",
   "execution_count": null,
   "metadata": {},
   "outputs": [],
   "source": [
    "jellyfish.damerau_levenshtein_distance('Cisne negro', 'Cisne nego')"
   ]
  },
  {
   "cell_type": "code",
   "execution_count": null,
   "metadata": {},
   "outputs": [],
   "source": [
    "jellyfish.damerau_levenshtein_distance('Cisnee negro', 'Cisne nego')"
   ]
  },
  {
   "cell_type": "code",
   "execution_count": null,
   "metadata": {
    "scrolled": true
   },
   "outputs": [],
   "source": [
    "jellyfish.damerau_levenshtein_distance('Cisneee negro', 'Cisne nego')"
   ]
  },
  {
   "cell_type": "markdown",
   "metadata": {},
   "source": [
    "## Jaro distance\n",
    "\n",
    "Recordemos: distancia de Edit (Edición) en la que la operacion permitida es la transposición."
   ]
  },
  {
   "cell_type": "code",
   "execution_count": null,
   "metadata": {},
   "outputs": [],
   "source": [
    "jellyfish.jaro_distance('Cisne negro', 'Cisne nego')"
   ]
  },
  {
   "cell_type": "code",
   "execution_count": null,
   "metadata": {},
   "outputs": [],
   "source": [
    "jellyfish.jaro_distance('Cisnee negro', 'Cisne nego')"
   ]
  },
  {
   "cell_type": "code",
   "execution_count": null,
   "metadata": {},
   "outputs": [],
   "source": [
    "jellyfish.jaro_distance('Cisneee negro', 'Cisne nego')"
   ]
  },
  {
   "cell_type": "code",
   "execution_count": null,
   "metadata": {},
   "outputs": [],
   "source": []
  }
 ],
 "metadata": {
  "colab": {
   "collapsed_sections": [
    "VcZaEjbTcxVI"
   ],
   "name": "solución-Regex.ipynb",
   "provenance": [],
   "version": "0.3.2"
  },
  "kernelspec": {
   "display_name": "Python 3 (ipykernel)",
   "language": "python",
   "name": "python3"
  },
  "language_info": {
   "codemirror_mode": {
    "name": "ipython",
    "version": 3
   },
   "file_extension": ".py",
   "mimetype": "text/x-python",
   "name": "python",
   "nbconvert_exporter": "python",
   "pygments_lexer": "ipython3",
   "version": "3.11.1"
  }
 },
 "nbformat": 4,
 "nbformat_minor": 1
}
