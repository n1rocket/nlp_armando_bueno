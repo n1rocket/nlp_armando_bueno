{
  "cells": [
    {
      "cell_type": "code",
      "source": [
        "!pip install unzip\n",
        "!pip install -r requirements.txt\n",
        "!pip install utils.py"
      ],
      "metadata": {
        "id": "vbWOkR2NOwp4"
      },
      "execution_count": null,
      "outputs": []
    },
    {
      "cell_type": "code",
      "source": [
        "!unzip corpusCine.zip\n",
        "!unzip lemmatization-es.txt.zip"
      ],
      "metadata": {
        "id": "m5hsQ0m5CjtV"
      },
      "execution_count": null,
      "outputs": []
    },
    {
      "cell_type": "code",
      "execution_count": null,
      "metadata": {
        "id": "fSvkdyP_JmU2"
      },
      "outputs": [],
      "source": []
    },
    {
      "cell_type": "markdown",
      "metadata": {
        "id": "UqsgTZoKJmU2"
      },
      "source": [
        "# Lectura de datos"
      ]
    },
    {
      "cell_type": "code",
      "source": [
        "from utils import load_cinema_reviews, get_lemmas_dict"
      ],
      "metadata": {
        "id": "HhewQj2pd123"
      },
      "execution_count": null,
      "outputs": []
    },
    {
      "cell_type": "code",
      "execution_count": null,
      "metadata": {
        "id": "kXWOvvCTJmU3"
      },
      "outputs": [],
      "source": [
        "# Path al directorio donde tenemos los datasets con las reviews\n",
        "# ¡Descomprimir antes!\n",
        "datasets_path = './'\n",
        "corpus_cine_folder = 'corpusCine'"
      ]
    },
    {
      "cell_type": "code",
      "execution_count": null,
      "metadata": {
        "id": "JxPtn6uVJmU4"
      },
      "outputs": [],
      "source": [
        "reviews_dict = load_cinema_reviews(datasets_path, corpus_cine_folder)"
      ]
    },
    {
      "cell_type": "code",
      "source": [
        "print(len(reviews_dict))"
      ],
      "metadata": {
        "id": "XP1aCeV6PGWO",
        "colab": {
          "base_uri": "https://localhost:8080/"
        },
        "outputId": "54b48d53-a59e-4fbd-8d8c-9b555d2fb81c"
      },
      "execution_count": null,
      "outputs": [
        {
          "output_type": "stream",
          "name": "stdout",
          "text": [
            "3878\n"
          ]
        }
      ]
    },
    {
      "cell_type": "code",
      "source": [
        "reviews_dict.get(5)"
      ],
      "metadata": {
        "id": "qD_2GHQYPJnJ",
        "colab": {
          "base_uri": "https://localhost:8080/"
        },
        "outputId": "94b1b7ee-7360-49e1-9efa-f1eeccaaf01b"
      },
      "execution_count": null,
      "outputs": [
        {
          "output_type": "execute_result",
          "data": {
            "text/plain": [
              "{'author': 'Victor Trujillo',\n",
              " 'title': 'El internado',\n",
              " 'sentiment': '2',\n",
              " 'summary': 'Bodrio de terror a la francesa',\n",
              " 'review_text': 'Joder que bodrio de internado. La peli no empieza mal y la presentación del personaje principal, que sin duda es el orfanato, un caserón impresionante en medio del campo, es muy preciosista, plagada de matices y con demasiada luz para una película de este género. La casa acojona a primera vista y el patio que la rodea tampoco se queda corto; tenían el ingrediente más importante para hacer una buena peli de terror, pero lo han desaprovechado. Sorprende la buena producción francesa y sorprende la belleza de la protagonista principal, pero ni por esas. El guión es una patraña, pasa por varias fases que van de más a menos y al final termina aburriendo. Se agradece eso si, que no hayan recurrido a la sangraza y a las vísceras varias para dar \"más miedo\", un recurso que está ya muy visto pero que en La casa de cera funciona.La escena clave del internado es cuando llega desde el montacargas a la sala blanca. Es tan previsible, los recursos son tan básicos que parece un calco de mil películas del género y llegados al punto el culmen final más que dar miedo, da risa. Una pena porque el internado comenzaba muy bien pero al final se hace larga y aburrida.'}"
            ]
          },
          "metadata": {},
          "execution_count": 7
        }
      ]
    },
    {
      "cell_type": "markdown",
      "metadata": {
        "id": "eZ70qyPBJmU6"
      },
      "source": [
        "# Clase String\n",
        "\n",
        "Clase nativa de Python que íncorpora utilidades para procesado de texto.\n",
        "\n",
        "Enlace a los distintos métodos: [link](https://www.w3schools.com/python/python_ref_string.asp). "
      ]
    },
    {
      "cell_type": "markdown",
      "metadata": {
        "id": "8gA-zMjtJmU6"
      },
      "source": [
        "# Tokenización"
      ]
    },
    {
      "cell_type": "code",
      "source": [
        "review = reviews_dict.get(5).get('review_text')\n",
        "print(review[20:])"
      ],
      "metadata": {
        "id": "5dV0XiClPQce",
        "colab": {
          "base_uri": "https://localhost:8080/"
        },
        "outputId": "d7254543-0bfd-452a-e7c0-8b9633ffe79f"
      },
      "execution_count": null,
      "outputs": [
        {
          "output_type": "stream",
          "name": "stdout",
          "text": [
            "internado. La peli no empieza mal y la presentación del personaje principal, que sin duda es el orfanato, un caserón impresionante en medio del campo, es muy preciosista, plagada de matices y con demasiada luz para una película de este género. La casa acojona a primera vista y el patio que la rodea tampoco se queda corto; tenían el ingrediente más importante para hacer una buena peli de terror, pero lo han desaprovechado. Sorprende la buena producción francesa y sorprende la belleza de la protagonista principal, pero ni por esas. El guión es una patraña, pasa por varias fases que van de más a menos y al final termina aburriendo. Se agradece eso si, que no hayan recurrido a la sangraza y a las vísceras varias para dar \"más miedo\", un recurso que está ya muy visto pero que en La casa de cera funciona.La escena clave del internado es cuando llega desde el montacargas a la sala blanca. Es tan previsible, los recursos son tan básicos que parece un calco de mil películas del género y llegados al punto el culmen final más que dar miedo, da risa. Una pena porque el internado comenzaba muy bien pero al final se hace larga y aburrida.\n"
          ]
        }
      ]
    },
    {
      "cell_type": "markdown",
      "metadata": {
        "id": "-euMZluFJmU7"
      },
      "source": [
        "## Frases"
      ]
    },
    {
      "cell_type": "code",
      "source": [
        "sentences = review.split('.')\n",
        "print(sentences[:2])"
      ],
      "metadata": {
        "id": "5ut5JJCvPWDH",
        "colab": {
          "base_uri": "https://localhost:8080/"
        },
        "outputId": "c7e053d2-ba26-4482-cc05-66feca296ce5"
      },
      "execution_count": null,
      "outputs": [
        {
          "output_type": "stream",
          "name": "stdout",
          "text": [
            "['Joder que bodrio de internado', ' La peli no empieza mal y la presentación del personaje principal, que sin duda es el orfanato, un caserón impresionante en medio del campo, es muy preciosista, plagada de matices y con demasiada luz para una película de este género']\n"
          ]
        }
      ]
    },
    {
      "cell_type": "markdown",
      "metadata": {
        "id": "UaEwUHnkJmU7"
      },
      "source": [
        "## Tokens"
      ]
    },
    {
      "cell_type": "code",
      "source": [
        "sentence = sentences[1]\n",
        "print(sentence)"
      ],
      "metadata": {
        "id": "Ifu8Cp_6PaW7",
        "colab": {
          "base_uri": "https://localhost:8080/"
        },
        "outputId": "cfd3afa1-1ff2-4af4-be84-b630d2f5bb5d"
      },
      "execution_count": null,
      "outputs": [
        {
          "output_type": "stream",
          "name": "stdout",
          "text": [
            " La peli no empieza mal y la presentación del personaje principal, que sin duda es el orfanato, un caserón impresionante en medio del campo, es muy preciosista, plagada de matices y con demasiada luz para una película de este género\n"
          ]
        }
      ]
    },
    {
      "cell_type": "code",
      "source": [
        "sentence.strip()"
      ],
      "metadata": {
        "id": "WxYpGdYZPaZX",
        "colab": {
          "base_uri": "https://localhost:8080/",
          "height": 53
        },
        "outputId": "a4632c69-e886-4110-b87d-83b6cfef0010"
      },
      "execution_count": null,
      "outputs": [
        {
          "output_type": "execute_result",
          "data": {
            "text/plain": [
              "'La peli no empieza mal y la presentación del personaje principal, que sin duda es el orfanato, un caserón impresionante en medio del campo, es muy preciosista, plagada de matices y con demasiada luz para una película de este género'"
            ],
            "application/vnd.google.colaboratory.intrinsic+json": {
              "type": "string"
            }
          },
          "metadata": {},
          "execution_count": 11
        }
      ]
    },
    {
      "cell_type": "code",
      "source": [
        "for idx, word in enumerate(sentence.split(' ')):\n",
        "     print('Palabra {0:5}{1:5}'.format(str(idx), word))\n",
        "\n",
        "     #print(f'Palabra {idx}{word}')"
      ],
      "metadata": {
        "id": "rJBO43fuPab-",
        "colab": {
          "base_uri": "https://localhost:8080/"
        },
        "outputId": "d1835caa-1da9-485a-9286-61ab5430ad8f"
      },
      "execution_count": null,
      "outputs": [
        {
          "output_type": "stream",
          "name": "stdout",
          "text": [
            "Palabra 0         \n",
            "Palabra 1    La   \n",
            "Palabra 2    peli \n",
            "Palabra 3    no   \n",
            "Palabra 4    empieza\n",
            "Palabra 5    mal  \n",
            "Palabra 6    y    \n",
            "Palabra 7    la   \n",
            "Palabra 8    presentación\n",
            "Palabra 9    del  \n",
            "Palabra 10   personaje\n",
            "Palabra 11   principal,\n",
            "Palabra 12   que  \n",
            "Palabra 13   sin  \n",
            "Palabra 14   duda \n",
            "Palabra 15   es   \n",
            "Palabra 16   el   \n",
            "Palabra 17   orfanato,\n",
            "Palabra 18   un   \n",
            "Palabra 19   caserón\n",
            "Palabra 20   impresionante\n",
            "Palabra 21   en   \n",
            "Palabra 22   medio\n",
            "Palabra 23   del  \n",
            "Palabra 24   campo,\n",
            "Palabra 25   es   \n",
            "Palabra 26   muy  \n",
            "Palabra 27   preciosista,\n",
            "Palabra 28   plagada\n",
            "Palabra 29   de   \n",
            "Palabra 30   matices\n",
            "Palabra 31   y    \n",
            "Palabra 32   con  \n",
            "Palabra 33   demasiada\n",
            "Palabra 34   luz  \n",
            "Palabra 35   para \n",
            "Palabra 36   una  \n",
            "Palabra 37   película\n",
            "Palabra 38   de   \n",
            "Palabra 39   este \n",
            "Palabra 40   género\n"
          ]
        }
      ]
    },
    {
      "cell_type": "markdown",
      "metadata": {
        "id": "jpfjhHbDJmU8"
      },
      "source": [
        "# Normalización"
      ]
    },
    {
      "cell_type": "code",
      "source": [
        "print(sentence)"
      ],
      "metadata": {
        "id": "5Gc15MjlPl0T",
        "colab": {
          "base_uri": "https://localhost:8080/"
        },
        "outputId": "516d65d4-ee18-4e60-fe2e-93ad6e071e4b"
      },
      "execution_count": null,
      "outputs": [
        {
          "output_type": "stream",
          "name": "stdout",
          "text": [
            " La peli no empieza mal y la presentación del personaje principal, que sin duda es el orfanato, un caserón impresionante en medio del campo, es muy preciosista, plagada de matices y con demasiada luz para una película de este género\n"
          ]
        }
      ]
    },
    {
      "cell_type": "markdown",
      "metadata": {
        "id": "wZYWMgOzJmU8"
      },
      "source": [
        "## Convertir a minúsculas"
      ]
    },
    {
      "cell_type": "code",
      "source": [
        "sentence.lower()"
      ],
      "metadata": {
        "id": "ccaI_0kKPyX4",
        "colab": {
          "base_uri": "https://localhost:8080/",
          "height": 53
        },
        "outputId": "51849682-f00e-4c0e-e00a-85dc199eecad"
      },
      "execution_count": null,
      "outputs": [
        {
          "output_type": "execute_result",
          "data": {
            "text/plain": [
              "' la peli no empieza mal y la presentación del personaje principal, que sin duda es el orfanato, un caserón impresionante en medio del campo, es muy preciosista, plagada de matices y con demasiada luz para una película de este género'"
            ],
            "application/vnd.google.colaboratory.intrinsic+json": {
              "type": "string"
            }
          },
          "metadata": {},
          "execution_count": 14
        }
      ]
    },
    {
      "cell_type": "markdown",
      "metadata": {
        "id": "HmvGms17JmU8"
      },
      "source": [
        "## Convertir a mayúsculas"
      ]
    },
    {
      "cell_type": "code",
      "source": [
        "sentence.upper()"
      ],
      "metadata": {
        "id": "4-12mpvjP1bl",
        "colab": {
          "base_uri": "https://localhost:8080/",
          "height": 53
        },
        "outputId": "ac50ecbc-5b33-4e17-b125-bb1bc1c0dd5f"
      },
      "execution_count": null,
      "outputs": [
        {
          "output_type": "execute_result",
          "data": {
            "text/plain": [
              "' LA PELI NO EMPIEZA MAL Y LA PRESENTACIÓN DEL PERSONAJE PRINCIPAL, QUE SIN DUDA ES EL ORFANATO, UN CASERÓN IMPRESIONANTE EN MEDIO DEL CAMPO, ES MUY PRECIOSISTA, PLAGADA DE MATICES Y CON DEMASIADA LUZ PARA UNA PELÍCULA DE ESTE GÉNERO'"
            ],
            "application/vnd.google.colaboratory.intrinsic+json": {
              "type": "string"
            }
          },
          "metadata": {},
          "execution_count": 15
        }
      ]
    },
    {
      "cell_type": "markdown",
      "metadata": {
        "id": "IJapCHfMJmU8"
      },
      "source": [
        "## Eliminar espacios al inicio y al final"
      ]
    },
    {
      "cell_type": "code",
      "source": [
        "sentence.strip()"
      ],
      "metadata": {
        "id": "HmYzBtI5P5Jz",
        "colab": {
          "base_uri": "https://localhost:8080/",
          "height": 53
        },
        "outputId": "332aa257-c705-40d1-9b6e-e8b6a108c583"
      },
      "execution_count": null,
      "outputs": [
        {
          "output_type": "execute_result",
          "data": {
            "text/plain": [
              "'La peli no empieza mal y la presentación del personaje principal, que sin duda es el orfanato, un caserón impresionante en medio del campo, es muy preciosista, plagada de matices y con demasiada luz para una película de este género'"
            ],
            "application/vnd.google.colaboratory.intrinsic+json": {
              "type": "string"
            }
          },
          "metadata": {},
          "execution_count": 16
        }
      ]
    },
    {
      "cell_type": "code",
      "source": [],
      "metadata": {
        "id": "t0OPOc1eIElA"
      },
      "execution_count": null,
      "outputs": []
    },
    {
      "cell_type": "markdown",
      "metadata": {
        "id": "46nncg9EJmU8"
      },
      "source": [
        "## Filtrado"
      ]
    },
    {
      "cell_type": "markdown",
      "source": [
        "https://regexr.com/\n"
      ],
      "metadata": {
        "id": "ty0Nj9y4DMPB"
      }
    },
    {
      "cell_type": "code",
      "source": [
        "# Solo minúsculas y números\n",
        "import re\n",
        "re.sub(r'[^a-z0-9]+', ' ', sentence)"
      ],
      "metadata": {
        "id": "vmWXrMr5P-aQ",
        "colab": {
          "base_uri": "https://localhost:8080/",
          "height": 53
        },
        "outputId": "7c81c9c6-a480-4e6f-9791-ec651aea13c2"
      },
      "execution_count": null,
      "outputs": [
        {
          "output_type": "execute_result",
          "data": {
            "text/plain": [
              "' a peli no empieza mal y la presentaci n del personaje principal que sin duda es el orfanato un caser n impresionante en medio del campo es muy preciosista plagada de matices y con demasiada luz para una pel cula de este g nero'"
            ],
            "application/vnd.google.colaboratory.intrinsic+json": {
              "type": "string"
            }
          },
          "metadata": {},
          "execution_count": 17
        }
      ]
    },
    {
      "cell_type": "code",
      "source": [
        "# Solo números\n",
        "# Quedarse solo con números\n",
        "import re\n",
        "re.sub('[^0-9]+', ' ', sentence)"
      ],
      "metadata": {
        "id": "0Hc3l5njQCJU",
        "colab": {
          "base_uri": "https://localhost:8080/",
          "height": 35
        },
        "outputId": "bae1e306-b88a-4489-e325-020544959c8d"
      },
      "execution_count": null,
      "outputs": [
        {
          "output_type": "execute_result",
          "data": {
            "text/plain": [
              "' '"
            ],
            "application/vnd.google.colaboratory.intrinsic+json": {
              "type": "string"
            }
          },
          "metadata": {},
          "execution_count": 18
        }
      ]
    },
    {
      "cell_type": "markdown",
      "source": [
        "## Eliminar puntuación\n"
      ],
      "metadata": {
        "id": "5Wj9pWWlIgJG"
      }
    },
    {
      "cell_type": "code",
      "source": [
        "import string"
      ],
      "metadata": {
        "id": "fX-B3nEmIXuP"
      },
      "execution_count": null,
      "outputs": []
    },
    {
      "cell_type": "code",
      "source": [
        "string.punctuation"
      ],
      "metadata": {
        "colab": {
          "base_uri": "https://localhost:8080/",
          "height": 35
        },
        "id": "kpCNlM-fIXwv",
        "outputId": "e14e201e-0656-493a-8c9b-95b0d2b0ba6a"
      },
      "execution_count": null,
      "outputs": [
        {
          "output_type": "execute_result",
          "data": {
            "text/plain": [
              "'!\"#$%&\\'()*+,-./:;<=>?@[\\\\]^_`{|}~'"
            ],
            "application/vnd.google.colaboratory.intrinsic+json": {
              "type": "string"
            }
          },
          "metadata": {},
          "execution_count": 20
        }
      ]
    },
    {
      "cell_type": "code",
      "source": [
        "table = str.maketrans('', '', string.punctuation)"
      ],
      "metadata": {
        "id": "Eal2jdxpCr7W"
      },
      "execution_count": null,
      "outputs": []
    },
    {
      "cell_type": "code",
      "source": [
        "resultado = []\n",
        "for word in sentence.split():\n",
        "  resultado.append(word.translate(table))\n",
        "print(resultado)"
      ],
      "metadata": {
        "id": "zeOsfrrHLHS2",
        "colab": {
          "base_uri": "https://localhost:8080/"
        },
        "outputId": "379e67ae-a4e1-4ccd-9200-18913662a6f2"
      },
      "execution_count": null,
      "outputs": [
        {
          "output_type": "stream",
          "name": "stdout",
          "text": [
            "['La', 'peli', 'no', 'empieza', 'mal', 'y', 'la', 'presentación', 'del', 'personaje', 'principal', 'que', 'sin', 'duda', 'es', 'el', 'orfanato', 'un', 'caserón', 'impresionante', 'en', 'medio', 'del', 'campo', 'es', 'muy', 'preciosista', 'plagada', 'de', 'matices', 'y', 'con', 'demasiada', 'luz', 'para', 'una', 'película', 'de', 'este', 'género']\n"
          ]
        }
      ]
    },
    {
      "cell_type": "code",
      "source": [
        "[[word.translate(table) for word in sentence.split()]]"
      ],
      "metadata": {
        "id": "KA8sb2B1LKF3",
        "colab": {
          "base_uri": "https://localhost:8080/"
        },
        "outputId": "d16434b0-38e4-4cad-95d1-3fdd1f0b6aca"
      },
      "execution_count": null,
      "outputs": [
        {
          "output_type": "execute_result",
          "data": {
            "text/plain": [
              "[['La',\n",
              "  'peli',\n",
              "  'no',\n",
              "  'empieza',\n",
              "  'mal',\n",
              "  'y',\n",
              "  'la',\n",
              "  'presentación',\n",
              "  'del',\n",
              "  'personaje',\n",
              "  'principal',\n",
              "  'que',\n",
              "  'sin',\n",
              "  'duda',\n",
              "  'es',\n",
              "  'el',\n",
              "  'orfanato',\n",
              "  'un',\n",
              "  'caserón',\n",
              "  'impresionante',\n",
              "  'en',\n",
              "  'medio',\n",
              "  'del',\n",
              "  'campo',\n",
              "  'es',\n",
              "  'muy',\n",
              "  'preciosista',\n",
              "  'plagada',\n",
              "  'de',\n",
              "  'matices',\n",
              "  'y',\n",
              "  'con',\n",
              "  'demasiada',\n",
              "  'luz',\n",
              "  'para',\n",
              "  'una',\n",
              "  'película',\n",
              "  'de',\n",
              "  'este',\n",
              "  'género']]"
            ]
          },
          "metadata": {},
          "execution_count": 29
        }
      ]
    },
    {
      "cell_type": "code",
      "source": [
        "import string\n",
        "table = str.maketrans('', '', string.punctuation)\n",
        "' '.join([word.translate(table) for word in sentence.split()])"
      ],
      "metadata": {
        "id": "Tp2RPrP99d-P",
        "colab": {
          "base_uri": "https://localhost:8080/",
          "height": 53
        },
        "outputId": "44686e37-192e-4d1e-cd88-a7273392c163"
      },
      "execution_count": null,
      "outputs": [
        {
          "output_type": "execute_result",
          "data": {
            "text/plain": [
              "'La peli no empieza mal y la presentación del personaje principal que sin duda es el orfanato un caserón impresionante en medio del campo es muy preciosista plagada de matices y con demasiada luz para una película de este género'"
            ],
            "application/vnd.google.colaboratory.intrinsic+json": {
              "type": "string"
            }
          },
          "metadata": {},
          "execution_count": 21
        }
      ]
    },
    {
      "cell_type": "markdown",
      "metadata": {
        "id": "W8w6GKx-JmU9"
      },
      "source": [
        "## Eliminar acentos"
      ]
    },
    {
      "cell_type": "code",
      "execution_count": null,
      "metadata": {
        "id": "lOLyf1oGJmU9"
      },
      "outputs": [],
      "source": [
        "import unicodedata"
      ]
    },
    {
      "cell_type": "code",
      "execution_count": null,
      "metadata": {
        "id": "Qut3JVniJmU9",
        "outputId": "49c1e8b3-9ab7-4d53-c41b-cb61a76693d3",
        "colab": {
          "base_uri": "https://localhost:8080/",
          "height": 35
        }
      },
      "outputs": [
        {
          "output_type": "execute_result",
          "data": {
            "text/plain": [
              "'Texto Acentuado n'"
            ],
            "application/vnd.google.colaboratory.intrinsic+json": {
              "type": "string"
            }
          },
          "metadata": {},
          "execution_count": 23
        }
      ],
      "source": [
        "text_with_accents = 'Téxtô Àcěntuado ñ'\n",
        "unicodedata.normalize('NFKD', text_with_accents).encode('ascii', 'ignore').decode('utf-8', 'ignore')"
      ]
    },
    {
      "cell_type": "markdown",
      "metadata": {
        "id": "BSFodFWGJmU9"
      },
      "source": [
        "## Convertir números a texto"
      ]
    },
    {
      "cell_type": "code",
      "execution_count": null,
      "metadata": {
        "id": "ZAG1E-UiJmU9"
      },
      "outputs": [],
      "source": [
        "from num2words import num2words"
      ]
    },
    {
      "cell_type": "code",
      "execution_count": null,
      "metadata": {
        "id": "tFOwpZotJmU9",
        "outputId": "2631082e-9608-4b58-bc5a-834243e332e2",
        "colab": {
          "base_uri": "https://localhost:8080/",
          "height": 35
        }
      },
      "outputs": [
        {
          "output_type": "execute_result",
          "data": {
            "text/plain": [
              "'two'"
            ],
            "application/vnd.google.colaboratory.intrinsic+json": {
              "type": "string"
            }
          },
          "metadata": {},
          "execution_count": 37
        }
      ],
      "source": [
        "num2words(2)"
      ]
    },
    {
      "cell_type": "code",
      "execution_count": null,
      "metadata": {
        "id": "x8eVb_ZcJmU9",
        "outputId": "86235bf5-3f4d-4739-f7bd-5eb7843fb66a",
        "colab": {
          "base_uri": "https://localhost:8080/",
          "height": 35
        }
      },
      "outputs": [
        {
          "output_type": "execute_result",
          "data": {
            "text/plain": [
              "'dos'"
            ],
            "application/vnd.google.colaboratory.intrinsic+json": {
              "type": "string"
            }
          },
          "metadata": {},
          "execution_count": 38
        }
      ],
      "source": [
        "num2words(2, lang='es', ordinal=False)"
      ]
    },
    {
      "cell_type": "code",
      "execution_count": null,
      "metadata": {
        "id": "ZU-dVpOXJmU-",
        "outputId": "3fffb194-2175-429c-a176-6d98ae0db3b5",
        "colab": {
          "base_uri": "https://localhost:8080/",
          "height": 35
        }
      },
      "outputs": [
        {
          "output_type": "execute_result",
          "data": {
            "text/plain": [
              "'segundo'"
            ],
            "application/vnd.google.colaboratory.intrinsic+json": {
              "type": "string"
            }
          },
          "metadata": {},
          "execution_count": 39
        }
      ],
      "source": [
        "num2words(2, lang='es', ordinal=True)"
      ]
    },
    {
      "cell_type": "code",
      "execution_count": null,
      "metadata": {
        "id": "XtZWpYoKJmU-",
        "outputId": "4fa5e7b2-9f32-45aa-82c5-b66b1db0614d",
        "colab": {
          "base_uri": "https://localhost:8080/",
          "height": 35
        }
      },
      "outputs": [
        {
          "output_type": "execute_result",
          "data": {
            "text/plain": [
              "'Hoy es siete de junio de dos mil veintiuno'"
            ],
            "application/vnd.google.colaboratory.intrinsic+json": {
              "type": "string"
            }
          },
          "metadata": {},
          "execution_count": 40
        }
      ],
      "source": [
        "' '.join([word if not word.isdigit() else num2words(word, lang='es', ordinal=False) for word in 'Hoy es 7 de junio de 2021'.split(' ')])"
      ]
    },
    {
      "cell_type": "markdown",
      "metadata": {
        "id": "3GfxHHFlJmU-"
      },
      "source": [
        "## Stopwords"
      ]
    },
    {
      "cell_type": "markdown",
      "metadata": {
        "id": "jxOJJcRiJmU-"
      },
      "source": [
        "Palabras con - a priori - ningún significado o que aportan muy poca información. Suelen ser palabras muy comunes como, por ejemplo, preposiciones.\n",
        "\n",
        "En NLP se suele trabajar con vocabularios enormes (en _Don Quijote de la Mancha_ aparecen en torno a **23.000 palabras distintas**) por lo que interesa filtras aquellas que menos información aporten.\n",
        "\n",
        "Debate: ¿qué significa que _aporten información_?"
      ]
    },
    {
      "cell_type": "code",
      "source": [],
      "metadata": {
        "id": "K7oXuOC4w5e9"
      },
      "execution_count": null,
      "outputs": []
    },
    {
      "cell_type": "code",
      "execution_count": null,
      "metadata": {
        "id": "8Uy6ywLtJmU-"
      },
      "outputs": [],
      "source": [
        "from stop_words import get_stop_words"
      ]
    },
    {
      "cell_type": "code",
      "execution_count": null,
      "metadata": {
        "scrolled": true,
        "id": "FC9NgbWdJmU-"
      },
      "outputs": [],
      "source": [
        "sw_list = get_stop_words('es')"
      ]
    },
    {
      "cell_type": "code",
      "source": [
        "print(sw_list)"
      ],
      "metadata": {
        "id": "WzvRMxm8QZE-",
        "colab": {
          "base_uri": "https://localhost:8080/"
        },
        "outputId": "d0bebbd5-68cd-4d5c-ecbe-f00a6dd02b62"
      },
      "execution_count": null,
      "outputs": [
        {
          "output_type": "stream",
          "name": "stdout",
          "text": [
            "['a', 'al', 'algo', 'algunas', 'algunos', 'ante', 'antes', 'como', 'con', 'contra', 'cual', 'cuando', 'de', 'del', 'desde', 'donde', 'durante', 'e', 'el', 'ella', 'ellas', 'ellos', 'en', 'entre', 'era', 'erais', 'eran', 'eras', 'eres', 'es', 'esa', 'esas', 'ese', 'eso', 'esos', 'esta', 'estaba', 'estabais', 'estaban', 'estabas', 'estad', 'estada', 'estadas', 'estado', 'estados', 'estamos', 'estando', 'estar', 'estaremos', 'estará', 'estarán', 'estarás', 'estaré', 'estaréis', 'estaría', 'estaríais', 'estaríamos', 'estarían', 'estarías', 'estas', 'este', 'estemos', 'esto', 'estos', 'estoy', 'estuve', 'estuviera', 'estuvierais', 'estuvieran', 'estuvieras', 'estuvieron', 'estuviese', 'estuvieseis', 'estuviesen', 'estuvieses', 'estuvimos', 'estuviste', 'estuvisteis', 'estuviéramos', 'estuviésemos', 'estuvo', 'está', 'estábamos', 'estáis', 'están', 'estás', 'esté', 'estéis', 'estén', 'estés', 'fue', 'fuera', 'fuerais', 'fueran', 'fueras', 'fueron', 'fuese', 'fueseis', 'fuesen', 'fueses', 'fui', 'fuimos', 'fuiste', 'fuisteis', 'fuéramos', 'fuésemos', 'ha', 'habida', 'habidas', 'habido', 'habidos', 'habiendo', 'habremos', 'habrá', 'habrán', 'habrás', 'habré', 'habréis', 'habría', 'habríais', 'habríamos', 'habrían', 'habrías', 'habéis', 'había', 'habíais', 'habíamos', 'habían', 'habías', 'han', 'has', 'hasta', 'hay', 'haya', 'hayamos', 'hayan', 'hayas', 'hayáis', 'he', 'hemos', 'hube', 'hubiera', 'hubierais', 'hubieran', 'hubieras', 'hubieron', 'hubiese', 'hubieseis', 'hubiesen', 'hubieses', 'hubimos', 'hubiste', 'hubisteis', 'hubiéramos', 'hubiésemos', 'hubo', 'la', 'las', 'le', 'les', 'lo', 'los', 'me', 'mi', 'mis', 'mucho', 'muchos', 'muy', 'más', 'mí', 'mía', 'mías', 'mío', 'míos', 'nada', 'ni', 'no', 'nos', 'nosotras', 'nosotros', 'nuestra', 'nuestras', 'nuestro', 'nuestros', 'o', 'os', 'otra', 'otras', 'otro', 'otros', 'para', 'pero', 'poco', 'por', 'porque', 'que', 'quien', 'quienes', 'qué', 'se', 'sea', 'seamos', 'sean', 'seas', 'seremos', 'será', 'serán', 'serás', 'seré', 'seréis', 'sería', 'seríais', 'seríamos', 'serían', 'serías', 'seáis', 'sido', 'siendo', 'sin', 'sobre', 'sois', 'somos', 'son', 'soy', 'su', 'sus', 'suya', 'suyas', 'suyo', 'suyos', 'sí', 'también', 'tanto', 'te', 'tendremos', 'tendrá', 'tendrán', 'tendrás', 'tendré', 'tendréis', 'tendría', 'tendríais', 'tendríamos', 'tendrían', 'tendrías', 'tened', 'tenemos', 'tenga', 'tengamos', 'tengan', 'tengas', 'tengo', 'tengáis', 'tenida', 'tenidas', 'tenido', 'tenidos', 'teniendo', 'tenéis', 'tenía', 'teníais', 'teníamos', 'tenían', 'tenías', 'ti', 'tiene', 'tienen', 'tienes', 'todo', 'todos', 'tu', 'tus', 'tuve', 'tuviera', 'tuvierais', 'tuvieran', 'tuvieras', 'tuvieron', 'tuviese', 'tuvieseis', 'tuviesen', 'tuvieses', 'tuvimos', 'tuviste', 'tuvisteis', 'tuviéramos', 'tuviésemos', 'tuvo', 'tuya', 'tuyas', 'tuyo', 'tuyos', 'tú', 'un', 'una', 'uno', 'unos', 'vosotras', 'vosotros', 'vuestra', 'vuestras', 'vuestro', 'vuestros', 'y', 'ya', 'yo', 'él', 'éramos']\n"
          ]
        }
      ]
    },
    {
      "cell_type": "code",
      "source": [
        "sentence_no_sw = ' '.join([word for word in sentence.split() if word not in sw_list])\n",
        "\n",
        "print('Frase completa:\\n{}\\n'.format(sentence))\n",
        "print('Frase sin stopwords:\\n{}'.format(sentence_no_sw))"
      ],
      "metadata": {
        "id": "gePZGJpkQmAM",
        "colab": {
          "base_uri": "https://localhost:8080/"
        },
        "outputId": "3b401f14-76bf-4b0a-cea2-2ae3fa43e528"
      },
      "execution_count": null,
      "outputs": [
        {
          "output_type": "stream",
          "name": "stdout",
          "text": [
            "Frase completa:\n",
            " La peli no empieza mal y la presentación del personaje principal, que sin duda es el orfanato, un caserón impresionante en medio del campo, es muy preciosista, plagada de matices y con demasiada luz para una película de este género\n",
            "\n",
            "Frase sin stopwords:\n",
            "La peli empieza mal presentación personaje principal, duda orfanato, caserón impresionante medio campo, preciosista, plagada matices demasiada luz película género\n"
          ]
        }
      ]
    },
    {
      "cell_type": "markdown",
      "metadata": {
        "id": "M6EAmzesJmU-"
      },
      "source": [
        "## Lemmatization"
      ]
    },
    {
      "cell_type": "markdown",
      "metadata": {
        "id": "qSDSrVTVJmU-"
      },
      "source": [
        "Técnica de normalización de textos que busca reducir las palabras a su raíz (lemma).\n",
        "\n",
        "\n",
        "Muy utilizado para reducir la cardinalidad del vocabulario asociando para diferentes formas flexionadas un único token ('entreno', 'entrenarás', 'entrenaría' -> 'entrenar').\n",
        "\n",
        "Aunque muy utilizados en motores de búsqueda "
      ]
    },
    {
      "cell_type": "code",
      "execution_count": null,
      "metadata": {
        "id": "Nv6zQIEiJmU-"
      },
      "outputs": [],
      "source": [
        "data_path = './'\n",
        "lemmas_dict_file = 'lemmatization-es.txt'"
      ]
    },
    {
      "cell_type": "code",
      "execution_count": null,
      "metadata": {
        "id": "nsTK0iWcJmU-"
      },
      "outputs": [],
      "source": [
        "lemmas_dict = get_lemmas_dict(data_path, lemmas_dict_file)"
      ]
    },
    {
      "cell_type": "code",
      "execution_count": null,
      "metadata": {
        "id": "ABaDJqnhJmU_",
        "colab": {
          "base_uri": "https://localhost:8080/",
          "height": 35
        },
        "outputId": "cb98a1eb-3467-4f78-845d-7b265ed50852"
      },
      "outputs": [
        {
          "output_type": "execute_result",
          "data": {
            "text/plain": [
              "'comer'"
            ],
            "application/vnd.google.colaboratory.intrinsic+json": {
              "type": "string"
            }
          },
          "metadata": {},
          "execution_count": 48
        }
      ],
      "source": [
        "lemmas_dict.get('comieron')"
      ]
    },
    {
      "cell_type": "code",
      "execution_count": null,
      "metadata": {
        "id": "S0OwPBebJmU_",
        "colab": {
          "base_uri": "https://localhost:8080/",
          "height": 35
        },
        "outputId": "e1446259-d575-4112-cd6f-9c625a4ccf27"
      },
      "outputs": [
        {
          "output_type": "execute_result",
          "data": {
            "text/plain": [
              "'cincar'"
            ],
            "application/vnd.google.colaboratory.intrinsic+json": {
              "type": "string"
            }
          },
          "metadata": {},
          "execution_count": 49
        }
      ],
      "source": [
        "lemmas_dict.get('cinco')"
      ]
    },
    {
      "cell_type": "code",
      "source": [
        "sentence_lemmatized = ' '.join([lemmas_dict.get(word, word) for word in sentence.split()])\n",
        "\n",
        "print('{0:15}{1:10}'.format('Token' ,'Lemma'))\n",
        "for word in sentence.split():\n",
        "    print('{0:15}{1:10}'.format(word, lemmas_dict.get(word, word)))"
      ],
      "metadata": {
        "id": "l2dGRF9FQuAb",
        "colab": {
          "base_uri": "https://localhost:8080/"
        },
        "outputId": "0c0419a4-6f82-402a-d94f-76b377c4ed63"
      },
      "execution_count": null,
      "outputs": [
        {
          "output_type": "stream",
          "name": "stdout",
          "text": [
            "Token          Lemma     \n",
            "La             La        \n",
            "peli           peli      \n",
            "no             no        \n",
            "empieza        empezar   \n",
            "mal            mal       \n",
            "y              y         \n",
            "la             lo        \n",
            "presentación   presentación\n",
            "del            del       \n",
            "personaje      personaje \n",
            "principal,     principal,\n",
            "que            que       \n",
            "sin            sin       \n",
            "duda           dudar     \n",
            "es             ser       \n",
            "el             el        \n",
            "orfanato,      orfanato, \n",
            "un             uno       \n",
            "caserón        caserón   \n",
            "impresionante  impresionante\n",
            "en             en        \n",
            "medio          mediar    \n",
            "del            del       \n",
            "campo,         campo,    \n",
            "es             ser       \n",
            "muy            muy       \n",
            "preciosista,   preciosista,\n",
            "plagada        plagar    \n",
            "de             de        \n",
            "matices        matizar   \n",
            "y              y         \n",
            "con            con       \n",
            "demasiada      demasiar  \n",
            "luz            luz       \n",
            "para           parir     \n",
            "una            uno       \n",
            "película       película  \n",
            "de             de        \n",
            "este           este      \n",
            "género         género    \n"
          ]
        }
      ]
    },
    {
      "cell_type": "markdown",
      "metadata": {
        "id": "ReWaKqApJmU_"
      },
      "source": [
        "# Palabras más frecuentes"
      ]
    },
    {
      "cell_type": "code",
      "execution_count": null,
      "metadata": {
        "id": "0Y9-8AYXJmU_",
        "outputId": "bd723c94-2fee-41e6-86cc-e8ad835bacb3",
        "colab": {
          "base_uri": "https://localhost:8080/"
        }
      },
      "outputs": [
        {
          "output_type": "execute_result",
          "data": {
            "text/plain": [
              "[('que', 4), ('palabras', 3), ('con', 2), ('-', 2), ('a', 2)]"
            ]
          },
          "metadata": {},
          "execution_count": 40
        }
      ],
      "source": [
        "from collections import Counter\n",
        "\n",
        "freq_text = 'Palabras con - a priori - ningún significado o que aportan muy poca' + \\\n",
        "            'información. Suelen ser palabras muy comunes como, por ejemplo,' + \\\n",
        "            ' preposiciones. En NLP se suele trabajar con vocabularios enormes' + \\\n",
        "            '(en Don Quijote de la Mancha aparecen en torno a 23.000 palabras distintas)' + \\\n",
        "            'por lo que interesa filtras aquellas que menos información aporten.' + \\\n",
        "            'Debate: ¿qué significa que aporten información?'\n",
        "\n",
        "word_freqs = Counter(freq_text.lower().split())\n",
        "word_freqs.most_common(5)"
      ]
    },
    {
      "cell_type": "markdown",
      "metadata": {
        "id": "8OrXJW9YJmU_"
      },
      "source": [
        "# Pipeline"
      ]
    },
    {
      "cell_type": "code",
      "execution_count": null,
      "metadata": {
        "id": "ClgTB_y9JmU_"
      },
      "outputs": [],
      "source": [
        "def text_normalizer(text, lemmatize=False, data_path='./', lemmas_file='lemmatization-es.txt', sw_list=None):\n",
        "    \n",
        "    processed_text = []\n",
        "    \n",
        "    \n",
        "    if sw_list is None:\n",
        "        sw_list = []\n",
        "    \n",
        "    if lemmatize:\n",
        "        lemmas_dict = get_lemmas_dict(data_path, lemmas_file)\n",
        "    \n",
        "    # Convierte el texto a minúsuculas\n",
        "    text = text.lower()\n",
        "    \n",
        "    # Eliminar caracteres \"extraños\"\n",
        "    text = unicodedata.normalize('NFKD', text).encode('ascii', 'ignore').decode('utf-8', 'ignore')\n",
        "    \n",
        "    # Tabla para eliminar signos de puntuación\n",
        "    table = str.maketrans('', '', string.punctuation)\n",
        "    \n",
        "    # Segmentar texto en frases\n",
        "    sentences = text.split('.')\n",
        "    \n",
        "    # Para cada frase\n",
        "    for sentence in sentences:\n",
        "        words = sentence.split(' ')\n",
        "        # Para cada palabra\n",
        "        for word in words:\n",
        "            if word not in string.punctuation and word not in sw_list:  # Si se pasa, elimina stop words\n",
        "                word = word.translate(table)\n",
        "                if lemmatize:\n",
        "                    word = lemmas_dict.get(word, word)\n",
        "                if word.isdigit():\n",
        "                    word = num2words(word, lang='es')\n",
        "            processed_text.append(word)\n",
        "    \n",
        "    return ' '.join(processed_text)\n",
        "    "
      ]
    },
    {
      "cell_type": "code",
      "source": [
        "text_1 = 'Fráse a nòrmaliZAR, con números: 213 y car*acteres extraños'\n",
        "text_normalizer(text_1, lemmatize=True)"
      ],
      "metadata": {
        "id": "8sFTgVFJQ1Mn",
        "colab": {
          "base_uri": "https://localhost:8080/",
          "height": 35
        },
        "outputId": "72989103-a7da-4354-d43f-6a3593de2edd"
      },
      "execution_count": null,
      "outputs": [
        {
          "output_type": "execute_result",
          "data": {
            "text/plain": [
              "'frase a normalizar con numeros doscientos trece y carácter extranos'"
            ],
            "application/vnd.google.colaboratory.intrinsic+json": {
              "type": "string"
            }
          },
          "metadata": {},
          "execution_count": 53
        }
      ]
    },
    {
      "cell_type": "code",
      "execution_count": null,
      "metadata": {
        "id": "TDzdaXcEJmU_"
      },
      "outputs": [],
      "source": []
    }
  ],
  "metadata": {
    "kernelspec": {
      "display_name": "Python 3 (ipykernel)",
      "language": "python",
      "name": "python3"
    },
    "language_info": {
      "codemirror_mode": {
        "name": "ipython",
        "version": 3
      },
      "file_extension": ".py",
      "mimetype": "text/x-python",
      "name": "python",
      "nbconvert_exporter": "python",
      "pygments_lexer": "ipython3",
      "version": "3.9.13"
    },
    "colab": {
      "provenance": []
    },
    "accelerator": "GPU",
    "gpuClass": "standard"
  },
  "nbformat": 4,
  "nbformat_minor": 0
}