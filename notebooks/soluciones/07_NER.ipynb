{
  "cells": [
    {
      "cell_type": "markdown",
      "metadata": {
        "id": "iPesPgajjfn7"
      },
      "source": [
        "# Named Entity Recognition (NER)\n",
        "\n",
        "Como hemos visto, un NER se encarga de etiquetar palabras en un texto en un conjunto de categorías (nombres de persona, de localización, de entidades de tiempo...). \n",
        "\n",
        "<img src=https://miro.medium.com/max/1400/1*8LOMipM-fmszClg-AwATkQ.png width=600px>\n",
        "\n",
        "A diferencia de un problema de clasificación de documentos (en el que todo el documento es clasificado en una categoría), aquí cada palabra (o, más correctamente, cada token) es etiquetado secuencialmente.\n",
        "\n",
        "Existen distintas aproximaciones para abordar este tipo de problemas:\n",
        "- **_Clásicas_**: principalmente basados en reglas\n",
        "- **Machine Learning**: se distinguen a su vez dos categorías aquí:\n",
        "    - **Clasificación multi-clase**: se busca clasificar cada token entre un conjunto de categorías sin información del contexto del token\n",
        "    - **CRF**: modelar el texto secuencialmente mediante un grafo probabilístico. En cada token se extraen features que tratan de representar su contexto. [Aquí](https://www.depends-on-the-definition.com/named-entity-recognition-conditional-random-fields-python/) lo explican muy bien.\n",
        "- **Deep learning**: estado del arte (como en casi todas las áreas). Utilizar modelos como las Bi-LSTM permite inferir el contexto de un token de una manera más completa tanto de tokens anteriores a el, como posteriores.\n",
        "\n",
        "**Nosotros vamos a implementar una solución basada en un CRF**.\n",
        "\n",
        "<img src=https://i.imgur.com/ukAr3Uh.jpg width=700px>\n",
        "\n",
        "\n",
        "## Pasos que seguiremos para entrenar un modelo de reconocimiento de entidades\n",
        "\n",
        "Etapa de **entrenamiento**\n",
        "1. Obtener un corpus de entrenamiento\n",
        "2. Etiquetar todos los tokens. Aquellos que no correspondan con una categoría se les asocia el label 'O'\n",
        "3. Definir qué features se extraerán \n",
        "4. Entrenar un modelo de clasificación secuencial para predecir las etiquetas de los tokens\n",
        "\n",
        "Etapa de **testeo**\n",
        "1. Obtener un corpus de test etiquetado\n",
        "2. Lanzar el modelo etiquetando los tokens\n",
        "3. Analizar resultados\n",
        "\n",
        "\n",
        "## IO / IOB Encoding\n",
        "\n",
        "Existen dos maneras principales de etiquetas las etiquetas (IO e IOB).\n",
        "\n",
        "- **IO** (inside-ouside): cada token tendrá una etiqueta, **no tiene en cuenta entidades compuestas por varios tokens**, o chunks, como, por ejemplo, 'Nueva York'.\n",
        "- **IOB** (inside-outside-beginning): cada token tendrá una etiqueta. Si tiene en cuenta chunks. Para codificar el inicio y final de las entidades se incluyen los prefijos 'B-' ('Beginning') e 'I-' ('Inside') para indicar que un token es el inicio de una entidad o pertenece a la misma.\n",
        "\n",
        "En ambos, la etiqueta **'O'** ('Outside') significa que el token no pertenece a ninguna entidad.\n",
        "\n",
        "<img src=https://image.slidesharecdn.com/07lectiener-160215132149/95/ie-named-entity-recognition-ner-36-638.jpg>\n",
        "\n",
        "> Debate: ¿cuál pensáis que arroja mejores resultados?\n",
        "\n",
        "\n",
        "## Features\n",
        "\n",
        "Algunas de las features que podemos extraer son:\n",
        "- **Palabras**\n",
        "    - El token actual e información sobre el mismo (mayúsculas, signos de puntuación, ...)\n",
        "    - Tokens anteriores / posteriores e información sobre ellos\n",
        "    - Substrings (word shapes)\n",
        "- **Información lingüística**\n",
        "    - PoS tags (del token, de los anteriores / consecutivos)\n",
        "- **Otras labels**\n",
        "    - NER labels (del token actual, de los anteriores)\n",
        "\n",
        "\n",
        "## ¡Al lío!\n",
        "\n",
        "Vamos a entrenar nuestro primer modelos de reconocimiento de entidades. Para ello, utilizaremos:\n",
        "- Dataset CoNLL 2002, con PoS Tags\n",
        "- Librería sklearn_crf suite"
      ]
    },
    {
      "cell_type": "markdown",
      "metadata": {
        "id": "zJm1B0nVjfn_"
      },
      "source": [
        "# CoNLL 2002 Shared Tasks con PoS Tags\n",
        "\n",
        "La CoNLL (Conference on Computational Natural Language Learning) es una conferencia anual organizada por la SIGNLL (ACL's Special Interest Group of Natural Language Processing). Usaremos un corpus con **frases en castellano** con información tanto de los **PoS Tags** como de **entidades etiquetadas**.\n",
        "\n",
        "Links:\n",
        "- https://www.plantl.gob.es/tecnologias-lenguaje/catalogo-TL/campanas-evaluacion/Paginas/conll-2002.aspx"
      ]
    },
    {
      "cell_type": "markdown",
      "metadata": {
        "id": "_Re5QHaRjfn_"
      },
      "source": [
        "# sklearn_crfsuite\n",
        "\n",
        "Instalación: `pip install sklearn-crfsuite`\n",
        "\n",
        "Links:\n",
        "- Tutorial: https://sklearn-crfsuite.readthedocs.io/en/latest/tutorial.html\n",
        "- API reference: https://sklearn-crfsuite.readthedocs.io/en/latest/api.html"
      ]
    },
    {
      "cell_type": "code",
      "source": [
        "!pip install -r requirements.txt\n",
        "!pip install unzip"
      ],
      "metadata": {
        "id": "IADnc6N2AYEq"
      },
      "execution_count": null,
      "outputs": []
    },
    {
      "cell_type": "code",
      "source": [
        "!unzip CoNLL2002_NER.zip"
      ],
      "metadata": {
        "id": "aDtT3TTbAa13"
      },
      "execution_count": null,
      "outputs": []
    },
    {
      "cell_type": "code",
      "execution_count": null,
      "metadata": {
        "id": "yFwnoucmjfoB"
      },
      "outputs": [],
      "source": [
        "\n",
        "import os\n",
        "import io\n",
        "import pandas as pd\n",
        "import sklearn_crfsuite\n",
        "from sklearn_crfsuite import scorers\n",
        "from sklearn_crfsuite import metrics"
      ]
    },
    {
      "cell_type": "markdown",
      "metadata": {
        "id": "N3FoF9eQjfoB"
      },
      "source": [
        "# Funciones útiles"
      ]
    },
    {
      "cell_type": "code",
      "execution_count": null,
      "metadata": {
        "id": "Fuhe7cfdjfoC"
      },
      "outputs": [],
      "source": [
        "def load_data(filepath):\n",
        "    with io.open(filepath, encoding='latin-1') as f:\n",
        "        idsent = 0\n",
        "        sentences = []\n",
        "        for l in f:\n",
        "            if not len(l.strip()):\n",
        "                sentence = []\n",
        "                idsent += 1\n",
        "            else:\n",
        "                word, pos, ner = l.strip().split(' ')\n",
        "                sentences.append(['sentence#'+str(idsent), word, pos, ner])\n",
        "                \n",
        "        df = pd.DataFrame(sentences)\n",
        "        df.columns = ['Sentence#','word','pos','ner']\n",
        "        \n",
        "        return df"
      ]
    },
    {
      "cell_type": "code",
      "execution_count": null,
      "metadata": {
        "id": "xbRFLuYXjfoC"
      },
      "outputs": [],
      "source": [
        "def data_summary(data):\n",
        "    print(\"Number of sentences: \", len(data.groupby(['Sentence#'])))\n",
        "\n",
        "    words = list(set(data[\"word\"].values))\n",
        "    n_words = len(words)\n",
        "    print(\"Number of words in the dataset: \", n_words)\n",
        "\n",
        "    tags = list(set(data[\"ner\"].values))\n",
        "    print(\"NER Tags:\", tags)\n",
        "    n_tags = len(tags)\n",
        "    print(\"Number of Labels: \", n_tags)\n",
        "\n",
        "    print(\"What the dataset looks like:\")\n",
        "    display(data.head(10))\n",
        "    return"
      ]
    },
    {
      "cell_type": "code",
      "execution_count": null,
      "metadata": {
        "id": "-yIvzmcYjfoC"
      },
      "outputs": [],
      "source": [
        "def get_sentences(data):\n",
        "    sentgroups = data.groupby('Sentence#')\n",
        "\n",
        "    sentences = []\n",
        "    for name, g in sentgroups:\n",
        "        s = []\n",
        "        for row in g.itertuples():\n",
        "            s.append((row.word,row.pos,row.ner))\n",
        "        sentences.append(s)\n",
        "    \n",
        "    return sentences"
      ]
    },
    {
      "cell_type": "code",
      "execution_count": null,
      "metadata": {
        "id": "dqVcwv46jfoC"
      },
      "outputs": [],
      "source": [
        "def get_labels(data):\n",
        "    tags = list(set(data[\"ner\"].values))\n",
        "    return tags"
      ]
    },
    {
      "cell_type": "markdown",
      "metadata": {
        "id": "Mk0tdyuxjfoD"
      },
      "source": [
        "# Carga de datos"
      ]
    },
    {
      "cell_type": "code",
      "execution_count": null,
      "metadata": {
        "id": "dljdRAqXjfoD"
      },
      "outputs": [],
      "source": [
        "datasets_path = './CoNLL2002_NER'\n",
        "corpus_train_file = 'esp.train'\n",
        "corpus_test_file = 'esp.testa'\n",
        "corpus_val_file = 'esp.testb'"
      ]
    },
    {
      "cell_type": "code",
      "execution_count": null,
      "metadata": {
        "id": "j4AMiDlSjfoD"
      },
      "outputs": [],
      "source": [
        "df_train = load_data(os.path.join(datasets_path, corpus_train_file))\n",
        "df_test = load_data(os.path.join(datasets_path, corpus_test_file))\n",
        "df_val = load_data(os.path.join(datasets_path, corpus_val_file))"
      ]
    },
    {
      "cell_type": "code",
      "execution_count": null,
      "metadata": {
        "id": "rWBGTtfSjfoD"
      },
      "outputs": [],
      "source": [
        "sentences_train = get_sentences(df_train)\n",
        "sentences_test = get_sentences(df_test)\n",
        "sentences_val = get_sentences(df_val)"
      ]
    },
    {
      "cell_type": "code",
      "source": [
        "data_summary(df_train)"
      ],
      "metadata": {
        "id": "thiE712uk5Ip",
        "colab": {
          "base_uri": "https://localhost:8080/",
          "height": 452
        },
        "outputId": "6166ea89-e05b-4290-dc65-6bef0c553544"
      },
      "execution_count": null,
      "outputs": [
        {
          "output_type": "stream",
          "name": "stdout",
          "text": [
            "Number of sentences:  8323\n",
            "Number of words in the dataset:  26099\n",
            "NER Tags: ['B-ORG', 'I-MISC', 'B-PER', 'I-LOC', 'O', 'B-LOC', 'B-MISC', 'I-PER', 'I-ORG']\n",
            "Number of Labels:  9\n",
            "What the dataset looks like:\n"
          ]
        },
        {
          "output_type": "display_data",
          "data": {
            "text/plain": [
              "    Sentence#       word  pos    ner\n",
              "0  sentence#0  Melbourne   NP  B-LOC\n",
              "1  sentence#0          (  Fpa      O\n",
              "2  sentence#0  Australia   NP  B-LOC\n",
              "3  sentence#0          )  Fpt      O\n",
              "4  sentence#0          ,   Fc      O\n",
              "5  sentence#0         25    Z      O\n",
              "6  sentence#0        may   NC      O\n",
              "7  sentence#0          (  Fpa      O\n",
              "8  sentence#0        EFE   NC  B-ORG\n",
              "9  sentence#0          )  Fpt      O"
            ],
            "text/html": [
              "\n",
              "  <div id=\"df-1acc6169-9ba6-47ee-b2ad-0ce09de0df6a\">\n",
              "    <div class=\"colab-df-container\">\n",
              "      <div>\n",
              "<style scoped>\n",
              "    .dataframe tbody tr th:only-of-type {\n",
              "        vertical-align: middle;\n",
              "    }\n",
              "\n",
              "    .dataframe tbody tr th {\n",
              "        vertical-align: top;\n",
              "    }\n",
              "\n",
              "    .dataframe thead th {\n",
              "        text-align: right;\n",
              "    }\n",
              "</style>\n",
              "<table border=\"1\" class=\"dataframe\">\n",
              "  <thead>\n",
              "    <tr style=\"text-align: right;\">\n",
              "      <th></th>\n",
              "      <th>Sentence#</th>\n",
              "      <th>word</th>\n",
              "      <th>pos</th>\n",
              "      <th>ner</th>\n",
              "    </tr>\n",
              "  </thead>\n",
              "  <tbody>\n",
              "    <tr>\n",
              "      <th>0</th>\n",
              "      <td>sentence#0</td>\n",
              "      <td>Melbourne</td>\n",
              "      <td>NP</td>\n",
              "      <td>B-LOC</td>\n",
              "    </tr>\n",
              "    <tr>\n",
              "      <th>1</th>\n",
              "      <td>sentence#0</td>\n",
              "      <td>(</td>\n",
              "      <td>Fpa</td>\n",
              "      <td>O</td>\n",
              "    </tr>\n",
              "    <tr>\n",
              "      <th>2</th>\n",
              "      <td>sentence#0</td>\n",
              "      <td>Australia</td>\n",
              "      <td>NP</td>\n",
              "      <td>B-LOC</td>\n",
              "    </tr>\n",
              "    <tr>\n",
              "      <th>3</th>\n",
              "      <td>sentence#0</td>\n",
              "      <td>)</td>\n",
              "      <td>Fpt</td>\n",
              "      <td>O</td>\n",
              "    </tr>\n",
              "    <tr>\n",
              "      <th>4</th>\n",
              "      <td>sentence#0</td>\n",
              "      <td>,</td>\n",
              "      <td>Fc</td>\n",
              "      <td>O</td>\n",
              "    </tr>\n",
              "    <tr>\n",
              "      <th>5</th>\n",
              "      <td>sentence#0</td>\n",
              "      <td>25</td>\n",
              "      <td>Z</td>\n",
              "      <td>O</td>\n",
              "    </tr>\n",
              "    <tr>\n",
              "      <th>6</th>\n",
              "      <td>sentence#0</td>\n",
              "      <td>may</td>\n",
              "      <td>NC</td>\n",
              "      <td>O</td>\n",
              "    </tr>\n",
              "    <tr>\n",
              "      <th>7</th>\n",
              "      <td>sentence#0</td>\n",
              "      <td>(</td>\n",
              "      <td>Fpa</td>\n",
              "      <td>O</td>\n",
              "    </tr>\n",
              "    <tr>\n",
              "      <th>8</th>\n",
              "      <td>sentence#0</td>\n",
              "      <td>EFE</td>\n",
              "      <td>NC</td>\n",
              "      <td>B-ORG</td>\n",
              "    </tr>\n",
              "    <tr>\n",
              "      <th>9</th>\n",
              "      <td>sentence#0</td>\n",
              "      <td>)</td>\n",
              "      <td>Fpt</td>\n",
              "      <td>O</td>\n",
              "    </tr>\n",
              "  </tbody>\n",
              "</table>\n",
              "</div>\n",
              "      <button class=\"colab-df-convert\" onclick=\"convertToInteractive('df-1acc6169-9ba6-47ee-b2ad-0ce09de0df6a')\"\n",
              "              title=\"Convert this dataframe to an interactive table.\"\n",
              "              style=\"display:none;\">\n",
              "        \n",
              "  <svg xmlns=\"http://www.w3.org/2000/svg\" height=\"24px\"viewBox=\"0 0 24 24\"\n",
              "       width=\"24px\">\n",
              "    <path d=\"M0 0h24v24H0V0z\" fill=\"none\"/>\n",
              "    <path d=\"M18.56 5.44l.94 2.06.94-2.06 2.06-.94-2.06-.94-.94-2.06-.94 2.06-2.06.94zm-11 1L8.5 8.5l.94-2.06 2.06-.94-2.06-.94L8.5 2.5l-.94 2.06-2.06.94zm10 10l.94 2.06.94-2.06 2.06-.94-2.06-.94-.94-2.06-.94 2.06-2.06.94z\"/><path d=\"M17.41 7.96l-1.37-1.37c-.4-.4-.92-.59-1.43-.59-.52 0-1.04.2-1.43.59L10.3 9.45l-7.72 7.72c-.78.78-.78 2.05 0 2.83L4 21.41c.39.39.9.59 1.41.59.51 0 1.02-.2 1.41-.59l7.78-7.78 2.81-2.81c.8-.78.8-2.07 0-2.86zM5.41 20L4 18.59l7.72-7.72 1.47 1.35L5.41 20z\"/>\n",
              "  </svg>\n",
              "      </button>\n",
              "      \n",
              "  <style>\n",
              "    .colab-df-container {\n",
              "      display:flex;\n",
              "      flex-wrap:wrap;\n",
              "      gap: 12px;\n",
              "    }\n",
              "\n",
              "    .colab-df-convert {\n",
              "      background-color: #E8F0FE;\n",
              "      border: none;\n",
              "      border-radius: 50%;\n",
              "      cursor: pointer;\n",
              "      display: none;\n",
              "      fill: #1967D2;\n",
              "      height: 32px;\n",
              "      padding: 0 0 0 0;\n",
              "      width: 32px;\n",
              "    }\n",
              "\n",
              "    .colab-df-convert:hover {\n",
              "      background-color: #E2EBFA;\n",
              "      box-shadow: 0px 1px 2px rgba(60, 64, 67, 0.3), 0px 1px 3px 1px rgba(60, 64, 67, 0.15);\n",
              "      fill: #174EA6;\n",
              "    }\n",
              "\n",
              "    [theme=dark] .colab-df-convert {\n",
              "      background-color: #3B4455;\n",
              "      fill: #D2E3FC;\n",
              "    }\n",
              "\n",
              "    [theme=dark] .colab-df-convert:hover {\n",
              "      background-color: #434B5C;\n",
              "      box-shadow: 0px 1px 3px 1px rgba(0, 0, 0, 0.15);\n",
              "      filter: drop-shadow(0px 1px 2px rgba(0, 0, 0, 0.3));\n",
              "      fill: #FFFFFF;\n",
              "    }\n",
              "  </style>\n",
              "\n",
              "      <script>\n",
              "        const buttonEl =\n",
              "          document.querySelector('#df-1acc6169-9ba6-47ee-b2ad-0ce09de0df6a button.colab-df-convert');\n",
              "        buttonEl.style.display =\n",
              "          google.colab.kernel.accessAllowed ? 'block' : 'none';\n",
              "\n",
              "        async function convertToInteractive(key) {\n",
              "          const element = document.querySelector('#df-1acc6169-9ba6-47ee-b2ad-0ce09de0df6a');\n",
              "          const dataTable =\n",
              "            await google.colab.kernel.invokeFunction('convertToInteractive',\n",
              "                                                     [key], {});\n",
              "          if (!dataTable) return;\n",
              "\n",
              "          const docLinkHtml = 'Like what you see? Visit the ' +\n",
              "            '<a target=\"_blank\" href=https://colab.research.google.com/notebooks/data_table.ipynb>data table notebook</a>'\n",
              "            + ' to learn more about interactive tables.';\n",
              "          element.innerHTML = '';\n",
              "          dataTable['output_type'] = 'display_data';\n",
              "          await google.colab.output.renderOutput(dataTable, element);\n",
              "          const docLink = document.createElement('div');\n",
              "          docLink.innerHTML = docLinkHtml;\n",
              "          element.appendChild(docLink);\n",
              "        }\n",
              "      </script>\n",
              "    </div>\n",
              "  </div>\n",
              "  "
            ]
          },
          "metadata": {}
        }
      ]
    },
    {
      "cell_type": "code",
      "source": [
        "data_summary(df_test)"
      ],
      "metadata": {
        "id": "EhAu9so7k87k",
        "colab": {
          "base_uri": "https://localhost:8080/",
          "height": 452
        },
        "outputId": "a054ea40-5fca-44d7-96a3-91feb7283c5b"
      },
      "execution_count": null,
      "outputs": [
        {
          "output_type": "stream",
          "name": "stdout",
          "text": [
            "Number of sentences:  1915\n",
            "Number of words in the dataset:  9646\n",
            "NER Tags: ['B-ORG', 'I-MISC', 'B-PER', 'I-LOC', 'O', 'B-LOC', 'B-MISC', 'I-PER', 'I-ORG']\n",
            "Number of Labels:  9\n",
            "What the dataset looks like:\n"
          ]
        },
        {
          "output_type": "display_data",
          "data": {
            "text/plain": [
              "    Sentence#    word  pos    ner\n",
              "0  sentence#0     Sao   NC  B-LOC\n",
              "1  sentence#0   Paulo  VMI  I-LOC\n",
              "2  sentence#0       (  Fpa      O\n",
              "3  sentence#0  Brasil   NC  B-LOC\n",
              "4  sentence#0       )  Fpt      O\n",
              "5  sentence#0       ,   Fc      O\n",
              "6  sentence#0      23    Z      O\n",
              "7  sentence#0     may   NC      O\n",
              "8  sentence#0       (  Fpa      O\n",
              "9  sentence#0  EFECOM   NP  B-ORG"
            ],
            "text/html": [
              "\n",
              "  <div id=\"df-4190b99c-57e4-4f32-b2c2-cd388d056a80\">\n",
              "    <div class=\"colab-df-container\">\n",
              "      <div>\n",
              "<style scoped>\n",
              "    .dataframe tbody tr th:only-of-type {\n",
              "        vertical-align: middle;\n",
              "    }\n",
              "\n",
              "    .dataframe tbody tr th {\n",
              "        vertical-align: top;\n",
              "    }\n",
              "\n",
              "    .dataframe thead th {\n",
              "        text-align: right;\n",
              "    }\n",
              "</style>\n",
              "<table border=\"1\" class=\"dataframe\">\n",
              "  <thead>\n",
              "    <tr style=\"text-align: right;\">\n",
              "      <th></th>\n",
              "      <th>Sentence#</th>\n",
              "      <th>word</th>\n",
              "      <th>pos</th>\n",
              "      <th>ner</th>\n",
              "    </tr>\n",
              "  </thead>\n",
              "  <tbody>\n",
              "    <tr>\n",
              "      <th>0</th>\n",
              "      <td>sentence#0</td>\n",
              "      <td>Sao</td>\n",
              "      <td>NC</td>\n",
              "      <td>B-LOC</td>\n",
              "    </tr>\n",
              "    <tr>\n",
              "      <th>1</th>\n",
              "      <td>sentence#0</td>\n",
              "      <td>Paulo</td>\n",
              "      <td>VMI</td>\n",
              "      <td>I-LOC</td>\n",
              "    </tr>\n",
              "    <tr>\n",
              "      <th>2</th>\n",
              "      <td>sentence#0</td>\n",
              "      <td>(</td>\n",
              "      <td>Fpa</td>\n",
              "      <td>O</td>\n",
              "    </tr>\n",
              "    <tr>\n",
              "      <th>3</th>\n",
              "      <td>sentence#0</td>\n",
              "      <td>Brasil</td>\n",
              "      <td>NC</td>\n",
              "      <td>B-LOC</td>\n",
              "    </tr>\n",
              "    <tr>\n",
              "      <th>4</th>\n",
              "      <td>sentence#0</td>\n",
              "      <td>)</td>\n",
              "      <td>Fpt</td>\n",
              "      <td>O</td>\n",
              "    </tr>\n",
              "    <tr>\n",
              "      <th>5</th>\n",
              "      <td>sentence#0</td>\n",
              "      <td>,</td>\n",
              "      <td>Fc</td>\n",
              "      <td>O</td>\n",
              "    </tr>\n",
              "    <tr>\n",
              "      <th>6</th>\n",
              "      <td>sentence#0</td>\n",
              "      <td>23</td>\n",
              "      <td>Z</td>\n",
              "      <td>O</td>\n",
              "    </tr>\n",
              "    <tr>\n",
              "      <th>7</th>\n",
              "      <td>sentence#0</td>\n",
              "      <td>may</td>\n",
              "      <td>NC</td>\n",
              "      <td>O</td>\n",
              "    </tr>\n",
              "    <tr>\n",
              "      <th>8</th>\n",
              "      <td>sentence#0</td>\n",
              "      <td>(</td>\n",
              "      <td>Fpa</td>\n",
              "      <td>O</td>\n",
              "    </tr>\n",
              "    <tr>\n",
              "      <th>9</th>\n",
              "      <td>sentence#0</td>\n",
              "      <td>EFECOM</td>\n",
              "      <td>NP</td>\n",
              "      <td>B-ORG</td>\n",
              "    </tr>\n",
              "  </tbody>\n",
              "</table>\n",
              "</div>\n",
              "      <button class=\"colab-df-convert\" onclick=\"convertToInteractive('df-4190b99c-57e4-4f32-b2c2-cd388d056a80')\"\n",
              "              title=\"Convert this dataframe to an interactive table.\"\n",
              "              style=\"display:none;\">\n",
              "        \n",
              "  <svg xmlns=\"http://www.w3.org/2000/svg\" height=\"24px\"viewBox=\"0 0 24 24\"\n",
              "       width=\"24px\">\n",
              "    <path d=\"M0 0h24v24H0V0z\" fill=\"none\"/>\n",
              "    <path d=\"M18.56 5.44l.94 2.06.94-2.06 2.06-.94-2.06-.94-.94-2.06-.94 2.06-2.06.94zm-11 1L8.5 8.5l.94-2.06 2.06-.94-2.06-.94L8.5 2.5l-.94 2.06-2.06.94zm10 10l.94 2.06.94-2.06 2.06-.94-2.06-.94-.94-2.06-.94 2.06-2.06.94z\"/><path d=\"M17.41 7.96l-1.37-1.37c-.4-.4-.92-.59-1.43-.59-.52 0-1.04.2-1.43.59L10.3 9.45l-7.72 7.72c-.78.78-.78 2.05 0 2.83L4 21.41c.39.39.9.59 1.41.59.51 0 1.02-.2 1.41-.59l7.78-7.78 2.81-2.81c.8-.78.8-2.07 0-2.86zM5.41 20L4 18.59l7.72-7.72 1.47 1.35L5.41 20z\"/>\n",
              "  </svg>\n",
              "      </button>\n",
              "      \n",
              "  <style>\n",
              "    .colab-df-container {\n",
              "      display:flex;\n",
              "      flex-wrap:wrap;\n",
              "      gap: 12px;\n",
              "    }\n",
              "\n",
              "    .colab-df-convert {\n",
              "      background-color: #E8F0FE;\n",
              "      border: none;\n",
              "      border-radius: 50%;\n",
              "      cursor: pointer;\n",
              "      display: none;\n",
              "      fill: #1967D2;\n",
              "      height: 32px;\n",
              "      padding: 0 0 0 0;\n",
              "      width: 32px;\n",
              "    }\n",
              "\n",
              "    .colab-df-convert:hover {\n",
              "      background-color: #E2EBFA;\n",
              "      box-shadow: 0px 1px 2px rgba(60, 64, 67, 0.3), 0px 1px 3px 1px rgba(60, 64, 67, 0.15);\n",
              "      fill: #174EA6;\n",
              "    }\n",
              "\n",
              "    [theme=dark] .colab-df-convert {\n",
              "      background-color: #3B4455;\n",
              "      fill: #D2E3FC;\n",
              "    }\n",
              "\n",
              "    [theme=dark] .colab-df-convert:hover {\n",
              "      background-color: #434B5C;\n",
              "      box-shadow: 0px 1px 3px 1px rgba(0, 0, 0, 0.15);\n",
              "      filter: drop-shadow(0px 1px 2px rgba(0, 0, 0, 0.3));\n",
              "      fill: #FFFFFF;\n",
              "    }\n",
              "  </style>\n",
              "\n",
              "      <script>\n",
              "        const buttonEl =\n",
              "          document.querySelector('#df-4190b99c-57e4-4f32-b2c2-cd388d056a80 button.colab-df-convert');\n",
              "        buttonEl.style.display =\n",
              "          google.colab.kernel.accessAllowed ? 'block' : 'none';\n",
              "\n",
              "        async function convertToInteractive(key) {\n",
              "          const element = document.querySelector('#df-4190b99c-57e4-4f32-b2c2-cd388d056a80');\n",
              "          const dataTable =\n",
              "            await google.colab.kernel.invokeFunction('convertToInteractive',\n",
              "                                                     [key], {});\n",
              "          if (!dataTable) return;\n",
              "\n",
              "          const docLinkHtml = 'Like what you see? Visit the ' +\n",
              "            '<a target=\"_blank\" href=https://colab.research.google.com/notebooks/data_table.ipynb>data table notebook</a>'\n",
              "            + ' to learn more about interactive tables.';\n",
              "          element.innerHTML = '';\n",
              "          dataTable['output_type'] = 'display_data';\n",
              "          await google.colab.output.renderOutput(dataTable, element);\n",
              "          const docLink = document.createElement('div');\n",
              "          docLink.innerHTML = docLinkHtml;\n",
              "          element.appendChild(docLink);\n",
              "        }\n",
              "      </script>\n",
              "    </div>\n",
              "  </div>\n",
              "  "
            ]
          },
          "metadata": {}
        }
      ]
    },
    {
      "cell_type": "code",
      "source": [
        "sentences_train[3]"
      ],
      "metadata": {
        "id": "nu0i6Hrsk_1r",
        "colab": {
          "base_uri": "https://localhost:8080/"
        },
        "outputId": "73de7f88-faf6-43fa-ba37-c615c34a94eb"
      },
      "execution_count": null,
      "outputs": [
        {
          "output_type": "execute_result",
          "data": {
            "text/plain": [
              "[('Imagínense', 'VMM', 'O'),\n",
              " ('ustedes', 'PP', 'O'),\n",
              " ('que', 'CS', 'O'),\n",
              " ('entre', 'SP', 'O'),\n",
              " ('aquellos', 'DD', 'O'),\n",
              " ('españoles', 'NC', 'O'),\n",
              " (',', 'Fc', 'O'),\n",
              " ('que', 'PR', 'O'),\n",
              " ('fueron', 'VSI', 'O'),\n",
              " ('quienes', 'PR', 'O'),\n",
              " ('llevaron', 'VMI', 'O'),\n",
              " ('a', 'SP', 'O'),\n",
              " ('Europa', 'VMN', 'B-LOC'),\n",
              " ('esos', 'DD', 'O'),\n",
              " ('dones', 'NC', 'O'),\n",
              " ('americanos', 'AQ', 'O'),\n",
              " (',', 'Fc', 'O'),\n",
              " ('se', 'P0', 'O'),\n",
              " ('hubiera', 'VAS', 'O'),\n",
              " ('impuesto', 'VMP', 'O'),\n",
              " ('la', 'DA', 'O'),\n",
              " ('patriotería', 'NC', 'O'),\n",
              " ('gastronómica', 'AQ', 'O'),\n",
              " (':', 'Fd', 'O'),\n",
              " ('patatas', 'NC', 'O'),\n",
              " ('y', 'CC', 'O'),\n",
              " ('tomates', 'NC', 'O'),\n",
              " ('se', 'P0', 'O'),\n",
              " ('hubieran', 'VAS', 'O'),\n",
              " ('quedado', 'VMP', 'O'),\n",
              " ('en', 'SP', 'O'),\n",
              " ('curiosidades', 'NC', 'O'),\n",
              " ('botánicas', 'AQ', 'O'),\n",
              " ('.', 'Fp', 'O')]"
            ]
          },
          "metadata": {},
          "execution_count": 13
        }
      ]
    },
    {
      "cell_type": "code",
      "source": [
        "sentences_test[0]"
      ],
      "metadata": {
        "id": "IZhijauJlCVU",
        "colab": {
          "base_uri": "https://localhost:8080/"
        },
        "outputId": "42f75cda-35ef-425f-826f-2fd4933cb1d4"
      },
      "execution_count": null,
      "outputs": [
        {
          "output_type": "execute_result",
          "data": {
            "text/plain": [
              "[('Sao', 'NC', 'B-LOC'),\n",
              " ('Paulo', 'VMI', 'I-LOC'),\n",
              " ('(', 'Fpa', 'O'),\n",
              " ('Brasil', 'NC', 'B-LOC'),\n",
              " (')', 'Fpt', 'O'),\n",
              " (',', 'Fc', 'O'),\n",
              " ('23', 'Z', 'O'),\n",
              " ('may', 'NC', 'O'),\n",
              " ('(', 'Fpa', 'O'),\n",
              " ('EFECOM', 'NP', 'B-ORG'),\n",
              " (')', 'Fpt', 'O'),\n",
              " ('.', 'Fp', 'O')]"
            ]
          },
          "metadata": {},
          "execution_count": 14
        }
      ]
    },
    {
      "cell_type": "markdown",
      "metadata": {
        "id": "AMYQt30njfoE"
      },
      "source": [
        "# Extracción de features\n",
        "\n",
        "Definimos las features que queremos usar."
      ]
    },
    {
      "cell_type": "code",
      "execution_count": null,
      "metadata": {
        "id": "HcIP8Jj2jfoE"
      },
      "outputs": [],
      "source": [
        "def word2features(sent, i):\n",
        "    word = sent[i][0]\n",
        "    postag = sent[i][1]\n",
        "    \n",
        "    features = {\n",
        "        'word.lower()': word.lower(),\n",
        "        'word[-3:]': word[-3:],\n",
        "        'word[-2:]': word[-2:],\n",
        "        'word.isupper()': word.isupper(),\n",
        "        'word.istitle()': word.istitle(),\n",
        "        'word.isdigit()': word.isdigit(),\n",
        "        'postag': postag,\n",
        "        'postag[:2]': postag[:2]\n",
        "    }\n",
        "    \n",
        "    if i > 0:\n",
        "        word_1 = sent[i-1][0]\n",
        "        postag_1 = sent[i-1][1]\n",
        "        \n",
        "        features.update({\n",
        "            '-1:word.lower()': word_1.lower(),\n",
        "            '-1:word.istitle()': word_1.istitle(),\n",
        "            '-1:word.isupper()': word_1.isupper(),\n",
        "            '-1:postag': postag_1,\n",
        "            '-1:postag[:2]': postag_1[:2]\n",
        "        })\n",
        "    else:\n",
        "        features['BOS'] = True  # Beginning of sentence\n",
        "    \n",
        "    if i < len(sent)-1:\n",
        "        word_1 = sent[i+1][0]\n",
        "        postag_1 = sent[i+1][1]\n",
        "        \n",
        "        features.update({\n",
        "            '+1:word.lower()': word_1.lower(),\n",
        "            '+1:word.istitle()': word_1.istitle(),\n",
        "            '+1:word.isupper()': word_1.isupper(),\n",
        "            '+1:postag': postag_1,\n",
        "            '+1:postag[:2]': postag_1[:2]\n",
        "        })\n",
        "    else:\n",
        "        features['EOS'] = True  # End of sentence\n",
        "    \n",
        "    return features"
      ]
    },
    {
      "cell_type": "code",
      "execution_count": null,
      "metadata": {
        "id": "UjEEa9YDjfoE"
      },
      "outputs": [],
      "source": [
        "def sent2features(sent):\n",
        "    return [word2features(sent, i) for i in range(len(sent))]"
      ]
    },
    {
      "cell_type": "code",
      "execution_count": null,
      "metadata": {
        "id": "1SXWjLrNjfoE"
      },
      "outputs": [],
      "source": [
        "def sent2labels(sent):\n",
        "    return [word[2] for word in sent]"
      ]
    },
    {
      "cell_type": "markdown",
      "metadata": {
        "id": "5CHlAXkgjfoE"
      },
      "source": [
        "# Datos para entrenamiento, validación y testeo"
      ]
    },
    {
      "cell_type": "code",
      "execution_count": null,
      "metadata": {
        "id": "E7VfwvV5jfoE"
      },
      "outputs": [],
      "source": [
        "X_train = [sent2features(s) for s in sentences_train]\n",
        "y_train = [sent2labels(s) for s in sentences_train]\n",
        "\n",
        "X_test = [sent2features(s) for s in sentences_test]\n",
        "y_test = [sent2labels(s) for s in sentences_test]\n",
        "\n",
        "X_val = [sent2features(s) for s in sentences_val]\n",
        "y_val = [sent2labels(s) for s in sentences_val]"
      ]
    },
    {
      "cell_type": "code",
      "source": [
        "df_train.iloc[0]"
      ],
      "metadata": {
        "id": "7wJec3j4lGHo",
        "colab": {
          "base_uri": "https://localhost:8080/"
        },
        "outputId": "0860f85e-6580-47f0-d2cc-5f7a1250ffa4"
      },
      "execution_count": null,
      "outputs": [
        {
          "output_type": "execute_result",
          "data": {
            "text/plain": [
              "Sentence#    sentence#0\n",
              "word          Melbourne\n",
              "pos                  NP\n",
              "ner               B-LOC\n",
              "Name: 0, dtype: object"
            ]
          },
          "metadata": {},
          "execution_count": 19
        }
      ]
    },
    {
      "cell_type": "code",
      "source": [
        "X_train[0][0]"
      ],
      "metadata": {
        "id": "BxceKOd2lJyF",
        "colab": {
          "base_uri": "https://localhost:8080/"
        },
        "outputId": "0759e829-21b2-4b06-ff17-70eef74ec8d6"
      },
      "execution_count": null,
      "outputs": [
        {
          "output_type": "execute_result",
          "data": {
            "text/plain": [
              "{'word.lower()': 'melbourne',\n",
              " 'word[-3:]': 'rne',\n",
              " 'word[-2:]': 'ne',\n",
              " 'word.isupper()': False,\n",
              " 'word.istitle()': True,\n",
              " 'word.isdigit()': False,\n",
              " 'postag': 'NP',\n",
              " 'postag[:2]': 'NP',\n",
              " 'BOS': True,\n",
              " '+1:word.lower()': '(',\n",
              " '+1:word.istitle()': False,\n",
              " '+1:word.isupper()': False,\n",
              " '+1:postag': 'Fpa',\n",
              " '+1:postag[:2]': 'Fp'}"
            ]
          },
          "metadata": {},
          "execution_count": 20
        }
      ]
    },
    {
      "cell_type": "code",
      "source": [
        "y_train[0][0]"
      ],
      "metadata": {
        "id": "anA9eEYulONV",
        "colab": {
          "base_uri": "https://localhost:8080/",
          "height": 35
        },
        "outputId": "9c2e4a44-51b3-4171-e1b4-62d7d4e7b699"
      },
      "execution_count": null,
      "outputs": [
        {
          "output_type": "execute_result",
          "data": {
            "text/plain": [
              "'B-LOC'"
            ],
            "application/vnd.google.colaboratory.intrinsic+json": {
              "type": "string"
            }
          },
          "metadata": {},
          "execution_count": 21
        }
      ]
    },
    {
      "cell_type": "markdown",
      "metadata": {
        "id": "z09mMM8tjfoF"
      },
      "source": [
        "# Entrenamiento"
      ]
    },
    {
      "cell_type": "code",
      "execution_count": null,
      "metadata": {
        "id": "odUDNWbJjfoF"
      },
      "outputs": [],
      "source": [
        "import sklearn_crfsuite\n",
        "crf_ = sklearn_crfsuite.CRF(\n",
        "    algorithm='lbfgs',\n",
        "    c1=0.1,\n",
        "    c2=0.1,\n",
        "    max_iterations=100,\n",
        "    all_possible_transitions=True,\n",
        "   \n",
        ")\n",
        "\n",
        "try:\n",
        "    crf_.fit(X_train, y_train)\n",
        "except AttributeError:\n",
        "    pass\n",
        "\n",
        "\n",
        "\n"
      ]
    },
    {
      "cell_type": "code",
      "source": [
        "X_train[1]"
      ],
      "metadata": {
        "id": "PGbv6UBflQ2f",
        "colab": {
          "base_uri": "https://localhost:8080/"
        },
        "outputId": "2cebdef2-3133-4a8f-a3b1-d033a0aea4b9"
      },
      "execution_count": null,
      "outputs": [
        {
          "output_type": "execute_result",
          "data": {
            "text/plain": [
              "[{'word.lower()': '-',\n",
              "  'word[-3:]': '-',\n",
              "  'word[-2:]': '-',\n",
              "  'word.isupper()': False,\n",
              "  'word.istitle()': False,\n",
              "  'word.isdigit()': False,\n",
              "  'postag': 'Fg',\n",
              "  'postag[:2]': 'Fg',\n",
              "  'BOS': True,\n",
              "  'EOS': True}]"
            ]
          },
          "metadata": {},
          "execution_count": 23
        }
      ]
    },
    {
      "cell_type": "markdown",
      "metadata": {
        "id": "GztUu_jUjfoF"
      },
      "source": [
        "# Evaluación\n",
        "\n",
        "Emplear los datos de validación para _tunnear_ el modelo"
      ]
    },
    {
      "cell_type": "code",
      "execution_count": null,
      "metadata": {
        "id": "vwdyX1CTjfoF"
      },
      "outputs": [],
      "source": [
        "def eval(X, y, removeO=True):\n",
        "    y_pred = crf_.predict(X)\n",
        "    labels = list(crf_.classes_)\n",
        "    \n",
        "    if removeO:\n",
        "        labels.remove('O')\n",
        "    \n",
        "    f1_score_ = metrics.flat_f1_score(y, y_pred, average='weighted', labels=labels)\n",
        "    print('F1 score: {0:.3f}'.format(f1_score_))\n",
        "    \n",
        "    # Group B and I results\n",
        "    sorted_labels = sorted(\n",
        "        labels,\n",
        "        key=lambda name: (name[1:], name[0])\n",
        "    )\n",
        "    print(sorted_labels)\n",
        "    #classification_report_ = metrics.flat_classification_report(y, y_pred, labels=sorted_labels, digits=3)\n",
        "    \n",
        "    #print(classification_report_)\n",
        "\n",
        "    \n",
        "\n"
      ]
    },
    {
      "cell_type": "code",
      "source": [
        "eval(X_val,y_val)"
      ],
      "metadata": {
        "id": "XdRLfeEplTa8",
        "colab": {
          "base_uri": "https://localhost:8080/"
        },
        "outputId": "6a13368a-55e2-4c7f-8262-4b96cf6a8e61"
      },
      "execution_count": null,
      "outputs": [
        {
          "output_type": "stream",
          "name": "stdout",
          "text": [
            "F1 score: 0.796\n",
            "['B-LOC', 'I-LOC', 'B-MISC', 'I-MISC', 'B-ORG', 'I-ORG', 'B-PER', 'I-PER']\n"
          ]
        }
      ]
    },
    {
      "cell_type": "code",
      "source": [
        "eval(X_test,y_test)"
      ],
      "metadata": {
        "id": "exgpfEKelWM7",
        "colab": {
          "base_uri": "https://localhost:8080/"
        },
        "outputId": "f5762992-95c1-41f0-8c1e-f88594331e73"
      },
      "execution_count": null,
      "outputs": [
        {
          "output_type": "stream",
          "name": "stdout",
          "text": [
            "F1 score: 0.761\n",
            "['B-LOC', 'I-LOC', 'B-MISC', 'I-MISC', 'B-ORG', 'I-ORG', 'B-PER', 'I-PER']\n"
          ]
        }
      ]
    },
    {
      "cell_type": "markdown",
      "metadata": {
        "id": "i1RmWf7LjfoF"
      },
      "source": [
        "# Resultados finales\n",
        "\n",
        "Una vez ajustado el modelo, usar el test set para evaluar el modelo final."
      ]
    },
    {
      "cell_type": "code",
      "source": [
        "eval(X_test, y_test)"
      ],
      "metadata": {
        "id": "eixre6SwlYU5",
        "colab": {
          "base_uri": "https://localhost:8080/"
        },
        "outputId": "d9e324bb-b305-4e2b-fb83-2808f8e15e68"
      },
      "execution_count": null,
      "outputs": [
        {
          "output_type": "stream",
          "name": "stdout",
          "text": [
            "F1 score: 0.761\n",
            "['B-LOC', 'I-LOC', 'B-MISC', 'I-MISC', 'B-ORG', 'I-ORG', 'B-PER', 'I-PER']\n"
          ]
        }
      ]
    },
    {
      "cell_type": "markdown",
      "metadata": {
        "id": "Ar5GB8d6jfoF"
      },
      "source": [
        "# Transiciones más probables / improbables"
      ]
    },
    {
      "cell_type": "code",
      "execution_count": null,
      "metadata": {
        "id": "vHxMm3LdjfoG"
      },
      "outputs": [],
      "source": [
        "from collections import Counter"
      ]
    },
    {
      "cell_type": "code",
      "execution_count": null,
      "metadata": {
        "id": "terAKo6ijfoG"
      },
      "outputs": [],
      "source": [
        "def print_transitions(transition_features):\n",
        "    for (label_from, label_to), weight in transition_features:\n",
        "        print('{0:10}->   {1:10}->   {2:10}'.format(label_from, label_to, weight))"
      ]
    },
    {
      "cell_type": "code",
      "source": [
        "common_transitions = Counter(crf_.transition_features_).most_common(10)\n",
        "\n",
        "print('Transiciones más probables')\n",
        "print_transitions(common_transitions)"
      ],
      "metadata": {
        "id": "73nLWk6Nla0H",
        "colab": {
          "base_uri": "https://localhost:8080/"
        },
        "outputId": "5a1aba39-5552-4c64-d286-ae9aa6ac811f"
      },
      "execution_count": null,
      "outputs": [
        {
          "output_type": "stream",
          "name": "stdout",
          "text": [
            "Transiciones más probables\n",
            "I-MISC    ->   I-MISC    ->     7.042636\n",
            "B-MISC    ->   I-MISC    ->      6.85297\n",
            "B-PER     ->   I-PER     ->     6.306684\n",
            "B-LOC     ->   I-LOC     ->     5.998112\n",
            "O         ->   O         ->     5.513007\n",
            "B-ORG     ->   I-ORG     ->     5.291733\n",
            "I-LOC     ->   I-LOC     ->     5.146069\n",
            "I-ORG     ->   I-ORG     ->      5.08132\n",
            "I-PER     ->   I-PER     ->     4.172083\n",
            "O         ->   B-ORG     ->     2.703623\n"
          ]
        }
      ]
    },
    {
      "cell_type": "code",
      "source": [
        "uncommon_transitions = Counter(crf_.transition_features_).most_common()[-10:]\n",
        "\n",
        "print('Transiciones más improbables')\n",
        "print_transitions(uncommon_transitions)"
      ],
      "metadata": {
        "id": "YQCPYjZMldbt",
        "colab": {
          "base_uri": "https://localhost:8080/"
        },
        "outputId": "769f496a-21a7-47dd-ffb9-808b2b6ae859"
      },
      "execution_count": null,
      "outputs": [
        {
          "output_type": "stream",
          "name": "stdout",
          "text": [
            "Transiciones más improbables\n",
            "I-ORG     ->   B-MISC    ->    -3.258557\n",
            "I-PER     ->   B-ORG     ->    -3.349464\n",
            "B-ORG     ->   B-MISC    ->    -3.382446\n",
            "B-MISC    ->   B-MISC    ->    -3.437329\n",
            "I-ORG     ->   B-LOC     ->    -3.547463\n",
            "I-PER     ->   B-MISC    ->    -3.578658\n",
            "O         ->   I-MISC    ->    -4.732604\n",
            "O         ->   I-PER     ->     -5.07133\n",
            "O         ->   I-LOC     ->    -5.509748\n",
            "O         ->   I-ORG     ->    -5.962368\n"
          ]
        }
      ]
    },
    {
      "cell_type": "markdown",
      "metadata": {
        "id": "lzpUOvN3jfoG"
      },
      "source": [
        "# Características estado"
      ]
    },
    {
      "cell_type": "code",
      "execution_count": null,
      "metadata": {
        "id": "PhuyovNIjfoG"
      },
      "outputs": [],
      "source": [
        "def print_state_features(state_features):\n",
        "    for (attr, label), weight in state_features:\n",
        "        print('{0:10}->   {1:10}->   {2:10}'.format(weight, label, attr))"
      ]
    },
    {
      "cell_type": "code",
      "source": [
        "positive_state_features = Counter(crf_.state_features_).most_common(10)\n",
        "\n",
        "print('Las más positivas')\n",
        "print_state_features(positive_state_features)"
      ],
      "metadata": {
        "id": "iZsiVD4WlgsR",
        "colab": {
          "base_uri": "https://localhost:8080/"
        },
        "outputId": "4c42408d-9233-4569-fbc4-b6ed97d4ae04"
      },
      "execution_count": null,
      "outputs": [
        {
          "output_type": "stream",
          "name": "stdout",
          "text": [
            "Las más positivas\n",
            "   9.78296->   B-ORG     ->   word.lower():efe-cantabria\n",
            "  8.353841->   B-ORG     ->   word.lower():psoe-progresistas\n",
            "  7.648093->   O         ->   BOS       \n",
            "  6.360913->   I-ORG     ->   -1:word.lower():l\n",
            "  4.978503->   B-ORG     ->   word.lower():xfera\n",
            "  4.751749->   B-ORG     ->   word.lower():telefónica\n",
            "  4.698594->   O         ->   word.lower():r.\n",
            "  4.698594->   O         ->   word[-3:]:R.\n",
            "  4.654081->   B-ORG     ->   word[-2:]:-e\n",
            "   4.64318->   B-LOC     ->   -1:word.lower():cantabria\n"
          ]
        }
      ]
    },
    {
      "cell_type": "code",
      "source": [
        "negative_state_features = Counter(crf_.state_features_).most_common()[-10:]\n",
        "\n",
        "print('Las más negativas')\n",
        "print_state_features(negative_state_features)"
      ],
      "metadata": {
        "id": "rcOj5TZDljIb",
        "colab": {
          "base_uri": "https://localhost:8080/"
        },
        "outputId": "c1cb55bf-cab2-46ca-a4c9-6b20833692af"
      },
      "execution_count": null,
      "outputs": [
        {
          "output_type": "stream",
          "name": "stdout",
          "text": [
            "Las más negativas\n",
            " -2.426293->   B-PER     ->   word[-3:]:nes\n",
            " -2.763604->   O         ->   word[-3:]:LOS\n",
            " -2.851233->   O         ->   word.lower():mas\n",
            " -3.147827->   O         ->   -1:word.lower():españolas\n",
            " -3.162339->   I-PER     ->   -1:word.lower():san\n",
            "  -3.50851->   B-PER     ->   -1:word.lower():del\n",
            " -4.110485->   O         ->   -1:word.lower():celebrarán\n",
            " -4.169095->   O         ->   word[-2:]:om\n",
            " -7.059675->   O         ->   word.isupper()\n",
            " -8.534745->   O         ->   word.istitle()\n"
          ]
        }
      ]
    }
  ],
  "metadata": {
    "kernelspec": {
      "display_name": "Python 3 (ipykernel)",
      "language": "python",
      "name": "python3"
    },
    "language_info": {
      "codemirror_mode": {
        "name": "ipython",
        "version": 3
      },
      "file_extension": ".py",
      "mimetype": "text/x-python",
      "name": "python",
      "nbconvert_exporter": "python",
      "pygments_lexer": "ipython3",
      "version": "3.9.13"
    },
    "colab": {
      "provenance": []
    }
  },
  "nbformat": 4,
  "nbformat_minor": 0
}