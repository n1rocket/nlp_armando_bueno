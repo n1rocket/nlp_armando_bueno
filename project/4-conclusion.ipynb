{
 "cells": [
  {
   "attachments": {},
   "cell_type": "markdown",
   "metadata": {},
   "source": [
    "## Conclusión"
   ]
  },
  {
   "attachments": {},
   "cell_type": "markdown",
   "metadata": {},
   "source": [
    "En el apartado 3, se calculan las métricas para validar el modelo.\n",
    "\n",
    "Con los 3 modelos obtenemos un accuracy de aproximadamente un 0.20, lo que indica que el modelo necesita mejorar. \n",
    "\n",
    "Podríamos obtener mejores resultados, si pudieramos lanzar más cantidad de reviews en el entrenamiento y también mejoraría la separación de 1,2 y por otro lado 3,4,5 de overall.\n",
    "\n",
    "Se ha intentado obtener el resultado para las 5 clases pero no hay suficientes reviews y seguramente el preprocesado podría mejorarse."
   ]
  }
 ],
 "metadata": {
  "language_info": {
   "name": "python"
  },
  "orig_nbformat": 4
 },
 "nbformat": 4,
 "nbformat_minor": 2
}
