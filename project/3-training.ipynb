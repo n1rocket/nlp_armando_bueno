{
 "cells": [
  {
   "attachments": {},
   "cell_type": "markdown",
   "metadata": {},
   "source": [
    "## Cargamos los datos del paso de preprocesado"
   ]
  },
  {
   "cell_type": "code",
   "execution_count": 10,
   "metadata": {},
   "outputs": [
    {
     "data": {
      "text/html": [
       "<div>\n",
       "<style scoped>\n",
       "    .dataframe tbody tr th:only-of-type {\n",
       "        vertical-align: middle;\n",
       "    }\n",
       "\n",
       "    .dataframe tbody tr th {\n",
       "        vertical-align: top;\n",
       "    }\n",
       "\n",
       "    .dataframe thead th {\n",
       "        text-align: right;\n",
       "    }\n",
       "</style>\n",
       "<table border=\"1\" class=\"dataframe\">\n",
       "  <thead>\n",
       "    <tr style=\"text-align: right;\">\n",
       "      <th></th>\n",
       "      <th>overall</th>\n",
       "      <th>reviewText</th>\n",
       "    </tr>\n",
       "  </thead>\n",
       "  <tbody>\n",
       "    <tr>\n",
       "      <th>2116689</th>\n",
       "      <td>1.0</td>\n",
       "      <td>im disappointed civilization since early day a...</td>\n",
       "    </tr>\n",
       "    <tr>\n",
       "      <th>1859378</th>\n",
       "      <td>1.0</td>\n",
       "      <td>didnt even work smh</td>\n",
       "    </tr>\n",
       "    <tr>\n",
       "      <th>58133</th>\n",
       "      <td>1.0</td>\n",
       "      <td>crappy item went remove son tv time removed th...</td>\n",
       "    </tr>\n",
       "    <tr>\n",
       "      <th>2176318</th>\n",
       "      <td>1.0</td>\n",
       "      <td>man soccer suck horried waste yopur time</td>\n",
       "    </tr>\n",
       "    <tr>\n",
       "      <th>1618021</th>\n",
       "      <td>1.0</td>\n",
       "      <td>love persona series hate etrian odyssey series...</td>\n",
       "    </tr>\n",
       "  </tbody>\n",
       "</table>\n",
       "</div>"
      ],
      "text/plain": [
       "         overall                                         reviewText\n",
       "2116689      1.0  im disappointed civilization since early day a...\n",
       "1859378      1.0                                didnt even work smh\n",
       "58133        1.0  crappy item went remove son tv time removed th...\n",
       "2176318      1.0           man soccer suck horried waste yopur time\n",
       "1618021      1.0  love persona series hate etrian odyssey series..."
      ]
     },
     "execution_count": 10,
     "metadata": {},
     "output_type": "execute_result"
    }
   ],
   "source": [
    "import pandas as pd\n",
    "\n",
    "# Read CSV file into DataFrame df\n",
    "df = pd.read_csv('preprocessed_reviews.csv', index_col=0)\n",
    "\n",
    "# Show dataframe\n",
    "df.head()"
   ]
  },
  {
   "cell_type": "markdown",
   "metadata": {},
   "source": [
    "# Separamos en conjunto de train y test"
   ]
  },
  {
   "cell_type": "markdown",
   "metadata": {},
   "source": [
    "Creamos los conjuntos de entrenamiento (75% del total) y test (25%)."
   ]
  },
  {
   "cell_type": "code",
   "execution_count": 11,
   "metadata": {},
   "outputs": [],
   "source": [
    "from sklearn.model_selection import train_test_split # Modelado\n",
    "\n",
    "X_train, X_test, y_train, y_test = train_test_split(\n",
    "    df['reviewText'],\n",
    "    df['overall'],\n",
    "    train_size=0.75,\n",
    "    test_size=0.25,\n",
    "    random_state=42,\n",
    "    shuffle=True\n",
    ")"
   ]
  },
  {
   "cell_type": "code",
   "execution_count": 12,
   "metadata": {},
   "outputs": [
    {
     "data": {
      "text/plain": [
       "741289                                   good rb2 still good\n",
       "2243032                                came really scratched\n",
       "339849     nunchuck wa used lightly 2 day returned donkey...\n",
       "709190     doesnt even work always exit click wish could ...\n",
       "1973154    ok headset havent actually used much yet im wr...\n",
       "2319980                                        time favorite\n",
       "236880                                              son love\n",
       "254894     like sboyer trouble able legitimately purchase...\n",
       "1479781                             love like use wa younger\n",
       "2070121    preorder something hope get come outwell frien...\n",
       "Name: reviewText, dtype: object"
      ]
     },
     "execution_count": 12,
     "metadata": {},
     "output_type": "execute_result"
    }
   ],
   "source": [
    "X_train.iloc[:10]"
   ]
  },
  {
   "attachments": {},
   "cell_type": "markdown",
   "metadata": {},
   "source": [
    "### Extracción de features"
   ]
  },
  {
   "cell_type": "code",
   "execution_count": 13,
   "metadata": {},
   "outputs": [],
   "source": [
    "from sklearn.feature_extraction.text import CountVectorizer, TfidfVectorizer # Modelado\n",
    "\n",
    "cv = TfidfVectorizer(\n",
    "    max_df=0.95,\n",
    "    min_df=3,\n",
    "    max_features=2500,\n",
    "    strip_accents='ascii',\n",
    "    ngram_range=(1, 1)\n",
    ")\n",
    "#x = cv.fit_transform(X_train.values.astype('U'))  ## Even astype(str) would work\n",
    "X_train_ = cv.fit_transform(X_train.values.astype('U'))\n",
    "X_test_ = cv.fit_transform(X_test.values.astype('U'))\n",
    "#cv.fit(X_train)"
   ]
  },
  {
   "cell_type": "code",
   "execution_count": 14,
   "metadata": {},
   "outputs": [
    {
     "name": "stdout",
     "output_type": "stream",
     "text": [
      "[('ps2', 1719), ('version', 2363), ('defective', 585), ('several', 1945), ('stop', 2111), ('30', 24), ('minute', 1413), ('two', 2311), ('dragon', 671), ('supposed', 2153), ('able', 43), ('go', 972), ('needed', 1470), ('bring', 290), ('doe', 651), ('work', 2454), ('tried', 2288), ('every', 765), ('possible', 1659), ('button', 316)]\n",
      "Cantidad de vocabulario:  2500\n"
     ]
    }
   ],
   "source": [
    "print(list(cv.vocabulary_.items())[:20])\n",
    "print(\"Cantidad de vocabulario: \", len(cv.vocabulary_))"
   ]
  },
  {
   "cell_type": "markdown",
   "metadata": {},
   "source": [
    "## Score IDF de algunas palabras"
   ]
  },
  {
   "cell_type": "code",
   "execution_count": 15,
   "metadata": {},
   "outputs": [],
   "source": [
    "words_example = [\n",
    "    'good',\n",
    "    'game',\n",
    "    'bad',\n",
    "    'graphics',\n",
    "    'bored',\n",
    "    'incredible',\n",
    "]"
   ]
  },
  {
   "cell_type": "code",
   "execution_count": 16,
   "metadata": {},
   "outputs": [
    {
     "name": "stdout",
     "output_type": "stream",
     "text": [
      "Palabra             IDF                 \n",
      "good                2.577\n",
      "game                OOV                 \n",
      "bad                 3.633\n",
      "graphics            OOV                 \n",
      "bored               5.613\n",
      "incredible          6.198\n"
     ]
    }
   ],
   "source": [
    "vocab_idf = dict(zip(cv.get_feature_names_out(), cv.idf_))\n",
    "\n",
    "print('{0:20}{1:20}'.format('Palabra', 'IDF'))\n",
    "for word in words_example:\n",
    "    if word not in vocab_idf:\n",
    "        print('{0:20}{1:20}'.format(word, 'OOV'))\n",
    "    else:\n",
    "        print('{0:20}{1:2.3f}'.format(word, vocab_idf[word]))"
   ]
  },
  {
   "attachments": {},
   "cell_type": "markdown",
   "metadata": {},
   "source": [
    "## Palabras con el TF-IDF en alguna review"
   ]
  },
  {
   "cell_type": "code",
   "execution_count": 17,
   "metadata": {},
   "outputs": [
    {
     "name": "stdout",
     "output_type": "stream",
     "text": [
      "ID: 69868\n",
      "Sentiment: 1.0\n",
      "Review: worked around 5 month intermediate use wont hold charge dont waste money\n"
     ]
    }
   ],
   "source": [
    "import random\n",
    "\n",
    "i = random.randint(0, len(X_train))\n",
    "print('ID: {}'.format(i))\n",
    "print('Sentiment: {}'.format(y_train.iloc[i]))\n",
    "print('Review: {}'.format(X_train.iloc[i]))"
   ]
  },
  {
   "cell_type": "code",
   "execution_count": 18,
   "metadata": {},
   "outputs": [
    {
     "name": "stdout",
     "output_type": "stream",
     "text": [
      "Top 10 words with highest TF_IDF in the review 69868:\n",
      "              tfidf\n",
      "channel    0.370416\n",
      "hill       0.368998\n",
      "warranty   0.361082\n",
      "word       0.334445\n",
      "wonderful  0.327791\n",
      "mistake    0.309319\n",
      "armor      0.295945\n",
      "missile    0.287172\n",
      "upon       0.248828\n",
      "dollar     0.222050\n",
      "\n",
      "Top 10 words with lowest TF_IDF in the review 69868:\n",
      "              tfidf\n",
      "channel    0.370416\n",
      "hill       0.368998\n",
      "warranty   0.361082\n",
      "word       0.334445\n",
      "wonderful  0.327791\n",
      "mistake    0.309319\n",
      "armor      0.295945\n",
      "missile    0.287172\n",
      "upon       0.248828\n",
      "dollar     0.222050\n"
     ]
    }
   ],
   "source": [
    "doc_vector = X_train_[i]\n",
    "df_tfidf = pd.DataFrame(doc_vector.T.todense(), index=cv.get_feature_names_out(), columns=['tfidf'])\n",
    "df_tfidf = df_tfidf[df_tfidf['tfidf'] > 0]\n",
    "\n",
    "top_n = 10\n",
    "print('Top {} words with highest TF_IDF in the review {}:\\n{}'.format(top_n, i, df_tfidf.sort_values(by=[\"tfidf\"],ascending=False)[:top_n]))\n",
    "print('\\nTop {} words with lowest TF_IDF in the review {}:\\n{}'.format(top_n, i, df_tfidf.sort_values(by=[\"tfidf\"],ascending=False)[-top_n:]))"
   ]
  },
  {
   "cell_type": "markdown",
   "metadata": {},
   "source": [
    "## $\\chi²$ scores"
   ]
  },
  {
   "cell_type": "code",
   "execution_count": 19,
   "metadata": {},
   "outputs": [
    {
     "data": {
      "image/png": "[encoded data removed]",
      "text/plain": [
       "<Figure size 1200x800 with 1 Axes>"
      ]
     },
     "metadata": {},
     "output_type": "display_data"
    }
   ],
   "source": [
    "from sklearn.feature_selection import chi2 # Reporte\n",
    "import matplotlib.pyplot as plt\n",
    "\n",
    "# Compute the chi-squared score for each word in the training set and show the values\n",
    "i = 15\n",
    "\n",
    "chi2score = chi2(X_train_, y_train)[0]\n",
    "scores = list(zip(cv.get_feature_names_out(), chi2score))\n",
    "sorted_scores = sorted(scores, key=lambda x:x[1])\n",
    "topchi2 = list(zip(*sorted_scores[-i:]))\n",
    "x = range(len(topchi2[1]))\n",
    "labels = topchi2[0]\n",
    "\n",
    "plt.figure(figsize=(12, 8))\n",
    "plt.barh(x,topchi2[1], align='center', alpha=0.5)\n",
    "plt.plot(topchi2[1], x, '-o', markersize=5, alpha=0.8)\n",
    "plt.yticks(x, labels, fontsize=12)\n",
    "plt.xlabel('$\\chi^2$', fontsize=26)\n",
    "plt.ylabel('word', fontsize=16)\n",
    "plt.title('Top {} $\\chi^2$ score for each word in the training set'.format(i), fontsize=20)\n",
    "plt.grid()\n",
    "plt.tight_layout()\n",
    "plt.show();"
   ]
  },
  {
   "attachments": {},
   "cell_type": "markdown",
   "metadata": {},
   "source": [
    "# Entrenamiento con LogisticRegression"
   ]
  },
  {
   "cell_type": "code",
   "execution_count": 20,
   "metadata": {},
   "outputs": [
    {
     "name": "stdout",
     "output_type": "stream",
     "text": [
      "Accuracy for C=0.01: 0.23055844920512705\n",
      "Accuracy for C=0.05: 0.2358349562933104\n",
      "Accuracy for C=0.25: 0.2378730920784456\n",
      "Accuracy for C=0.5: 0.23775986231260474\n",
      "Accuracy for C=1: 0.2380769056569591\n",
      "Accuracy for C=10: 0.2381674894696318\n",
      "Accuracy for C=100: 0.23794102993795008\n",
      "Accuracy for C=1000: 0.23769192445310022\n",
      "Accuracy for C=10000: 0.23766927849993205\n"
     ]
    }
   ],
   "source": [
    "from sklearn.linear_model import LogisticRegression # Reporte\n",
    "from sklearn.metrics import accuracy_score, confusion_matrix, classification_report, roc_curve, precision_recall_curve # Reporte\n",
    "\n",
    "c_params = [0.01, 0.05, 0.25, 0.5, 1, 10, 100, 1000, 10000]\n",
    "\n",
    "train_acc = list()\n",
    "test_acc = list()\n",
    "for c in c_params:\n",
    "    lr = LogisticRegression(C=c, solver='lbfgs', max_iter=3000)\n",
    "    lr.fit(X_train_, y_train)\n",
    "    \n",
    "    train_predict = lr.predict(X_train_)\n",
    "    test_predict = lr.predict(X_test_)\n",
    "    \n",
    "    print (\"Accuracy for C={}: {}\".format(c, accuracy_score(y_test, test_predict)))\n",
    "    \n",
    "    train_acc.append(accuracy_score(y_train, train_predict))\n",
    "    test_acc.append(accuracy_score(y_test, test_predict))"
   ]
  },
  {
   "cell_type": "code",
   "execution_count": 21,
   "metadata": {},
   "outputs": [
    {
     "name": "stdout",
     "output_type": "stream",
     "text": [
      "Confussion matrix:\n",
      "[[3128 1764 1612 1085 1139]\n",
      " [2390 2024 1911 1338 1206]\n",
      " [2297 1646 1891 1517 1440]\n",
      " [2150 1555 1953 1724 1490]\n",
      " [2315 1477 1869 1509 1728]]\n",
      "\n",
      "Classification report:\n",
      "              precision    recall  f1-score   support\n",
      "\n",
      "         1.0       0.25      0.36      0.30      8728\n",
      "         2.0       0.24      0.23      0.23      8869\n",
      "         3.0       0.20      0.22      0.21      8791\n",
      "         4.0       0.24      0.19      0.21      8872\n",
      "         5.0       0.25      0.19      0.22      8898\n",
      "\n",
      "    accuracy                           0.24     44158\n",
      "   macro avg       0.24      0.24      0.23     44158\n",
      "weighted avg       0.24      0.24      0.23     44158\n",
      "\n",
      "Accuracy score:0.23766927849993205\n"
     ]
    }
   ],
   "source": [
    "print('Confussion matrix:\\n{}'.format(confusion_matrix(y_test, test_predict)))\n",
    "print('\\nClassification report:\\n{}'.format(classification_report(y_test, test_predict)))\n",
    "print('Accuracy score:{}'.format(accuracy_score(y_test, test_predict)))"
   ]
  },
  {
   "cell_type": "code",
   "execution_count": 22,
   "metadata": {},
   "outputs": [
    {
     "data": {
      "image/png": "[encoded data removed]",
      "text/plain": [
       "<Figure size 1200x800 with 1 Axes>"
      ]
     },
     "metadata": {},
     "output_type": "display_data"
    }
   ],
   "source": [
    "import numpy as np\n",
    "\n",
    "plt.figure(figsize=(12, 8))\n",
    "plt.plot(train_acc, label='train')\n",
    "plt.plot(test_acc, label='test')\n",
    "plt.axvline(np.argmax(test_acc), c='g', ls='--', alpha=0.8)\n",
    "plt.title('Accuracy evolution for different C values')\n",
    "plt.xlabel('C')\n",
    "plt.ylabel('Accuracy')\n",
    "plt.legend()\n",
    "plt.grid()\n",
    "plt.xticks(list(range(len(c_params))), c_params)\n",
    "plt.tight_layout()\n",
    "plt.show()"
   ]
  },
  {
   "attachments": {},
   "cell_type": "markdown",
   "metadata": {},
   "source": [
    "## Predict"
   ]
  },
  {
   "cell_type": "code",
   "execution_count": 23,
   "metadata": {},
   "outputs": [],
   "source": [
    "def predict_review_sentiment(review_index, model):\n",
    "    print('Actual sentiment: {}'.format(df.iloc[review_index]['overall']))\n",
    "    r = df.iloc[review_index]['reviewText']\n",
    "    print('Prediction: {}'.format(lr.predict(cv.transform([r]))))"
   ]
  },
  {
   "cell_type": "code",
   "execution_count": 24,
   "metadata": {},
   "outputs": [
    {
     "name": "stdout",
     "output_type": "stream",
     "text": [
      "\n",
      "Review no. 40891\n",
      "Actual sentiment: 2.0\n",
      "Prediction: [2.]\n",
      "\n",
      "Review no. 10231\n",
      "Actual sentiment: 1.0\n",
      "Prediction: [1.]\n",
      "\n",
      "Review no. 173735\n",
      "Actual sentiment: 5.0\n",
      "Prediction: [3.]\n",
      "\n",
      "Review no. 63976\n",
      "Actual sentiment: 2.0\n",
      "Prediction: [4.]\n",
      "\n",
      "Review no. 127342\n",
      "Actual sentiment: 4.0\n",
      "Prediction: [4.]\n"
     ]
    }
   ],
   "source": [
    "for i in random.sample(range(0, len(df)), 5):\n",
    "    print('\\nReview no. {}'.format(i))\n",
    "    predict_review_sentiment(i, lr)"
   ]
  },
  {
   "attachments": {},
   "cell_type": "markdown",
   "metadata": {},
   "source": [
    "El modelo es bastante malo, en este caso ha acertado 2 de cada 5 predicciones."
   ]
  },
  {
   "attachments": {},
   "cell_type": "markdown",
   "metadata": {},
   "source": [
    "## Entrenamiento con GradientBoostingClassifier"
   ]
  },
  {
   "cell_type": "code",
   "execution_count": 25,
   "metadata": {},
   "outputs": [
    {
     "name": "stdout",
     "output_type": "stream",
     "text": [
      "[GradientBoostingClassifier] Accuracy: train = 0.4274035267830183, test = 0.2206395217174691\n"
     ]
    }
   ],
   "source": [
    "from sklearn.ensemble import GradientBoostingClassifier\n",
    "\n",
    "n_estimators = 32\n",
    "\n",
    "def classify_gboost(X_train, X_test, y_train, y_test):        \n",
    "    clf = GradientBoostingClassifier(n_estimators=n_estimators, learning_rate=1.0, max_depth=1, random_state=42)\n",
    "\n",
    "    clf.fit(X_train, y_train)\n",
    "    \n",
    "    print(\"[{}] Accuracy: train = {}, test = {}\".format(\n",
    "            clf.__class__.__name__,\n",
    "            clf.score(X_train, y_train),\n",
    "            clf.score(X_test, y_test)))\n",
    "    \n",
    "    return clf\n",
    "\n",
    "\n",
    "clf2 = classify_gboost(X_train_, X_test_, y_train, y_test)"
   ]
  },
  {
   "attachments": {},
   "cell_type": "markdown",
   "metadata": {},
   "source": [
    "Vemos que no mejora mucho con GradientBoosting"
   ]
  },
  {
   "attachments": {},
   "cell_type": "markdown",
   "metadata": {},
   "source": [
    "## Entrenamiento con Deep Learning"
   ]
  },
  {
   "cell_type": "code",
   "execution_count": 31,
   "metadata": {},
   "outputs": [
    {
     "name": "stdout",
     "output_type": "stream",
     "text": [
      "2500.0\n",
      "2500\n"
     ]
    }
   ],
   "source": [
    "# Media de palabras en la reviews.\n",
    "# RRN necesitamos establcer el tamaño de neruonas \n",
    "# primero hacer el análisis para ver el número medio y máxcimo de palabras en las revies.\n",
    "#si una frase se queda corta, la palabrs restantes se rellenaran de 0. Esto sería negativop\n",
    "max = 0\n",
    "mean = []\n",
    "for example in X_train_.toarray():\n",
    "  length = len(example)\n",
    "  mean.append(len(example))\n",
    "  if length > max:\n",
    "    max = length\n",
    "\n",
    "print(sum(mean) / len(mean))\n",
    "print(max)"
   ]
  },
  {
   "cell_type": "code",
   "execution_count": 27,
   "metadata": {},
   "outputs": [
    {
     "data": {
      "text/plain": [
       "<132472x2500 sparse matrix of type '<class 'numpy.float64'>'\n",
       "\twith 3759148 stored elements in Compressed Sparse Row format>"
      ]
     },
     "execution_count": 27,
     "metadata": {},
     "output_type": "execute_result"
    }
   ],
   "source": [
    "X_train_"
   ]
  },
  {
   "cell_type": "code",
   "execution_count": 29,
   "metadata": {},
   "outputs": [],
   "source": [
    "from tensorflow.keras.utils import pad_sequences\n",
    "\n",
    "max_words = 500\n",
    "\n",
    "X_train_dl = pad_sequences(X_train_.toarray(), maxlen=max_words)\n",
    "X_test_dl = pad_sequences(X_test_.toarray(), maxlen=max_words)"
   ]
  },
  {
   "cell_type": "code",
   "execution_count": 32,
   "metadata": {},
   "outputs": [
    {
     "name": "stdout",
     "output_type": "stream",
     "text": [
      "Model: \"sequential_1\"\n",
      "_________________________________________________________________\n",
      " Layer (type)                Output Shape              Param #   \n",
      "=================================================================\n",
      " embedding (Embedding)       (None, 500, 32)           80000     \n",
      "                                                                 \n",
      " lstm (LSTM)                 (None, 100)               53200     \n",
      "                                                                 \n",
      " dense (Dense)               (None, 1)                 101       \n",
      "                                                                 \n",
      "=================================================================\n",
      "Total params: 133,301\n",
      "Trainable params: 133,301\n",
      "Non-trainable params: 0\n",
      "_________________________________________________________________\n",
      "None\n"
     ]
    }
   ],
   "source": [
    "from keras.models import Sequential\n",
    "from keras.layers import Embedding, LSTM, Dense, Dropout, GRUV2, SimpleRNN\n",
    "\n",
    "vocabulary_size = 2500\n",
    "embedding_size = 32\n",
    "model = Sequential()\n",
    "model.add(Embedding(vocabulary_size, embedding_size, input_length=max_words))\n",
    "model.add(LSTM(100))\n",
    "model.add(Dense(1, activation='softmax'))\n",
    "\n",
    "print(model.summary())"
   ]
  },
  {
   "cell_type": "code",
   "execution_count": 33,
   "metadata": {},
   "outputs": [],
   "source": [
    "model.compile(loss='binary_crossentropy', optimizer='adam', metrics=['accuracy'])"
   ]
  },
  {
   "cell_type": "code",
   "execution_count": 35,
   "metadata": {},
   "outputs": [
    {
     "name": "stderr",
     "output_type": "stream",
     "text": [
      "2023-03-10 21:20:27.078074: W tensorflow/core/platform/profile_utils/cpu_utils.cc:128] Failed to get CPU frequency: 0 Hz\n",
      "2023-03-10 21:20:27.741426: I tensorflow/core/grappler/optimizers/custom_graph_optimizer_registry.cc:113] Plugin optimizer for device_type GPU is enabled.\n",
      "2023-03-10 21:20:28.042568: I tensorflow/core/grappler/optimizers/custom_graph_optimizer_registry.cc:113] Plugin optimizer for device_type GPU is enabled.\n",
      "2023-03-10 21:20:29.886879: I tensorflow/core/grappler/optimizers/custom_graph_optimizer_registry.cc:113] Plugin optimizer for device_type GPU is enabled.\n"
     ]
    },
    {
     "name": "stdout",
     "output_type": "stream",
     "text": [
      "2069/2069 [==============================] - ETA: 0s - loss: -224.2862 - accuracy: 0.2008"
     ]
    },
    {
     "name": "stderr",
     "output_type": "stream",
     "text": [
      "2023-03-10 21:28:15.814173: I tensorflow/core/grappler/optimizers/custom_graph_optimizer_registry.cc:113] Plugin optimizer for device_type GPU is enabled.\n",
      "2023-03-10 21:28:15.874718: I tensorflow/core/grappler/optimizers/custom_graph_optimizer_registry.cc:113] Plugin optimizer for device_type GPU is enabled.\n"
     ]
    },
    {
     "name": "stdout",
     "output_type": "stream",
     "text": [
      "2069/2069 [==============================] - 470s 224ms/step - loss: -224.2862 - accuracy: 0.2008 - val_loss: -401.7770 - val_accuracy: 0.2031\n"
     ]
    },
    {
     "data": {
      "text/plain": [
       "<keras.callbacks.History at 0x2b35c9e50>"
      ]
     },
     "execution_count": 35,
     "metadata": {},
     "output_type": "execute_result"
    }
   ],
   "source": [
    "batch_size = 64\n",
    "num_epochs = 1\n",
    "\n",
    "X_valid, y_valid = X_train_dl[:batch_size], y_train[:batch_size]  # first batch_size samples\n",
    "X_train2, y_train2 = X_train_dl[batch_size:], y_train[batch_size:]  # rest for training\n",
    "\n",
    "model.fit(X_train2, y_train2,\n",
    "          validation_data=(X_valid, y_valid),\n",
    "          batch_size=batch_size, epochs=num_epochs)"
   ]
  },
  {
   "cell_type": "code",
   "execution_count": null,
   "metadata": {},
   "outputs": [],
   "source": []
  }
 ],
 "metadata": {
  "kernelspec": {
   "display_name": "base",
   "language": "python",
   "name": "python3"
  },
  "language_info": {
   "codemirror_mode": {
    "name": "ipython",
    "version": 3
   },
   "file_extension": ".py",
   "mimetype": "text/x-python",
   "name": "python",
   "nbconvert_exporter": "python",
   "pygments_lexer": "ipython3",
   "version": "3.9.13"
  },
  "orig_nbformat": 4
 },
 "nbformat": 4,
 "nbformat_minor": 2
}
